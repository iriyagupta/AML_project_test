{
 "cells": [
  {
   "cell_type": "code",
   "execution_count": 1,
   "id": "ffa7b670",
   "metadata": {},
   "outputs": [],
   "source": [
    "from utils import *\n",
    "from sklearn.decomposition import PCA\n",
    "from sklearn.ensemble import HistGradientBoostingClassifier\n",
    "from sklearn.model_selection import GridSearchCV\n",
    "import random\n",
    "import warnings\n",
    "warnings.filterwarnings('ignore')"
   ]
  },
  {
   "cell_type": "code",
   "execution_count": 2,
   "id": "8753c6dd-b317-4710-98ea-993a105c1641",
   "metadata": {},
   "outputs": [],
   "source": [
    "data = pd.read_csv('data/features_30_sec.csv')"
   ]
  },
  {
   "cell_type": "code",
   "execution_count": 3,
   "id": "192b05f5-31d4-4350-a85d-bf391f3237a5",
   "metadata": {},
   "outputs": [],
   "source": [
    "# Identify Features and Target Label\n",
    "y = data['label']\n",
    "X = data.drop(columns = ['label','filename','length'])\n"
   ]
  },
  {
   "cell_type": "code",
   "execution_count": 4,
   "id": "e3d204f2",
   "metadata": {},
   "outputs": [
    {
     "name": "stdout",
     "output_type": "stream",
     "text": [
      "X_dev shape: (800, 57)\n",
      "X_test shape: (200, 57)\n"
     ]
    }
   ],
   "source": [
    "# Scaling and Data Spiltting  \n",
    "X = standardize(X)\n",
    "X_dev, y_dev, X_test, y_test = split(X, y)\n"
   ]
  },
  {
   "cell_type": "markdown",
   "id": "4d9caabe-d2df-40e4-9914-bc6c420e95cd",
   "metadata": {},
   "source": [
    "### Original Model\n",
    "Building a model with no parameter tuning and using the raw csv file"
   ]
  },
  {
   "cell_type": "code",
   "execution_count": 5,
   "id": "4603e557",
   "metadata": {},
   "outputs": [],
   "source": [
    "model_hbg = HistGradientBoostingClassifier()\n",
    "model_hbg.fit(X_dev, y_dev)\n",
    "predsDevhbg = model_hbg.predict(X_dev)\n",
    "predsTesthbg = model_hbg.predict(X_test)"
   ]
  },
  {
   "cell_type": "code",
   "execution_count": 6,
   "id": "798fd0c7",
   "metadata": {},
   "outputs": [],
   "source": [
    "testhbg_score =  accuracy_score(y_test, predsTesthbg)\n",
    "devhbg_score = accuracy_score(y_dev, predsDevhbg)"
   ]
  },
  {
   "cell_type": "code",
   "execution_count": 7,
   "id": "2cecfff5",
   "metadata": {},
   "outputs": [
    {
     "name": "stdout",
     "output_type": "stream",
     "text": [
      "Classification Score for HistGradientBoosting Classifier on Dev dataset:\n",
      "\n",
      "Dev Score :  0.99875\n",
      "              precision    recall  f1-score   support\n",
      "\n",
      "       blues       1.00      1.00      1.00        88\n",
      "   classical       1.00      1.00      1.00        84\n",
      "     country       1.00      1.00      1.00        78\n",
      "       disco       1.00      1.00      1.00        78\n",
      "      hiphop       1.00      1.00      1.00        81\n",
      "        jazz       1.00      1.00      1.00        71\n",
      "       metal       0.99      1.00      0.99        81\n",
      "         pop       1.00      1.00      1.00        84\n",
      "      reggae       1.00      1.00      1.00        78\n",
      "        rock       1.00      0.99      0.99        77\n",
      "\n",
      "    accuracy                           1.00       800\n",
      "   macro avg       1.00      1.00      1.00       800\n",
      "weighted avg       1.00      1.00      1.00       800\n",
      "\n",
      "--------------------------------------------------------\n",
      "Classification Score for HistGradientBoosting Classifier on Test dataset:\n",
      "\n",
      "Test Score : 0.765\n",
      "              precision    recall  f1-score   support\n",
      "\n",
      "       blues       0.71      0.83      0.77        12\n",
      "   classical       0.80      1.00      0.89        16\n",
      "     country       0.68      0.77      0.72        22\n",
      "       disco       0.68      0.68      0.68        22\n",
      "      hiphop       0.63      0.63      0.63        19\n",
      "        jazz       0.88      0.76      0.81        29\n",
      "       metal       0.95      1.00      0.97        19\n",
      "         pop       0.76      0.81      0.79        16\n",
      "      reggae       0.77      0.77      0.77        22\n",
      "        rock       0.75      0.52      0.62        23\n",
      "\n",
      "    accuracy                           0.77       200\n",
      "   macro avg       0.76      0.78      0.77       200\n",
      "weighted avg       0.77      0.77      0.76       200\n",
      "\n"
     ]
    }
   ],
   "source": [
    "print(\"Classification Score for HistGradientBoosting Classifier on Dev dataset:\\n\")\n",
    "print(\"Dev Score : \", devhbg_score)\n",
    "print(classification_report(y_dev, predsDevhbg))\n",
    "print(\"--------------------------------------------------------\")\n",
    "print(\"Classification Score for HistGradientBoosting Classifier on Test dataset:\\n\")\n",
    "print(\"Test Score :\", testhbg_score)\n",
    "print(classification_report(y_test, predsTesthbg))"
   ]
  },
  {
   "cell_type": "code",
   "execution_count": 8,
   "id": "e1883907",
   "metadata": {},
   "outputs": [
    {
     "data": {
      "image/png": "[encoded data removed]",
      "text/plain": [
       "<Figure size 1080x432 with 2 Axes>"
      ]
     },
     "metadata": {},
     "output_type": "display_data"
    },
    {
     "name": "stdout",
     "output_type": "stream",
     "text": [
      "Accuracy : 0.77\n",
      "Macro F-1 Score : 0.77\n"
     ]
    }
   ],
   "source": [
    "# Evaluate Model on Test set\n",
    "class_labels = list(model_hbg.classes_)\n",
    "macro_f1, accuracy = evaluate_model(predsTesthbg, y_test, class_labels,\n",
    "                                    'Confustion matrix: Untuned 30 seconds HistGradientBoosting Classifier')\n",
    "print('Accuracy : %.2f'%accuracy)\n",
    "print('Macro F-1 Score : %.2f'%macro_f1)"
   ]
  },
  {
   "cell_type": "markdown",
   "id": "94955db3",
   "metadata": {},
   "source": [
    "### Tuned Model\n",
    "Building a model with hyperparameters tuning using 5-fold cross validation with GridSearchCV and the raw csv file"
   ]
  },
  {
   "cell_type": "code",
   "execution_count": 9,
   "id": "3fef49f4",
   "metadata": {},
   "outputs": [
    {
     "name": "stdout",
     "output_type": "stream",
     "text": [
      "{'max_iter': [100, 200, 300], 'learning_rate': array([0.20319116, 0.13185558, 0.09167734]), 'max_depth': [4, 6, 8]}\n"
     ]
    }
   ],
   "source": [
    "parameters = {\"max_iter\": [100, 200, 300],\n",
    "              \"learning_rate\": np.random.uniform(0.01, 0.3, 3),\n",
    "              \"max_depth\": [4, 6, 8]}\n",
    "print(parameters)"
   ]
  },
  {
   "cell_type": "code",
   "execution_count": 10,
   "id": "88dfebb1",
   "metadata": {},
   "outputs": [
    {
     "data": {
      "text/plain": [
       "GridSearchCV(cv=5, estimator=HistGradientBoostingClassifier(),\n",
       "             param_grid={'learning_rate': array([0.20319116, 0.13185558, 0.09167734]),\n",
       "                         'max_depth': [4, 6, 8], 'max_iter': [100, 200, 300]})"
      ]
     },
     "execution_count": 10,
     "metadata": {},
     "output_type": "execute_result"
    }
   ],
   "source": [
    "tune_hbg = GridSearchCV(estimator = model_hbg, param_grid = parameters, cv = 5)\n",
    "tune_hbg.fit(X_dev, y_dev)"
   ]
  },
  {
   "cell_type": "code",
   "execution_count": 11,
   "id": "787f731b",
   "metadata": {},
   "outputs": [
    {
     "name": "stdout",
     "output_type": "stream",
     "text": [
      "Best Score : 0.7275\n",
      "Best Parameters : {'learning_rate': 0.1318555815718462, 'max_depth': 4, 'max_iter': 200}\n"
     ]
    }
   ],
   "source": [
    "print(\"Best Score :\", tune_hbg.best_score_)\n",
    "print(\"Best Parameters :\",tune_hbg.best_params_)"
   ]
  },
  {
   "cell_type": "code",
   "execution_count": 12,
   "id": "a51d1aca",
   "metadata": {},
   "outputs": [
    {
     "name": "stdout",
     "output_type": "stream",
     "text": [
      "Score on Dev data for HBG using GridSearchCV: 0.99875\n",
      "Score on Test data for HBG using GridSearchCV: 0.765\n"
     ]
    }
   ],
   "source": [
    "predsDevhbg_tuned = tune_hbg.predict(X_dev)\n",
    "predsTesthbg_tuned = tune_hbg.predict(X_test)\n",
    "\n",
    "print(\"Score on Dev data for HBG using GridSearchCV:\", accuracy_score(y_dev, predsDevhbg_tuned))\n",
    "print(\"Score on Test data for HBG using GridSearchCV:\",accuracy_score(y_test, predsTesthbg_tuned))"
   ]
  },
  {
   "cell_type": "code",
   "execution_count": 13,
   "id": "8439f97a-f8c5-43bb-a815-c308a0cdd095",
   "metadata": {},
   "outputs": [
    {
     "data": {
      "image/png": "[encoded data removed]",
      "text/plain": [
       "<Figure size 1080x432 with 2 Axes>"
      ]
     },
     "metadata": {},
     "output_type": "display_data"
    },
    {
     "name": "stdout",
     "output_type": "stream",
     "text": [
      "Accuracy : 0.77\n",
      "Macro F-1 Score : 0.76\n"
     ]
    }
   ],
   "source": [
    "# Evaluate Model on Test set\n",
    "class_labels = list(model_hbg.classes_)\n",
    "macro_f1, accuracy = evaluate_model(predsTesthbg_tuned, y_test, class_labels,\n",
    "                                    'Confustion matrix: Tuned 30 seconds HistGradientBoosting Classifier')\n",
    "print('Accuracy : %.2f'%accuracy)\n",
    "print('Macro F-1 Score : %.2f'%macro_f1)"
   ]
  },
  {
   "cell_type": "markdown",
   "id": "833b2197",
   "metadata": {},
   "source": [
    "### Dimensionality reduction of data using PCA"
   ]
  },
  {
   "cell_type": "code",
   "execution_count": 14,
   "id": "6553145b",
   "metadata": {},
   "outputs": [
    {
     "name": "stdout",
     "output_type": "stream",
     "text": [
      "Explained Variance of each component: [0.27766419 0.24831461 0.10817539 0.0735775  0.05921353 0.04313114\n",
      " 0.03041835 0.02485929 0.02357102 0.0185913  0.01458576 0.01445453\n",
      " 0.01236632 0.01085372 0.01042908 0.00964282 0.00916212 0.00839629\n",
      " 0.00793367 0.00728802 0.00723324 0.00675659 0.00606178 0.00560715\n",
      " 0.00551321 0.00512661 0.00504654 0.0046546  0.00451992 0.00424318]\n",
      "Sum of Explained Variance: 0.9554411443141844\n"
     ]
    }
   ],
   "source": [
    "# Principal Component Analysis \n",
    "### cite : https://machinelearningmastery.com/calculate-principal-component-analysis-scratch-python/\n",
    "\n",
    "# create the PCA instance\n",
    "pca = PCA(n_components=30)\n",
    "# fit on data\n",
    "pca_data = pca.fit_transform(X_dev)\n",
    "pca_data_test = pca.transform(X_test)\n",
    "# pca_data_dev = pca.transform(X_dev)\n",
    "PCA_df= pd.DataFrame(data=pca_data)\n",
    "y_dev.index = PCA_df.index\n",
    "pca_final=pd.concat([PCA_df,y_dev], axis = 1)\n",
    "# access values\n",
    "print(\"Explained Variance of each component:\",pca.explained_variance_)\n",
    "print(\"Sum of Explained Variance:\", sum(pca.explained_variance_ratio_))"
   ]
  },
  {
   "cell_type": "code",
   "execution_count": 15,
   "id": "24f6e702",
   "metadata": {},
   "outputs": [
    {
     "data": {
      "text/html": [
       "<div>\n",
       "<style scoped>\n",
       "    .dataframe tbody tr th:only-of-type {\n",
       "        vertical-align: middle;\n",
       "    }\n",
       "\n",
       "    .dataframe tbody tr th {\n",
       "        vertical-align: top;\n",
       "    }\n",
       "\n",
       "    .dataframe thead th {\n",
       "        text-align: right;\n",
       "    }\n",
       "</style>\n",
       "<table border=\"1\" class=\"dataframe\">\n",
       "  <thead>\n",
       "    <tr style=\"text-align: right;\">\n",
       "      <th></th>\n",
       "      <th>0</th>\n",
       "      <th>1</th>\n",
       "      <th>2</th>\n",
       "      <th>3</th>\n",
       "      <th>4</th>\n",
       "      <th>5</th>\n",
       "      <th>6</th>\n",
       "      <th>7</th>\n",
       "      <th>8</th>\n",
       "      <th>9</th>\n",
       "      <th>...</th>\n",
       "      <th>21</th>\n",
       "      <th>22</th>\n",
       "      <th>23</th>\n",
       "      <th>24</th>\n",
       "      <th>25</th>\n",
       "      <th>26</th>\n",
       "      <th>27</th>\n",
       "      <th>28</th>\n",
       "      <th>29</th>\n",
       "      <th>label</th>\n",
       "    </tr>\n",
       "  </thead>\n",
       "  <tbody>\n",
       "    <tr>\n",
       "      <th>0</th>\n",
       "      <td>-0.777410</td>\n",
       "      <td>0.193198</td>\n",
       "      <td>-0.058681</td>\n",
       "      <td>-0.180358</td>\n",
       "      <td>-0.005488</td>\n",
       "      <td>-0.099418</td>\n",
       "      <td>-0.209189</td>\n",
       "      <td>-0.328524</td>\n",
       "      <td>0.078983</td>\n",
       "      <td>-0.157332</td>\n",
       "      <td>...</td>\n",
       "      <td>0.041555</td>\n",
       "      <td>-0.014339</td>\n",
       "      <td>0.082866</td>\n",
       "      <td>0.039612</td>\n",
       "      <td>-0.017558</td>\n",
       "      <td>0.026953</td>\n",
       "      <td>0.076262</td>\n",
       "      <td>0.053751</td>\n",
       "      <td>0.001138</td>\n",
       "      <td>blues</td>\n",
       "    </tr>\n",
       "    <tr>\n",
       "      <th>1</th>\n",
       "      <td>-0.599829</td>\n",
       "      <td>0.260505</td>\n",
       "      <td>0.001988</td>\n",
       "      <td>-0.047122</td>\n",
       "      <td>0.131503</td>\n",
       "      <td>-0.098223</td>\n",
       "      <td>-0.077306</td>\n",
       "      <td>0.046259</td>\n",
       "      <td>-0.040616</td>\n",
       "      <td>0.094607</td>\n",
       "      <td>...</td>\n",
       "      <td>-0.045017</td>\n",
       "      <td>-0.069650</td>\n",
       "      <td>-0.014712</td>\n",
       "      <td>0.043191</td>\n",
       "      <td>0.037387</td>\n",
       "      <td>0.005626</td>\n",
       "      <td>0.051804</td>\n",
       "      <td>0.003633</td>\n",
       "      <td>-0.019049</td>\n",
       "      <td>rock</td>\n",
       "    </tr>\n",
       "    <tr>\n",
       "      <th>2</th>\n",
       "      <td>-0.246233</td>\n",
       "      <td>-0.118150</td>\n",
       "      <td>0.065454</td>\n",
       "      <td>-0.036683</td>\n",
       "      <td>0.486624</td>\n",
       "      <td>-0.150015</td>\n",
       "      <td>-0.066611</td>\n",
       "      <td>-0.197733</td>\n",
       "      <td>0.041888</td>\n",
       "      <td>0.013268</td>\n",
       "      <td>...</td>\n",
       "      <td>0.035485</td>\n",
       "      <td>0.010130</td>\n",
       "      <td>-0.061537</td>\n",
       "      <td>-0.159464</td>\n",
       "      <td>-0.004531</td>\n",
       "      <td>0.114243</td>\n",
       "      <td>0.030176</td>\n",
       "      <td>-0.000004</td>\n",
       "      <td>-0.030507</td>\n",
       "      <td>reggae</td>\n",
       "    </tr>\n",
       "    <tr>\n",
       "      <th>3</th>\n",
       "      <td>-0.748761</td>\n",
       "      <td>0.347893</td>\n",
       "      <td>-0.050810</td>\n",
       "      <td>-0.060772</td>\n",
       "      <td>0.094122</td>\n",
       "      <td>0.043072</td>\n",
       "      <td>-0.091608</td>\n",
       "      <td>0.131255</td>\n",
       "      <td>-0.044363</td>\n",
       "      <td>0.123942</td>\n",
       "      <td>...</td>\n",
       "      <td>0.004702</td>\n",
       "      <td>-0.002505</td>\n",
       "      <td>-0.012934</td>\n",
       "      <td>0.031007</td>\n",
       "      <td>-0.034509</td>\n",
       "      <td>0.013154</td>\n",
       "      <td>0.003500</td>\n",
       "      <td>0.010792</td>\n",
       "      <td>-0.025578</td>\n",
       "      <td>rock</td>\n",
       "    </tr>\n",
       "    <tr>\n",
       "      <th>4</th>\n",
       "      <td>0.390897</td>\n",
       "      <td>0.250941</td>\n",
       "      <td>-0.198188</td>\n",
       "      <td>0.293123</td>\n",
       "      <td>0.621651</td>\n",
       "      <td>0.005957</td>\n",
       "      <td>-0.025043</td>\n",
       "      <td>-0.233486</td>\n",
       "      <td>0.295032</td>\n",
       "      <td>0.131574</td>\n",
       "      <td>...</td>\n",
       "      <td>-0.083399</td>\n",
       "      <td>0.058306</td>\n",
       "      <td>-0.020698</td>\n",
       "      <td>-0.014870</td>\n",
       "      <td>-0.001801</td>\n",
       "      <td>-0.043849</td>\n",
       "      <td>-0.033976</td>\n",
       "      <td>-0.012676</td>\n",
       "      <td>0.018269</td>\n",
       "      <td>reggae</td>\n",
       "    </tr>\n",
       "  </tbody>\n",
       "</table>\n",
       "<p>5 rows × 31 columns</p>\n",
       "</div>"
      ],
      "text/plain": [
       "          0         1         2         3         4         5         6  \\\n",
       "0 -0.777410  0.193198 -0.058681 -0.180358 -0.005488 -0.099418 -0.209189   \n",
       "1 -0.599829  0.260505  0.001988 -0.047122  0.131503 -0.098223 -0.077306   \n",
       "2 -0.246233 -0.118150  0.065454 -0.036683  0.486624 -0.150015 -0.066611   \n",
       "3 -0.748761  0.347893 -0.050810 -0.060772  0.094122  0.043072 -0.091608   \n",
       "4  0.390897  0.250941 -0.198188  0.293123  0.621651  0.005957 -0.025043   \n",
       "\n",
       "          7         8         9  ...        21        22        23        24  \\\n",
       "0 -0.328524  0.078983 -0.157332  ...  0.041555 -0.014339  0.082866  0.039612   \n",
       "1  0.046259 -0.040616  0.094607  ... -0.045017 -0.069650 -0.014712  0.043191   \n",
       "2 -0.197733  0.041888  0.013268  ...  0.035485  0.010130 -0.061537 -0.159464   \n",
       "3  0.131255 -0.044363  0.123942  ...  0.004702 -0.002505 -0.012934  0.031007   \n",
       "4 -0.233486  0.295032  0.131574  ... -0.083399  0.058306 -0.020698 -0.014870   \n",
       "\n",
       "         25        26        27        28        29   label  \n",
       "0 -0.017558  0.026953  0.076262  0.053751  0.001138   blues  \n",
       "1  0.037387  0.005626  0.051804  0.003633 -0.019049    rock  \n",
       "2 -0.004531  0.114243  0.030176 -0.000004 -0.030507  reggae  \n",
       "3 -0.034509  0.013154  0.003500  0.010792 -0.025578    rock  \n",
       "4 -0.001801 -0.043849 -0.033976 -0.012676  0.018269  reggae  \n",
       "\n",
       "[5 rows x 31 columns]"
      ]
     },
     "execution_count": 15,
     "metadata": {},
     "output_type": "execute_result"
    }
   ],
   "source": [
    "pca_final.head()"
   ]
  },
  {
   "cell_type": "markdown",
   "id": "7793a70c-2945-4262-a2be-3660cd158cf5",
   "metadata": {},
   "source": [
    "### PCA - Original Model\n",
    "Building a model with no parameter tuning and using the PCA data"
   ]
  },
  {
   "cell_type": "code",
   "execution_count": 16,
   "id": "f4b1db81",
   "metadata": {},
   "outputs": [],
   "source": [
    "model_pca = HistGradientBoostingClassifier()\n",
    "model_pca.fit(pca_final.iloc[:,:30],pca_final.iloc[:,30])\n",
    "pcaTrainhbg = model_pca.predict(pca_data)\n",
    "pcaTesthbg = model_pca.predict(pca_data_test)"
   ]
  },
  {
   "cell_type": "code",
   "execution_count": 17,
   "id": "7f28b6d2",
   "metadata": {},
   "outputs": [],
   "source": [
    "pcatesthbg_score =  accuracy_score(y_test, pcaTesthbg)\n",
    "pcahbg_score = accuracy_score(y_dev, pcaTrainhbg)"
   ]
  },
  {
   "cell_type": "code",
   "execution_count": 18,
   "id": "3c0cf3a6",
   "metadata": {},
   "outputs": [
    {
     "name": "stdout",
     "output_type": "stream",
     "text": [
      "Classification Score for HistGradientBoosting Classifier on Train dataset:\n",
      "\n",
      "Train Score :  0.99875\n",
      "--------------------------------------------------------\n",
      "Classification Score for HistGradientBoosting Classifier on Test dataset:\n",
      "\n",
      "Test Score : 0.7\n"
     ]
    }
   ],
   "source": [
    "print(\"Classification Score for HistGradientBoosting Classifier on Train dataset:\\n\")\n",
    "print(\"Train Score : \", pcahbg_score)\n",
    "print(\"--------------------------------------------------------\")\n",
    "print(\"Classification Score for HistGradientBoosting Classifier on Test dataset:\\n\")\n",
    "print(\"Test Score :\", pcatesthbg_score)"
   ]
  },
  {
   "cell_type": "code",
   "execution_count": 19,
   "id": "efa40f55",
   "metadata": {},
   "outputs": [
    {
     "data": {
      "image/png": "[encoded data removed]",
      "text/plain": [
       "<Figure size 1080x432 with 2 Axes>"
      ]
     },
     "metadata": {},
     "output_type": "display_data"
    },
    {
     "name": "stdout",
     "output_type": "stream",
     "text": [
      "Accuracy : 0.70\n",
      "Macro F-1 Score : 0.69\n"
     ]
    }
   ],
   "source": [
    "# Evaluate Model\n",
    "class_labels = list(model_hbg.classes_)\n",
    "macro_f1, accuracy = evaluate_model(pcaTesthbg, y_test, class_labels,\n",
    "                                    'Confustion Matrix: PCA - Untuned 30 seconds HistGradientBoosting Classifier')\n",
    "print('Accuracy : %.2f'%accuracy)\n",
    "print('Macro F-1 Score : %.2f'%macro_f1)"
   ]
  },
  {
   "cell_type": "markdown",
   "id": "abbdcf85",
   "metadata": {},
   "source": [
    "### PCA - Tuned Model\n",
    "Building a model with hyperparameters tuning using 5-fold cross validation with GridSearchCV and the PCA data"
   ]
  },
  {
   "cell_type": "code",
   "execution_count": 20,
   "id": "a4a2e80a",
   "metadata": {},
   "outputs": [
    {
     "data": {
      "text/html": [
       "<div>\n",
       "<style scoped>\n",
       "    .dataframe tbody tr th:only-of-type {\n",
       "        vertical-align: middle;\n",
       "    }\n",
       "\n",
       "    .dataframe tbody tr th {\n",
       "        vertical-align: top;\n",
       "    }\n",
       "\n",
       "    .dataframe thead th {\n",
       "        text-align: right;\n",
       "    }\n",
       "</style>\n",
       "<table border=\"1\" class=\"dataframe\">\n",
       "  <thead>\n",
       "    <tr style=\"text-align: right;\">\n",
       "      <th></th>\n",
       "      <th>0</th>\n",
       "      <th>1</th>\n",
       "      <th>2</th>\n",
       "      <th>3</th>\n",
       "      <th>4</th>\n",
       "      <th>5</th>\n",
       "      <th>6</th>\n",
       "      <th>7</th>\n",
       "      <th>8</th>\n",
       "      <th>9</th>\n",
       "      <th>...</th>\n",
       "      <th>20</th>\n",
       "      <th>21</th>\n",
       "      <th>22</th>\n",
       "      <th>23</th>\n",
       "      <th>24</th>\n",
       "      <th>25</th>\n",
       "      <th>26</th>\n",
       "      <th>27</th>\n",
       "      <th>28</th>\n",
       "      <th>29</th>\n",
       "    </tr>\n",
       "  </thead>\n",
       "  <tbody>\n",
       "    <tr>\n",
       "      <th>0</th>\n",
       "      <td>-0.777410</td>\n",
       "      <td>0.193198</td>\n",
       "      <td>-0.058681</td>\n",
       "      <td>-0.180358</td>\n",
       "      <td>-0.005488</td>\n",
       "      <td>-0.099418</td>\n",
       "      <td>-0.209189</td>\n",
       "      <td>-0.328524</td>\n",
       "      <td>0.078983</td>\n",
       "      <td>-0.157332</td>\n",
       "      <td>...</td>\n",
       "      <td>0.041982</td>\n",
       "      <td>0.041555</td>\n",
       "      <td>-0.014339</td>\n",
       "      <td>0.082866</td>\n",
       "      <td>0.039612</td>\n",
       "      <td>-0.017558</td>\n",
       "      <td>0.026953</td>\n",
       "      <td>0.076262</td>\n",
       "      <td>0.053751</td>\n",
       "      <td>0.001138</td>\n",
       "    </tr>\n",
       "    <tr>\n",
       "      <th>1</th>\n",
       "      <td>-0.599829</td>\n",
       "      <td>0.260505</td>\n",
       "      <td>0.001988</td>\n",
       "      <td>-0.047122</td>\n",
       "      <td>0.131503</td>\n",
       "      <td>-0.098223</td>\n",
       "      <td>-0.077306</td>\n",
       "      <td>0.046259</td>\n",
       "      <td>-0.040616</td>\n",
       "      <td>0.094607</td>\n",
       "      <td>...</td>\n",
       "      <td>-0.041142</td>\n",
       "      <td>-0.045017</td>\n",
       "      <td>-0.069650</td>\n",
       "      <td>-0.014712</td>\n",
       "      <td>0.043191</td>\n",
       "      <td>0.037387</td>\n",
       "      <td>0.005626</td>\n",
       "      <td>0.051804</td>\n",
       "      <td>0.003633</td>\n",
       "      <td>-0.019049</td>\n",
       "    </tr>\n",
       "    <tr>\n",
       "      <th>2</th>\n",
       "      <td>-0.246233</td>\n",
       "      <td>-0.118150</td>\n",
       "      <td>0.065454</td>\n",
       "      <td>-0.036683</td>\n",
       "      <td>0.486624</td>\n",
       "      <td>-0.150015</td>\n",
       "      <td>-0.066611</td>\n",
       "      <td>-0.197733</td>\n",
       "      <td>0.041888</td>\n",
       "      <td>0.013268</td>\n",
       "      <td>...</td>\n",
       "      <td>0.088315</td>\n",
       "      <td>0.035485</td>\n",
       "      <td>0.010130</td>\n",
       "      <td>-0.061537</td>\n",
       "      <td>-0.159464</td>\n",
       "      <td>-0.004531</td>\n",
       "      <td>0.114243</td>\n",
       "      <td>0.030176</td>\n",
       "      <td>-0.000004</td>\n",
       "      <td>-0.030507</td>\n",
       "    </tr>\n",
       "    <tr>\n",
       "      <th>3</th>\n",
       "      <td>-0.748761</td>\n",
       "      <td>0.347893</td>\n",
       "      <td>-0.050810</td>\n",
       "      <td>-0.060772</td>\n",
       "      <td>0.094122</td>\n",
       "      <td>0.043072</td>\n",
       "      <td>-0.091608</td>\n",
       "      <td>0.131255</td>\n",
       "      <td>-0.044363</td>\n",
       "      <td>0.123942</td>\n",
       "      <td>...</td>\n",
       "      <td>-0.014865</td>\n",
       "      <td>0.004702</td>\n",
       "      <td>-0.002505</td>\n",
       "      <td>-0.012934</td>\n",
       "      <td>0.031007</td>\n",
       "      <td>-0.034509</td>\n",
       "      <td>0.013154</td>\n",
       "      <td>0.003500</td>\n",
       "      <td>0.010792</td>\n",
       "      <td>-0.025578</td>\n",
       "    </tr>\n",
       "    <tr>\n",
       "      <th>4</th>\n",
       "      <td>0.390897</td>\n",
       "      <td>0.250941</td>\n",
       "      <td>-0.198188</td>\n",
       "      <td>0.293123</td>\n",
       "      <td>0.621651</td>\n",
       "      <td>0.005957</td>\n",
       "      <td>-0.025043</td>\n",
       "      <td>-0.233486</td>\n",
       "      <td>0.295032</td>\n",
       "      <td>0.131574</td>\n",
       "      <td>...</td>\n",
       "      <td>0.016371</td>\n",
       "      <td>-0.083399</td>\n",
       "      <td>0.058306</td>\n",
       "      <td>-0.020698</td>\n",
       "      <td>-0.014870</td>\n",
       "      <td>-0.001801</td>\n",
       "      <td>-0.043849</td>\n",
       "      <td>-0.033976</td>\n",
       "      <td>-0.012676</td>\n",
       "      <td>0.018269</td>\n",
       "    </tr>\n",
       "    <tr>\n",
       "      <th>...</th>\n",
       "      <td>...</td>\n",
       "      <td>...</td>\n",
       "      <td>...</td>\n",
       "      <td>...</td>\n",
       "      <td>...</td>\n",
       "      <td>...</td>\n",
       "      <td>...</td>\n",
       "      <td>...</td>\n",
       "      <td>...</td>\n",
       "      <td>...</td>\n",
       "      <td>...</td>\n",
       "      <td>...</td>\n",
       "      <td>...</td>\n",
       "      <td>...</td>\n",
       "      <td>...</td>\n",
       "      <td>...</td>\n",
       "      <td>...</td>\n",
       "      <td>...</td>\n",
       "      <td>...</td>\n",
       "      <td>...</td>\n",
       "      <td>...</td>\n",
       "    </tr>\n",
       "    <tr>\n",
       "      <th>795</th>\n",
       "      <td>-0.565572</td>\n",
       "      <td>0.422083</td>\n",
       "      <td>0.328459</td>\n",
       "      <td>0.111136</td>\n",
       "      <td>-0.153392</td>\n",
       "      <td>-0.133144</td>\n",
       "      <td>0.121274</td>\n",
       "      <td>0.170832</td>\n",
       "      <td>0.181531</td>\n",
       "      <td>-0.003556</td>\n",
       "      <td>...</td>\n",
       "      <td>0.293307</td>\n",
       "      <td>-0.012961</td>\n",
       "      <td>0.058469</td>\n",
       "      <td>0.047264</td>\n",
       "      <td>0.084740</td>\n",
       "      <td>-0.067300</td>\n",
       "      <td>0.020692</td>\n",
       "      <td>-0.023779</td>\n",
       "      <td>0.006058</td>\n",
       "      <td>0.006924</td>\n",
       "    </tr>\n",
       "    <tr>\n",
       "      <th>796</th>\n",
       "      <td>0.258810</td>\n",
       "      <td>-0.934083</td>\n",
       "      <td>0.031836</td>\n",
       "      <td>0.495334</td>\n",
       "      <td>0.077338</td>\n",
       "      <td>-0.114135</td>\n",
       "      <td>0.171020</td>\n",
       "      <td>-0.128288</td>\n",
       "      <td>0.103756</td>\n",
       "      <td>0.171793</td>\n",
       "      <td>...</td>\n",
       "      <td>0.028336</td>\n",
       "      <td>-0.008313</td>\n",
       "      <td>-0.040559</td>\n",
       "      <td>0.057044</td>\n",
       "      <td>0.159711</td>\n",
       "      <td>0.038627</td>\n",
       "      <td>-0.127326</td>\n",
       "      <td>-0.034239</td>\n",
       "      <td>0.109948</td>\n",
       "      <td>0.000764</td>\n",
       "    </tr>\n",
       "    <tr>\n",
       "      <th>797</th>\n",
       "      <td>1.243638</td>\n",
       "      <td>0.799851</td>\n",
       "      <td>0.648936</td>\n",
       "      <td>0.304699</td>\n",
       "      <td>-0.379732</td>\n",
       "      <td>0.291342</td>\n",
       "      <td>-0.171435</td>\n",
       "      <td>-0.020326</td>\n",
       "      <td>0.029573</td>\n",
       "      <td>-0.338982</td>\n",
       "      <td>...</td>\n",
       "      <td>-0.005564</td>\n",
       "      <td>-0.004646</td>\n",
       "      <td>0.015300</td>\n",
       "      <td>-0.004435</td>\n",
       "      <td>0.053892</td>\n",
       "      <td>-0.003336</td>\n",
       "      <td>-0.060122</td>\n",
       "      <td>-0.099572</td>\n",
       "      <td>-0.040614</td>\n",
       "      <td>0.010389</td>\n",
       "    </tr>\n",
       "    <tr>\n",
       "      <th>798</th>\n",
       "      <td>0.251711</td>\n",
       "      <td>0.398993</td>\n",
       "      <td>-0.418890</td>\n",
       "      <td>-0.045822</td>\n",
       "      <td>0.030828</td>\n",
       "      <td>0.140385</td>\n",
       "      <td>-0.063129</td>\n",
       "      <td>-0.085621</td>\n",
       "      <td>-0.096342</td>\n",
       "      <td>0.127771</td>\n",
       "      <td>...</td>\n",
       "      <td>0.080272</td>\n",
       "      <td>-0.049520</td>\n",
       "      <td>0.016834</td>\n",
       "      <td>-0.004586</td>\n",
       "      <td>-0.024391</td>\n",
       "      <td>0.122712</td>\n",
       "      <td>-0.100545</td>\n",
       "      <td>-0.053597</td>\n",
       "      <td>0.022141</td>\n",
       "      <td>-0.101299</td>\n",
       "    </tr>\n",
       "    <tr>\n",
       "      <th>799</th>\n",
       "      <td>0.431775</td>\n",
       "      <td>-0.166857</td>\n",
       "      <td>-0.363375</td>\n",
       "      <td>0.099114</td>\n",
       "      <td>0.416899</td>\n",
       "      <td>0.067133</td>\n",
       "      <td>-0.012721</td>\n",
       "      <td>0.112108</td>\n",
       "      <td>-0.131539</td>\n",
       "      <td>0.028360</td>\n",
       "      <td>...</td>\n",
       "      <td>-0.013166</td>\n",
       "      <td>0.033354</td>\n",
       "      <td>0.058861</td>\n",
       "      <td>0.024797</td>\n",
       "      <td>-0.069148</td>\n",
       "      <td>-0.030900</td>\n",
       "      <td>-0.064236</td>\n",
       "      <td>-0.044439</td>\n",
       "      <td>-0.016898</td>\n",
       "      <td>0.059581</td>\n",
       "    </tr>\n",
       "  </tbody>\n",
       "</table>\n",
       "<p>800 rows × 30 columns</p>\n",
       "</div>"
      ],
      "text/plain": [
       "           0         1         2         3         4         5         6   \\\n",
       "0   -0.777410  0.193198 -0.058681 -0.180358 -0.005488 -0.099418 -0.209189   \n",
       "1   -0.599829  0.260505  0.001988 -0.047122  0.131503 -0.098223 -0.077306   \n",
       "2   -0.246233 -0.118150  0.065454 -0.036683  0.486624 -0.150015 -0.066611   \n",
       "3   -0.748761  0.347893 -0.050810 -0.060772  0.094122  0.043072 -0.091608   \n",
       "4    0.390897  0.250941 -0.198188  0.293123  0.621651  0.005957 -0.025043   \n",
       "..        ...       ...       ...       ...       ...       ...       ...   \n",
       "795 -0.565572  0.422083  0.328459  0.111136 -0.153392 -0.133144  0.121274   \n",
       "796  0.258810 -0.934083  0.031836  0.495334  0.077338 -0.114135  0.171020   \n",
       "797  1.243638  0.799851  0.648936  0.304699 -0.379732  0.291342 -0.171435   \n",
       "798  0.251711  0.398993 -0.418890 -0.045822  0.030828  0.140385 -0.063129   \n",
       "799  0.431775 -0.166857 -0.363375  0.099114  0.416899  0.067133 -0.012721   \n",
       "\n",
       "           7         8         9   ...        20        21        22  \\\n",
       "0   -0.328524  0.078983 -0.157332  ...  0.041982  0.041555 -0.014339   \n",
       "1    0.046259 -0.040616  0.094607  ... -0.041142 -0.045017 -0.069650   \n",
       "2   -0.197733  0.041888  0.013268  ...  0.088315  0.035485  0.010130   \n",
       "3    0.131255 -0.044363  0.123942  ... -0.014865  0.004702 -0.002505   \n",
       "4   -0.233486  0.295032  0.131574  ...  0.016371 -0.083399  0.058306   \n",
       "..        ...       ...       ...  ...       ...       ...       ...   \n",
       "795  0.170832  0.181531 -0.003556  ...  0.293307 -0.012961  0.058469   \n",
       "796 -0.128288  0.103756  0.171793  ...  0.028336 -0.008313 -0.040559   \n",
       "797 -0.020326  0.029573 -0.338982  ... -0.005564 -0.004646  0.015300   \n",
       "798 -0.085621 -0.096342  0.127771  ...  0.080272 -0.049520  0.016834   \n",
       "799  0.112108 -0.131539  0.028360  ... -0.013166  0.033354  0.058861   \n",
       "\n",
       "           23        24        25        26        27        28        29  \n",
       "0    0.082866  0.039612 -0.017558  0.026953  0.076262  0.053751  0.001138  \n",
       "1   -0.014712  0.043191  0.037387  0.005626  0.051804  0.003633 -0.019049  \n",
       "2   -0.061537 -0.159464 -0.004531  0.114243  0.030176 -0.000004 -0.030507  \n",
       "3   -0.012934  0.031007 -0.034509  0.013154  0.003500  0.010792 -0.025578  \n",
       "4   -0.020698 -0.014870 -0.001801 -0.043849 -0.033976 -0.012676  0.018269  \n",
       "..        ...       ...       ...       ...       ...       ...       ...  \n",
       "795  0.047264  0.084740 -0.067300  0.020692 -0.023779  0.006058  0.006924  \n",
       "796  0.057044  0.159711  0.038627 -0.127326 -0.034239  0.109948  0.000764  \n",
       "797 -0.004435  0.053892 -0.003336 -0.060122 -0.099572 -0.040614  0.010389  \n",
       "798 -0.004586 -0.024391  0.122712 -0.100545 -0.053597  0.022141 -0.101299  \n",
       "799  0.024797 -0.069148 -0.030900 -0.064236 -0.044439 -0.016898  0.059581  \n",
       "\n",
       "[800 rows x 30 columns]"
      ]
     },
     "execution_count": 20,
     "metadata": {},
     "output_type": "execute_result"
    }
   ],
   "source": [
    "pca_final.iloc[:,:30]"
   ]
  },
  {
   "cell_type": "code",
   "execution_count": 21,
   "id": "2d7297c1",
   "metadata": {},
   "outputs": [],
   "source": [
    "model_pca_tuned = tune_hbg\n",
    "model_pca_tuned.fit(pca_final.iloc[:,:30],pca_final.iloc[:,30])\n",
    "pcaTrainhbg_tuned = model_pca_tuned.predict(pca_data)\n",
    "pcaTesthbg_tuned = model_pca_tuned.predict(pca_data_test)"
   ]
  },
  {
   "cell_type": "code",
   "execution_count": 22,
   "id": "10717858",
   "metadata": {},
   "outputs": [],
   "source": [
    "pcatesthbg_score =  accuracy_score(y_test, pcaTesthbg)\n",
    "pcahbg_score = accuracy_score(y_dev, pcaTrainhbg)"
   ]
  },
  {
   "cell_type": "code",
   "execution_count": 23,
   "id": "648af0d4",
   "metadata": {},
   "outputs": [
    {
     "name": "stdout",
     "output_type": "stream",
     "text": [
      "Classification Score for HistGradientBoosting Classifier on Train dataset:\n",
      "\n",
      "Train Score :  0.99875\n",
      "--------------------------------------------------------\n",
      "Classification Score for HistGradientBoosting Classifier on Test dataset:\n",
      "\n",
      "Test Score : 0.7\n"
     ]
    }
   ],
   "source": [
    "print(\"Classification Score for HistGradientBoosting Classifier on Train dataset:\\n\")\n",
    "print(\"Train Score : \", pcahbg_score)\n",
    "print(\"--------------------------------------------------------\")\n",
    "print(\"Classification Score for HistGradientBoosting Classifier on Test dataset:\\n\")\n",
    "print(\"Test Score :\", pcatesthbg_score)"
   ]
  },
  {
   "cell_type": "code",
   "execution_count": 24,
   "id": "35ad5f21",
   "metadata": {},
   "outputs": [
    {
     "data": {
      "image/png": "[encoded data removed]",
      "text/plain": [
       "<Figure size 1080x432 with 2 Axes>"
      ]
     },
     "metadata": {},
     "output_type": "display_data"
    },
    {
     "name": "stdout",
     "output_type": "stream",
     "text": [
      "Accuracy : 0.70\n",
      "Macro F-1 Score : 0.69\n"
     ]
    }
   ],
   "source": [
    "# Evaluate Model\n",
    "class_labels = list(model_hbg.classes_)\n",
    "macro_f1, accuracy = evaluate_model(pcaTesthbg, y_test, class_labels,\n",
    "                                    'Confustion Matrix: PCA - Tuned 30 seconds HistGradientBoosting Classifier')\n",
    "print('Accuracy : %.2f'%accuracy)\n",
    "print('Macro F-1 Score : %.2f'%macro_f1)"
   ]
  },
  {
   "cell_type": "code",
   "execution_count": null,
   "id": "48e94e64-3e62-49a2-a41a-767bec986840",
   "metadata": {},
   "outputs": [],
   "source": []
  }
 ],
 "metadata": {
  "kernelspec": {
   "display_name": "Python 3 (ipykernel)",
   "language": "python",
   "name": "python3"
  },
  "language_info": {
   "codemirror_mode": {
    "name": "ipython",
    "version": 3
   },
   "file_extension": ".py",
   "mimetype": "text/x-python",
   "name": "python",
   "nbconvert_exporter": "python",
   "pygments_lexer": "ipython3",
   "version": "3.9.7"
  }
 },
 "nbformat": 4,
 "nbformat_minor": 5
}
