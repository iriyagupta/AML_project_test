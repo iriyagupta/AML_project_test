{
 "cells": [
  {
   "cell_type": "code",
   "execution_count": 1,
   "id": "ffa7b670",
   "metadata": {},
   "outputs": [],
   "source": [
    "from utils import *\n",
    "from sklearn.decomposition import PCA\n",
    "from sklearn.ensemble import RandomForestClassifier\n",
    "from sklearn.model_selection import GridSearchCV\n",
    "import random\n",
    "import warnings\n",
    "warnings.filterwarnings('ignore')"
   ]
  },
  {
   "cell_type": "code",
   "execution_count": 2,
   "metadata": {},
   "outputs": [],
   "source": [
    "%store -r data\n",
    "%store -r target"
   ]
  },
  {
   "cell_type": "code",
   "execution_count": 3,
   "id": "e3d204f2",
   "metadata": {},
   "outputs": [
    {
     "name": "stdout",
     "output_type": "stream",
     "text": [
      "X_train shape: (810, 54)\n",
      "X_test shape: (100, 54)\n",
      "X_val shape: (90, 54)\n",
      "y_train shape: (810,)\n",
      "y_test shape: (100,)\n",
      "y_val shape: (90,)\n"
     ]
    }
   ],
   "source": [
    "data = standardize(data)\n",
    "X_dev, y_dev, X_test, y_test, X_train, y_train, X_val, y_val = split(data,target)"
   ]
  },
  {
   "cell_type": "markdown",
   "id": "4d9caabe-d2df-40e4-9914-bc6c420e95cd",
   "metadata": {},
   "source": [
    "### Original Model\n",
    "Building a model with no parameter tuning and using the raw csv file"
   ]
  },
  {
   "cell_type": "code",
   "execution_count": null,
   "id": "4603e557",
   "metadata": {},
   "outputs": [],
   "source": [
    "model_rf = RandomForestClassifier()\n",
    "model_rf.fit(X_dev, y_dev)\n",
    "predsDevrf = model_rf.predict(X_dev)\n",
    "predsTestrf = model_rf.predict(X_test)"
   ]
  },
  {
   "cell_type": "code",
   "execution_count": null,
   "id": "798fd0c7",
   "metadata": {},
   "outputs": [],
   "source": [
    "testrf_score =  accuracy_score(y_test, predsTestrf)\n",
    "devrf_score = accuracy_score(y_dev, predsDevrf)"
   ]
  },
  {
   "cell_type": "code",
   "execution_count": null,
   "id": "2cecfff5",
   "metadata": {},
   "outputs": [],
   "source": [
    "print(\"Classification Score for Random Forest on Dev dataset:\\n\")\n",
    "print(\"Dev Score : \", devrf_score)\n",
    "print(classification_report(y_dev, predsDevrf))\n",
    "print(\"--------------------------------------------------------\")\n",
    "print(\"Classification Score for Random Forest on Test dataset:\\n\")\n",
    "print(\"Test Score :\", testrf_score)\n",
    "print(classification_report(y_test, predsTestrf))"
   ]
  },
  {
   "cell_type": "code",
   "execution_count": null,
   "id": "e1883907",
   "metadata": {},
   "outputs": [],
   "source": [
    "# Evaluate Model on Test set\n",
    "class_labels = list(model_rf.classes_)\n",
    "macro_f1, accuracy = evaluate_model(predsTestrf, y_test, class_labels, 'Confustion matrix: Untuned 30 seconds Random Forest Model')\n",
    "print('Accuracy : %.2f'%accuracy)\n",
    "print('Macro F-1 Score : %.2f'%macro_f1)"
   ]
  },
  {
   "cell_type": "markdown",
   "id": "94955db3",
   "metadata": {},
   "source": [
    "### Tuned Model\n",
    "Building a model with hyperparameters tuning using 5-fold cross validation with GridSearchCV and the raw csv file"
   ]
  },
  {
   "cell_type": "code",
   "execution_count": null,
   "id": "3fef49f4",
   "metadata": {},
   "outputs": [],
   "source": [
    "\n",
    "parameters = {'min_samples_split': np.linspace(10,100,5,dtype=int),\n",
    "              'n_estimators': np.linspace(50,200,5,dtype=int),\n",
    "             'bootstrap': [True]}\n",
    "\n",
    "print(parameters)"
   ]
  },
  {
   "cell_type": "code",
   "execution_count": null,
   "id": "88dfebb1",
   "metadata": {},
   "outputs": [],
   "source": [
    "tune_rf = GridSearchCV(estimator = model_rf, param_grid = parameters, cv = 5)\n",
    "tune_rf.fit(X_dev, y_dev)"
   ]
  },
  {
   "cell_type": "code",
   "execution_count": null,
   "id": "787f731b",
   "metadata": {},
   "outputs": [],
   "source": [
    "print(\"Best Score :\", tune_rf.best_score_)\n",
    "print(\"Best Parameters :\",tune_rf.best_params_)"
   ]
  },
  {
   "cell_type": "code",
   "execution_count": null,
   "id": "a51d1aca",
   "metadata": {},
   "outputs": [],
   "source": [
    "predsDevrf_tuned = tune_rf.predict(X_dev)\n",
    "predsTestrf_tuned = tune_rf.predict(X_test)\n",
    "\n",
    "print(\"Score on Dev data for RF using GridSearchCV:\", accuracy_score(y_dev, predsDevrf_tuned))\n",
    "print(\"Score on Test data for RF using GridSearchCV:\",accuracy_score(y_test, predsTestrf_tuned))"
   ]
  },
  {
   "cell_type": "code",
   "execution_count": null,
   "id": "8439f97a-f8c5-43bb-a815-c308a0cdd095",
   "metadata": {},
   "outputs": [],
   "source": [
    "# Evaluate Model on Test set\n",
    "class_labels = list(model_rf.classes_)\n",
    "macro_f1, accuracy = evaluate_model(predsTestrf_tuned, y_test, class_labels, 'Confustion matrix: Tuned 30 seconds Random Forest Model')\n",
    "print('Accuracy : %.2f'%accuracy)\n",
    "print('Macro F-1 Score : %.2f'%macro_f1)"
   ]
  },
  {
   "cell_type": "code",
   "execution_count": null,
   "id": "b136e881-dc6c-43bc-9102-77c46b9d0d39",
   "metadata": {},
   "outputs": [],
   "source": [
    "## Plot top 3 Important Features of tuned model"
   ]
  },
  {
   "cell_type": "code",
   "execution_count": null,
   "id": "35767731",
   "metadata": {},
   "outputs": [],
   "source": [
    "feature_imp_rf = tune_rf.best_estimator_.feature_importances_\n",
    "final_list_rf = zip(feature_imp_rf,X_dev.columns)\n",
    "res_rf = sorted(final_list_rf, key = lambda x: x[0])\n",
    "res_rf = res_rf[-3:]\n",
    "\n",
    "plt.bar(range(len(res_rf)),[val[0] for val in res_rf],align='center')\n",
    "plt.xticks(range(len(res_rf)),[val[1] for val in res_rf])\n",
    "plt.xticks(rotation=45)\n",
    "plt.xlabel('Features')\n",
    "plt.ylabel('Feature Importance')\n",
    "plt.show()"
   ]
  },
  {
   "cell_type": "markdown",
   "id": "833b2197",
   "metadata": {},
   "source": [
    "### Dimensionality reduction of data using PCA"
   ]
  },
  {
   "cell_type": "code",
   "execution_count": null,
   "id": "6553145b",
   "metadata": {},
   "outputs": [],
   "source": [
    "# Principal Component Analysis \n",
    "### cite : https://machinelearningmastery.com/calculate-principal-component-analysis-scratch-python/\n",
    "\n",
    "# create the PCA instance\n",
    "pca = PCA(n_components=30)\n",
    "# fit on data\n",
    "pca_data = pca.fit_transform(X_dev)\n",
    "pca_data_test = pca.transform(X_test)\n",
    "# pca_data_dev = pca.transform(X_dev)\n",
    "PCA_df= pd.DataFrame(data=pca_data)\n",
    "y_dev.index = PCA_df.index\n",
    "pca_final=pd.concat([PCA_df,y_dev], axis = 1)\n",
    "# access values\n",
    "print(\"Explained Variance of each component:\",pca.explained_variance_)\n",
    "print(\"Sum of Explained Variance:\", sum(pca.explained_variance_ratio_))"
   ]
  },
  {
   "cell_type": "code",
   "execution_count": null,
   "id": "24f6e702",
   "metadata": {},
   "outputs": [],
   "source": [
    "pca_final.head()"
   ]
  },
  {
   "cell_type": "code",
   "execution_count": null,
   "id": "5845fd7a",
   "metadata": {},
   "outputs": [],
   "source": [
    "# from sklearn.preprocessing import OrdinalEncoder\n",
    "# encoder  = OrdinalEncoder()\n",
    "# encoder.fit(pca_final.iloc[:,10].reshape(-1, 1))\n",
    "# y_train_encoded = encoder.transform(pca_final.iloc[:,10])"
   ]
  },
  {
   "cell_type": "markdown",
   "id": "7793a70c-2945-4262-a2be-3660cd158cf5",
   "metadata": {},
   "source": [
    "### PCA - Original Model\n",
    "Building a model with no parameter tuning and using the PCA data"
   ]
  },
  {
   "cell_type": "code",
   "execution_count": null,
   "id": "f4b1db81",
   "metadata": {},
   "outputs": [],
   "source": [
    "model_pca = RandomForestClassifier(max_depth=2,n_estimators=1000)\n",
    "model_pca.fit(pca_final.iloc[:,:30],pca_final.iloc[:,30])\n",
    "pcaTrainrf = model_pca.predict(pca_data)\n",
    "pcaTestrf = model_pca.predict(pca_data_test)"
   ]
  },
  {
   "cell_type": "code",
   "execution_count": null,
   "id": "7f28b6d2",
   "metadata": {},
   "outputs": [],
   "source": [
    "pcatestrf_score =  accuracy_score(y_test, pcaTestrf)\n",
    "pcarf_score = accuracy_score(y_dev, pcaTrainrf)"
   ]
  },
  {
   "cell_type": "code",
   "execution_count": null,
   "id": "3c0cf3a6",
   "metadata": {},
   "outputs": [],
   "source": [
    "print(\"Classification Score for Random Forest on Train dataset:\\n\")\n",
    "print(\"Train Score : \", pcarf_score)\n",
    "print(\"--------------------------------------------------------\")\n",
    "print(\"Classification Score for Random Forest on Test dataset:\\n\")\n",
    "print(\"Test Score :\", pcatestrf_score)"
   ]
  },
  {
   "cell_type": "code",
   "execution_count": null,
   "id": "efa40f55",
   "metadata": {},
   "outputs": [],
   "source": [
    "# Evaluate Model\n",
    "class_labels = list(model_rf.classes_)\n",
    "macro_f1, accuracy = evaluate_model(pcaTestrf, y_test, class_labels, 'Confustion Matrix: PCA - Untuned 30 seconds Random Forest Model')\n",
    "print('Accuracy : %.2f'%accuracy)\n",
    "print('Macro F-1 Score : %.2f'%macro_f1)"
   ]
  },
  {
   "cell_type": "markdown",
   "id": "abbdcf85",
   "metadata": {},
   "source": [
    "### PCA - Tuned Model\n",
    "Building a model with hyperparameters tuning using 5-fold cross validation with GridSearchCV and the PCA data"
   ]
  },
  {
   "cell_type": "code",
   "execution_count": null,
   "id": "a4a2e80a",
   "metadata": {},
   "outputs": [],
   "source": [
    "pca_final.iloc[:,:30]"
   ]
  },
  {
   "cell_type": "code",
   "execution_count": null,
   "id": "2d7297c1",
   "metadata": {},
   "outputs": [],
   "source": [
    "model_pca_tuned = tune_rf\n",
    "model_pca_tuned.fit(pca_final.iloc[:,:30],pca_final.iloc[:,30])\n",
    "pcaTrainrf_tuned = model_pca_tuned.predict(pca_data)\n",
    "pcaTestrf_tuned = model_pca_tuned.predict(pca_data_test)"
   ]
  },
  {
   "cell_type": "code",
   "execution_count": null,
   "id": "10717858",
   "metadata": {},
   "outputs": [],
   "source": [
    "pcatestrf_score =  accuracy_score(y_test, pcaTestrf)\n",
    "pcarf_score = accuracy_score(y_dev, pcaTrainrf)"
   ]
  },
  {
   "cell_type": "code",
   "execution_count": null,
   "id": "648af0d4",
   "metadata": {},
   "outputs": [],
   "source": [
    "print(\"Classification Score for Random Forest on Train dataset:\\n\")\n",
    "print(\"Train Score : \", pcarf_score)\n",
    "print(\"--------------------------------------------------------\")\n",
    "print(\"Classification Score for Random Forest on Test dataset:\\n\")\n",
    "print(\"Test Score :\", pcatestrf_score)"
   ]
  },
  {
   "cell_type": "code",
   "execution_count": null,
   "id": "35ad5f21",
   "metadata": {},
   "outputs": [],
   "source": [
    "# Evaluate Model\n",
    "class_labels = list(model_rf.classes_)\n",
    "macro_f1, accuracy = evaluate_model(pcaTestrf, y_test, class_labels, 'Confustion Matrix: PCA - Tuned 30 seconds Random Forest Model')\n",
    "print('Accuracy : %.2f'%accuracy)\n",
    "print('Macro F-1 Score : %.2f'%macro_f1)"
   ]
  },
  {
   "cell_type": "markdown",
   "id": "ba4a69ef",
   "metadata": {},
   "source": [
    "**Ans:** As we see due to the lesser number of data, PCA instead of helping in the improvement of the accuracy or the model learning by reducing the dimensions (\"the curse of dimensionality\"), makes the model worse. "
   ]
  }
 ],
 "metadata": {
  "kernelspec": {
   "display_name": "Python 3",
   "language": "python",
   "name": "python3"
  },
  "language_info": {
   "codemirror_mode": {
    "name": "ipython",
    "version": 3
   },
   "file_extension": ".py",
   "mimetype": "text/x-python",
   "name": "python",
   "nbconvert_exporter": "python",
   "pygments_lexer": "ipython3",
   "version": "3.8.13"
  }
 },
 "nbformat": 4,
 "nbformat_minor": 5
}
