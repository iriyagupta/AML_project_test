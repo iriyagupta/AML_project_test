{
 "cells": [
  {
   "cell_type": "code",
   "execution_count": 1,
   "id": "ffa7b670",
   "metadata": {},
   "outputs": [],
   "source": [
    "from utils import *\n",
    "from sklearn.decomposition import PCA\n",
    "from sklearn.ensemble import GradientBoostingClassifier\n",
    "from sklearn.model_selection import GridSearchCV\n",
    "import random\n",
    "import warnings\n",
    "warnings.filterwarnings('ignore')"
   ]
  },
  {
   "cell_type": "code",
   "execution_count": 2,
   "metadata": {},
   "outputs": [],
   "source": [
    "%store -r data\n",
    "%store -r target"
   ]
  },
  {
   "cell_type": "code",
   "execution_count": 3,
   "metadata": {},
   "outputs": [
    {
     "name": "stdout",
     "output_type": "stream",
     "text": [
      "X_train shape: (810, 54)\n",
      "X_test shape: (100, 54)\n",
      "X_val shape: (90, 54)\n",
      "y_train shape: (810,)\n",
      "y_test shape: (100,)\n",
      "y_val shape: (90,)\n"
     ]
    }
   ],
   "source": [
    "data = standardize(data)\n",
    "X_dev, y_dev, X_test, y_test, X_train, y_train, X_val, y_val = split(data,target)"
   ]
  },
  {
   "cell_type": "markdown",
   "id": "4d9caabe-d2df-40e4-9914-bc6c420e95cd",
   "metadata": {},
   "source": [
    "### Original Model\n",
    "Building a model with no parameter tuning and using the raw csv file"
   ]
  },
  {
   "cell_type": "code",
   "execution_count": 4,
   "id": "4603e557",
   "metadata": {},
   "outputs": [],
   "source": [
    "model_bg = GradientBoostingClassifier()\n",
    "model_bg.fit(X_dev, y_dev)\n",
    "predsDevbg = model_bg.predict(X_dev)\n",
    "predsTestbg = model_bg.predict(X_test)"
   ]
  },
  {
   "cell_type": "code",
   "execution_count": 5,
   "id": "798fd0c7",
   "metadata": {},
   "outputs": [],
   "source": [
    "testbg_score =  accuracy_score(y_test, predsTestbg )\n",
    "devbg_score = accuracy_score(y_dev, predsDevbg )"
   ]
  },
  {
   "cell_type": "code",
   "execution_count": 6,
   "id": "2cecfff5",
   "metadata": {},
   "outputs": [
    {
     "name": "stdout",
     "output_type": "stream",
     "text": [
      "Classification Score for Gradient Boosting Classifier on Dev dataset:\n",
      "\n",
      "Dev Score :  0.9988888888888889\n",
      "              precision    recall  f1-score   support\n",
      "\n",
      "       blues       1.00      1.00      1.00        92\n",
      "   classical       1.00      1.00      1.00        92\n",
      "     country       1.00      1.00      1.00        92\n",
      "       disco       1.00      1.00      1.00        92\n",
      "      hiphop       1.00      1.00      1.00        93\n",
      "        jazz       1.00      1.00      1.00        83\n",
      "       metal       0.99      1.00      0.99        92\n",
      "         pop       1.00      1.00      1.00        92\n",
      "      reggae       1.00      1.00      1.00        86\n",
      "        rock       1.00      0.99      0.99        86\n",
      "\n",
      "    accuracy                           1.00       900\n",
      "   macro avg       1.00      1.00      1.00       900\n",
      "weighted avg       1.00      1.00      1.00       900\n",
      "\n",
      "--------------------------------------------------------\n",
      "Classification Score for Gradient Boosting Classifier on Test dataset:\n",
      "\n",
      "Test Score : 0.75\n",
      "              precision    recall  f1-score   support\n",
      "\n",
      "       blues       0.54      0.88      0.67         8\n",
      "   classical       0.62      1.00      0.76         8\n",
      "     country       0.62      1.00      0.76         8\n",
      "       disco       0.70      0.88      0.78         8\n",
      "      hiphop       0.67      0.57      0.62         7\n",
      "        jazz       0.92      0.71      0.80        17\n",
      "       metal       1.00      0.88      0.93         8\n",
      "         pop       0.86      0.75      0.80         8\n",
      "      reggae       0.83      0.71      0.77        14\n",
      "        rock       1.00      0.43      0.60        14\n",
      "\n",
      "    accuracy                           0.75       100\n",
      "   macro avg       0.77      0.78      0.75       100\n",
      "weighted avg       0.81      0.75      0.75       100\n",
      "\n"
     ]
    }
   ],
   "source": [
    "print(\"Classification Score for Gradient Boosting Classifier on Dev dataset:\\n\")\n",
    "print(\"Dev Score : \", devbg_score)\n",
    "print(classification_report(y_dev, predsDevbg ))\n",
    "print(\"--------------------------------------------------------\")\n",
    "print(\"Classification Score for Gradient Boosting Classifier on Test dataset:\\n\")\n",
    "print(\"Test Score :\", testbg_score)\n",
    "print(classification_report(y_test, predsTestbg ))"
   ]
  },
  {
   "cell_type": "code",
   "execution_count": 7,
   "id": "e1883907",
   "metadata": {},
   "outputs": [
    {
     "data": {
      "image/png": "[encoded data removed]",
      "text/plain": [
       "<Figure size 1080x432 with 2 Axes>"
      ]
     },
     "metadata": {},
     "output_type": "display_data"
    },
    {
     "name": "stdout",
     "output_type": "stream",
     "text": [
      "Accuracy : 0.75\n",
      "Macro F-1 Score : 0.75\n"
     ]
    }
   ],
   "source": [
    "# Evaluate Model on Test set\n",
    "class_labels = list(model_bg.classes_)\n",
    "macro_f1, accuracy = evaluate_model(predsTestbg , y_test, class_labels,\n",
    "                                    'Confustion matrix: Untuned 30 seconds Gradient Boosting Classifier')\n",
    "print('Accuracy : %.2f'%accuracy)\n",
    "print('Macro F-1 Score : %.2f'%macro_f1)"
   ]
  },
  {
   "cell_type": "markdown",
   "id": "94955db3",
   "metadata": {},
   "source": [
    "### Tuned Model\n",
    "Building a model with hyperparameters tuning using 5-fold cross validation with GridSearchCV and the raw csv file"
   ]
  },
  {
   "cell_type": "code",
   "execution_count": 8,
   "id": "3fef49f4",
   "metadata": {},
   "outputs": [
    {
     "name": "stdout",
     "output_type": "stream",
     "text": [
      "{'n_estimators': array([  5,  52, 100]), 'learning_rate': [0.1, 0.001, 0.01], 'max_depth': [20, 3, 15]}\n"
     ]
    }
   ],
   "source": [
    "parameters = {\"n_estimators\": np.linspace(5,100,3,dtype=int),\n",
    "             \"learning_rate\": [0.1,0.001,0.01],\n",
    "             \"max_depth\": random.sample(range(3, 30),3)}\n",
    "print(parameters)"
   ]
  },
  {
   "cell_type": "code",
   "execution_count": 9,
   "id": "88dfebb1",
   "metadata": {},
   "outputs": [
    {
     "data": {
      "text/plain": [
       "GridSearchCV(cv=5, estimator=GradientBoostingClassifier(),\n",
       "             param_grid={'learning_rate': [0.1, 0.001, 0.01],\n",
       "                         'max_depth': [20, 3, 15],\n",
       "                         'n_estimators': array([  5,  52, 100])})"
      ]
     },
     "execution_count": 9,
     "metadata": {},
     "output_type": "execute_result"
    }
   ],
   "source": [
    "tune_bg = GridSearchCV(estimator = model_bg , param_grid = parameters, cv = 5)\n",
    "tune_bg.fit(X_dev, y_dev)"
   ]
  },
  {
   "cell_type": "code",
   "execution_count": 10,
   "id": "787f731b",
   "metadata": {},
   "outputs": [
    {
     "name": "stdout",
     "output_type": "stream",
     "text": [
      "Best Score : 0.6811111111111112\n",
      "Best Parameters : {'learning_rate': 0.1, 'max_depth': 3, 'n_estimators': 100}\n"
     ]
    }
   ],
   "source": [
    "print(\"Best Score :\", tune_bg.best_score_)\n",
    "print(\"Best Parameters :\",tune_bg.best_params_)"
   ]
  },
  {
   "cell_type": "code",
   "execution_count": 11,
   "id": "a51d1aca",
   "metadata": {},
   "outputs": [
    {
     "name": "stdout",
     "output_type": "stream",
     "text": [
      "Score on Dev data for GB using GridSearchCV: 0.9988888888888889\n",
      "Score on Test data for GB using GridSearchCV: 0.76\n"
     ]
    }
   ],
   "source": [
    "predsDevbg_tuned = tune_bg.predict(X_dev)\n",
    "predsTestbg_tuned = tune_bg.predict(X_test)\n",
    "\n",
    "print(\"Score on Dev data for GB using GridSearchCV:\", accuracy_score(y_dev, predsDevbg_tuned))\n",
    "print(\"Score on Test data for GB using GridSearchCV:\",accuracy_score(y_test, predsTestbg_tuned))"
   ]
  },
  {
   "cell_type": "code",
   "execution_count": 13,
   "id": "8439f97a-f8c5-43bb-a815-c308a0cdd095",
   "metadata": {},
   "outputs": [
    {
     "data": {
      "image/png": "[encoded data removed]",
      "text/plain": [
       "<Figure size 1080x432 with 2 Axes>"
      ]
     },
     "metadata": {},
     "output_type": "display_data"
    },
    {
     "name": "stdout",
     "output_type": "stream",
     "text": [
      "Accuracy : 0.76\n",
      "Macro F-1 Score : 0.76\n"
     ]
    }
   ],
   "source": [
    "# Evaluate Model on Test set\n",
    "class_labels = list(tune_bg.classes_)\n",
    "macro_f1, accuracy = evaluate_model(predsTestbg_tuned, y_test, class_labels,\n",
    "                                    'Confustion matrix: Tuned 30 seconds Gradient Boosting Classifier')\n",
    "print('Accuracy : %.2f'%accuracy)\n",
    "print('Macro F-1 Score : %.2f'%macro_f1)"
   ]
  },
  {
   "cell_type": "markdown",
   "id": "833b2197",
   "metadata": {},
   "source": [
    "### Dimensionality reduction of data using PCA"
   ]
  },
  {
   "cell_type": "code",
   "execution_count": 14,
   "id": "6553145b",
   "metadata": {},
   "outputs": [
    {
     "name": "stdout",
     "output_type": "stream",
     "text": [
      "Explained Variance of each component: [0.27462107 0.16378828 0.106374   0.0723295  0.05484226 0.0387792\n",
      " 0.02690359 0.02395643 0.02175637 0.01846612 0.01427943 0.01395746\n",
      " 0.0120279  0.01112264 0.01017838 0.00968101 0.00884284 0.00796855\n",
      " 0.00769758 0.0072449  0.00710377 0.00655204 0.00600156 0.00568758\n",
      " 0.00541428 0.00495215 0.00484501 0.00468774 0.00451095 0.00421412]\n",
      "Sum of Explained Variance: 0.9526384317716602\n"
     ]
    }
   ],
   "source": [
    "# Principal Component Analysis \n",
    "### cite : https://machinelearningmastery.com/calculate-principal-component-analysis-scratch-python/\n",
    "\n",
    "# create the PCA instance\n",
    "pca = PCA(n_components=30)\n",
    "# fit on data\n",
    "pca_data = pca.fit_transform(X_dev)\n",
    "pca_data_test = pca.transform(X_test)\n",
    "# pca_data_dev = pca.transform(X_dev)\n",
    "PCA_df= pd.DataFrame(data=pca_data)\n",
    "y_dev.index = PCA_df.index\n",
    "pca_final=pd.concat([PCA_df,y_dev], axis = 1)\n",
    "# access values\n",
    "print(\"Explained Variance of each component:\",pca.explained_variance_)\n",
    "print(\"Sum of Explained Variance:\", sum(pca.explained_variance_ratio_))"
   ]
  },
  {
   "cell_type": "code",
   "execution_count": 15,
   "id": "24f6e702",
   "metadata": {
    "scrolled": true
   },
   "outputs": [
    {
     "data": {
      "text/html": [
       "<div>\n",
       "<style scoped>\n",
       "    .dataframe tbody tr th:only-of-type {\n",
       "        vertical-align: middle;\n",
       "    }\n",
       "\n",
       "    .dataframe tbody tr th {\n",
       "        vertical-align: top;\n",
       "    }\n",
       "\n",
       "    .dataframe thead th {\n",
       "        text-align: right;\n",
       "    }\n",
       "</style>\n",
       "<table border=\"1\" class=\"dataframe\">\n",
       "  <thead>\n",
       "    <tr style=\"text-align: right;\">\n",
       "      <th></th>\n",
       "      <th>0</th>\n",
       "      <th>1</th>\n",
       "      <th>2</th>\n",
       "      <th>3</th>\n",
       "      <th>4</th>\n",
       "      <th>5</th>\n",
       "      <th>6</th>\n",
       "      <th>7</th>\n",
       "      <th>8</th>\n",
       "      <th>9</th>\n",
       "      <th>...</th>\n",
       "      <th>21</th>\n",
       "      <th>22</th>\n",
       "      <th>23</th>\n",
       "      <th>24</th>\n",
       "      <th>25</th>\n",
       "      <th>26</th>\n",
       "      <th>27</th>\n",
       "      <th>28</th>\n",
       "      <th>29</th>\n",
       "      <th>label</th>\n",
       "    </tr>\n",
       "  </thead>\n",
       "  <tbody>\n",
       "    <tr>\n",
       "      <th>0</th>\n",
       "      <td>0.000578</td>\n",
       "      <td>-0.630373</td>\n",
       "      <td>-0.054837</td>\n",
       "      <td>0.410234</td>\n",
       "      <td>0.009388</td>\n",
       "      <td>0.027372</td>\n",
       "      <td>-0.032691</td>\n",
       "      <td>-0.147325</td>\n",
       "      <td>0.031392</td>\n",
       "      <td>0.111814</td>\n",
       "      <td>...</td>\n",
       "      <td>0.076786</td>\n",
       "      <td>0.102456</td>\n",
       "      <td>-0.080831</td>\n",
       "      <td>0.038589</td>\n",
       "      <td>-0.004110</td>\n",
       "      <td>-0.022132</td>\n",
       "      <td>0.119236</td>\n",
       "      <td>0.058609</td>\n",
       "      <td>0.038252</td>\n",
       "      <td>classical</td>\n",
       "    </tr>\n",
       "    <tr>\n",
       "      <th>1</th>\n",
       "      <td>0.071451</td>\n",
       "      <td>-0.402465</td>\n",
       "      <td>-0.106785</td>\n",
       "      <td>0.332658</td>\n",
       "      <td>-0.060422</td>\n",
       "      <td>0.226590</td>\n",
       "      <td>0.122802</td>\n",
       "      <td>-0.066842</td>\n",
       "      <td>0.069254</td>\n",
       "      <td>-0.088949</td>\n",
       "      <td>...</td>\n",
       "      <td>0.119225</td>\n",
       "      <td>0.093449</td>\n",
       "      <td>-0.017568</td>\n",
       "      <td>0.094723</td>\n",
       "      <td>0.008677</td>\n",
       "      <td>-0.108838</td>\n",
       "      <td>-0.026317</td>\n",
       "      <td>-0.007237</td>\n",
       "      <td>0.001181</td>\n",
       "      <td>jazz</td>\n",
       "    </tr>\n",
       "    <tr>\n",
       "      <th>2</th>\n",
       "      <td>-0.047268</td>\n",
       "      <td>0.326820</td>\n",
       "      <td>-0.598692</td>\n",
       "      <td>0.227380</td>\n",
       "      <td>0.045609</td>\n",
       "      <td>0.264122</td>\n",
       "      <td>-0.077908</td>\n",
       "      <td>0.063582</td>\n",
       "      <td>-0.168407</td>\n",
       "      <td>0.038895</td>\n",
       "      <td>...</td>\n",
       "      <td>-0.088347</td>\n",
       "      <td>0.044296</td>\n",
       "      <td>-0.056544</td>\n",
       "      <td>-0.029132</td>\n",
       "      <td>0.009501</td>\n",
       "      <td>0.089819</td>\n",
       "      <td>-0.023577</td>\n",
       "      <td>0.158196</td>\n",
       "      <td>-0.052619</td>\n",
       "      <td>country</td>\n",
       "    </tr>\n",
       "    <tr>\n",
       "      <th>3</th>\n",
       "      <td>-0.437642</td>\n",
       "      <td>0.235405</td>\n",
       "      <td>-0.003960</td>\n",
       "      <td>0.029110</td>\n",
       "      <td>-0.170677</td>\n",
       "      <td>-0.094825</td>\n",
       "      <td>-0.142894</td>\n",
       "      <td>0.105727</td>\n",
       "      <td>0.099777</td>\n",
       "      <td>-0.181431</td>\n",
       "      <td>...</td>\n",
       "      <td>0.021104</td>\n",
       "      <td>-0.013714</td>\n",
       "      <td>0.027456</td>\n",
       "      <td>0.055194</td>\n",
       "      <td>0.130975</td>\n",
       "      <td>0.104087</td>\n",
       "      <td>0.087073</td>\n",
       "      <td>0.038742</td>\n",
       "      <td>0.065883</td>\n",
       "      <td>metal</td>\n",
       "    </tr>\n",
       "    <tr>\n",
       "      <th>4</th>\n",
       "      <td>-0.849344</td>\n",
       "      <td>0.103658</td>\n",
       "      <td>-0.048105</td>\n",
       "      <td>-0.018132</td>\n",
       "      <td>-0.023246</td>\n",
       "      <td>-0.159359</td>\n",
       "      <td>0.035771</td>\n",
       "      <td>-0.071901</td>\n",
       "      <td>0.111860</td>\n",
       "      <td>0.102868</td>\n",
       "      <td>...</td>\n",
       "      <td>0.041751</td>\n",
       "      <td>-0.009431</td>\n",
       "      <td>0.013134</td>\n",
       "      <td>-0.031474</td>\n",
       "      <td>0.039561</td>\n",
       "      <td>0.012526</td>\n",
       "      <td>-0.045141</td>\n",
       "      <td>-0.015823</td>\n",
       "      <td>0.026533</td>\n",
       "      <td>disco</td>\n",
       "    </tr>\n",
       "  </tbody>\n",
       "</table>\n",
       "<p>5 rows × 31 columns</p>\n",
       "</div>"
      ],
      "text/plain": [
       "          0         1         2         3         4         5         6  \\\n",
       "0  0.000578 -0.630373 -0.054837  0.410234  0.009388  0.027372 -0.032691   \n",
       "1  0.071451 -0.402465 -0.106785  0.332658 -0.060422  0.226590  0.122802   \n",
       "2 -0.047268  0.326820 -0.598692  0.227380  0.045609  0.264122 -0.077908   \n",
       "3 -0.437642  0.235405 -0.003960  0.029110 -0.170677 -0.094825 -0.142894   \n",
       "4 -0.849344  0.103658 -0.048105 -0.018132 -0.023246 -0.159359  0.035771   \n",
       "\n",
       "          7         8         9  ...        21        22        23        24  \\\n",
       "0 -0.147325  0.031392  0.111814  ...  0.076786  0.102456 -0.080831  0.038589   \n",
       "1 -0.066842  0.069254 -0.088949  ...  0.119225  0.093449 -0.017568  0.094723   \n",
       "2  0.063582 -0.168407  0.038895  ... -0.088347  0.044296 -0.056544 -0.029132   \n",
       "3  0.105727  0.099777 -0.181431  ...  0.021104 -0.013714  0.027456  0.055194   \n",
       "4 -0.071901  0.111860  0.102868  ...  0.041751 -0.009431  0.013134 -0.031474   \n",
       "\n",
       "         25        26        27        28        29      label  \n",
       "0 -0.004110 -0.022132  0.119236  0.058609  0.038252  classical  \n",
       "1  0.008677 -0.108838 -0.026317 -0.007237  0.001181       jazz  \n",
       "2  0.009501  0.089819 -0.023577  0.158196 -0.052619    country  \n",
       "3  0.130975  0.104087  0.087073  0.038742  0.065883      metal  \n",
       "4  0.039561  0.012526 -0.045141 -0.015823  0.026533      disco  \n",
       "\n",
       "[5 rows x 31 columns]"
      ]
     },
     "execution_count": 15,
     "metadata": {},
     "output_type": "execute_result"
    }
   ],
   "source": [
    "pca_final.head()"
   ]
  },
  {
   "cell_type": "markdown",
   "id": "7793a70c-2945-4262-a2be-3660cd158cf5",
   "metadata": {},
   "source": [
    "### PCA - Original Model\n",
    "Building a model with no parameter tuning and using the PCA data"
   ]
  },
  {
   "cell_type": "code",
   "execution_count": 16,
   "id": "f4b1db81",
   "metadata": {},
   "outputs": [],
   "source": [
    "model_pca = GradientBoostingClassifier()\n",
    "model_pca.fit(pca_final.iloc[:,:30],pca_final.iloc[:,30])\n",
    "pcaTrainbg = model_pca.predict(pca_data)\n",
    "pcaTestbg = model_pca.predict(pca_data_test)"
   ]
  },
  {
   "cell_type": "code",
   "execution_count": 17,
   "id": "7f28b6d2",
   "metadata": {},
   "outputs": [],
   "source": [
    "pcatestbg_score =  accuracy_score(y_test, pcaTestbg )\n",
    "pcabg_score = accuracy_score(y_dev, pcaTrainbg )"
   ]
  },
  {
   "cell_type": "code",
   "execution_count": 18,
   "id": "3c0cf3a6",
   "metadata": {},
   "outputs": [
    {
     "name": "stdout",
     "output_type": "stream",
     "text": [
      "Classification Score for Gradient Boosting Classifier on Train dataset:\n",
      "\n",
      "Train Score :  0.9988888888888889\n",
      "--------------------------------------------------------\n",
      "Classification Score for Gradient Boosting Classifier on Test dataset:\n",
      "\n",
      "Test Score : 0.73\n"
     ]
    }
   ],
   "source": [
    "print(\"Classification Score for Gradient Boosting Classifier on Train dataset:\\n\")\n",
    "print(\"Train Score : \", pcabg_score)\n",
    "print(\"--------------------------------------------------------\")\n",
    "print(\"Classification Score for Gradient Boosting Classifier on Test dataset:\\n\")\n",
    "print(\"Test Score :\", pcatestbg_score)"
   ]
  },
  {
   "cell_type": "code",
   "execution_count": 19,
   "id": "efa40f55",
   "metadata": {},
   "outputs": [
    {
     "data": {
      "image/png": "[encoded data removed]",
      "text/plain": [
       "<Figure size 1080x432 with 2 Axes>"
      ]
     },
     "metadata": {},
     "output_type": "display_data"
    },
    {
     "name": "stdout",
     "output_type": "stream",
     "text": [
      "Accuracy : 0.73\n",
      "Macro F-1 Score : 0.72\n"
     ]
    }
   ],
   "source": [
    "# Evaluate Model\n",
    "class_labels = list(model_bg.classes_)\n",
    "macro_f1, accuracy = evaluate_model(pcaTestbg , y_test, class_labels,\n",
    "                                    'Confustion Matrix: PCA - Untuned 30 seconds Gradient Boosting Classifier')\n",
    "print('Accuracy : %.2f'%accuracy)\n",
    "print('Macro F-1 Score : %.2f'%macro_f1)"
   ]
  },
  {
   "cell_type": "markdown",
   "id": "abbdcf85",
   "metadata": {},
   "source": [
    "### PCA - Tuned Model\n",
    "Building a model with hyperparameters tuning using 5-fold cross validation with GridSearchCV and the PCA data"
   ]
  },
  {
   "cell_type": "code",
   "execution_count": 20,
   "id": "a4a2e80a",
   "metadata": {},
   "outputs": [
    {
     "data": {
      "text/html": [
       "<div>\n",
       "<style scoped>\n",
       "    .dataframe tbody tr th:only-of-type {\n",
       "        vertical-align: middle;\n",
       "    }\n",
       "\n",
       "    .dataframe tbody tr th {\n",
       "        vertical-align: top;\n",
       "    }\n",
       "\n",
       "    .dataframe thead th {\n",
       "        text-align: right;\n",
       "    }\n",
       "</style>\n",
       "<table border=\"1\" class=\"dataframe\">\n",
       "  <thead>\n",
       "    <tr style=\"text-align: right;\">\n",
       "      <th></th>\n",
       "      <th>0</th>\n",
       "      <th>1</th>\n",
       "      <th>2</th>\n",
       "      <th>3</th>\n",
       "      <th>4</th>\n",
       "      <th>5</th>\n",
       "      <th>6</th>\n",
       "      <th>7</th>\n",
       "      <th>8</th>\n",
       "      <th>9</th>\n",
       "      <th>...</th>\n",
       "      <th>20</th>\n",
       "      <th>21</th>\n",
       "      <th>22</th>\n",
       "      <th>23</th>\n",
       "      <th>24</th>\n",
       "      <th>25</th>\n",
       "      <th>26</th>\n",
       "      <th>27</th>\n",
       "      <th>28</th>\n",
       "      <th>29</th>\n",
       "    </tr>\n",
       "  </thead>\n",
       "  <tbody>\n",
       "    <tr>\n",
       "      <th>0</th>\n",
       "      <td>0.000578</td>\n",
       "      <td>-0.630373</td>\n",
       "      <td>-0.054837</td>\n",
       "      <td>0.410234</td>\n",
       "      <td>0.009388</td>\n",
       "      <td>0.027372</td>\n",
       "      <td>-0.032691</td>\n",
       "      <td>-0.147325</td>\n",
       "      <td>0.031392</td>\n",
       "      <td>0.111814</td>\n",
       "      <td>...</td>\n",
       "      <td>-0.183173</td>\n",
       "      <td>0.076786</td>\n",
       "      <td>0.102456</td>\n",
       "      <td>-0.080831</td>\n",
       "      <td>0.038589</td>\n",
       "      <td>-0.004110</td>\n",
       "      <td>-0.022132</td>\n",
       "      <td>0.119236</td>\n",
       "      <td>0.058609</td>\n",
       "      <td>0.038252</td>\n",
       "    </tr>\n",
       "    <tr>\n",
       "      <th>1</th>\n",
       "      <td>0.071451</td>\n",
       "      <td>-0.402465</td>\n",
       "      <td>-0.106785</td>\n",
       "      <td>0.332658</td>\n",
       "      <td>-0.060422</td>\n",
       "      <td>0.226590</td>\n",
       "      <td>0.122802</td>\n",
       "      <td>-0.066842</td>\n",
       "      <td>0.069254</td>\n",
       "      <td>-0.088949</td>\n",
       "      <td>...</td>\n",
       "      <td>0.119455</td>\n",
       "      <td>0.119225</td>\n",
       "      <td>0.093449</td>\n",
       "      <td>-0.017568</td>\n",
       "      <td>0.094723</td>\n",
       "      <td>0.008677</td>\n",
       "      <td>-0.108838</td>\n",
       "      <td>-0.026317</td>\n",
       "      <td>-0.007237</td>\n",
       "      <td>0.001181</td>\n",
       "    </tr>\n",
       "    <tr>\n",
       "      <th>2</th>\n",
       "      <td>-0.047268</td>\n",
       "      <td>0.326820</td>\n",
       "      <td>-0.598692</td>\n",
       "      <td>0.227380</td>\n",
       "      <td>0.045609</td>\n",
       "      <td>0.264122</td>\n",
       "      <td>-0.077908</td>\n",
       "      <td>0.063582</td>\n",
       "      <td>-0.168407</td>\n",
       "      <td>0.038895</td>\n",
       "      <td>...</td>\n",
       "      <td>-0.010011</td>\n",
       "      <td>-0.088347</td>\n",
       "      <td>0.044296</td>\n",
       "      <td>-0.056544</td>\n",
       "      <td>-0.029132</td>\n",
       "      <td>0.009501</td>\n",
       "      <td>0.089819</td>\n",
       "      <td>-0.023577</td>\n",
       "      <td>0.158196</td>\n",
       "      <td>-0.052619</td>\n",
       "    </tr>\n",
       "    <tr>\n",
       "      <th>3</th>\n",
       "      <td>-0.437642</td>\n",
       "      <td>0.235405</td>\n",
       "      <td>-0.003960</td>\n",
       "      <td>0.029110</td>\n",
       "      <td>-0.170677</td>\n",
       "      <td>-0.094825</td>\n",
       "      <td>-0.142894</td>\n",
       "      <td>0.105727</td>\n",
       "      <td>0.099777</td>\n",
       "      <td>-0.181431</td>\n",
       "      <td>...</td>\n",
       "      <td>-0.128630</td>\n",
       "      <td>0.021104</td>\n",
       "      <td>-0.013714</td>\n",
       "      <td>0.027456</td>\n",
       "      <td>0.055194</td>\n",
       "      <td>0.130975</td>\n",
       "      <td>0.104087</td>\n",
       "      <td>0.087073</td>\n",
       "      <td>0.038742</td>\n",
       "      <td>0.065883</td>\n",
       "    </tr>\n",
       "    <tr>\n",
       "      <th>4</th>\n",
       "      <td>-0.849344</td>\n",
       "      <td>0.103658</td>\n",
       "      <td>-0.048105</td>\n",
       "      <td>-0.018132</td>\n",
       "      <td>-0.023246</td>\n",
       "      <td>-0.159359</td>\n",
       "      <td>0.035771</td>\n",
       "      <td>-0.071901</td>\n",
       "      <td>0.111860</td>\n",
       "      <td>0.102868</td>\n",
       "      <td>...</td>\n",
       "      <td>-0.057451</td>\n",
       "      <td>0.041751</td>\n",
       "      <td>-0.009431</td>\n",
       "      <td>0.013134</td>\n",
       "      <td>-0.031474</td>\n",
       "      <td>0.039561</td>\n",
       "      <td>0.012526</td>\n",
       "      <td>-0.045141</td>\n",
       "      <td>-0.015823</td>\n",
       "      <td>0.026533</td>\n",
       "    </tr>\n",
       "    <tr>\n",
       "      <th>...</th>\n",
       "      <td>...</td>\n",
       "      <td>...</td>\n",
       "      <td>...</td>\n",
       "      <td>...</td>\n",
       "      <td>...</td>\n",
       "      <td>...</td>\n",
       "      <td>...</td>\n",
       "      <td>...</td>\n",
       "      <td>...</td>\n",
       "      <td>...</td>\n",
       "      <td>...</td>\n",
       "      <td>...</td>\n",
       "      <td>...</td>\n",
       "      <td>...</td>\n",
       "      <td>...</td>\n",
       "      <td>...</td>\n",
       "      <td>...</td>\n",
       "      <td>...</td>\n",
       "      <td>...</td>\n",
       "      <td>...</td>\n",
       "      <td>...</td>\n",
       "    </tr>\n",
       "    <tr>\n",
       "      <th>895</th>\n",
       "      <td>-0.654431</td>\n",
       "      <td>0.218151</td>\n",
       "      <td>0.332880</td>\n",
       "      <td>0.090825</td>\n",
       "      <td>0.133881</td>\n",
       "      <td>-0.215552</td>\n",
       "      <td>0.054108</td>\n",
       "      <td>0.024759</td>\n",
       "      <td>0.233050</td>\n",
       "      <td>-0.024782</td>\n",
       "      <td>...</td>\n",
       "      <td>0.273888</td>\n",
       "      <td>-0.020028</td>\n",
       "      <td>0.088578</td>\n",
       "      <td>-0.033409</td>\n",
       "      <td>-0.048590</td>\n",
       "      <td>-0.000728</td>\n",
       "      <td>-0.084411</td>\n",
       "      <td>-0.003842</td>\n",
       "      <td>-0.000387</td>\n",
       "      <td>0.009987</td>\n",
       "    </tr>\n",
       "    <tr>\n",
       "      <th>896</th>\n",
       "      <td>0.515280</td>\n",
       "      <td>-0.634698</td>\n",
       "      <td>0.082394</td>\n",
       "      <td>0.485203</td>\n",
       "      <td>-0.101831</td>\n",
       "      <td>-0.139825</td>\n",
       "      <td>-0.145432</td>\n",
       "      <td>0.177583</td>\n",
       "      <td>0.022326</td>\n",
       "      <td>0.179425</td>\n",
       "      <td>...</td>\n",
       "      <td>0.030788</td>\n",
       "      <td>-0.015611</td>\n",
       "      <td>-0.008368</td>\n",
       "      <td>-0.113680</td>\n",
       "      <td>-0.062107</td>\n",
       "      <td>-0.184181</td>\n",
       "      <td>-0.014542</td>\n",
       "      <td>0.003644</td>\n",
       "      <td>-0.051252</td>\n",
       "      <td>-0.041173</td>\n",
       "    </tr>\n",
       "    <tr>\n",
       "      <th>897</th>\n",
       "      <td>0.976786</td>\n",
       "      <td>0.902560</td>\n",
       "      <td>0.595924</td>\n",
       "      <td>0.289104</td>\n",
       "      <td>0.483065</td>\n",
       "      <td>0.202643</td>\n",
       "      <td>0.115373</td>\n",
       "      <td>0.003243</td>\n",
       "      <td>-0.108633</td>\n",
       "      <td>-0.320613</td>\n",
       "      <td>...</td>\n",
       "      <td>0.044919</td>\n",
       "      <td>0.007521</td>\n",
       "      <td>-0.011077</td>\n",
       "      <td>-0.014906</td>\n",
       "      <td>-0.031336</td>\n",
       "      <td>-0.127322</td>\n",
       "      <td>-0.040199</td>\n",
       "      <td>-0.002570</td>\n",
       "      <td>0.075692</td>\n",
       "      <td>0.050942</td>\n",
       "    </tr>\n",
       "    <tr>\n",
       "      <th>898</th>\n",
       "      <td>0.124804</td>\n",
       "      <td>0.297352</td>\n",
       "      <td>-0.452053</td>\n",
       "      <td>-0.032074</td>\n",
       "      <td>0.037626</td>\n",
       "      <td>0.157140</td>\n",
       "      <td>-0.016190</td>\n",
       "      <td>-0.012217</td>\n",
       "      <td>-0.084190</td>\n",
       "      <td>0.132899</td>\n",
       "      <td>...</td>\n",
       "      <td>0.116877</td>\n",
       "      <td>-0.045383</td>\n",
       "      <td>0.003423</td>\n",
       "      <td>0.033644</td>\n",
       "      <td>0.040391</td>\n",
       "      <td>-0.130437</td>\n",
       "      <td>0.082318</td>\n",
       "      <td>0.042856</td>\n",
       "      <td>0.042469</td>\n",
       "      <td>-0.081271</td>\n",
       "    </tr>\n",
       "    <tr>\n",
       "      <th>899</th>\n",
       "      <td>0.450970</td>\n",
       "      <td>0.022880</td>\n",
       "      <td>-0.401623</td>\n",
       "      <td>0.147816</td>\n",
       "      <td>-0.331352</td>\n",
       "      <td>0.127981</td>\n",
       "      <td>-0.007134</td>\n",
       "      <td>-0.183298</td>\n",
       "      <td>0.021882</td>\n",
       "      <td>0.023211</td>\n",
       "      <td>...</td>\n",
       "      <td>-0.064851</td>\n",
       "      <td>0.025872</td>\n",
       "      <td>0.056664</td>\n",
       "      <td>0.061279</td>\n",
       "      <td>0.063050</td>\n",
       "      <td>-0.039764</td>\n",
       "      <td>-0.049077</td>\n",
       "      <td>-0.062424</td>\n",
       "      <td>0.011134</td>\n",
       "      <td>0.039214</td>\n",
       "    </tr>\n",
       "  </tbody>\n",
       "</table>\n",
       "<p>900 rows × 30 columns</p>\n",
       "</div>"
      ],
      "text/plain": [
       "           0         1         2         3         4         5         6   \\\n",
       "0    0.000578 -0.630373 -0.054837  0.410234  0.009388  0.027372 -0.032691   \n",
       "1    0.071451 -0.402465 -0.106785  0.332658 -0.060422  0.226590  0.122802   \n",
       "2   -0.047268  0.326820 -0.598692  0.227380  0.045609  0.264122 -0.077908   \n",
       "3   -0.437642  0.235405 -0.003960  0.029110 -0.170677 -0.094825 -0.142894   \n",
       "4   -0.849344  0.103658 -0.048105 -0.018132 -0.023246 -0.159359  0.035771   \n",
       "..        ...       ...       ...       ...       ...       ...       ...   \n",
       "895 -0.654431  0.218151  0.332880  0.090825  0.133881 -0.215552  0.054108   \n",
       "896  0.515280 -0.634698  0.082394  0.485203 -0.101831 -0.139825 -0.145432   \n",
       "897  0.976786  0.902560  0.595924  0.289104  0.483065  0.202643  0.115373   \n",
       "898  0.124804  0.297352 -0.452053 -0.032074  0.037626  0.157140 -0.016190   \n",
       "899  0.450970  0.022880 -0.401623  0.147816 -0.331352  0.127981 -0.007134   \n",
       "\n",
       "           7         8         9   ...        20        21        22  \\\n",
       "0   -0.147325  0.031392  0.111814  ... -0.183173  0.076786  0.102456   \n",
       "1   -0.066842  0.069254 -0.088949  ...  0.119455  0.119225  0.093449   \n",
       "2    0.063582 -0.168407  0.038895  ... -0.010011 -0.088347  0.044296   \n",
       "3    0.105727  0.099777 -0.181431  ... -0.128630  0.021104 -0.013714   \n",
       "4   -0.071901  0.111860  0.102868  ... -0.057451  0.041751 -0.009431   \n",
       "..        ...       ...       ...  ...       ...       ...       ...   \n",
       "895  0.024759  0.233050 -0.024782  ...  0.273888 -0.020028  0.088578   \n",
       "896  0.177583  0.022326  0.179425  ...  0.030788 -0.015611 -0.008368   \n",
       "897  0.003243 -0.108633 -0.320613  ...  0.044919  0.007521 -0.011077   \n",
       "898 -0.012217 -0.084190  0.132899  ...  0.116877 -0.045383  0.003423   \n",
       "899 -0.183298  0.021882  0.023211  ... -0.064851  0.025872  0.056664   \n",
       "\n",
       "           23        24        25        26        27        28        29  \n",
       "0   -0.080831  0.038589 -0.004110 -0.022132  0.119236  0.058609  0.038252  \n",
       "1   -0.017568  0.094723  0.008677 -0.108838 -0.026317 -0.007237  0.001181  \n",
       "2   -0.056544 -0.029132  0.009501  0.089819 -0.023577  0.158196 -0.052619  \n",
       "3    0.027456  0.055194  0.130975  0.104087  0.087073  0.038742  0.065883  \n",
       "4    0.013134 -0.031474  0.039561  0.012526 -0.045141 -0.015823  0.026533  \n",
       "..        ...       ...       ...       ...       ...       ...       ...  \n",
       "895 -0.033409 -0.048590 -0.000728 -0.084411 -0.003842 -0.000387  0.009987  \n",
       "896 -0.113680 -0.062107 -0.184181 -0.014542  0.003644 -0.051252 -0.041173  \n",
       "897 -0.014906 -0.031336 -0.127322 -0.040199 -0.002570  0.075692  0.050942  \n",
       "898  0.033644  0.040391 -0.130437  0.082318  0.042856  0.042469 -0.081271  \n",
       "899  0.061279  0.063050 -0.039764 -0.049077 -0.062424  0.011134  0.039214  \n",
       "\n",
       "[900 rows x 30 columns]"
      ]
     },
     "execution_count": 20,
     "metadata": {},
     "output_type": "execute_result"
    }
   ],
   "source": [
    "pca_final.iloc[:,:30]"
   ]
  },
  {
   "cell_type": "code",
   "execution_count": 21,
   "id": "2d7297c1",
   "metadata": {},
   "outputs": [],
   "source": [
    "model_pca_tuned = tune_bg \n",
    "model_pca_tuned.fit(pca_final.iloc[:,:30],pca_final.iloc[:,30])\n",
    "pcaTrainbg_tuned = model_pca_tuned.predict(pca_data)\n",
    "pcaTestbg_tuned = model_pca_tuned.predict(pca_data_test)"
   ]
  },
  {
   "cell_type": "code",
   "execution_count": 22,
   "id": "10717858",
   "metadata": {},
   "outputs": [],
   "source": [
    "pcatestbg_score =  accuracy_score(y_test, pcaTestbg_tuned )\n",
    "pcabg_score = accuracy_score(y_dev, pcaTrainbg_tuned )"
   ]
  },
  {
   "cell_type": "code",
   "execution_count": 23,
   "id": "648af0d4",
   "metadata": {},
   "outputs": [
    {
     "name": "stdout",
     "output_type": "stream",
     "text": [
      "Classification Score for GradientBoostingClassifier on Train dataset:\n",
      "\n",
      "Train Score :  0.9988888888888889\n",
      "--------------------------------------------------------\n",
      "Classification Score for GradientBoostingClassifier on Test dataset:\n",
      "\n",
      "Test Score : 0.75\n"
     ]
    }
   ],
   "source": [
    "print(\"Classification Score for GradientBoostingClassifier on Train dataset:\\n\")\n",
    "print(\"Train Score : \", pcabg_score)\n",
    "print(\"--------------------------------------------------------\")\n",
    "print(\"Classification Score for GradientBoostingClassifier on Test dataset:\\n\")\n",
    "print(\"Test Score :\", pcatestbg_score)"
   ]
  },
  {
   "cell_type": "code",
   "execution_count": 24,
   "id": "35ad5f21",
   "metadata": {},
   "outputs": [
    {
     "data": {
      "image/png": "[encoded data removed]",
      "text/plain": [
       "<Figure size 1080x432 with 2 Axes>"
      ]
     },
     "metadata": {},
     "output_type": "display_data"
    },
    {
     "name": "stdout",
     "output_type": "stream",
     "text": [
      "Accuracy : 0.75\n",
      "Macro F-1 Score : 0.75\n"
     ]
    }
   ],
   "source": [
    "# Evaluate Model\n",
    "class_labels = list(model_bg.classes_)\n",
    "macro_f1, accuracy = evaluate_model(pcaTestbg_tuned , y_test, class_labels,\n",
    "                                    'Confustion Matrix: PCA - Tuned 30 seconds Gradient Boosting Classifier')\n",
    "print('Accuracy : %.2f'%accuracy)\n",
    "print('Macro F-1 Score : %.2f'%macro_f1)"
   ]
  }
 ],
 "metadata": {
  "kernelspec": {
   "display_name": "Python 3",
   "language": "python",
   "name": "python3"
  },
  "language_info": {
   "codemirror_mode": {
    "name": "ipython",
    "version": 3
   },
   "file_extension": ".py",
   "mimetype": "text/x-python",
   "name": "python",
   "nbconvert_exporter": "python",
   "pygments_lexer": "ipython3",
   "version": "3.8.13"
  }
 },
 "nbformat": 4,
 "nbformat_minor": 5
}
