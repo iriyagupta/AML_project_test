{
 "cells": [
  {
   "cell_type": "code",
   "execution_count": 1,
   "id": "ffa7b670",
   "metadata": {},
   "outputs": [],
   "source": [
    "from utils import *\n",
    "from sklearn.decomposition import PCA\n",
    "from xgboost import XGBClassifier\n",
    "from sklearn.model_selection import GridSearchCV\n",
    "import random\n",
    "import warnings\n",
    "warnings.filterwarnings('ignore')"
   ]
  },
  {
   "cell_type": "code",
   "execution_count": 2,
   "id": "8753c6dd-b317-4710-98ea-993a105c1641",
   "metadata": {},
   "outputs": [],
   "source": [
    "data = pd.read_csv('data/features_30_sec.csv')\n",
    "\n",
    "label_index = dict()\n",
    "index_label = dict()\n",
    "for i, x in enumerate(data.label.unique()):\n",
    "    label_index[x] = i \n",
    "    index_label[i] = x\n",
    "    \n",
    "# update labels in df to index\n",
    "data.label = [label_index[l] for l in data.label]\n"
   ]
  },
  {
   "cell_type": "code",
   "execution_count": 3,
   "id": "192b05f5-31d4-4350-a85d-bf391f3237a5",
   "metadata": {},
   "outputs": [],
   "source": [
    "# Identify Features and Target Label\n",
    "y = data['label']\n",
    "X = data.drop(columns = ['label','filename','length'])\n"
   ]
  },
  {
   "cell_type": "code",
   "execution_count": 4,
   "id": "e3d204f2",
   "metadata": {},
   "outputs": [
    {
     "name": "stdout",
     "output_type": "stream",
     "text": [
      "X_dev shape: (800, 57)\n",
      "X_test shape: (200, 57)\n"
     ]
    }
   ],
   "source": [
    "# Scaling and Data Spiltting  \n",
    "X = standardize(X)\n",
    "X_dev, y_dev, X_test, y_test = split(X, y)\n"
   ]
  },
  {
   "cell_type": "markdown",
   "id": "4d9caabe-d2df-40e4-9914-bc6c420e95cd",
   "metadata": {},
   "source": [
    "### Original Model\n",
    "Building a model with no parameter tuning and using the raw csv file"
   ]
  },
  {
   "cell_type": "code",
   "execution_count": 5,
   "id": "4603e557",
   "metadata": {},
   "outputs": [],
   "source": [
    "model_xgb = XGBClassifier()\n",
    "model_xgb.fit(X_dev, y_dev)\n",
    "predsDevxgb = model_xgb.predict(X_dev)\n",
    "predsTestxgb = model_xgb.predict(X_test)"
   ]
  },
  {
   "cell_type": "code",
   "execution_count": 6,
   "id": "798fd0c7",
   "metadata": {},
   "outputs": [],
   "source": [
    "testxgb_score =  accuracy_score(y_test, predsTestxgb)\n",
    "devxgb_score = accuracy_score(y_dev, predsDevxgb)"
   ]
  },
  {
   "cell_type": "code",
   "execution_count": 7,
   "id": "2cecfff5",
   "metadata": {},
   "outputs": [
    {
     "name": "stdout",
     "output_type": "stream",
     "text": [
      "Classification Score for XGB Classifier on Dev dataset:\n",
      "\n",
      "Dev Score :  0.99875\n",
      "              precision    recall  f1-score   support\n",
      "\n",
      "           0       1.00      1.00      1.00        88\n",
      "           1       1.00      1.00      1.00        84\n",
      "           2       1.00      1.00      1.00        78\n",
      "           3       1.00      1.00      1.00        78\n",
      "           4       1.00      1.00      1.00        81\n",
      "           5       1.00      1.00      1.00        71\n",
      "           6       0.99      1.00      0.99        81\n",
      "           7       1.00      1.00      1.00        84\n",
      "           8       1.00      1.00      1.00        78\n",
      "           9       1.00      0.99      0.99        77\n",
      "\n",
      "    accuracy                           1.00       800\n",
      "   macro avg       1.00      1.00      1.00       800\n",
      "weighted avg       1.00      1.00      1.00       800\n",
      "\n",
      "--------------------------------------------------------\n",
      "Classification Score for XGB Classifier on Test dataset:\n",
      "\n",
      "Test Score : 0.765\n",
      "              precision    recall  f1-score   support\n",
      "\n",
      "           0       0.79      0.92      0.85        12\n",
      "           1       0.83      0.94      0.88        16\n",
      "           2       0.68      0.68      0.68        22\n",
      "           3       0.70      0.64      0.67        22\n",
      "           4       0.63      0.63      0.63        19\n",
      "           5       0.89      0.86      0.88        29\n",
      "           6       0.95      0.95      0.95        19\n",
      "           7       0.76      0.81      0.79        16\n",
      "           8       0.69      0.82      0.75        22\n",
      "           9       0.71      0.52      0.60        23\n",
      "\n",
      "    accuracy                           0.77       200\n",
      "   macro avg       0.76      0.78      0.77       200\n",
      "weighted avg       0.76      0.77      0.76       200\n",
      "\n"
     ]
    }
   ],
   "source": [
    "print(\"Classification Score for XGB Classifier on Dev dataset:\\n\")\n",
    "print(\"Dev Score : \", devxgb_score)\n",
    "print(classification_report(y_dev, predsDevxgb))\n",
    "print(\"--------------------------------------------------------\")\n",
    "print(\"Classification Score for XGB Classifier on Test dataset:\\n\")\n",
    "print(\"Test Score :\", testxgb_score)\n",
    "print(classification_report(y_test, predsTestxgb))"
   ]
  },
  {
   "cell_type": "code",
   "execution_count": 8,
   "id": "e1883907",
   "metadata": {},
   "outputs": [
    {
     "data": {
      "image/png": "[encoded data removed]",
      "text/plain": [
       "<Figure size 1080x432 with 2 Axes>"
      ]
     },
     "metadata": {},
     "output_type": "display_data"
    },
    {
     "name": "stdout",
     "output_type": "stream",
     "text": [
      "Accuracy : 0.77\n",
      "Macro F-1 Score : 0.77\n"
     ]
    }
   ],
   "source": [
    "# Evaluate Model on Test set\n",
    "class_labels = list(model_xgb.classes_)\n",
    "macro_f1, accuracy = evaluate_model(predsTestxgb, y_test, class_labels,\n",
    "                                    'Confustion matrix: Untuned 3 seconds XGB Classifier')\n",
    "print('Accuracy : %.2f'%accuracy)\n",
    "print('Macro F-1 Score : %.2f'%macro_f1)"
   ]
  },
  {
   "cell_type": "markdown",
   "id": "94955db3",
   "metadata": {},
   "source": [
    "### Tuned Model\n",
    "Building a model with hyperparameters tuning using 5-fold cross validation with GridSearchCV and the raw csv file"
   ]
  },
  {
   "cell_type": "code",
   "execution_count": 9,
   "id": "3fef49f4",
   "metadata": {},
   "outputs": [
    {
     "name": "stdout",
     "output_type": "stream",
     "text": [
      "{'n_estimators': [100], 'learning_rate': [0.1], 'max_depth': [7, 4], 'eval_metric': ['logloss'], 'use_label_encoder': [False]}\n"
     ]
    }
   ],
   "source": [
    "parameters = {\"n_estimators\": [100],\n",
    "            \"learning_rate\": [0.1],\n",
    "            \"max_depth\": random.sample(range(3, 8), 2),\n",
    "            'eval_metric':['logloss'],\n",
    "            \"use_label_encoder\": [False]}\n",
    "print(parameters)"
   ]
  },
  {
   "cell_type": "code",
   "execution_count": 10,
   "id": "88dfebb1",
   "metadata": {},
   "outputs": [
    {
     "data": {
      "text/plain": [
       "GridSearchCV(cv=5,\n",
       "             estimator=XGBClassifier(base_score=0.5, booster='gbtree',\n",
       "                                     callbacks=None, colsample_bylevel=1,\n",
       "                                     colsample_bynode=1, colsample_bytree=1,\n",
       "                                     early_stopping_rounds=None,\n",
       "                                     enable_categorical=False, eval_metric=None,\n",
       "                                     gamma=0, gpu_id=-1,\n",
       "                                     grow_policy='depthwise',\n",
       "                                     importance_type=None,\n",
       "                                     interaction_constraints='',\n",
       "                                     learning_rate=0.300000012, max_bin=256,\n",
       "                                     max_ca..., max_delta_step=0,\n",
       "                                     max_depth=6, max_leaves=0,\n",
       "                                     min_child_weight=1, missing=nan,\n",
       "                                     monotone_constraints='()',\n",
       "                                     n_estimators=100, n_jobs=0,\n",
       "                                     num_parallel_tree=1,\n",
       "                                     objective='multi:softprob',\n",
       "                                     predictor='auto', random_state=0,\n",
       "                                     reg_alpha=0, ...),\n",
       "             param_grid={'eval_metric': ['logloss'], 'learning_rate': [0.1],\n",
       "                         'max_depth': [7, 4], 'n_estimators': [100],\n",
       "                         'use_label_encoder': [False]})"
      ]
     },
     "execution_count": 10,
     "metadata": {},
     "output_type": "execute_result"
    }
   ],
   "source": [
    "tune_xgb = GridSearchCV(estimator = model_xgb, param_grid = parameters, cv = 5)\n",
    "tune_xgb.fit(X_dev, y_dev)"
   ]
  },
  {
   "cell_type": "code",
   "execution_count": 11,
   "id": "787f731b",
   "metadata": {},
   "outputs": [
    {
     "name": "stdout",
     "output_type": "stream",
     "text": [
      "Best Score : 0.69125\n",
      "Best Parameters : {'eval_metric': 'logloss', 'learning_rate': 0.1, 'max_depth': 4, 'n_estimators': 100, 'use_label_encoder': False}\n"
     ]
    }
   ],
   "source": [
    "print(\"Best Score :\", tune_xgb.best_score_)\n",
    "print(\"Best Parameters :\",tune_xgb.best_params_)"
   ]
  },
  {
   "cell_type": "code",
   "execution_count": 12,
   "id": "a51d1aca",
   "metadata": {},
   "outputs": [
    {
     "name": "stdout",
     "output_type": "stream",
     "text": [
      "Score on Dev data for xgb using GridSearchCV: 0.99875\n",
      "Score on Test data for xgb using GridSearchCV: 0.73\n"
     ]
    }
   ],
   "source": [
    "predsDevxgb_tuned = tune_xgb.predict(X_dev)\n",
    "predsTestxgb_tuned = tune_xgb.predict(X_test)\n",
    "\n",
    "print(\"Score on Dev data for xgb using GridSearchCV:\", accuracy_score(y_dev, predsDevxgb_tuned))\n",
    "print(\"Score on Test data for xgb using GridSearchCV:\",accuracy_score(y_test, predsTestxgb_tuned))"
   ]
  },
  {
   "cell_type": "code",
   "execution_count": 13,
   "id": "8439f97a-f8c5-43bb-a815-c308a0cdd095",
   "metadata": {},
   "outputs": [
    {
     "data": {
      "image/png": "[encoded data removed]",
      "text/plain": [
       "<Figure size 1080x432 with 2 Axes>"
      ]
     },
     "metadata": {},
     "output_type": "display_data"
    },
    {
     "name": "stdout",
     "output_type": "stream",
     "text": [
      "Accuracy : 0.73\n",
      "Macro F-1 Score : 0.73\n"
     ]
    }
   ],
   "source": [
    "# Evaluate Model on Test set\n",
    "class_labels = list(model_xgb.classes_)\n",
    "macro_f1, accuracy = evaluate_model(predsTestxgb_tuned, y_test, class_labels,\n",
    "                                    'Confustion matrix: Tuned 3 seconds XGB Classifier')\n",
    "print('Accuracy : %.2f'%accuracy)\n",
    "print('Macro F-1 Score : %.2f'%macro_f1)"
   ]
  },
  {
   "cell_type": "markdown",
   "id": "833b2197",
   "metadata": {},
   "source": [
    "### Dimensionality reduction of data using PCA"
   ]
  },
  {
   "cell_type": "code",
   "execution_count": 14,
   "id": "6553145b",
   "metadata": {},
   "outputs": [
    {
     "name": "stdout",
     "output_type": "stream",
     "text": [
      "Explained Variance of each component: [0.27766419 0.24831461 0.10817539 0.0735775  0.05921353 0.04313114\n",
      " 0.03041835 0.02485929 0.02357102 0.0185913  0.01458576 0.01445453\n",
      " 0.01236632 0.01085372 0.01042908 0.00964279 0.0091621  0.00839638\n",
      " 0.00793391 0.007288   0.00723334 0.00675773 0.00606132 0.00560837\n",
      " 0.00551568 0.00512515 0.005048   0.00465207 0.00453766 0.00424365]\n",
      "Sum of Explained Variance: 0.9554594210812375\n"
     ]
    }
   ],
   "source": [
    "# Principal Component Analysis \n",
    "### cite : https://machinelearningmastery.com/calculate-principal-component-analysis-scratch-python/\n",
    "\n",
    "# create the PCA instance\n",
    "pca = PCA(n_components=30)\n",
    "# fit on data\n",
    "pca_data = pca.fit_transform(X_dev)\n",
    "pca_data_test = pca.transform(X_test)\n",
    "# pca_data_dev = pca.transform(X_dev)\n",
    "PCA_df= pd.DataFrame(data=pca_data)\n",
    "y_dev.index = PCA_df.index\n",
    "pca_final=pd.concat([PCA_df,y_dev], axis = 1)\n",
    "# access values\n",
    "print(\"Explained Variance of each component:\",pca.explained_variance_)\n",
    "print(\"Sum of Explained Variance:\", sum(pca.explained_variance_ratio_))"
   ]
  },
  {
   "cell_type": "code",
   "execution_count": 15,
   "id": "24f6e702",
   "metadata": {},
   "outputs": [
    {
     "data": {
      "text/html": [
       "<div>\n",
       "<style scoped>\n",
       "    .dataframe tbody tr th:only-of-type {\n",
       "        vertical-align: middle;\n",
       "    }\n",
       "\n",
       "    .dataframe tbody tr th {\n",
       "        vertical-align: top;\n",
       "    }\n",
       "\n",
       "    .dataframe thead th {\n",
       "        text-align: right;\n",
       "    }\n",
       "</style>\n",
       "<table border=\"1\" class=\"dataframe\">\n",
       "  <thead>\n",
       "    <tr style=\"text-align: right;\">\n",
       "      <th></th>\n",
       "      <th>0</th>\n",
       "      <th>1</th>\n",
       "      <th>2</th>\n",
       "      <th>3</th>\n",
       "      <th>4</th>\n",
       "      <th>5</th>\n",
       "      <th>6</th>\n",
       "      <th>7</th>\n",
       "      <th>8</th>\n",
       "      <th>9</th>\n",
       "      <th>...</th>\n",
       "      <th>21</th>\n",
       "      <th>22</th>\n",
       "      <th>23</th>\n",
       "      <th>24</th>\n",
       "      <th>25</th>\n",
       "      <th>26</th>\n",
       "      <th>27</th>\n",
       "      <th>28</th>\n",
       "      <th>29</th>\n",
       "      <th>label</th>\n",
       "    </tr>\n",
       "  </thead>\n",
       "  <tbody>\n",
       "    <tr>\n",
       "      <th>0</th>\n",
       "      <td>-0.777410</td>\n",
       "      <td>0.193198</td>\n",
       "      <td>-0.058681</td>\n",
       "      <td>-0.180358</td>\n",
       "      <td>-0.005488</td>\n",
       "      <td>-0.099418</td>\n",
       "      <td>-0.209188</td>\n",
       "      <td>-0.328526</td>\n",
       "      <td>0.078992</td>\n",
       "      <td>-0.157340</td>\n",
       "      <td>...</td>\n",
       "      <td>0.039110</td>\n",
       "      <td>-0.014204</td>\n",
       "      <td>0.078314</td>\n",
       "      <td>0.042622</td>\n",
       "      <td>-0.020060</td>\n",
       "      <td>0.030908</td>\n",
       "      <td>0.072137</td>\n",
       "      <td>0.067118</td>\n",
       "      <td>-0.000046</td>\n",
       "      <td>0</td>\n",
       "    </tr>\n",
       "    <tr>\n",
       "      <th>1</th>\n",
       "      <td>-0.599829</td>\n",
       "      <td>0.260505</td>\n",
       "      <td>0.001988</td>\n",
       "      <td>-0.047122</td>\n",
       "      <td>0.131503</td>\n",
       "      <td>-0.098223</td>\n",
       "      <td>-0.077308</td>\n",
       "      <td>0.046258</td>\n",
       "      <td>-0.040620</td>\n",
       "      <td>0.094613</td>\n",
       "      <td>...</td>\n",
       "      <td>-0.046610</td>\n",
       "      <td>-0.070303</td>\n",
       "      <td>-0.015955</td>\n",
       "      <td>0.048888</td>\n",
       "      <td>0.037215</td>\n",
       "      <td>0.008372</td>\n",
       "      <td>0.047849</td>\n",
       "      <td>0.013827</td>\n",
       "      <td>-0.019551</td>\n",
       "      <td>9</td>\n",
       "    </tr>\n",
       "    <tr>\n",
       "      <th>2</th>\n",
       "      <td>-0.246233</td>\n",
       "      <td>-0.118150</td>\n",
       "      <td>0.065454</td>\n",
       "      <td>-0.036683</td>\n",
       "      <td>0.486624</td>\n",
       "      <td>-0.150014</td>\n",
       "      <td>-0.066612</td>\n",
       "      <td>-0.197733</td>\n",
       "      <td>0.041882</td>\n",
       "      <td>0.013275</td>\n",
       "      <td>...</td>\n",
       "      <td>0.035752</td>\n",
       "      <td>0.009758</td>\n",
       "      <td>-0.059676</td>\n",
       "      <td>-0.157652</td>\n",
       "      <td>-0.008456</td>\n",
       "      <td>0.114495</td>\n",
       "      <td>0.030230</td>\n",
       "      <td>0.002393</td>\n",
       "      <td>-0.030806</td>\n",
       "      <td>8</td>\n",
       "    </tr>\n",
       "    <tr>\n",
       "      <th>3</th>\n",
       "      <td>-0.748761</td>\n",
       "      <td>0.347893</td>\n",
       "      <td>-0.050810</td>\n",
       "      <td>-0.060772</td>\n",
       "      <td>0.094122</td>\n",
       "      <td>0.043072</td>\n",
       "      <td>-0.091608</td>\n",
       "      <td>0.131252</td>\n",
       "      <td>-0.044362</td>\n",
       "      <td>0.123941</td>\n",
       "      <td>...</td>\n",
       "      <td>0.003504</td>\n",
       "      <td>-0.002218</td>\n",
       "      <td>-0.015355</td>\n",
       "      <td>0.033183</td>\n",
       "      <td>-0.037312</td>\n",
       "      <td>0.013099</td>\n",
       "      <td>0.002479</td>\n",
       "      <td>0.022445</td>\n",
       "      <td>-0.026125</td>\n",
       "      <td>9</td>\n",
       "    </tr>\n",
       "    <tr>\n",
       "      <th>4</th>\n",
       "      <td>0.390897</td>\n",
       "      <td>0.250941</td>\n",
       "      <td>-0.198188</td>\n",
       "      <td>0.293123</td>\n",
       "      <td>0.621651</td>\n",
       "      <td>0.005957</td>\n",
       "      <td>-0.025043</td>\n",
       "      <td>-0.233487</td>\n",
       "      <td>0.295031</td>\n",
       "      <td>0.131574</td>\n",
       "      <td>...</td>\n",
       "      <td>-0.082870</td>\n",
       "      <td>0.057519</td>\n",
       "      <td>-0.017711</td>\n",
       "      <td>-0.016841</td>\n",
       "      <td>0.001248</td>\n",
       "      <td>-0.046853</td>\n",
       "      <td>-0.035208</td>\n",
       "      <td>-0.021621</td>\n",
       "      <td>0.017791</td>\n",
       "      <td>8</td>\n",
       "    </tr>\n",
       "  </tbody>\n",
       "</table>\n",
       "<p>5 rows × 31 columns</p>\n",
       "</div>"
      ],
      "text/plain": [
       "          0         1         2         3         4         5         6  \\\n",
       "0 -0.777410  0.193198 -0.058681 -0.180358 -0.005488 -0.099418 -0.209188   \n",
       "1 -0.599829  0.260505  0.001988 -0.047122  0.131503 -0.098223 -0.077308   \n",
       "2 -0.246233 -0.118150  0.065454 -0.036683  0.486624 -0.150014 -0.066612   \n",
       "3 -0.748761  0.347893 -0.050810 -0.060772  0.094122  0.043072 -0.091608   \n",
       "4  0.390897  0.250941 -0.198188  0.293123  0.621651  0.005957 -0.025043   \n",
       "\n",
       "          7         8         9  ...        21        22        23        24  \\\n",
       "0 -0.328526  0.078992 -0.157340  ...  0.039110 -0.014204  0.078314  0.042622   \n",
       "1  0.046258 -0.040620  0.094613  ... -0.046610 -0.070303 -0.015955  0.048888   \n",
       "2 -0.197733  0.041882  0.013275  ...  0.035752  0.009758 -0.059676 -0.157652   \n",
       "3  0.131252 -0.044362  0.123941  ...  0.003504 -0.002218 -0.015355  0.033183   \n",
       "4 -0.233487  0.295031  0.131574  ... -0.082870  0.057519 -0.017711 -0.016841   \n",
       "\n",
       "         25        26        27        28        29  label  \n",
       "0 -0.020060  0.030908  0.072137  0.067118 -0.000046      0  \n",
       "1  0.037215  0.008372  0.047849  0.013827 -0.019551      9  \n",
       "2 -0.008456  0.114495  0.030230  0.002393 -0.030806      8  \n",
       "3 -0.037312  0.013099  0.002479  0.022445 -0.026125      9  \n",
       "4  0.001248 -0.046853 -0.035208 -0.021621  0.017791      8  \n",
       "\n",
       "[5 rows x 31 columns]"
      ]
     },
     "execution_count": 15,
     "metadata": {},
     "output_type": "execute_result"
    }
   ],
   "source": [
    "pca_final.head()"
   ]
  },
  {
   "cell_type": "markdown",
   "id": "7793a70c-2945-4262-a2be-3660cd158cf5",
   "metadata": {},
   "source": [
    "### PCA - Original Model\n",
    "Building a model with no parameter tuning and using the PCA data"
   ]
  },
  {
   "cell_type": "code",
   "execution_count": 16,
   "id": "f4b1db81",
   "metadata": {},
   "outputs": [],
   "source": [
    "model_pca = XGBClassifier()\n",
    "model_pca.fit(pca_final.iloc[:,:30],pca_final.iloc[:,30])\n",
    "pcaTrainxgb = model_pca.predict(pca_data)\n",
    "pcaTestxgb = model_pca.predict(pca_data_test)"
   ]
  },
  {
   "cell_type": "code",
   "execution_count": 17,
   "id": "7f28b6d2",
   "metadata": {},
   "outputs": [],
   "source": [
    "pcatestxgb_score =  accuracy_score(y_test, pcaTestxgb)\n",
    "pcaxgb_score = accuracy_score(y_dev, pcaTrainxgb)"
   ]
  },
  {
   "cell_type": "code",
   "execution_count": 18,
   "id": "3c0cf3a6",
   "metadata": {},
   "outputs": [
    {
     "name": "stdout",
     "output_type": "stream",
     "text": [
      "Classification Score for XGB Classifier on Train dataset:\n",
      "\n",
      "Train Score :  0.99875\n",
      "--------------------------------------------------------\n",
      "Classification Score for XGB Classifier on Test dataset:\n",
      "\n",
      "Test Score : 0.685\n"
     ]
    }
   ],
   "source": [
    "print(\"Classification Score for XGB Classifier on Train dataset:\\n\")\n",
    "print(\"Train Score : \", pcaxgb_score)\n",
    "print(\"--------------------------------------------------------\")\n",
    "print(\"Classification Score for XGB Classifier on Test dataset:\\n\")\n",
    "print(\"Test Score :\", pcatestxgb_score)"
   ]
  },
  {
   "cell_type": "code",
   "execution_count": 19,
   "id": "efa40f55",
   "metadata": {},
   "outputs": [
    {
     "data": {
      "image/png": "[encoded data removed]",
      "text/plain": [
       "<Figure size 1080x432 with 2 Axes>"
      ]
     },
     "metadata": {},
     "output_type": "display_data"
    },
    {
     "name": "stdout",
     "output_type": "stream",
     "text": [
      "Accuracy : 0.69\n",
      "Macro F-1 Score : 0.68\n"
     ]
    }
   ],
   "source": [
    "# Evaluate Model\n",
    "class_labels = list(model_xgb.classes_)\n",
    "macro_f1, accuracy = evaluate_model(pcaTestxgb, y_test, class_labels,\n",
    "                                    'Confustion Matrix: PCA - Untuned 3 seconds XGB Classifier')\n",
    "print('Accuracy : %.2f'%accuracy)\n",
    "print('Macro F-1 Score : %.2f'%macro_f1)"
   ]
  },
  {
   "cell_type": "markdown",
   "id": "abbdcf85",
   "metadata": {},
   "source": [
    "### PCA - Tuned Model\n",
    "Building a model with hyperparameters tuning using 5-fold cross validation with GridSearchCV and the PCA data"
   ]
  },
  {
   "cell_type": "code",
   "execution_count": 20,
   "id": "a4a2e80a",
   "metadata": {},
   "outputs": [
    {
     "data": {
      "text/html": [
       "<div>\n",
       "<style scoped>\n",
       "    .dataframe tbody tr th:only-of-type {\n",
       "        vertical-align: middle;\n",
       "    }\n",
       "\n",
       "    .dataframe tbody tr th {\n",
       "        vertical-align: top;\n",
       "    }\n",
       "\n",
       "    .dataframe thead th {\n",
       "        text-align: right;\n",
       "    }\n",
       "</style>\n",
       "<table border=\"1\" class=\"dataframe\">\n",
       "  <thead>\n",
       "    <tr style=\"text-align: right;\">\n",
       "      <th></th>\n",
       "      <th>0</th>\n",
       "      <th>1</th>\n",
       "      <th>2</th>\n",
       "      <th>3</th>\n",
       "      <th>4</th>\n",
       "      <th>5</th>\n",
       "      <th>6</th>\n",
       "      <th>7</th>\n",
       "      <th>8</th>\n",
       "      <th>9</th>\n",
       "      <th>...</th>\n",
       "      <th>20</th>\n",
       "      <th>21</th>\n",
       "      <th>22</th>\n",
       "      <th>23</th>\n",
       "      <th>24</th>\n",
       "      <th>25</th>\n",
       "      <th>26</th>\n",
       "      <th>27</th>\n",
       "      <th>28</th>\n",
       "      <th>29</th>\n",
       "    </tr>\n",
       "  </thead>\n",
       "  <tbody>\n",
       "    <tr>\n",
       "      <th>0</th>\n",
       "      <td>-0.777410</td>\n",
       "      <td>0.193198</td>\n",
       "      <td>-0.058681</td>\n",
       "      <td>-0.180358</td>\n",
       "      <td>-0.005488</td>\n",
       "      <td>-0.099418</td>\n",
       "      <td>-0.209188</td>\n",
       "      <td>-0.328526</td>\n",
       "      <td>0.078992</td>\n",
       "      <td>-0.157340</td>\n",
       "      <td>...</td>\n",
       "      <td>0.041359</td>\n",
       "      <td>0.039110</td>\n",
       "      <td>-0.014204</td>\n",
       "      <td>0.078314</td>\n",
       "      <td>0.042622</td>\n",
       "      <td>-0.020060</td>\n",
       "      <td>0.030908</td>\n",
       "      <td>0.072137</td>\n",
       "      <td>0.067118</td>\n",
       "      <td>-0.000046</td>\n",
       "    </tr>\n",
       "    <tr>\n",
       "      <th>1</th>\n",
       "      <td>-0.599829</td>\n",
       "      <td>0.260505</td>\n",
       "      <td>0.001988</td>\n",
       "      <td>-0.047122</td>\n",
       "      <td>0.131503</td>\n",
       "      <td>-0.098223</td>\n",
       "      <td>-0.077308</td>\n",
       "      <td>0.046258</td>\n",
       "      <td>-0.040620</td>\n",
       "      <td>0.094613</td>\n",
       "      <td>...</td>\n",
       "      <td>-0.041699</td>\n",
       "      <td>-0.046610</td>\n",
       "      <td>-0.070303</td>\n",
       "      <td>-0.015955</td>\n",
       "      <td>0.048888</td>\n",
       "      <td>0.037215</td>\n",
       "      <td>0.008372</td>\n",
       "      <td>0.047849</td>\n",
       "      <td>0.013827</td>\n",
       "      <td>-0.019551</td>\n",
       "    </tr>\n",
       "    <tr>\n",
       "      <th>2</th>\n",
       "      <td>-0.246233</td>\n",
       "      <td>-0.118150</td>\n",
       "      <td>0.065454</td>\n",
       "      <td>-0.036683</td>\n",
       "      <td>0.486624</td>\n",
       "      <td>-0.150014</td>\n",
       "      <td>-0.066612</td>\n",
       "      <td>-0.197733</td>\n",
       "      <td>0.041882</td>\n",
       "      <td>0.013275</td>\n",
       "      <td>...</td>\n",
       "      <td>0.088468</td>\n",
       "      <td>0.035752</td>\n",
       "      <td>0.009758</td>\n",
       "      <td>-0.059676</td>\n",
       "      <td>-0.157652</td>\n",
       "      <td>-0.008456</td>\n",
       "      <td>0.114495</td>\n",
       "      <td>0.030230</td>\n",
       "      <td>0.002393</td>\n",
       "      <td>-0.030806</td>\n",
       "    </tr>\n",
       "    <tr>\n",
       "      <th>3</th>\n",
       "      <td>-0.748761</td>\n",
       "      <td>0.347893</td>\n",
       "      <td>-0.050810</td>\n",
       "      <td>-0.060772</td>\n",
       "      <td>0.094122</td>\n",
       "      <td>0.043072</td>\n",
       "      <td>-0.091608</td>\n",
       "      <td>0.131252</td>\n",
       "      <td>-0.044362</td>\n",
       "      <td>0.123941</td>\n",
       "      <td>...</td>\n",
       "      <td>-0.015402</td>\n",
       "      <td>0.003504</td>\n",
       "      <td>-0.002218</td>\n",
       "      <td>-0.015355</td>\n",
       "      <td>0.033183</td>\n",
       "      <td>-0.037312</td>\n",
       "      <td>0.013099</td>\n",
       "      <td>0.002479</td>\n",
       "      <td>0.022445</td>\n",
       "      <td>-0.026125</td>\n",
       "    </tr>\n",
       "    <tr>\n",
       "      <th>4</th>\n",
       "      <td>0.390897</td>\n",
       "      <td>0.250941</td>\n",
       "      <td>-0.198188</td>\n",
       "      <td>0.293123</td>\n",
       "      <td>0.621651</td>\n",
       "      <td>0.005957</td>\n",
       "      <td>-0.025043</td>\n",
       "      <td>-0.233487</td>\n",
       "      <td>0.295031</td>\n",
       "      <td>0.131574</td>\n",
       "      <td>...</td>\n",
       "      <td>0.016698</td>\n",
       "      <td>-0.082870</td>\n",
       "      <td>0.057519</td>\n",
       "      <td>-0.017711</td>\n",
       "      <td>-0.016841</td>\n",
       "      <td>0.001248</td>\n",
       "      <td>-0.046853</td>\n",
       "      <td>-0.035208</td>\n",
       "      <td>-0.021621</td>\n",
       "      <td>0.017791</td>\n",
       "    </tr>\n",
       "    <tr>\n",
       "      <th>...</th>\n",
       "      <td>...</td>\n",
       "      <td>...</td>\n",
       "      <td>...</td>\n",
       "      <td>...</td>\n",
       "      <td>...</td>\n",
       "      <td>...</td>\n",
       "      <td>...</td>\n",
       "      <td>...</td>\n",
       "      <td>...</td>\n",
       "      <td>...</td>\n",
       "      <td>...</td>\n",
       "      <td>...</td>\n",
       "      <td>...</td>\n",
       "      <td>...</td>\n",
       "      <td>...</td>\n",
       "      <td>...</td>\n",
       "      <td>...</td>\n",
       "      <td>...</td>\n",
       "      <td>...</td>\n",
       "      <td>...</td>\n",
       "      <td>...</td>\n",
       "    </tr>\n",
       "    <tr>\n",
       "      <th>795</th>\n",
       "      <td>-0.565572</td>\n",
       "      <td>0.422083</td>\n",
       "      <td>0.328459</td>\n",
       "      <td>0.111136</td>\n",
       "      <td>-0.153392</td>\n",
       "      <td>-0.133144</td>\n",
       "      <td>0.121275</td>\n",
       "      <td>0.170829</td>\n",
       "      <td>0.181529</td>\n",
       "      <td>-0.003558</td>\n",
       "      <td>...</td>\n",
       "      <td>0.293711</td>\n",
       "      <td>-0.012175</td>\n",
       "      <td>0.058480</td>\n",
       "      <td>0.048224</td>\n",
       "      <td>0.082594</td>\n",
       "      <td>-0.068041</td>\n",
       "      <td>0.015459</td>\n",
       "      <td>-0.020043</td>\n",
       "      <td>-0.000526</td>\n",
       "      <td>0.006661</td>\n",
       "    </tr>\n",
       "    <tr>\n",
       "      <th>796</th>\n",
       "      <td>0.258810</td>\n",
       "      <td>-0.934083</td>\n",
       "      <td>0.031836</td>\n",
       "      <td>0.495334</td>\n",
       "      <td>0.077337</td>\n",
       "      <td>-0.114135</td>\n",
       "      <td>0.171020</td>\n",
       "      <td>-0.128284</td>\n",
       "      <td>0.103762</td>\n",
       "      <td>0.171785</td>\n",
       "      <td>...</td>\n",
       "      <td>0.028815</td>\n",
       "      <td>-0.008404</td>\n",
       "      <td>-0.041049</td>\n",
       "      <td>0.057555</td>\n",
       "      <td>0.156682</td>\n",
       "      <td>0.046040</td>\n",
       "      <td>-0.126535</td>\n",
       "      <td>-0.038469</td>\n",
       "      <td>0.096648</td>\n",
       "      <td>0.001347</td>\n",
       "    </tr>\n",
       "    <tr>\n",
       "      <th>797</th>\n",
       "      <td>1.243638</td>\n",
       "      <td>0.799851</td>\n",
       "      <td>0.648936</td>\n",
       "      <td>0.304699</td>\n",
       "      <td>-0.379732</td>\n",
       "      <td>0.291343</td>\n",
       "      <td>-0.171438</td>\n",
       "      <td>-0.020321</td>\n",
       "      <td>0.029576</td>\n",
       "      <td>-0.338980</td>\n",
       "      <td>...</td>\n",
       "      <td>-0.005502</td>\n",
       "      <td>-0.007773</td>\n",
       "      <td>0.011783</td>\n",
       "      <td>-0.003242</td>\n",
       "      <td>0.058010</td>\n",
       "      <td>0.003269</td>\n",
       "      <td>-0.060208</td>\n",
       "      <td>-0.102948</td>\n",
       "      <td>-0.045354</td>\n",
       "      <td>0.005836</td>\n",
       "    </tr>\n",
       "    <tr>\n",
       "      <th>798</th>\n",
       "      <td>0.251711</td>\n",
       "      <td>0.398993</td>\n",
       "      <td>-0.418890</td>\n",
       "      <td>-0.045822</td>\n",
       "      <td>0.030828</td>\n",
       "      <td>0.140385</td>\n",
       "      <td>-0.063130</td>\n",
       "      <td>-0.085623</td>\n",
       "      <td>-0.096352</td>\n",
       "      <td>0.127783</td>\n",
       "      <td>...</td>\n",
       "      <td>0.079952</td>\n",
       "      <td>-0.048846</td>\n",
       "      <td>0.017142</td>\n",
       "      <td>-0.003632</td>\n",
       "      <td>-0.024094</td>\n",
       "      <td>0.124307</td>\n",
       "      <td>-0.099110</td>\n",
       "      <td>-0.056262</td>\n",
       "      <td>0.028056</td>\n",
       "      <td>-0.100260</td>\n",
       "    </tr>\n",
       "    <tr>\n",
       "      <th>799</th>\n",
       "      <td>0.431775</td>\n",
       "      <td>-0.166857</td>\n",
       "      <td>-0.363375</td>\n",
       "      <td>0.099114</td>\n",
       "      <td>0.416898</td>\n",
       "      <td>0.067133</td>\n",
       "      <td>-0.012722</td>\n",
       "      <td>0.112111</td>\n",
       "      <td>-0.131542</td>\n",
       "      <td>0.028366</td>\n",
       "      <td>...</td>\n",
       "      <td>-0.012879</td>\n",
       "      <td>0.034051</td>\n",
       "      <td>0.058221</td>\n",
       "      <td>0.027766</td>\n",
       "      <td>-0.068300</td>\n",
       "      <td>-0.027456</td>\n",
       "      <td>-0.065036</td>\n",
       "      <td>-0.045913</td>\n",
       "      <td>-0.025378</td>\n",
       "      <td>0.061333</td>\n",
       "    </tr>\n",
       "  </tbody>\n",
       "</table>\n",
       "<p>800 rows × 30 columns</p>\n",
       "</div>"
      ],
      "text/plain": [
       "           0         1         2         3         4         5         6   \\\n",
       "0   -0.777410  0.193198 -0.058681 -0.180358 -0.005488 -0.099418 -0.209188   \n",
       "1   -0.599829  0.260505  0.001988 -0.047122  0.131503 -0.098223 -0.077308   \n",
       "2   -0.246233 -0.118150  0.065454 -0.036683  0.486624 -0.150014 -0.066612   \n",
       "3   -0.748761  0.347893 -0.050810 -0.060772  0.094122  0.043072 -0.091608   \n",
       "4    0.390897  0.250941 -0.198188  0.293123  0.621651  0.005957 -0.025043   \n",
       "..        ...       ...       ...       ...       ...       ...       ...   \n",
       "795 -0.565572  0.422083  0.328459  0.111136 -0.153392 -0.133144  0.121275   \n",
       "796  0.258810 -0.934083  0.031836  0.495334  0.077337 -0.114135  0.171020   \n",
       "797  1.243638  0.799851  0.648936  0.304699 -0.379732  0.291343 -0.171438   \n",
       "798  0.251711  0.398993 -0.418890 -0.045822  0.030828  0.140385 -0.063130   \n",
       "799  0.431775 -0.166857 -0.363375  0.099114  0.416898  0.067133 -0.012722   \n",
       "\n",
       "           7         8         9   ...        20        21        22  \\\n",
       "0   -0.328526  0.078992 -0.157340  ...  0.041359  0.039110 -0.014204   \n",
       "1    0.046258 -0.040620  0.094613  ... -0.041699 -0.046610 -0.070303   \n",
       "2   -0.197733  0.041882  0.013275  ...  0.088468  0.035752  0.009758   \n",
       "3    0.131252 -0.044362  0.123941  ... -0.015402  0.003504 -0.002218   \n",
       "4   -0.233487  0.295031  0.131574  ...  0.016698 -0.082870  0.057519   \n",
       "..        ...       ...       ...  ...       ...       ...       ...   \n",
       "795  0.170829  0.181529 -0.003558  ...  0.293711 -0.012175  0.058480   \n",
       "796 -0.128284  0.103762  0.171785  ...  0.028815 -0.008404 -0.041049   \n",
       "797 -0.020321  0.029576 -0.338980  ... -0.005502 -0.007773  0.011783   \n",
       "798 -0.085623 -0.096352  0.127783  ...  0.079952 -0.048846  0.017142   \n",
       "799  0.112111 -0.131542  0.028366  ... -0.012879  0.034051  0.058221   \n",
       "\n",
       "           23        24        25        26        27        28        29  \n",
       "0    0.078314  0.042622 -0.020060  0.030908  0.072137  0.067118 -0.000046  \n",
       "1   -0.015955  0.048888  0.037215  0.008372  0.047849  0.013827 -0.019551  \n",
       "2   -0.059676 -0.157652 -0.008456  0.114495  0.030230  0.002393 -0.030806  \n",
       "3   -0.015355  0.033183 -0.037312  0.013099  0.002479  0.022445 -0.026125  \n",
       "4   -0.017711 -0.016841  0.001248 -0.046853 -0.035208 -0.021621  0.017791  \n",
       "..        ...       ...       ...       ...       ...       ...       ...  \n",
       "795  0.048224  0.082594 -0.068041  0.015459 -0.020043 -0.000526  0.006661  \n",
       "796  0.057555  0.156682  0.046040 -0.126535 -0.038469  0.096648  0.001347  \n",
       "797 -0.003242  0.058010  0.003269 -0.060208 -0.102948 -0.045354  0.005836  \n",
       "798 -0.003632 -0.024094  0.124307 -0.099110 -0.056262  0.028056 -0.100260  \n",
       "799  0.027766 -0.068300 -0.027456 -0.065036 -0.045913 -0.025378  0.061333  \n",
       "\n",
       "[800 rows x 30 columns]"
      ]
     },
     "execution_count": 20,
     "metadata": {},
     "output_type": "execute_result"
    }
   ],
   "source": [
    "pca_final.iloc[:,:30]"
   ]
  },
  {
   "cell_type": "code",
   "execution_count": 21,
   "id": "2d7297c1",
   "metadata": {},
   "outputs": [],
   "source": [
    "model_pca_tuned = tune_xgb\n",
    "model_pca_tuned.fit(pca_final.iloc[:,:30],pca_final.iloc[:,30])\n",
    "pcaTrainxgb_tuned = model_pca_tuned.predict(pca_data)\n",
    "pcaTestxgb_tuned = model_pca_tuned.predict(pca_data_test)"
   ]
  },
  {
   "cell_type": "code",
   "execution_count": 22,
   "id": "10717858",
   "metadata": {},
   "outputs": [],
   "source": [
    "pcatestxgb_score =  accuracy_score(y_test, pcaTestxgb)\n",
    "pcaxgb_score = accuracy_score(y_dev, pcaTrainxgb)"
   ]
  },
  {
   "cell_type": "code",
   "execution_count": 23,
   "id": "648af0d4",
   "metadata": {},
   "outputs": [
    {
     "name": "stdout",
     "output_type": "stream",
     "text": [
      "Classification Score for XGB Classifier on Train dataset:\n",
      "\n",
      "Train Score :  0.99875\n",
      "--------------------------------------------------------\n",
      "Classification Score for XGB Classifier on Test dataset:\n",
      "\n",
      "Test Score : 0.685\n"
     ]
    }
   ],
   "source": [
    "print(\"Classification Score for XGB Classifier on Train dataset:\\n\")\n",
    "print(\"Train Score : \", pcaxgb_score)\n",
    "print(\"--------------------------------------------------------\")\n",
    "print(\"Classification Score for XGB Classifier on Test dataset:\\n\")\n",
    "print(\"Test Score :\", pcatestxgb_score)"
   ]
  },
  {
   "cell_type": "code",
   "execution_count": 24,
   "id": "35ad5f21",
   "metadata": {},
   "outputs": [
    {
     "data": {
      "image/png": "[encoded data removed]",
      "text/plain": [
       "<Figure size 1080x432 with 2 Axes>"
      ]
     },
     "metadata": {},
     "output_type": "display_data"
    },
    {
     "name": "stdout",
     "output_type": "stream",
     "text": [
      "Accuracy : 0.69\n",
      "Macro F-1 Score : 0.68\n"
     ]
    }
   ],
   "source": [
    "# Evaluate Model\n",
    "class_labels = list(model_xgb.classes_)\n",
    "macro_f1, accuracy = evaluate_model(pcaTestxgb, y_test, class_labels,\n",
    "                                    'Confustion Matrix: PCA - Tuned 3 seconds XGB Classifier')\n",
    "print('Accuracy : %.2f'%accuracy)\n",
    "print('Macro F-1 Score : %.2f'%macro_f1)"
   ]
  },
  {
   "cell_type": "code",
   "execution_count": null,
   "id": "9d94c790-c815-47d3-80f1-21eb015d90af",
   "metadata": {},
   "outputs": [],
   "source": []
  }
 ],
 "metadata": {
  "kernelspec": {
   "display_name": "Python 3 (ipykernel)",
   "language": "python",
   "name": "python3"
  },
  "language_info": {
   "codemirror_mode": {
    "name": "ipython",
    "version": 3
   },
   "file_extension": ".py",
   "mimetype": "text/x-python",
   "name": "python",
   "nbconvert_exporter": "python",
   "pygments_lexer": "ipython3",
   "version": "3.9.7"
  }
 },
 "nbformat": 4,
 "nbformat_minor": 5
}
