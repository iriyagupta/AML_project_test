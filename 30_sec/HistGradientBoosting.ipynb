{
 "cells": [
  {
   "cell_type": "code",
   "execution_count": 1,
   "id": "ffa7b670",
   "metadata": {},
   "outputs": [],
   "source": [
    "from utils import *\n",
    "from sklearn.decomposition import PCA\n",
    "from sklearn.ensemble import HistGradientBoostingClassifier\n",
    "from sklearn.model_selection import GridSearchCV\n",
    "import random\n",
    "import warnings\n",
    "warnings.filterwarnings('ignore')"
   ]
  },
  {
   "cell_type": "code",
   "execution_count": 2,
   "metadata": {},
   "outputs": [],
   "source": [
    "%store -r data\n",
    "%store -r target"
   ]
  },
  {
   "cell_type": "code",
   "execution_count": 3,
   "id": "e3d204f2",
   "metadata": {},
   "outputs": [
    {
     "name": "stdout",
     "output_type": "stream",
     "text": [
      "X_train shape: (810, 54)\n",
      "X_test shape: (100, 54)\n",
      "X_val shape: (90, 54)\n",
      "y_train shape: (810,)\n",
      "y_test shape: (100,)\n",
      "y_val shape: (90,)\n"
     ]
    }
   ],
   "source": [
    "data = standardize(data)\n",
    "X_dev, y_dev, X_test, y_test, X_train, y_train, X_val, y_val = split(data,target)"
   ]
  },
  {
   "cell_type": "markdown",
   "id": "4d9caabe-d2df-40e4-9914-bc6c420e95cd",
   "metadata": {},
   "source": [
    "### Original Model\n",
    "Building a model with no parameter tuning and using the raw csv file"
   ]
  },
  {
   "cell_type": "code",
   "execution_count": 4,
   "id": "4603e557",
   "metadata": {},
   "outputs": [],
   "source": [
    "model_hbg = HistGradientBoostingClassifier()\n",
    "model_hbg.fit(X_dev, y_dev)\n",
    "predsDevhbg = model_hbg.predict(X_dev)\n",
    "predsTesthbg = model_hbg.predict(X_test)"
   ]
  },
  {
   "cell_type": "code",
   "execution_count": 5,
   "id": "798fd0c7",
   "metadata": {},
   "outputs": [],
   "source": [
    "testhbg_score =  accuracy_score(y_test, predsTesthbg)\n",
    "devhbg_score = accuracy_score(y_dev, predsDevhbg)"
   ]
  },
  {
   "cell_type": "code",
   "execution_count": 6,
   "id": "2cecfff5",
   "metadata": {},
   "outputs": [
    {
     "name": "stdout",
     "output_type": "stream",
     "text": [
      "Classification Score for HistGradientBoosting Classifier on Dev dataset:\n",
      "\n",
      "Dev Score :  0.9988888888888889\n",
      "              precision    recall  f1-score   support\n",
      "\n",
      "       blues       1.00      1.00      1.00        92\n",
      "   classical       1.00      1.00      1.00        92\n",
      "     country       1.00      1.00      1.00        92\n",
      "       disco       1.00      1.00      1.00        92\n",
      "      hiphop       1.00      1.00      1.00        93\n",
      "        jazz       1.00      1.00      1.00        83\n",
      "       metal       1.00      0.99      0.99        92\n",
      "         pop       1.00      1.00      1.00        92\n",
      "      reggae       1.00      1.00      1.00        86\n",
      "        rock       0.99      1.00      0.99        86\n",
      "\n",
      "    accuracy                           1.00       900\n",
      "   macro avg       1.00      1.00      1.00       900\n",
      "weighted avg       1.00      1.00      1.00       900\n",
      "\n",
      "--------------------------------------------------------\n",
      "Classification Score for HistGradientBoosting Classifier on Test dataset:\n",
      "\n",
      "Test Score : 0.78\n",
      "              precision    recall  f1-score   support\n",
      "\n",
      "       blues       0.78      0.88      0.82         8\n",
      "   classical       0.62      1.00      0.76         8\n",
      "     country       0.67      1.00      0.80         8\n",
      "       disco       0.67      0.75      0.71         8\n",
      "      hiphop       0.75      0.86      0.80         7\n",
      "        jazz       0.80      0.71      0.75        17\n",
      "       metal       1.00      1.00      1.00         8\n",
      "         pop       0.78      0.88      0.82         8\n",
      "      reggae       1.00      0.64      0.78        14\n",
      "        rock       0.88      0.50      0.64        14\n",
      "\n",
      "    accuracy                           0.78       100\n",
      "   macro avg       0.79      0.82      0.79       100\n",
      "weighted avg       0.81      0.78      0.78       100\n",
      "\n"
     ]
    }
   ],
   "source": [
    "print(\"Classification Score for HistGradientBoosting Classifier on Dev dataset:\\n\")\n",
    "print(\"Dev Score : \", devhbg_score)\n",
    "print(classification_report(y_dev, predsDevhbg))\n",
    "print(\"--------------------------------------------------------\")\n",
    "print(\"Classification Score for HistGradientBoosting Classifier on Test dataset:\\n\")\n",
    "print(\"Test Score :\", testhbg_score)\n",
    "print(classification_report(y_test, predsTesthbg))"
   ]
  },
  {
   "cell_type": "code",
   "execution_count": 7,
   "id": "e1883907",
   "metadata": {},
   "outputs": [
    {
     "data": {
      "image/png": "[encoded data removed]",
      "text/plain": [
       "<Figure size 1080x432 with 2 Axes>"
      ]
     },
     "metadata": {},
     "output_type": "display_data"
    },
    {
     "name": "stdout",
     "output_type": "stream",
     "text": [
      "Accuracy : 0.78\n",
      "Macro F-1 Score : 0.79\n"
     ]
    }
   ],
   "source": [
    "# Evaluate Model on Test set\n",
    "class_labels = list(model_hbg.classes_)\n",
    "macro_f1, accuracy = evaluate_model(predsTesthbg, y_test, class_labels,\n",
    "                                    'Confustion matrix: Untuned 30 seconds HistGradientBoosting Classifier')\n",
    "print('Accuracy : %.2f'%accuracy)\n",
    "print('Macro F-1 Score : %.2f'%macro_f1)"
   ]
  },
  {
   "cell_type": "markdown",
   "id": "94955db3",
   "metadata": {},
   "source": [
    "### Tuned Model\n",
    "Building a model with hyperparameters tuning using 5-fold cross validation with GridSearchCV and the raw csv file"
   ]
  },
  {
   "cell_type": "code",
   "execution_count": 8,
   "id": "3fef49f4",
   "metadata": {},
   "outputs": [
    {
     "name": "stdout",
     "output_type": "stream",
     "text": [
      "{'max_iter': array([100, 300]), 'learning_rate': [0.1, 0.001, 0.01], 'max_depth': [7, 21, 29]}\n"
     ]
    }
   ],
   "source": [
    "parameters = {\"max_iter\": np.linspace(100,300,2,dtype=int),\n",
    "             \"learning_rate\": [0.1,0.001,0.01],\n",
    "             \"max_depth\": random.sample(range(3, 30),3)}\n",
    "print(parameters)"
   ]
  },
  {
   "cell_type": "code",
   "execution_count": 9,
   "id": "88dfebb1",
   "metadata": {},
   "outputs": [
    {
     "data": {
      "text/plain": [
       "GridSearchCV(cv=5, estimator=HistGradientBoostingClassifier(),\n",
       "             param_grid={'learning_rate': [0.1, 0.001, 0.01],\n",
       "                         'max_depth': [7, 21, 29],\n",
       "                         'max_iter': array([100, 300])})"
      ]
     },
     "execution_count": 9,
     "metadata": {},
     "output_type": "execute_result"
    }
   ],
   "source": [
    "tune_hbg = GridSearchCV(estimator = model_hbg, param_grid = parameters, cv = 5)\n",
    "tune_hbg.fit(X_dev, y_dev)"
   ]
  },
  {
   "cell_type": "code",
   "execution_count": 10,
   "id": "787f731b",
   "metadata": {},
   "outputs": [
    {
     "name": "stdout",
     "output_type": "stream",
     "text": [
      "Best Score : 0.7233333333333334\n",
      "Best Parameters : {'learning_rate': 0.1, 'max_depth': 7, 'max_iter': 300}\n"
     ]
    }
   ],
   "source": [
    "print(\"Best Score :\", tune_hbg.best_score_)\n",
    "print(\"Best Parameters :\",tune_hbg.best_params_)"
   ]
  },
  {
   "cell_type": "code",
   "execution_count": 11,
   "id": "a51d1aca",
   "metadata": {},
   "outputs": [
    {
     "name": "stdout",
     "output_type": "stream",
     "text": [
      "Score on Dev data for HBG using GridSearchCV: 0.9988888888888889\n",
      "Score on Test data for HBG using GridSearchCV: 0.78\n"
     ]
    }
   ],
   "source": [
    "predsDevhbg_tuned = tune_hbg.predict(X_dev)\n",
    "predsTesthbg_tuned = tune_hbg.predict(X_test)\n",
    "\n",
    "print(\"Score on Dev data for HBG using GridSearchCV:\", accuracy_score(y_dev, predsDevhbg_tuned))\n",
    "print(\"Score on Test data for HBG using GridSearchCV:\",accuracy_score(y_test, predsTesthbg_tuned))"
   ]
  },
  {
   "cell_type": "code",
   "execution_count": 12,
   "id": "8439f97a-f8c5-43bb-a815-c308a0cdd095",
   "metadata": {},
   "outputs": [
    {
     "data": {
      "image/png": "[encoded data removed]",
      "text/plain": [
       "<Figure size 1080x432 with 2 Axes>"
      ]
     },
     "metadata": {},
     "output_type": "display_data"
    },
    {
     "name": "stdout",
     "output_type": "stream",
     "text": [
      "Accuracy : 0.78\n",
      "Macro F-1 Score : 0.79\n"
     ]
    }
   ],
   "source": [
    "# Evaluate Model on Test set\n",
    "class_labels = list(model_hbg.classes_)\n",
    "macro_f1, accuracy = evaluate_model(predsTesthbg_tuned, y_test, class_labels,\n",
    "                                    'Confustion matrix: Tuned 30 seconds HistGradientBoosting Classifier')\n",
    "print('Accuracy : %.2f'%accuracy)\n",
    "print('Macro F-1 Score : %.2f'%macro_f1)"
   ]
  },
  {
   "cell_type": "markdown",
   "id": "833b2197",
   "metadata": {},
   "source": [
    "### Dimensionality reduction of data using PCA"
   ]
  },
  {
   "cell_type": "code",
   "execution_count": 13,
   "id": "6553145b",
   "metadata": {},
   "outputs": [
    {
     "name": "stdout",
     "output_type": "stream",
     "text": [
      "Explained Variance of each component: [0.27462107 0.16378828 0.106374   0.0723295  0.05484226 0.0387792\n",
      " 0.02690359 0.02395643 0.02175637 0.01846612 0.01427943 0.01395746\n",
      " 0.0120279  0.01112264 0.01017838 0.00968102 0.00884286 0.00796854\n",
      " 0.00769754 0.00724503 0.00710406 0.0065521  0.00600103 0.00568844\n",
      " 0.00541248 0.00495716 0.00484606 0.0046887  0.00451327 0.00420588]\n",
      "Sum of Explained Variance: 0.9526384961052763\n"
     ]
    }
   ],
   "source": [
    "# Principal Component Analysis \n",
    "### cite : https://machinelearningmastery.com/calculate-principal-component-analysis-scratch-python/\n",
    "\n",
    "# create the PCA instance\n",
    "pca = PCA(n_components=30)\n",
    "# fit on data\n",
    "pca_data = pca.fit_transform(X_dev)\n",
    "pca_data_test = pca.transform(X_test)\n",
    "# pca_data_dev = pca.transform(X_dev)\n",
    "PCA_df= pd.DataFrame(data=pca_data)\n",
    "y_dev.index = PCA_df.index\n",
    "pca_final=pd.concat([PCA_df,y_dev], axis = 1)\n",
    "# access values\n",
    "print(\"Explained Variance of each component:\",pca.explained_variance_)\n",
    "print(\"Sum of Explained Variance:\", sum(pca.explained_variance_ratio_))"
   ]
  },
  {
   "cell_type": "code",
   "execution_count": 14,
   "id": "24f6e702",
   "metadata": {},
   "outputs": [
    {
     "data": {
      "text/html": [
       "<div>\n",
       "<style scoped>\n",
       "    .dataframe tbody tr th:only-of-type {\n",
       "        vertical-align: middle;\n",
       "    }\n",
       "\n",
       "    .dataframe tbody tr th {\n",
       "        vertical-align: top;\n",
       "    }\n",
       "\n",
       "    .dataframe thead th {\n",
       "        text-align: right;\n",
       "    }\n",
       "</style>\n",
       "<table border=\"1\" class=\"dataframe\">\n",
       "  <thead>\n",
       "    <tr style=\"text-align: right;\">\n",
       "      <th></th>\n",
       "      <th>0</th>\n",
       "      <th>1</th>\n",
       "      <th>2</th>\n",
       "      <th>3</th>\n",
       "      <th>4</th>\n",
       "      <th>5</th>\n",
       "      <th>6</th>\n",
       "      <th>7</th>\n",
       "      <th>8</th>\n",
       "      <th>9</th>\n",
       "      <th>...</th>\n",
       "      <th>21</th>\n",
       "      <th>22</th>\n",
       "      <th>23</th>\n",
       "      <th>24</th>\n",
       "      <th>25</th>\n",
       "      <th>26</th>\n",
       "      <th>27</th>\n",
       "      <th>28</th>\n",
       "      <th>29</th>\n",
       "      <th>label</th>\n",
       "    </tr>\n",
       "  </thead>\n",
       "  <tbody>\n",
       "    <tr>\n",
       "      <th>0</th>\n",
       "      <td>0.000578</td>\n",
       "      <td>-0.630373</td>\n",
       "      <td>-0.054837</td>\n",
       "      <td>0.410234</td>\n",
       "      <td>0.009388</td>\n",
       "      <td>0.027373</td>\n",
       "      <td>-0.032693</td>\n",
       "      <td>-0.147327</td>\n",
       "      <td>0.031381</td>\n",
       "      <td>0.111807</td>\n",
       "      <td>...</td>\n",
       "      <td>0.076359</td>\n",
       "      <td>0.102671</td>\n",
       "      <td>-0.078515</td>\n",
       "      <td>0.038777</td>\n",
       "      <td>-0.006710</td>\n",
       "      <td>-0.020248</td>\n",
       "      <td>0.122581</td>\n",
       "      <td>0.059799</td>\n",
       "      <td>0.035578</td>\n",
       "      <td>classical</td>\n",
       "    </tr>\n",
       "    <tr>\n",
       "      <th>1</th>\n",
       "      <td>0.071451</td>\n",
       "      <td>-0.402465</td>\n",
       "      <td>-0.106785</td>\n",
       "      <td>0.332658</td>\n",
       "      <td>-0.060422</td>\n",
       "      <td>0.226589</td>\n",
       "      <td>0.122803</td>\n",
       "      <td>-0.066843</td>\n",
       "      <td>0.069256</td>\n",
       "      <td>-0.088956</td>\n",
       "      <td>...</td>\n",
       "      <td>0.119519</td>\n",
       "      <td>0.093006</td>\n",
       "      <td>-0.017433</td>\n",
       "      <td>0.096459</td>\n",
       "      <td>0.007292</td>\n",
       "      <td>-0.108814</td>\n",
       "      <td>-0.025943</td>\n",
       "      <td>-0.007280</td>\n",
       "      <td>0.001028</td>\n",
       "      <td>jazz</td>\n",
       "    </tr>\n",
       "    <tr>\n",
       "      <th>2</th>\n",
       "      <td>-0.047268</td>\n",
       "      <td>0.326820</td>\n",
       "      <td>-0.598692</td>\n",
       "      <td>0.227380</td>\n",
       "      <td>0.045610</td>\n",
       "      <td>0.264122</td>\n",
       "      <td>-0.077906</td>\n",
       "      <td>0.063580</td>\n",
       "      <td>-0.168399</td>\n",
       "      <td>0.038900</td>\n",
       "      <td>...</td>\n",
       "      <td>-0.088405</td>\n",
       "      <td>0.045638</td>\n",
       "      <td>-0.057271</td>\n",
       "      <td>-0.031956</td>\n",
       "      <td>0.010596</td>\n",
       "      <td>0.089807</td>\n",
       "      <td>-0.025416</td>\n",
       "      <td>0.155727</td>\n",
       "      <td>-0.050312</td>\n",
       "      <td>country</td>\n",
       "    </tr>\n",
       "    <tr>\n",
       "      <th>3</th>\n",
       "      <td>-0.437642</td>\n",
       "      <td>0.235405</td>\n",
       "      <td>-0.003960</td>\n",
       "      <td>0.029110</td>\n",
       "      <td>-0.170677</td>\n",
       "      <td>-0.094826</td>\n",
       "      <td>-0.142893</td>\n",
       "      <td>0.105725</td>\n",
       "      <td>0.099775</td>\n",
       "      <td>-0.181441</td>\n",
       "      <td>...</td>\n",
       "      <td>0.021402</td>\n",
       "      <td>-0.013820</td>\n",
       "      <td>0.027506</td>\n",
       "      <td>0.055196</td>\n",
       "      <td>0.133483</td>\n",
       "      <td>0.102584</td>\n",
       "      <td>0.088352</td>\n",
       "      <td>0.037717</td>\n",
       "      <td>0.066517</td>\n",
       "      <td>metal</td>\n",
       "    </tr>\n",
       "    <tr>\n",
       "      <th>4</th>\n",
       "      <td>-0.849344</td>\n",
       "      <td>0.103658</td>\n",
       "      <td>-0.048105</td>\n",
       "      <td>-0.018132</td>\n",
       "      <td>-0.023246</td>\n",
       "      <td>-0.159358</td>\n",
       "      <td>0.035768</td>\n",
       "      <td>-0.071899</td>\n",
       "      <td>0.111845</td>\n",
       "      <td>0.102860</td>\n",
       "      <td>...</td>\n",
       "      <td>0.041386</td>\n",
       "      <td>-0.010278</td>\n",
       "      <td>0.015446</td>\n",
       "      <td>-0.029090</td>\n",
       "      <td>0.038961</td>\n",
       "      <td>0.012031</td>\n",
       "      <td>-0.040542</td>\n",
       "      <td>-0.010834</td>\n",
       "      <td>0.018305</td>\n",
       "      <td>disco</td>\n",
       "    </tr>\n",
       "  </tbody>\n",
       "</table>\n",
       "<p>5 rows × 31 columns</p>\n",
       "</div>"
      ],
      "text/plain": [
       "          0         1         2         3         4         5         6  \\\n",
       "0  0.000578 -0.630373 -0.054837  0.410234  0.009388  0.027373 -0.032693   \n",
       "1  0.071451 -0.402465 -0.106785  0.332658 -0.060422  0.226589  0.122803   \n",
       "2 -0.047268  0.326820 -0.598692  0.227380  0.045610  0.264122 -0.077906   \n",
       "3 -0.437642  0.235405 -0.003960  0.029110 -0.170677 -0.094826 -0.142893   \n",
       "4 -0.849344  0.103658 -0.048105 -0.018132 -0.023246 -0.159358  0.035768   \n",
       "\n",
       "          7         8         9  ...        21        22        23        24  \\\n",
       "0 -0.147327  0.031381  0.111807  ...  0.076359  0.102671 -0.078515  0.038777   \n",
       "1 -0.066843  0.069256 -0.088956  ...  0.119519  0.093006 -0.017433  0.096459   \n",
       "2  0.063580 -0.168399  0.038900  ... -0.088405  0.045638 -0.057271 -0.031956   \n",
       "3  0.105725  0.099775 -0.181441  ...  0.021402 -0.013820  0.027506  0.055196   \n",
       "4 -0.071899  0.111845  0.102860  ...  0.041386 -0.010278  0.015446 -0.029090   \n",
       "\n",
       "         25        26        27        28        29      label  \n",
       "0 -0.006710 -0.020248  0.122581  0.059799  0.035578  classical  \n",
       "1  0.007292 -0.108814 -0.025943 -0.007280  0.001028       jazz  \n",
       "2  0.010596  0.089807 -0.025416  0.155727 -0.050312    country  \n",
       "3  0.133483  0.102584  0.088352  0.037717  0.066517      metal  \n",
       "4  0.038961  0.012031 -0.040542 -0.010834  0.018305      disco  \n",
       "\n",
       "[5 rows x 31 columns]"
      ]
     },
     "execution_count": 14,
     "metadata": {},
     "output_type": "execute_result"
    }
   ],
   "source": [
    "pca_final.head()"
   ]
  },
  {
   "cell_type": "markdown",
   "id": "7793a70c-2945-4262-a2be-3660cd158cf5",
   "metadata": {},
   "source": [
    "### PCA - Original Model\n",
    "Building a model with no parameter tuning and using the PCA data"
   ]
  },
  {
   "cell_type": "code",
   "execution_count": 15,
   "id": "f4b1db81",
   "metadata": {},
   "outputs": [],
   "source": [
    "model_pca = HistGradientBoostingClassifier()\n",
    "model_pca.fit(pca_final.iloc[:,:30],pca_final.iloc[:,30])\n",
    "pcaTrainhbg = model_pca.predict(pca_data)\n",
    "pcaTesthbg = model_pca.predict(pca_data_test)"
   ]
  },
  {
   "cell_type": "code",
   "execution_count": 16,
   "id": "7f28b6d2",
   "metadata": {},
   "outputs": [],
   "source": [
    "pcatesthbg_score =  accuracy_score(y_test, pcaTesthbg)\n",
    "pcahbg_score = accuracy_score(y_dev, pcaTrainhbg)"
   ]
  },
  {
   "cell_type": "code",
   "execution_count": 17,
   "id": "3c0cf3a6",
   "metadata": {},
   "outputs": [
    {
     "name": "stdout",
     "output_type": "stream",
     "text": [
      "Classification Score for HistGradientBoosting Classifier on Train dataset:\n",
      "\n",
      "Train Score :  0.9988888888888889\n",
      "--------------------------------------------------------\n",
      "Classification Score for HistGradientBoosting Classifier on Test dataset:\n",
      "\n",
      "Test Score : 0.73\n"
     ]
    }
   ],
   "source": [
    "print(\"Classification Score for HistGradientBoosting Classifier on Train dataset:\\n\")\n",
    "print(\"Train Score : \", pcahbg_score)\n",
    "print(\"--------------------------------------------------------\")\n",
    "print(\"Classification Score for HistGradientBoosting Classifier on Test dataset:\\n\")\n",
    "print(\"Test Score :\", pcatesthbg_score)"
   ]
  },
  {
   "cell_type": "code",
   "execution_count": 18,
   "id": "efa40f55",
   "metadata": {},
   "outputs": [
    {
     "data": {
      "image/png": "[encoded data removed]",
      "text/plain": [
       "<Figure size 1080x432 with 2 Axes>"
      ]
     },
     "metadata": {},
     "output_type": "display_data"
    },
    {
     "name": "stdout",
     "output_type": "stream",
     "text": [
      "Accuracy : 0.73\n",
      "Macro F-1 Score : 0.73\n"
     ]
    }
   ],
   "source": [
    "# Evaluate Model\n",
    "class_labels = list(model_hbg.classes_)\n",
    "macro_f1, accuracy = evaluate_model(pcaTesthbg, y_test, class_labels,\n",
    "                                    'Confustion Matrix: PCA - Untuned 30 seconds HistGradientBoosting Classifier')\n",
    "print('Accuracy : %.2f'%accuracy)\n",
    "print('Macro F-1 Score : %.2f'%macro_f1)"
   ]
  },
  {
   "cell_type": "markdown",
   "id": "abbdcf85",
   "metadata": {},
   "source": [
    "### PCA - Tuned Model\n",
    "Building a model with hyperparameters tuning using 5-fold cross validation with GridSearchCV and the PCA data"
   ]
  },
  {
   "cell_type": "code",
   "execution_count": 19,
   "id": "a4a2e80a",
   "metadata": {},
   "outputs": [
    {
     "data": {
      "text/html": [
       "<div>\n",
       "<style scoped>\n",
       "    .dataframe tbody tr th:only-of-type {\n",
       "        vertical-align: middle;\n",
       "    }\n",
       "\n",
       "    .dataframe tbody tr th {\n",
       "        vertical-align: top;\n",
       "    }\n",
       "\n",
       "    .dataframe thead th {\n",
       "        text-align: right;\n",
       "    }\n",
       "</style>\n",
       "<table border=\"1\" class=\"dataframe\">\n",
       "  <thead>\n",
       "    <tr style=\"text-align: right;\">\n",
       "      <th></th>\n",
       "      <th>0</th>\n",
       "      <th>1</th>\n",
       "      <th>2</th>\n",
       "      <th>3</th>\n",
       "      <th>4</th>\n",
       "      <th>5</th>\n",
       "      <th>6</th>\n",
       "      <th>7</th>\n",
       "      <th>8</th>\n",
       "      <th>9</th>\n",
       "      <th>...</th>\n",
       "      <th>20</th>\n",
       "      <th>21</th>\n",
       "      <th>22</th>\n",
       "      <th>23</th>\n",
       "      <th>24</th>\n",
       "      <th>25</th>\n",
       "      <th>26</th>\n",
       "      <th>27</th>\n",
       "      <th>28</th>\n",
       "      <th>29</th>\n",
       "    </tr>\n",
       "  </thead>\n",
       "  <tbody>\n",
       "    <tr>\n",
       "      <th>0</th>\n",
       "      <td>0.000578</td>\n",
       "      <td>-0.630373</td>\n",
       "      <td>-0.054837</td>\n",
       "      <td>0.410234</td>\n",
       "      <td>0.009388</td>\n",
       "      <td>0.027373</td>\n",
       "      <td>-0.032693</td>\n",
       "      <td>-0.147327</td>\n",
       "      <td>0.031381</td>\n",
       "      <td>0.111807</td>\n",
       "      <td>...</td>\n",
       "      <td>-0.184617</td>\n",
       "      <td>0.076359</td>\n",
       "      <td>0.102671</td>\n",
       "      <td>-0.078515</td>\n",
       "      <td>0.038777</td>\n",
       "      <td>-0.006710</td>\n",
       "      <td>-0.020248</td>\n",
       "      <td>0.122581</td>\n",
       "      <td>0.059799</td>\n",
       "      <td>0.035578</td>\n",
       "    </tr>\n",
       "    <tr>\n",
       "      <th>1</th>\n",
       "      <td>0.071451</td>\n",
       "      <td>-0.402465</td>\n",
       "      <td>-0.106785</td>\n",
       "      <td>0.332658</td>\n",
       "      <td>-0.060422</td>\n",
       "      <td>0.226589</td>\n",
       "      <td>0.122803</td>\n",
       "      <td>-0.066843</td>\n",
       "      <td>0.069256</td>\n",
       "      <td>-0.088956</td>\n",
       "      <td>...</td>\n",
       "      <td>0.119453</td>\n",
       "      <td>0.119519</td>\n",
       "      <td>0.093006</td>\n",
       "      <td>-0.017433</td>\n",
       "      <td>0.096459</td>\n",
       "      <td>0.007292</td>\n",
       "      <td>-0.108814</td>\n",
       "      <td>-0.025943</td>\n",
       "      <td>-0.007280</td>\n",
       "      <td>0.001028</td>\n",
       "    </tr>\n",
       "    <tr>\n",
       "      <th>2</th>\n",
       "      <td>-0.047268</td>\n",
       "      <td>0.326820</td>\n",
       "      <td>-0.598692</td>\n",
       "      <td>0.227380</td>\n",
       "      <td>0.045610</td>\n",
       "      <td>0.264122</td>\n",
       "      <td>-0.077906</td>\n",
       "      <td>0.063580</td>\n",
       "      <td>-0.168399</td>\n",
       "      <td>0.038900</td>\n",
       "      <td>...</td>\n",
       "      <td>-0.008485</td>\n",
       "      <td>-0.088405</td>\n",
       "      <td>0.045638</td>\n",
       "      <td>-0.057271</td>\n",
       "      <td>-0.031956</td>\n",
       "      <td>0.010596</td>\n",
       "      <td>0.089807</td>\n",
       "      <td>-0.025416</td>\n",
       "      <td>0.155727</td>\n",
       "      <td>-0.050312</td>\n",
       "    </tr>\n",
       "    <tr>\n",
       "      <th>3</th>\n",
       "      <td>-0.437642</td>\n",
       "      <td>0.235405</td>\n",
       "      <td>-0.003960</td>\n",
       "      <td>0.029110</td>\n",
       "      <td>-0.170677</td>\n",
       "      <td>-0.094826</td>\n",
       "      <td>-0.142893</td>\n",
       "      <td>0.105725</td>\n",
       "      <td>0.099775</td>\n",
       "      <td>-0.181441</td>\n",
       "      <td>...</td>\n",
       "      <td>-0.128740</td>\n",
       "      <td>0.021402</td>\n",
       "      <td>-0.013820</td>\n",
       "      <td>0.027506</td>\n",
       "      <td>0.055196</td>\n",
       "      <td>0.133483</td>\n",
       "      <td>0.102584</td>\n",
       "      <td>0.088352</td>\n",
       "      <td>0.037717</td>\n",
       "      <td>0.066517</td>\n",
       "    </tr>\n",
       "    <tr>\n",
       "      <th>4</th>\n",
       "      <td>-0.849344</td>\n",
       "      <td>0.103658</td>\n",
       "      <td>-0.048105</td>\n",
       "      <td>-0.018132</td>\n",
       "      <td>-0.023246</td>\n",
       "      <td>-0.159358</td>\n",
       "      <td>0.035768</td>\n",
       "      <td>-0.071899</td>\n",
       "      <td>0.111845</td>\n",
       "      <td>0.102860</td>\n",
       "      <td>...</td>\n",
       "      <td>-0.059810</td>\n",
       "      <td>0.041386</td>\n",
       "      <td>-0.010278</td>\n",
       "      <td>0.015446</td>\n",
       "      <td>-0.029090</td>\n",
       "      <td>0.038961</td>\n",
       "      <td>0.012031</td>\n",
       "      <td>-0.040542</td>\n",
       "      <td>-0.010834</td>\n",
       "      <td>0.018305</td>\n",
       "    </tr>\n",
       "    <tr>\n",
       "      <th>...</th>\n",
       "      <td>...</td>\n",
       "      <td>...</td>\n",
       "      <td>...</td>\n",
       "      <td>...</td>\n",
       "      <td>...</td>\n",
       "      <td>...</td>\n",
       "      <td>...</td>\n",
       "      <td>...</td>\n",
       "      <td>...</td>\n",
       "      <td>...</td>\n",
       "      <td>...</td>\n",
       "      <td>...</td>\n",
       "      <td>...</td>\n",
       "      <td>...</td>\n",
       "      <td>...</td>\n",
       "      <td>...</td>\n",
       "      <td>...</td>\n",
       "      <td>...</td>\n",
       "      <td>...</td>\n",
       "      <td>...</td>\n",
       "      <td>...</td>\n",
       "    </tr>\n",
       "    <tr>\n",
       "      <th>895</th>\n",
       "      <td>-0.654431</td>\n",
       "      <td>0.218151</td>\n",
       "      <td>0.332880</td>\n",
       "      <td>0.090825</td>\n",
       "      <td>0.133881</td>\n",
       "      <td>-0.215552</td>\n",
       "      <td>0.054109</td>\n",
       "      <td>0.024756</td>\n",
       "      <td>0.233050</td>\n",
       "      <td>-0.024788</td>\n",
       "      <td>...</td>\n",
       "      <td>0.274417</td>\n",
       "      <td>-0.020315</td>\n",
       "      <td>0.088904</td>\n",
       "      <td>-0.032886</td>\n",
       "      <td>-0.049048</td>\n",
       "      <td>-0.005416</td>\n",
       "      <td>-0.086059</td>\n",
       "      <td>-0.006122</td>\n",
       "      <td>-0.001027</td>\n",
       "      <td>0.012573</td>\n",
       "    </tr>\n",
       "    <tr>\n",
       "      <th>896</th>\n",
       "      <td>0.515280</td>\n",
       "      <td>-0.634698</td>\n",
       "      <td>0.082394</td>\n",
       "      <td>0.485203</td>\n",
       "      <td>-0.101831</td>\n",
       "      <td>-0.139826</td>\n",
       "      <td>-0.145431</td>\n",
       "      <td>0.177589</td>\n",
       "      <td>0.022338</td>\n",
       "      <td>0.179446</td>\n",
       "      <td>...</td>\n",
       "      <td>0.034652</td>\n",
       "      <td>-0.016839</td>\n",
       "      <td>-0.006853</td>\n",
       "      <td>-0.115303</td>\n",
       "      <td>-0.065851</td>\n",
       "      <td>-0.188365</td>\n",
       "      <td>-0.013339</td>\n",
       "      <td>-0.003464</td>\n",
       "      <td>-0.056189</td>\n",
       "      <td>-0.032756</td>\n",
       "    </tr>\n",
       "    <tr>\n",
       "      <th>897</th>\n",
       "      <td>0.976786</td>\n",
       "      <td>0.902560</td>\n",
       "      <td>0.595924</td>\n",
       "      <td>0.289103</td>\n",
       "      <td>0.483065</td>\n",
       "      <td>0.202644</td>\n",
       "      <td>0.115374</td>\n",
       "      <td>0.003242</td>\n",
       "      <td>-0.108638</td>\n",
       "      <td>-0.320622</td>\n",
       "      <td>...</td>\n",
       "      <td>0.044738</td>\n",
       "      <td>0.006509</td>\n",
       "      <td>-0.010589</td>\n",
       "      <td>-0.013318</td>\n",
       "      <td>-0.031546</td>\n",
       "      <td>-0.128555</td>\n",
       "      <td>-0.033763</td>\n",
       "      <td>-0.000507</td>\n",
       "      <td>0.074961</td>\n",
       "      <td>0.054689</td>\n",
       "    </tr>\n",
       "    <tr>\n",
       "      <th>898</th>\n",
       "      <td>0.124804</td>\n",
       "      <td>0.297352</td>\n",
       "      <td>-0.452053</td>\n",
       "      <td>-0.032074</td>\n",
       "      <td>0.037626</td>\n",
       "      <td>0.157139</td>\n",
       "      <td>-0.016185</td>\n",
       "      <td>-0.012226</td>\n",
       "      <td>-0.084179</td>\n",
       "      <td>0.132881</td>\n",
       "      <td>...</td>\n",
       "      <td>0.118697</td>\n",
       "      <td>-0.045338</td>\n",
       "      <td>0.004519</td>\n",
       "      <td>0.033043</td>\n",
       "      <td>0.039414</td>\n",
       "      <td>-0.129773</td>\n",
       "      <td>0.086253</td>\n",
       "      <td>0.036733</td>\n",
       "      <td>0.035836</td>\n",
       "      <td>-0.079134</td>\n",
       "    </tr>\n",
       "    <tr>\n",
       "      <th>899</th>\n",
       "      <td>0.450970</td>\n",
       "      <td>0.022880</td>\n",
       "      <td>-0.401623</td>\n",
       "      <td>0.147816</td>\n",
       "      <td>-0.331352</td>\n",
       "      <td>0.127981</td>\n",
       "      <td>-0.007134</td>\n",
       "      <td>-0.183295</td>\n",
       "      <td>0.021888</td>\n",
       "      <td>0.023219</td>\n",
       "      <td>...</td>\n",
       "      <td>-0.063684</td>\n",
       "      <td>0.026097</td>\n",
       "      <td>0.056218</td>\n",
       "      <td>0.060103</td>\n",
       "      <td>0.063144</td>\n",
       "      <td>-0.039750</td>\n",
       "      <td>-0.048641</td>\n",
       "      <td>-0.062454</td>\n",
       "      <td>0.011099</td>\n",
       "      <td>0.043569</td>\n",
       "    </tr>\n",
       "  </tbody>\n",
       "</table>\n",
       "<p>900 rows × 30 columns</p>\n",
       "</div>"
      ],
      "text/plain": [
       "           0         1         2         3         4         5         6   \\\n",
       "0    0.000578 -0.630373 -0.054837  0.410234  0.009388  0.027373 -0.032693   \n",
       "1    0.071451 -0.402465 -0.106785  0.332658 -0.060422  0.226589  0.122803   \n",
       "2   -0.047268  0.326820 -0.598692  0.227380  0.045610  0.264122 -0.077906   \n",
       "3   -0.437642  0.235405 -0.003960  0.029110 -0.170677 -0.094826 -0.142893   \n",
       "4   -0.849344  0.103658 -0.048105 -0.018132 -0.023246 -0.159358  0.035768   \n",
       "..        ...       ...       ...       ...       ...       ...       ...   \n",
       "895 -0.654431  0.218151  0.332880  0.090825  0.133881 -0.215552  0.054109   \n",
       "896  0.515280 -0.634698  0.082394  0.485203 -0.101831 -0.139826 -0.145431   \n",
       "897  0.976786  0.902560  0.595924  0.289103  0.483065  0.202644  0.115374   \n",
       "898  0.124804  0.297352 -0.452053 -0.032074  0.037626  0.157139 -0.016185   \n",
       "899  0.450970  0.022880 -0.401623  0.147816 -0.331352  0.127981 -0.007134   \n",
       "\n",
       "           7         8         9   ...        20        21        22  \\\n",
       "0   -0.147327  0.031381  0.111807  ... -0.184617  0.076359  0.102671   \n",
       "1   -0.066843  0.069256 -0.088956  ...  0.119453  0.119519  0.093006   \n",
       "2    0.063580 -0.168399  0.038900  ... -0.008485 -0.088405  0.045638   \n",
       "3    0.105725  0.099775 -0.181441  ... -0.128740  0.021402 -0.013820   \n",
       "4   -0.071899  0.111845  0.102860  ... -0.059810  0.041386 -0.010278   \n",
       "..        ...       ...       ...  ...       ...       ...       ...   \n",
       "895  0.024756  0.233050 -0.024788  ...  0.274417 -0.020315  0.088904   \n",
       "896  0.177589  0.022338  0.179446  ...  0.034652 -0.016839 -0.006853   \n",
       "897  0.003242 -0.108638 -0.320622  ...  0.044738  0.006509 -0.010589   \n",
       "898 -0.012226 -0.084179  0.132881  ...  0.118697 -0.045338  0.004519   \n",
       "899 -0.183295  0.021888  0.023219  ... -0.063684  0.026097  0.056218   \n",
       "\n",
       "           23        24        25        26        27        28        29  \n",
       "0   -0.078515  0.038777 -0.006710 -0.020248  0.122581  0.059799  0.035578  \n",
       "1   -0.017433  0.096459  0.007292 -0.108814 -0.025943 -0.007280  0.001028  \n",
       "2   -0.057271 -0.031956  0.010596  0.089807 -0.025416  0.155727 -0.050312  \n",
       "3    0.027506  0.055196  0.133483  0.102584  0.088352  0.037717  0.066517  \n",
       "4    0.015446 -0.029090  0.038961  0.012031 -0.040542 -0.010834  0.018305  \n",
       "..        ...       ...       ...       ...       ...       ...       ...  \n",
       "895 -0.032886 -0.049048 -0.005416 -0.086059 -0.006122 -0.001027  0.012573  \n",
       "896 -0.115303 -0.065851 -0.188365 -0.013339 -0.003464 -0.056189 -0.032756  \n",
       "897 -0.013318 -0.031546 -0.128555 -0.033763 -0.000507  0.074961  0.054689  \n",
       "898  0.033043  0.039414 -0.129773  0.086253  0.036733  0.035836 -0.079134  \n",
       "899  0.060103  0.063144 -0.039750 -0.048641 -0.062454  0.011099  0.043569  \n",
       "\n",
       "[900 rows x 30 columns]"
      ]
     },
     "execution_count": 19,
     "metadata": {},
     "output_type": "execute_result"
    }
   ],
   "source": [
    "pca_final.iloc[:,:30]"
   ]
  },
  {
   "cell_type": "code",
   "execution_count": 20,
   "id": "2d7297c1",
   "metadata": {},
   "outputs": [],
   "source": [
    "model_pca_tuned = tune_hbg\n",
    "model_pca_tuned.fit(pca_final.iloc[:,:30],pca_final.iloc[:,30])\n",
    "pcaTrainhbg_tuned = model_pca_tuned.predict(pca_data)\n",
    "pcaTesthbg_tuned = model_pca_tuned.predict(pca_data_test)"
   ]
  },
  {
   "cell_type": "code",
   "execution_count": 21,
   "id": "10717858",
   "metadata": {},
   "outputs": [],
   "source": [
    "pcatesthbg_score =  accuracy_score(y_test, pcaTesthbg_tuned)\n",
    "pcahbg_score = accuracy_score(y_dev, pcaTrainhbg_tuned)"
   ]
  },
  {
   "cell_type": "code",
   "execution_count": 22,
   "id": "648af0d4",
   "metadata": {},
   "outputs": [
    {
     "name": "stdout",
     "output_type": "stream",
     "text": [
      "Classification Score for HistGradientBoosting Classifier on Train dataset:\n",
      "\n",
      "Train Score :  0.9988888888888889\n",
      "--------------------------------------------------------\n",
      "Classification Score for HistGradientBoosting Classifier on Test dataset:\n",
      "\n",
      "Test Score : 0.73\n"
     ]
    }
   ],
   "source": [
    "print(\"Classification Score for HistGradientBoosting Classifier on Train dataset:\\n\")\n",
    "print(\"Train Score : \", pcahbg_score)\n",
    "print(\"--------------------------------------------------------\")\n",
    "print(\"Classification Score for HistGradientBoosting Classifier on Test dataset:\\n\")\n",
    "print(\"Test Score :\", pcatesthbg_score)"
   ]
  },
  {
   "cell_type": "code",
   "execution_count": 23,
   "id": "35ad5f21",
   "metadata": {},
   "outputs": [
    {
     "data": {
      "image/png": "[encoded data removed]",
      "text/plain": [
       "<Figure size 1080x432 with 2 Axes>"
      ]
     },
     "metadata": {},
     "output_type": "display_data"
    },
    {
     "name": "stdout",
     "output_type": "stream",
     "text": [
      "Accuracy : 0.73\n",
      "Macro F-1 Score : 0.73\n"
     ]
    }
   ],
   "source": [
    "# Evaluate Model\n",
    "class_labels = list(model_hbg.classes_)\n",
    "macro_f1, accuracy = evaluate_model(pcaTesthbg_tuned, y_test, class_labels,\n",
    "                                    'Confustion Matrix: PCA - Tuned 30 seconds HistGradientBoosting Classifier')\n",
    "print('Accuracy : %.2f'%accuracy)\n",
    "print('Macro F-1 Score : %.2f'%macro_f1)"
   ]
  }
 ],
 "metadata": {
  "kernelspec": {
   "display_name": "Python 3",
   "language": "python",
   "name": "python3"
  },
  "language_info": {
   "codemirror_mode": {
    "name": "ipython",
    "version": 3
   },
   "file_extension": ".py",
   "mimetype": "text/x-python",
   "name": "python",
   "nbconvert_exporter": "python",
   "pygments_lexer": "ipython3",
   "version": "3.8.13"
  }
 },
 "nbformat": 4,
 "nbformat_minor": 5
}
