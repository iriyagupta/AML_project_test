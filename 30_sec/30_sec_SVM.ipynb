{
 "cells": [
  {
   "cell_type": "code",
   "execution_count": 1,
   "id": "ffa7b670",
   "metadata": {},
   "outputs": [],
   "source": [
    "from utils import *\n",
    "from sklearn.decomposition import PCA\n",
    "from sklearn.svm import SVC\n",
    "from sklearn.model_selection import GridSearchCV\n",
    "import random\n",
    "import warnings\n",
    "warnings.filterwarnings('ignore')"
   ]
  },
  {
   "cell_type": "code",
   "execution_count": 2,
   "id": "8753c6dd-b317-4710-98ea-993a105c1641",
   "metadata": {},
   "outputs": [],
   "source": [
    "data = pd.read_csv('data/features_30_sec.csv')"
   ]
  },
  {
   "cell_type": "code",
   "execution_count": 3,
   "id": "192b05f5-31d4-4350-a85d-bf391f3237a5",
   "metadata": {},
   "outputs": [],
   "source": [
    "# Identify Features and Target Label\n",
    "y = data['label']\n",
    "X = data.drop(columns = ['label','filename','length'])\n"
   ]
  },
  {
   "cell_type": "code",
   "execution_count": 4,
   "id": "e3d204f2",
   "metadata": {},
   "outputs": [
    {
     "name": "stdout",
     "output_type": "stream",
     "text": [
      "X_dev shape: (800, 57)\n",
      "X_test shape: (200, 57)\n"
     ]
    }
   ],
   "source": [
    "# Scaling and Data Spiltting  \n",
    "X = standardize(X)\n",
    "X_dev, y_dev, X_test, y_test = split(X, y)\n"
   ]
  },
  {
   "cell_type": "markdown",
   "id": "4d9caabe-d2df-40e4-9914-bc6c420e95cd",
   "metadata": {},
   "source": [
    "### Original Model\n",
    "Building a model with no parameter tuning and using the raw csv file"
   ]
  },
  {
   "cell_type": "code",
   "execution_count": 5,
   "id": "4603e557",
   "metadata": {},
   "outputs": [],
   "source": [
    "model_svm = SVC()\n",
    "model_svm.fit(X_dev, y_dev)\n",
    "predsDevsvm = model_svm.predict(X_dev)\n",
    "predsTestsvm = model_svm.predict(X_test)"
   ]
  },
  {
   "cell_type": "code",
   "execution_count": 6,
   "id": "798fd0c7",
   "metadata": {},
   "outputs": [],
   "source": [
    "testsvm_score =  accuracy_score(y_test, predsTestsvm)\n",
    "devsvm_score = accuracy_score(y_dev, predsDevsvm)"
   ]
  },
  {
   "cell_type": "code",
   "execution_count": 7,
   "id": "2cecfff5",
   "metadata": {},
   "outputs": [
    {
     "name": "stdout",
     "output_type": "stream",
     "text": [
      "Classification Score for SVM Classifier on Dev dataset:\n",
      "\n",
      "Dev Score :  0.76375\n",
      "              precision    recall  f1-score   support\n",
      "\n",
      "       blues       0.75      0.78      0.77        88\n",
      "   classical       0.95      0.98      0.96        84\n",
      "     country       0.74      0.71      0.72        78\n",
      "       disco       0.58      0.73      0.65        78\n",
      "      hiphop       0.82      0.63      0.71        81\n",
      "        jazz       0.89      0.82      0.85        71\n",
      "       metal       0.78      0.94      0.85        81\n",
      "         pop       0.85      0.83      0.84        84\n",
      "      reggae       0.72      0.73      0.73        78\n",
      "        rock       0.55      0.47      0.51        77\n",
      "\n",
      "    accuracy                           0.76       800\n",
      "   macro avg       0.77      0.76      0.76       800\n",
      "weighted avg       0.77      0.76      0.76       800\n",
      "\n",
      "--------------------------------------------------------\n",
      "Classification Score for SVM Classifier on Test dataset:\n",
      "\n",
      "Test Score : 0.72\n",
      "              precision    recall  f1-score   support\n",
      "\n",
      "       blues       0.50      0.67      0.57        12\n",
      "   classical       0.80      1.00      0.89        16\n",
      "     country       0.76      0.59      0.67        22\n",
      "       disco       0.52      0.59      0.55        22\n",
      "      hiphop       0.61      0.58      0.59        19\n",
      "        jazz       0.87      0.90      0.88        29\n",
      "       metal       0.81      0.89      0.85        19\n",
      "         pop       1.00      0.75      0.86        16\n",
      "      reggae       0.65      0.77      0.71        22\n",
      "        rock       0.73      0.48      0.58        23\n",
      "\n",
      "    accuracy                           0.72       200\n",
      "   macro avg       0.73      0.72      0.72       200\n",
      "weighted avg       0.73      0.72      0.72       200\n",
      "\n"
     ]
    }
   ],
   "source": [
    "print(\"Classification Score for SVM Classifier on Dev dataset:\\n\")\n",
    "print(\"Dev Score : \", devsvm_score)\n",
    "print(classification_report(y_dev, predsDevsvm))\n",
    "print(\"--------------------------------------------------------\")\n",
    "print(\"Classification Score for SVM Classifier on Test dataset:\\n\")\n",
    "print(\"Test Score :\", testsvm_score)\n",
    "print(classification_report(y_test, predsTestsvm))"
   ]
  },
  {
   "cell_type": "code",
   "execution_count": 8,
   "id": "e1883907",
   "metadata": {},
   "outputs": [
    {
     "data": {
      "image/png": "[encoded data removed]",
      "text/plain": [
       "<Figure size 1080x432 with 2 Axes>"
      ]
     },
     "metadata": {},
     "output_type": "display_data"
    },
    {
     "name": "stdout",
     "output_type": "stream",
     "text": [
      "Accuracy : 0.72\n",
      "Macro F-1 Score : 0.72\n"
     ]
    }
   ],
   "source": [
    "# Evaluate Model on Test set\n",
    "class_labels = list(model_svm.classes_)\n",
    "macro_f1, accuracy = evaluate_model(predsTestsvm, y_test, class_labels,\n",
    "                                    'Confustion matrix: Untuned 30 seconds SVM Classifier')\n",
    "print('Accuracy : %.2f'%accuracy)\n",
    "print('Macro F-1 Score : %.2f'%macro_f1)"
   ]
  },
  {
   "cell_type": "markdown",
   "id": "94955db3",
   "metadata": {},
   "source": [
    "### Tuned Model\n",
    "Building a model with hyperparameters tuning using 5-fold cross validation with GridSearchCV and the raw csv file"
   ]
  },
  {
   "cell_type": "code",
   "execution_count": 9,
   "id": "3fef49f4",
   "metadata": {},
   "outputs": [
    {
     "name": "stdout",
     "output_type": "stream",
     "text": [
      "{'kernel': ['linear', 'rbf', 'sigmoid'], 'C': [0.001, 0.01, 0.1, 1, 10], 'gamma': [0.001, 0.01, 0.1, 1]}\n"
     ]
    }
   ],
   "source": [
    "parameters = {\"kernel\": ['linear', 'rbf', 'sigmoid'],\n",
    "            \"C\": [0.001, 0.01, 0.1, 1, 10],\n",
    "            \"gamma\": [0.001, 0.01, 0.1, 1]}\n",
    "print(parameters)"
   ]
  },
  {
   "cell_type": "code",
   "execution_count": 10,
   "id": "88dfebb1",
   "metadata": {},
   "outputs": [
    {
     "data": {
      "text/plain": [
       "GridSearchCV(cv=5, estimator=SVC(),\n",
       "             param_grid={'C': [0.001, 0.01, 0.1, 1, 10],\n",
       "                         'gamma': [0.001, 0.01, 0.1, 1],\n",
       "                         'kernel': ['linear', 'rbf', 'sigmoid']})"
      ]
     },
     "execution_count": 10,
     "metadata": {},
     "output_type": "execute_result"
    }
   ],
   "source": [
    "tune_svm = GridSearchCV(estimator = model_svm, param_grid = parameters, cv = 5)\n",
    "tune_svm.fit(X_dev, y_dev)"
   ]
  },
  {
   "cell_type": "code",
   "execution_count": 11,
   "id": "787f731b",
   "metadata": {},
   "outputs": [
    {
     "name": "stdout",
     "output_type": "stream",
     "text": [
      "Best Score : 0.73125\n",
      "Best Parameters : {'C': 10, 'gamma': 1, 'kernel': 'rbf'}\n"
     ]
    }
   ],
   "source": [
    "print(\"Best Score :\", tune_svm.best_score_)\n",
    "print(\"Best Parameters :\",tune_svm.best_params_)"
   ]
  },
  {
   "cell_type": "code",
   "execution_count": 12,
   "id": "a51d1aca",
   "metadata": {},
   "outputs": [
    {
     "name": "stdout",
     "output_type": "stream",
     "text": [
      "Score on Dev data for svm using GridSearchCV: 0.99875\n",
      "Score on Test data for svm using GridSearchCV: 0.77\n"
     ]
    }
   ],
   "source": [
    "predsDevsvm_tuned = tune_svm.predict(X_dev)\n",
    "predsTestsvm_tuned = tune_svm.predict(X_test)\n",
    "\n",
    "print(\"Score on Dev data for svm using GridSearchCV:\", accuracy_score(y_dev, predsDevsvm_tuned))\n",
    "print(\"Score on Test data for svm using GridSearchCV:\",accuracy_score(y_test, predsTestsvm_tuned))"
   ]
  },
  {
   "cell_type": "code",
   "execution_count": 13,
   "id": "8439f97a-f8c5-43bb-a815-c308a0cdd095",
   "metadata": {},
   "outputs": [
    {
     "data": {
      "image/png": "[encoded data removed]",
      "text/plain": [
       "<Figure size 1080x432 with 2 Axes>"
      ]
     },
     "metadata": {},
     "output_type": "display_data"
    },
    {
     "name": "stdout",
     "output_type": "stream",
     "text": [
      "Accuracy : 0.77\n",
      "Macro F-1 Score : 0.77\n"
     ]
    }
   ],
   "source": [
    "# Evaluate Model on Test set\n",
    "class_labels = list(model_svm.classes_)\n",
    "macro_f1, accuracy = evaluate_model(predsTestsvm_tuned, y_test, class_labels,\n",
    "                                    'Confustion matrix: Tuned 30 seconds SVM Classifier')\n",
    "print('Accuracy : %.2f'%accuracy)\n",
    "print('Macro F-1 Score : %.2f'%macro_f1)"
   ]
  },
  {
   "cell_type": "markdown",
   "id": "833b2197",
   "metadata": {},
   "source": [
    "### Dimensionality reduction of data using PCA"
   ]
  },
  {
   "cell_type": "code",
   "execution_count": 14,
   "id": "6553145b",
   "metadata": {},
   "outputs": [
    {
     "name": "stdout",
     "output_type": "stream",
     "text": [
      "Explained Variance of each component: [0.27766419 0.24831461 0.10817539 0.0735775  0.05921353 0.04313114\n",
      " 0.03041835 0.02485929 0.02357102 0.0185913  0.01458576 0.01445453\n",
      " 0.01236632 0.01085372 0.01042907 0.00964281 0.00916207 0.00839633\n",
      " 0.00793383 0.007288   0.0072332  0.00675785 0.00606161 0.0056078\n",
      " 0.00551618 0.00512619 0.00504659 0.00465303 0.00453888 0.00424035]\n",
      "Sum of Explained Variance: 0.9554581320959247\n"
     ]
    }
   ],
   "source": [
    "# Principal Component Analysis \n",
    "### cite : https://machinelearningmastery.com/calculate-principal-component-analysis-scratch-python/\n",
    "\n",
    "# create the PCA instance\n",
    "pca = PCA(n_components=30)\n",
    "# fit on data\n",
    "pca_data = pca.fit_transform(X_dev)\n",
    "pca_data_test = pca.transform(X_test)\n",
    "# pca_data_dev = pca.transform(X_dev)\n",
    "PCA_df= pd.DataFrame(data=pca_data)\n",
    "y_dev.index = PCA_df.index\n",
    "pca_final=pd.concat([PCA_df,y_dev], axis = 1)\n",
    "# access values\n",
    "print(\"Explained Variance of each component:\",pca.explained_variance_)\n",
    "print(\"Sum of Explained Variance:\", sum(pca.explained_variance_ratio_))"
   ]
  },
  {
   "cell_type": "code",
   "execution_count": 15,
   "id": "24f6e702",
   "metadata": {},
   "outputs": [
    {
     "data": {
      "text/html": [
       "<div>\n",
       "<style scoped>\n",
       "    .dataframe tbody tr th:only-of-type {\n",
       "        vertical-align: middle;\n",
       "    }\n",
       "\n",
       "    .dataframe tbody tr th {\n",
       "        vertical-align: top;\n",
       "    }\n",
       "\n",
       "    .dataframe thead th {\n",
       "        text-align: right;\n",
       "    }\n",
       "</style>\n",
       "<table border=\"1\" class=\"dataframe\">\n",
       "  <thead>\n",
       "    <tr style=\"text-align: right;\">\n",
       "      <th></th>\n",
       "      <th>0</th>\n",
       "      <th>1</th>\n",
       "      <th>2</th>\n",
       "      <th>3</th>\n",
       "      <th>4</th>\n",
       "      <th>5</th>\n",
       "      <th>6</th>\n",
       "      <th>7</th>\n",
       "      <th>8</th>\n",
       "      <th>9</th>\n",
       "      <th>...</th>\n",
       "      <th>21</th>\n",
       "      <th>22</th>\n",
       "      <th>23</th>\n",
       "      <th>24</th>\n",
       "      <th>25</th>\n",
       "      <th>26</th>\n",
       "      <th>27</th>\n",
       "      <th>28</th>\n",
       "      <th>29</th>\n",
       "      <th>label</th>\n",
       "    </tr>\n",
       "  </thead>\n",
       "  <tbody>\n",
       "    <tr>\n",
       "      <th>0</th>\n",
       "      <td>-0.777410</td>\n",
       "      <td>0.193198</td>\n",
       "      <td>-0.058681</td>\n",
       "      <td>-0.180358</td>\n",
       "      <td>-0.005488</td>\n",
       "      <td>-0.099418</td>\n",
       "      <td>-0.209189</td>\n",
       "      <td>-0.328522</td>\n",
       "      <td>0.078992</td>\n",
       "      <td>-0.157338</td>\n",
       "      <td>...</td>\n",
       "      <td>0.038687</td>\n",
       "      <td>-0.013735</td>\n",
       "      <td>0.078342</td>\n",
       "      <td>0.043062</td>\n",
       "      <td>-0.020036</td>\n",
       "      <td>0.029268</td>\n",
       "      <td>0.075823</td>\n",
       "      <td>0.061957</td>\n",
       "      <td>-0.002228</td>\n",
       "      <td>blues</td>\n",
       "    </tr>\n",
       "    <tr>\n",
       "      <th>1</th>\n",
       "      <td>-0.599829</td>\n",
       "      <td>0.260505</td>\n",
       "      <td>0.001988</td>\n",
       "      <td>-0.047122</td>\n",
       "      <td>0.131503</td>\n",
       "      <td>-0.098224</td>\n",
       "      <td>-0.077306</td>\n",
       "      <td>0.046260</td>\n",
       "      <td>-0.040617</td>\n",
       "      <td>0.094602</td>\n",
       "      <td>...</td>\n",
       "      <td>-0.046128</td>\n",
       "      <td>-0.069489</td>\n",
       "      <td>-0.017079</td>\n",
       "      <td>0.047087</td>\n",
       "      <td>0.035360</td>\n",
       "      <td>0.008756</td>\n",
       "      <td>0.050260</td>\n",
       "      <td>0.014539</td>\n",
       "      <td>-0.018084</td>\n",
       "      <td>rock</td>\n",
       "    </tr>\n",
       "    <tr>\n",
       "      <th>2</th>\n",
       "      <td>-0.246233</td>\n",
       "      <td>-0.118150</td>\n",
       "      <td>0.065454</td>\n",
       "      <td>-0.036683</td>\n",
       "      <td>0.486624</td>\n",
       "      <td>-0.150015</td>\n",
       "      <td>-0.066611</td>\n",
       "      <td>-0.197731</td>\n",
       "      <td>0.041886</td>\n",
       "      <td>0.013271</td>\n",
       "      <td>...</td>\n",
       "      <td>0.035832</td>\n",
       "      <td>0.010318</td>\n",
       "      <td>-0.060832</td>\n",
       "      <td>-0.158323</td>\n",
       "      <td>-0.007003</td>\n",
       "      <td>0.116047</td>\n",
       "      <td>0.031020</td>\n",
       "      <td>0.002193</td>\n",
       "      <td>-0.031549</td>\n",
       "      <td>reggae</td>\n",
       "    </tr>\n",
       "    <tr>\n",
       "      <th>3</th>\n",
       "      <td>-0.748761</td>\n",
       "      <td>0.347893</td>\n",
       "      <td>-0.050810</td>\n",
       "      <td>-0.060772</td>\n",
       "      <td>0.094122</td>\n",
       "      <td>0.043072</td>\n",
       "      <td>-0.091608</td>\n",
       "      <td>0.131256</td>\n",
       "      <td>-0.044358</td>\n",
       "      <td>0.123938</td>\n",
       "      <td>...</td>\n",
       "      <td>0.002583</td>\n",
       "      <td>-0.002347</td>\n",
       "      <td>-0.015666</td>\n",
       "      <td>0.033186</td>\n",
       "      <td>-0.035766</td>\n",
       "      <td>0.014651</td>\n",
       "      <td>0.003094</td>\n",
       "      <td>0.018971</td>\n",
       "      <td>-0.025796</td>\n",
       "      <td>rock</td>\n",
       "    </tr>\n",
       "    <tr>\n",
       "      <th>4</th>\n",
       "      <td>0.390897</td>\n",
       "      <td>0.250941</td>\n",
       "      <td>-0.198188</td>\n",
       "      <td>0.293123</td>\n",
       "      <td>0.621651</td>\n",
       "      <td>0.005957</td>\n",
       "      <td>-0.025042</td>\n",
       "      <td>-0.233485</td>\n",
       "      <td>0.295028</td>\n",
       "      <td>0.131572</td>\n",
       "      <td>...</td>\n",
       "      <td>-0.081790</td>\n",
       "      <td>0.058147</td>\n",
       "      <td>-0.018631</td>\n",
       "      <td>-0.017101</td>\n",
       "      <td>-0.000729</td>\n",
       "      <td>-0.049365</td>\n",
       "      <td>-0.036298</td>\n",
       "      <td>-0.019051</td>\n",
       "      <td>0.015491</td>\n",
       "      <td>reggae</td>\n",
       "    </tr>\n",
       "  </tbody>\n",
       "</table>\n",
       "<p>5 rows × 31 columns</p>\n",
       "</div>"
      ],
      "text/plain": [
       "          0         1         2         3         4         5         6  \\\n",
       "0 -0.777410  0.193198 -0.058681 -0.180358 -0.005488 -0.099418 -0.209189   \n",
       "1 -0.599829  0.260505  0.001988 -0.047122  0.131503 -0.098224 -0.077306   \n",
       "2 -0.246233 -0.118150  0.065454 -0.036683  0.486624 -0.150015 -0.066611   \n",
       "3 -0.748761  0.347893 -0.050810 -0.060772  0.094122  0.043072 -0.091608   \n",
       "4  0.390897  0.250941 -0.198188  0.293123  0.621651  0.005957 -0.025042   \n",
       "\n",
       "          7         8         9  ...        21        22        23        24  \\\n",
       "0 -0.328522  0.078992 -0.157338  ...  0.038687 -0.013735  0.078342  0.043062   \n",
       "1  0.046260 -0.040617  0.094602  ... -0.046128 -0.069489 -0.017079  0.047087   \n",
       "2 -0.197731  0.041886  0.013271  ...  0.035832  0.010318 -0.060832 -0.158323   \n",
       "3  0.131256 -0.044358  0.123938  ...  0.002583 -0.002347 -0.015666  0.033186   \n",
       "4 -0.233485  0.295028  0.131572  ... -0.081790  0.058147 -0.018631 -0.017101   \n",
       "\n",
       "         25        26        27        28        29   label  \n",
       "0 -0.020036  0.029268  0.075823  0.061957 -0.002228   blues  \n",
       "1  0.035360  0.008756  0.050260  0.014539 -0.018084    rock  \n",
       "2 -0.007003  0.116047  0.031020  0.002193 -0.031549  reggae  \n",
       "3 -0.035766  0.014651  0.003094  0.018971 -0.025796    rock  \n",
       "4 -0.000729 -0.049365 -0.036298 -0.019051  0.015491  reggae  \n",
       "\n",
       "[5 rows x 31 columns]"
      ]
     },
     "execution_count": 15,
     "metadata": {},
     "output_type": "execute_result"
    }
   ],
   "source": [
    "pca_final.head()"
   ]
  },
  {
   "cell_type": "markdown",
   "id": "7793a70c-2945-4262-a2be-3660cd158cf5",
   "metadata": {},
   "source": [
    "### PCA - Original Model\n",
    "Building a model with no parameter tuning and using the PCA data"
   ]
  },
  {
   "cell_type": "code",
   "execution_count": 16,
   "id": "f4b1db81",
   "metadata": {},
   "outputs": [],
   "source": [
    "model_pca = SVC()\n",
    "model_pca.fit(pca_final.iloc[:,:30],pca_final.iloc[:,30])\n",
    "pcaTrainsvm = model_pca.predict(pca_data)\n",
    "pcaTestsvm = model_pca.predict(pca_data_test)"
   ]
  },
  {
   "cell_type": "code",
   "execution_count": 17,
   "id": "7f28b6d2",
   "metadata": {},
   "outputs": [],
   "source": [
    "pcatestsvm_score =  accuracy_score(y_test, pcaTestsvm)\n",
    "pcasvm_score = accuracy_score(y_dev, pcaTrainsvm)"
   ]
  },
  {
   "cell_type": "code",
   "execution_count": 18,
   "id": "3c0cf3a6",
   "metadata": {},
   "outputs": [
    {
     "name": "stdout",
     "output_type": "stream",
     "text": [
      "Classification Score for SVM Classifier on Train dataset:\n",
      "\n",
      "Train Score :  0.85625\n",
      "--------------------------------------------------------\n",
      "Classification Score for SVM Classifier on Test dataset:\n",
      "\n",
      "Test Score : 0.775\n"
     ]
    }
   ],
   "source": [
    "print(\"Classification Score for SVM Classifier on Train dataset:\\n\")\n",
    "print(\"Train Score : \", pcasvm_score)\n",
    "print(\"--------------------------------------------------------\")\n",
    "print(\"Classification Score for SVM Classifier on Test dataset:\\n\")\n",
    "print(\"Test Score :\", pcatestsvm_score)"
   ]
  },
  {
   "cell_type": "code",
   "execution_count": 19,
   "id": "efa40f55",
   "metadata": {},
   "outputs": [
    {
     "data": {
      "image/png": "[encoded data removed]",
      "text/plain": [
       "<Figure size 1080x432 with 2 Axes>"
      ]
     },
     "metadata": {},
     "output_type": "display_data"
    },
    {
     "name": "stdout",
     "output_type": "stream",
     "text": [
      "Accuracy : 0.78\n",
      "Macro F-1 Score : 0.77\n"
     ]
    }
   ],
   "source": [
    "# Evaluate Model\n",
    "class_labels = list(model_svm.classes_)\n",
    "macro_f1, accuracy = evaluate_model(pcaTestsvm, y_test, class_labels,\n",
    "                                    'Confustion Matrix: PCA - Untuned 30 seconds SVM Classifier')\n",
    "print('Accuracy : %.2f'%accuracy)\n",
    "print('Macro F-1 Score : %.2f'%macro_f1)"
   ]
  },
  {
   "cell_type": "markdown",
   "id": "abbdcf85",
   "metadata": {},
   "source": [
    "### PCA - Tuned Model\n",
    "Building a model with hyperparameters tuning using 5-fold cross validation with GridSearchCV and the PCA data"
   ]
  },
  {
   "cell_type": "code",
   "execution_count": 20,
   "id": "a4a2e80a",
   "metadata": {},
   "outputs": [
    {
     "data": {
      "text/html": [
       "<div>\n",
       "<style scoped>\n",
       "    .dataframe tbody tr th:only-of-type {\n",
       "        vertical-align: middle;\n",
       "    }\n",
       "\n",
       "    .dataframe tbody tr th {\n",
       "        vertical-align: top;\n",
       "    }\n",
       "\n",
       "    .dataframe thead th {\n",
       "        text-align: right;\n",
       "    }\n",
       "</style>\n",
       "<table border=\"1\" class=\"dataframe\">\n",
       "  <thead>\n",
       "    <tr style=\"text-align: right;\">\n",
       "      <th></th>\n",
       "      <th>0</th>\n",
       "      <th>1</th>\n",
       "      <th>2</th>\n",
       "      <th>3</th>\n",
       "      <th>4</th>\n",
       "      <th>5</th>\n",
       "      <th>6</th>\n",
       "      <th>7</th>\n",
       "      <th>8</th>\n",
       "      <th>9</th>\n",
       "      <th>...</th>\n",
       "      <th>20</th>\n",
       "      <th>21</th>\n",
       "      <th>22</th>\n",
       "      <th>23</th>\n",
       "      <th>24</th>\n",
       "      <th>25</th>\n",
       "      <th>26</th>\n",
       "      <th>27</th>\n",
       "      <th>28</th>\n",
       "      <th>29</th>\n",
       "    </tr>\n",
       "  </thead>\n",
       "  <tbody>\n",
       "    <tr>\n",
       "      <th>0</th>\n",
       "      <td>-0.777410</td>\n",
       "      <td>0.193198</td>\n",
       "      <td>-0.058681</td>\n",
       "      <td>-0.180358</td>\n",
       "      <td>-0.005488</td>\n",
       "      <td>-0.099418</td>\n",
       "      <td>-0.209189</td>\n",
       "      <td>-0.328522</td>\n",
       "      <td>0.078992</td>\n",
       "      <td>-0.157338</td>\n",
       "      <td>...</td>\n",
       "      <td>0.041063</td>\n",
       "      <td>0.038687</td>\n",
       "      <td>-0.013735</td>\n",
       "      <td>0.078342</td>\n",
       "      <td>0.043062</td>\n",
       "      <td>-0.020036</td>\n",
       "      <td>0.029268</td>\n",
       "      <td>0.075823</td>\n",
       "      <td>0.061957</td>\n",
       "      <td>-0.002228</td>\n",
       "    </tr>\n",
       "    <tr>\n",
       "      <th>1</th>\n",
       "      <td>-0.599829</td>\n",
       "      <td>0.260505</td>\n",
       "      <td>0.001988</td>\n",
       "      <td>-0.047122</td>\n",
       "      <td>0.131503</td>\n",
       "      <td>-0.098224</td>\n",
       "      <td>-0.077306</td>\n",
       "      <td>0.046260</td>\n",
       "      <td>-0.040617</td>\n",
       "      <td>0.094602</td>\n",
       "      <td>...</td>\n",
       "      <td>-0.041297</td>\n",
       "      <td>-0.046128</td>\n",
       "      <td>-0.069489</td>\n",
       "      <td>-0.017079</td>\n",
       "      <td>0.047087</td>\n",
       "      <td>0.035360</td>\n",
       "      <td>0.008756</td>\n",
       "      <td>0.050260</td>\n",
       "      <td>0.014539</td>\n",
       "      <td>-0.018084</td>\n",
       "    </tr>\n",
       "    <tr>\n",
       "      <th>2</th>\n",
       "      <td>-0.246233</td>\n",
       "      <td>-0.118150</td>\n",
       "      <td>0.065454</td>\n",
       "      <td>-0.036683</td>\n",
       "      <td>0.486624</td>\n",
       "      <td>-0.150015</td>\n",
       "      <td>-0.066611</td>\n",
       "      <td>-0.197731</td>\n",
       "      <td>0.041886</td>\n",
       "      <td>0.013271</td>\n",
       "      <td>...</td>\n",
       "      <td>0.088479</td>\n",
       "      <td>0.035832</td>\n",
       "      <td>0.010318</td>\n",
       "      <td>-0.060832</td>\n",
       "      <td>-0.158323</td>\n",
       "      <td>-0.007003</td>\n",
       "      <td>0.116047</td>\n",
       "      <td>0.031020</td>\n",
       "      <td>0.002193</td>\n",
       "      <td>-0.031549</td>\n",
       "    </tr>\n",
       "    <tr>\n",
       "      <th>3</th>\n",
       "      <td>-0.748761</td>\n",
       "      <td>0.347893</td>\n",
       "      <td>-0.050810</td>\n",
       "      <td>-0.060772</td>\n",
       "      <td>0.094122</td>\n",
       "      <td>0.043072</td>\n",
       "      <td>-0.091608</td>\n",
       "      <td>0.131256</td>\n",
       "      <td>-0.044358</td>\n",
       "      <td>0.123938</td>\n",
       "      <td>...</td>\n",
       "      <td>-0.015485</td>\n",
       "      <td>0.002583</td>\n",
       "      <td>-0.002347</td>\n",
       "      <td>-0.015666</td>\n",
       "      <td>0.033186</td>\n",
       "      <td>-0.035766</td>\n",
       "      <td>0.014651</td>\n",
       "      <td>0.003094</td>\n",
       "      <td>0.018971</td>\n",
       "      <td>-0.025796</td>\n",
       "    </tr>\n",
       "    <tr>\n",
       "      <th>4</th>\n",
       "      <td>0.390897</td>\n",
       "      <td>0.250941</td>\n",
       "      <td>-0.198188</td>\n",
       "      <td>0.293123</td>\n",
       "      <td>0.621651</td>\n",
       "      <td>0.005957</td>\n",
       "      <td>-0.025042</td>\n",
       "      <td>-0.233485</td>\n",
       "      <td>0.295028</td>\n",
       "      <td>0.131572</td>\n",
       "      <td>...</td>\n",
       "      <td>0.017183</td>\n",
       "      <td>-0.081790</td>\n",
       "      <td>0.058147</td>\n",
       "      <td>-0.018631</td>\n",
       "      <td>-0.017101</td>\n",
       "      <td>-0.000729</td>\n",
       "      <td>-0.049365</td>\n",
       "      <td>-0.036298</td>\n",
       "      <td>-0.019051</td>\n",
       "      <td>0.015491</td>\n",
       "    </tr>\n",
       "    <tr>\n",
       "      <th>...</th>\n",
       "      <td>...</td>\n",
       "      <td>...</td>\n",
       "      <td>...</td>\n",
       "      <td>...</td>\n",
       "      <td>...</td>\n",
       "      <td>...</td>\n",
       "      <td>...</td>\n",
       "      <td>...</td>\n",
       "      <td>...</td>\n",
       "      <td>...</td>\n",
       "      <td>...</td>\n",
       "      <td>...</td>\n",
       "      <td>...</td>\n",
       "      <td>...</td>\n",
       "      <td>...</td>\n",
       "      <td>...</td>\n",
       "      <td>...</td>\n",
       "      <td>...</td>\n",
       "      <td>...</td>\n",
       "      <td>...</td>\n",
       "      <td>...</td>\n",
       "    </tr>\n",
       "    <tr>\n",
       "      <th>795</th>\n",
       "      <td>-0.565572</td>\n",
       "      <td>0.422083</td>\n",
       "      <td>0.328459</td>\n",
       "      <td>0.111136</td>\n",
       "      <td>-0.153392</td>\n",
       "      <td>-0.133144</td>\n",
       "      <td>0.121274</td>\n",
       "      <td>0.170833</td>\n",
       "      <td>0.181535</td>\n",
       "      <td>-0.003548</td>\n",
       "      <td>...</td>\n",
       "      <td>0.293158</td>\n",
       "      <td>-0.013221</td>\n",
       "      <td>0.058098</td>\n",
       "      <td>0.047991</td>\n",
       "      <td>0.082296</td>\n",
       "      <td>-0.065198</td>\n",
       "      <td>0.015111</td>\n",
       "      <td>-0.022493</td>\n",
       "      <td>-0.003685</td>\n",
       "      <td>0.006048</td>\n",
       "    </tr>\n",
       "    <tr>\n",
       "      <th>796</th>\n",
       "      <td>0.258810</td>\n",
       "      <td>-0.934083</td>\n",
       "      <td>0.031836</td>\n",
       "      <td>0.495334</td>\n",
       "      <td>0.077338</td>\n",
       "      <td>-0.114135</td>\n",
       "      <td>0.171020</td>\n",
       "      <td>-0.128289</td>\n",
       "      <td>0.103751</td>\n",
       "      <td>0.171788</td>\n",
       "      <td>...</td>\n",
       "      <td>0.029115</td>\n",
       "      <td>-0.006572</td>\n",
       "      <td>-0.040898</td>\n",
       "      <td>0.058107</td>\n",
       "      <td>0.157340</td>\n",
       "      <td>0.040754</td>\n",
       "      <td>-0.132450</td>\n",
       "      <td>-0.037645</td>\n",
       "      <td>0.098647</td>\n",
       "      <td>-0.000561</td>\n",
       "    </tr>\n",
       "    <tr>\n",
       "      <th>797</th>\n",
       "      <td>1.243638</td>\n",
       "      <td>0.799851</td>\n",
       "      <td>0.648936</td>\n",
       "      <td>0.304699</td>\n",
       "      <td>-0.379732</td>\n",
       "      <td>0.291342</td>\n",
       "      <td>-0.171435</td>\n",
       "      <td>-0.020327</td>\n",
       "      <td>0.029573</td>\n",
       "      <td>-0.338985</td>\n",
       "      <td>...</td>\n",
       "      <td>-0.005145</td>\n",
       "      <td>-0.005009</td>\n",
       "      <td>0.014084</td>\n",
       "      <td>-0.005221</td>\n",
       "      <td>0.054093</td>\n",
       "      <td>-0.002200</td>\n",
       "      <td>-0.062810</td>\n",
       "      <td>-0.102748</td>\n",
       "      <td>-0.034462</td>\n",
       "      <td>0.005716</td>\n",
       "    </tr>\n",
       "    <tr>\n",
       "      <th>798</th>\n",
       "      <td>0.251711</td>\n",
       "      <td>0.398993</td>\n",
       "      <td>-0.418890</td>\n",
       "      <td>-0.045822</td>\n",
       "      <td>0.030828</td>\n",
       "      <td>0.140385</td>\n",
       "      <td>-0.063129</td>\n",
       "      <td>-0.085617</td>\n",
       "      <td>-0.096345</td>\n",
       "      <td>0.127783</td>\n",
       "      <td>...</td>\n",
       "      <td>0.080252</td>\n",
       "      <td>-0.048875</td>\n",
       "      <td>0.016659</td>\n",
       "      <td>-0.003653</td>\n",
       "      <td>-0.024692</td>\n",
       "      <td>0.125774</td>\n",
       "      <td>-0.097164</td>\n",
       "      <td>-0.052864</td>\n",
       "      <td>0.028607</td>\n",
       "      <td>-0.102050</td>\n",
       "    </tr>\n",
       "    <tr>\n",
       "      <th>799</th>\n",
       "      <td>0.431775</td>\n",
       "      <td>-0.166857</td>\n",
       "      <td>-0.363375</td>\n",
       "      <td>0.099114</td>\n",
       "      <td>0.416899</td>\n",
       "      <td>0.067133</td>\n",
       "      <td>-0.012721</td>\n",
       "      <td>0.112111</td>\n",
       "      <td>-0.131546</td>\n",
       "      <td>0.028367</td>\n",
       "      <td>...</td>\n",
       "      <td>-0.012272</td>\n",
       "      <td>0.035830</td>\n",
       "      <td>0.058769</td>\n",
       "      <td>0.027259</td>\n",
       "      <td>-0.069510</td>\n",
       "      <td>-0.029041</td>\n",
       "      <td>-0.067219</td>\n",
       "      <td>-0.045143</td>\n",
       "      <td>-0.021680</td>\n",
       "      <td>0.058555</td>\n",
       "    </tr>\n",
       "  </tbody>\n",
       "</table>\n",
       "<p>800 rows × 30 columns</p>\n",
       "</div>"
      ],
      "text/plain": [
       "           0         1         2         3         4         5         6   \\\n",
       "0   -0.777410  0.193198 -0.058681 -0.180358 -0.005488 -0.099418 -0.209189   \n",
       "1   -0.599829  0.260505  0.001988 -0.047122  0.131503 -0.098224 -0.077306   \n",
       "2   -0.246233 -0.118150  0.065454 -0.036683  0.486624 -0.150015 -0.066611   \n",
       "3   -0.748761  0.347893 -0.050810 -0.060772  0.094122  0.043072 -0.091608   \n",
       "4    0.390897  0.250941 -0.198188  0.293123  0.621651  0.005957 -0.025042   \n",
       "..        ...       ...       ...       ...       ...       ...       ...   \n",
       "795 -0.565572  0.422083  0.328459  0.111136 -0.153392 -0.133144  0.121274   \n",
       "796  0.258810 -0.934083  0.031836  0.495334  0.077338 -0.114135  0.171020   \n",
       "797  1.243638  0.799851  0.648936  0.304699 -0.379732  0.291342 -0.171435   \n",
       "798  0.251711  0.398993 -0.418890 -0.045822  0.030828  0.140385 -0.063129   \n",
       "799  0.431775 -0.166857 -0.363375  0.099114  0.416899  0.067133 -0.012721   \n",
       "\n",
       "           7         8         9   ...        20        21        22  \\\n",
       "0   -0.328522  0.078992 -0.157338  ...  0.041063  0.038687 -0.013735   \n",
       "1    0.046260 -0.040617  0.094602  ... -0.041297 -0.046128 -0.069489   \n",
       "2   -0.197731  0.041886  0.013271  ...  0.088479  0.035832  0.010318   \n",
       "3    0.131256 -0.044358  0.123938  ... -0.015485  0.002583 -0.002347   \n",
       "4   -0.233485  0.295028  0.131572  ...  0.017183 -0.081790  0.058147   \n",
       "..        ...       ...       ...  ...       ...       ...       ...   \n",
       "795  0.170833  0.181535 -0.003548  ...  0.293158 -0.013221  0.058098   \n",
       "796 -0.128289  0.103751  0.171788  ...  0.029115 -0.006572 -0.040898   \n",
       "797 -0.020327  0.029573 -0.338985  ... -0.005145 -0.005009  0.014084   \n",
       "798 -0.085617 -0.096345  0.127783  ...  0.080252 -0.048875  0.016659   \n",
       "799  0.112111 -0.131546  0.028367  ... -0.012272  0.035830  0.058769   \n",
       "\n",
       "           23        24        25        26        27        28        29  \n",
       "0    0.078342  0.043062 -0.020036  0.029268  0.075823  0.061957 -0.002228  \n",
       "1   -0.017079  0.047087  0.035360  0.008756  0.050260  0.014539 -0.018084  \n",
       "2   -0.060832 -0.158323 -0.007003  0.116047  0.031020  0.002193 -0.031549  \n",
       "3   -0.015666  0.033186 -0.035766  0.014651  0.003094  0.018971 -0.025796  \n",
       "4   -0.018631 -0.017101 -0.000729 -0.049365 -0.036298 -0.019051  0.015491  \n",
       "..        ...       ...       ...       ...       ...       ...       ...  \n",
       "795  0.047991  0.082296 -0.065198  0.015111 -0.022493 -0.003685  0.006048  \n",
       "796  0.058107  0.157340  0.040754 -0.132450 -0.037645  0.098647 -0.000561  \n",
       "797 -0.005221  0.054093 -0.002200 -0.062810 -0.102748 -0.034462  0.005716  \n",
       "798 -0.003653 -0.024692  0.125774 -0.097164 -0.052864  0.028607 -0.102050  \n",
       "799  0.027259 -0.069510 -0.029041 -0.067219 -0.045143 -0.021680  0.058555  \n",
       "\n",
       "[800 rows x 30 columns]"
      ]
     },
     "execution_count": 20,
     "metadata": {},
     "output_type": "execute_result"
    }
   ],
   "source": [
    "pca_final.iloc[:,:30]"
   ]
  },
  {
   "cell_type": "code",
   "execution_count": 21,
   "id": "2d7297c1",
   "metadata": {},
   "outputs": [],
   "source": [
    "model_pca_tuned = tune_svm\n",
    "model_pca_tuned.fit(pca_final.iloc[:,:30],pca_final.iloc[:,30])\n",
    "pcaTrainsvm_tuned = model_pca_tuned.predict(pca_data)\n",
    "pcaTestsvm_tuned = model_pca_tuned.predict(pca_data_test)"
   ]
  },
  {
   "cell_type": "code",
   "execution_count": 22,
   "id": "10717858",
   "metadata": {},
   "outputs": [],
   "source": [
    "pcatestsvm_score =  accuracy_score(y_test, pcaTestsvm)\n",
    "pcasvm_score = accuracy_score(y_dev, pcaTrainsvm)"
   ]
  },
  {
   "cell_type": "code",
   "execution_count": 23,
   "id": "648af0d4",
   "metadata": {},
   "outputs": [
    {
     "name": "stdout",
     "output_type": "stream",
     "text": [
      "Classification Score for SVM Classifier on Train dataset:\n",
      "\n",
      "Train Score :  0.85625\n",
      "--------------------------------------------------------\n",
      "Classification Score for SVM Classifier on Test dataset:\n",
      "\n",
      "Test Score : 0.775\n"
     ]
    }
   ],
   "source": [
    "print(\"Classification Score for SVM Classifier on Train dataset:\\n\")\n",
    "print(\"Train Score : \", pcasvm_score)\n",
    "print(\"--------------------------------------------------------\")\n",
    "print(\"Classification Score for SVM Classifier on Test dataset:\\n\")\n",
    "print(\"Test Score :\", pcatestsvm_score)"
   ]
  },
  {
   "cell_type": "code",
   "execution_count": 24,
   "id": "35ad5f21",
   "metadata": {},
   "outputs": [
    {
     "data": {
      "image/png": "[encoded data removed]",
      "text/plain": [
       "<Figure size 1080x432 with 2 Axes>"
      ]
     },
     "metadata": {},
     "output_type": "display_data"
    },
    {
     "name": "stdout",
     "output_type": "stream",
     "text": [
      "Accuracy : 0.78\n",
      "Macro F-1 Score : 0.77\n"
     ]
    }
   ],
   "source": [
    "# Evaluate Model\n",
    "class_labels = list(model_svm.classes_)\n",
    "macro_f1, accuracy = evaluate_model(pcaTestsvm, y_test, class_labels,\n",
    "                                    'Confustion Matrix: PCA - Tuned 30 seconds SVM Classifier')\n",
    "print('Accuracy : %.2f'%accuracy)\n",
    "print('Macro F-1 Score : %.2f'%macro_f1)"
   ]
  },
  {
   "cell_type": "code",
   "execution_count": null,
   "id": "9d94c790-c815-47d3-80f1-21eb015d90af",
   "metadata": {},
   "outputs": [],
   "source": []
  }
 ],
 "metadata": {
  "kernelspec": {
   "display_name": "Python 3 (ipykernel)",
   "language": "python",
   "name": "python3"
  },
  "language_info": {
   "codemirror_mode": {
    "name": "ipython",
    "version": 3
   },
   "file_extension": ".py",
   "mimetype": "text/x-python",
   "name": "python",
   "nbconvert_exporter": "python",
   "pygments_lexer": "ipython3",
   "version": "3.9.7"
  }
 },
 "nbformat": 4,
 "nbformat_minor": 5
}
