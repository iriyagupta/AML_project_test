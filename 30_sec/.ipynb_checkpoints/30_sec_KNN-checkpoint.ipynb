{
 "cells": [
  {
   "cell_type": "code",
   "execution_count": 1,
   "id": "ffa7b670",
   "metadata": {},
   "outputs": [],
   "source": [
    "from utils import *\n",
    "from sklearn.decomposition import PCA\n",
    "from sklearn.neighbors import KNeighborsClassifier\n",
    "from sklearn.model_selection import GridSearchCV\n",
    "import random\n",
    "import warnings\n",
    "warnings.filterwarnings('ignore')"
   ]
  },
  {
   "cell_type": "code",
   "execution_count": 2,
   "id": "8753c6dd-b317-4710-98ea-993a105c1641",
   "metadata": {},
   "outputs": [],
   "source": [
    "data = pd.read_csv('data/features_30_sec.csv')"
   ]
  },
  {
   "cell_type": "code",
   "execution_count": 3,
   "id": "192b05f5-31d4-4350-a85d-bf391f3237a5",
   "metadata": {},
   "outputs": [],
   "source": [
    "# Identify Features and Target Label\n",
    "y = data['label']\n",
    "X = data.drop(columns = ['label','filename','length'])\n"
   ]
  },
  {
   "cell_type": "code",
   "execution_count": 4,
   "id": "e3d204f2",
   "metadata": {},
   "outputs": [
    {
     "name": "stdout",
     "output_type": "stream",
     "text": [
      "X_dev shape: (800, 57)\n",
      "X_test shape: (200, 57)\n"
     ]
    }
   ],
   "source": [
    "# Scaling and Data Spiltting  \n",
    "X = standardize(X)\n",
    "X_dev, y_dev, X_test, y_test = split(X, y)\n"
   ]
  },
  {
   "cell_type": "markdown",
   "id": "4d9caabe-d2df-40e4-9914-bc6c420e95cd",
   "metadata": {},
   "source": [
    "### Original Model\n",
    "Building a model with no parameter tuning and using the raw csv file"
   ]
  },
  {
   "cell_type": "code",
   "execution_count": 5,
   "id": "4603e557",
   "metadata": {},
   "outputs": [],
   "source": [
    "model_knn = KNeighborsClassifier()\n",
    "model_knn.fit(X_dev, y_dev)\n",
    "predsDevknn = model_knn.predict(X_dev)\n",
    "predsTestknn = model_knn.predict(X_test)"
   ]
  },
  {
   "cell_type": "code",
   "execution_count": 6,
   "id": "798fd0c7",
   "metadata": {},
   "outputs": [],
   "source": [
    "testknn_score =  accuracy_score(y_test, predsTestknn)\n",
    "devknn_score = accuracy_score(y_dev, predsDevknn)"
   ]
  },
  {
   "cell_type": "code",
   "execution_count": 7,
   "id": "2cecfff5",
   "metadata": {},
   "outputs": [
    {
     "name": "stdout",
     "output_type": "stream",
     "text": [
      "Classification Score for K Neighbors Classifier on Dev dataset:\n",
      "\n",
      "Dev Score :  0.79875\n",
      "              precision    recall  f1-score   support\n",
      "\n",
      "       blues       0.84      0.88      0.86        88\n",
      "   classical       0.89      0.99      0.94        84\n",
      "     country       0.64      0.87      0.74        78\n",
      "       disco       0.70      0.77      0.73        78\n",
      "      hiphop       0.80      0.73      0.76        81\n",
      "        jazz       0.92      0.69      0.79        71\n",
      "       metal       0.96      0.83      0.89        81\n",
      "         pop       0.84      0.86      0.85        84\n",
      "      reggae       0.81      0.64      0.71        78\n",
      "        rock       0.69      0.70      0.70        77\n",
      "\n",
      "    accuracy                           0.80       800\n",
      "   macro avg       0.81      0.79      0.80       800\n",
      "weighted avg       0.81      0.80      0.80       800\n",
      "\n",
      "--------------------------------------------------------\n",
      "Classification Score for K Neighbors Classifier on Test dataset:\n",
      "\n",
      "Test Score : 0.71\n",
      "              precision    recall  f1-score   support\n",
      "\n",
      "       blues       0.75      1.00      0.86        12\n",
      "   classical       0.76      1.00      0.86        16\n",
      "     country       0.70      0.73      0.71        22\n",
      "       disco       0.58      0.68      0.62        22\n",
      "      hiphop       0.69      0.58      0.63        19\n",
      "        jazz       0.88      0.76      0.81        29\n",
      "       metal       1.00      0.74      0.85        19\n",
      "         pop       0.65      0.69      0.67        16\n",
      "      reggae       0.72      0.59      0.65        22\n",
      "        rock       0.50      0.52      0.51        23\n",
      "\n",
      "    accuracy                           0.71       200\n",
      "   macro avg       0.72      0.73      0.72       200\n",
      "weighted avg       0.72      0.71      0.71       200\n",
      "\n"
     ]
    }
   ],
   "source": [
    "print(\"Classification Score for K Neighbors Classifier on Dev dataset:\\n\")\n",
    "print(\"Dev Score : \", devknn_score)\n",
    "print(classification_report(y_dev, predsDevknn))\n",
    "print(\"--------------------------------------------------------\")\n",
    "print(\"Classification Score for K Neighbors Classifier on Test dataset:\\n\")\n",
    "print(\"Test Score :\", testknn_score)\n",
    "print(classification_report(y_test, predsTestknn))"
   ]
  },
  {
   "cell_type": "code",
   "execution_count": 8,
   "id": "e1883907",
   "metadata": {},
   "outputs": [
    {
     "data": {
      "image/png": "[encoded data removed]",
      "text/plain": [
       "<Figure size 1080x432 with 2 Axes>"
      ]
     },
     "metadata": {},
     "output_type": "display_data"
    },
    {
     "name": "stdout",
     "output_type": "stream",
     "text": [
      "Accuracy : 0.71\n",
      "Macro F-1 Score : 0.72\n"
     ]
    }
   ],
   "source": [
    "# Evaluate Model on Test set\n",
    "class_labels = list(model_knn.classes_)\n",
    "macro_f1, accuracy = evaluate_model(predsTestknn, y_test, class_labels, 'Confustion matrix: Untuned 30 seconds K Neighbors Classifier')\n",
    "print('Accuracy : %.2f'%accuracy)\n",
    "print('Macro F-1 Score : %.2f'%macro_f1)"
   ]
  },
  {
   "cell_type": "markdown",
   "id": "94955db3",
   "metadata": {},
   "source": [
    "### Tuned Model\n",
    "Building a model with hyperparameters tuning using 5-fold cross validation with GridSearchCV and the raw csv file"
   ]
  },
  {
   "cell_type": "code",
   "execution_count": 9,
   "id": "3fef49f4",
   "metadata": {},
   "outputs": [
    {
     "name": "stdout",
     "output_type": "stream",
     "text": [
      "{'n_neighbors': [5, 10, 15, 20], 'algorithm': ['ball_tree', 'kd_tree', 'brute']}\n"
     ]
    }
   ],
   "source": [
    "criteria = ['gini', 'entropy']\n",
    "max_depth = [4, 8, 10, 12, 16]\n",
    "\n",
    "parameters = {'n_neighbors':[5,10,15,20],\n",
    "            'algorithm':[ 'ball_tree', 'kd_tree', 'brute']}\n",
    "print(parameters)"
   ]
  },
  {
   "cell_type": "code",
   "execution_count": 10,
   "id": "88dfebb1",
   "metadata": {},
   "outputs": [
    {
     "data": {
      "text/plain": [
       "GridSearchCV(cv=5, estimator=KNeighborsClassifier(),\n",
       "             param_grid={'algorithm': ['ball_tree', 'kd_tree', 'brute'],\n",
       "                         'n_neighbors': [5, 10, 15, 20]})"
      ]
     },
     "execution_count": 10,
     "metadata": {},
     "output_type": "execute_result"
    }
   ],
   "source": [
    "tune_knn = GridSearchCV(estimator = model_knn, param_grid = parameters, cv = 5)\n",
    "tune_knn.fit(X_dev, y_dev)"
   ]
  },
  {
   "cell_type": "code",
   "execution_count": 11,
   "id": "787f731b",
   "metadata": {},
   "outputs": [
    {
     "name": "stdout",
     "output_type": "stream",
     "text": [
      "Best Score : 0.6725\n",
      "Best Parameters : {'algorithm': 'kd_tree', 'n_neighbors': 5}\n"
     ]
    }
   ],
   "source": [
    "print(\"Best Score :\", tune_knn.best_score_)\n",
    "print(\"Best Parameters :\",tune_knn.best_params_)"
   ]
  },
  {
   "cell_type": "code",
   "execution_count": 12,
   "id": "a51d1aca",
   "metadata": {},
   "outputs": [
    {
     "name": "stdout",
     "output_type": "stream",
     "text": [
      "Score on Dev data for KNN using GridSearchCV: 0.79875\n",
      "Score on Test data for KNN using GridSearchCV: 0.71\n"
     ]
    }
   ],
   "source": [
    "predsDevknn_tuned = tune_knn.predict(X_dev)\n",
    "predsTestknn_tuned = tune_knn.predict(X_test)\n",
    "\n",
    "print(\"Score on Dev data for KNN using GridSearchCV:\", accuracy_score(y_dev, predsDevknn_tuned))\n",
    "print(\"Score on Test data for KNN using GridSearchCV:\",accuracy_score(y_test, predsTestknn_tuned))"
   ]
  },
  {
   "cell_type": "code",
   "execution_count": 13,
   "id": "8439f97a-f8c5-43bb-a815-c308a0cdd095",
   "metadata": {},
   "outputs": [
    {
     "data": {
      "image/png": "[encoded data removed]",
      "text/plain": [
       "<Figure size 1080x432 with 2 Axes>"
      ]
     },
     "metadata": {},
     "output_type": "display_data"
    },
    {
     "name": "stdout",
     "output_type": "stream",
     "text": [
      "Accuracy : 0.71\n",
      "Macro F-1 Score : 0.72\n"
     ]
    }
   ],
   "source": [
    "# Evaluate Model on Test set\n",
    "class_labels = list(model_knn.classes_)\n",
    "macro_f1, accuracy = evaluate_model(predsTestknn_tuned, y_test, class_labels, 'Confustion matrix: Tuned 30 seconds K Neighbors Classifier')\n",
    "print('Accuracy : %.2f'%accuracy)\n",
    "print('Macro F-1 Score : %.2f'%macro_f1)"
   ]
  },
  {
   "cell_type": "markdown",
   "id": "833b2197",
   "metadata": {},
   "source": [
    "### Dimensionality reduction of data using PCA"
   ]
  },
  {
   "cell_type": "code",
   "execution_count": 14,
   "id": "6553145b",
   "metadata": {},
   "outputs": [
    {
     "name": "stdout",
     "output_type": "stream",
     "text": [
      "Explained Variance of each component: [0.27766419 0.24831461 0.10817539 0.0735775  0.05921353 0.04313114\n",
      " 0.03041835 0.02485929 0.02357102 0.0185913  0.01458576 0.01445453\n",
      " 0.01236632 0.01085372 0.01042908 0.00964282 0.00916213 0.00839636\n",
      " 0.00793393 0.00728809 0.00723327 0.00675806 0.00606185 0.00560827\n",
      " 0.00551547 0.00512694 0.00504956 0.00465425 0.00453778 0.00424323]\n",
      "Sum of Explained Variance: 0.9554646753552742\n"
     ]
    }
   ],
   "source": [
    "# Principal Component Analysis \n",
    "### cite : https://machinelearningmastery.com/calculate-principal-component-analysis-scratch-python/\n",
    "\n",
    "# create the PCA instance\n",
    "pca = PCA(n_components=30)\n",
    "# fit on data\n",
    "pca_data = pca.fit_transform(X_dev)\n",
    "pca_data_test = pca.transform(X_test)\n",
    "# pca_data_dev = pca.transform(X_dev)\n",
    "PCA_df= pd.DataFrame(data=pca_data)\n",
    "y_dev.index = PCA_df.index\n",
    "pca_final=pd.concat([PCA_df,y_dev], axis = 1)\n",
    "# access values\n",
    "print(\"Explained Variance of each component:\",pca.explained_variance_)\n",
    "print(\"Sum of Explained Variance:\", sum(pca.explained_variance_ratio_))"
   ]
  },
  {
   "cell_type": "code",
   "execution_count": 15,
   "id": "24f6e702",
   "metadata": {},
   "outputs": [
    {
     "data": {
      "text/html": [
       "<div>\n",
       "<style scoped>\n",
       "    .dataframe tbody tr th:only-of-type {\n",
       "        vertical-align: middle;\n",
       "    }\n",
       "\n",
       "    .dataframe tbody tr th {\n",
       "        vertical-align: top;\n",
       "    }\n",
       "\n",
       "    .dataframe thead th {\n",
       "        text-align: right;\n",
       "    }\n",
       "</style>\n",
       "<table border=\"1\" class=\"dataframe\">\n",
       "  <thead>\n",
       "    <tr style=\"text-align: right;\">\n",
       "      <th></th>\n",
       "      <th>0</th>\n",
       "      <th>1</th>\n",
       "      <th>2</th>\n",
       "      <th>3</th>\n",
       "      <th>4</th>\n",
       "      <th>5</th>\n",
       "      <th>6</th>\n",
       "      <th>7</th>\n",
       "      <th>8</th>\n",
       "      <th>9</th>\n",
       "      <th>...</th>\n",
       "      <th>21</th>\n",
       "      <th>22</th>\n",
       "      <th>23</th>\n",
       "      <th>24</th>\n",
       "      <th>25</th>\n",
       "      <th>26</th>\n",
       "      <th>27</th>\n",
       "      <th>28</th>\n",
       "      <th>29</th>\n",
       "      <th>label</th>\n",
       "    </tr>\n",
       "  </thead>\n",
       "  <tbody>\n",
       "    <tr>\n",
       "      <th>0</th>\n",
       "      <td>-0.777410</td>\n",
       "      <td>0.193198</td>\n",
       "      <td>-0.058681</td>\n",
       "      <td>-0.180358</td>\n",
       "      <td>-0.005488</td>\n",
       "      <td>-0.099418</td>\n",
       "      <td>-0.209189</td>\n",
       "      <td>-0.328525</td>\n",
       "      <td>0.078990</td>\n",
       "      <td>-0.157335</td>\n",
       "      <td>...</td>\n",
       "      <td>0.038823</td>\n",
       "      <td>-0.014646</td>\n",
       "      <td>0.078684</td>\n",
       "      <td>0.042298</td>\n",
       "      <td>-0.019476</td>\n",
       "      <td>0.030807</td>\n",
       "      <td>0.073328</td>\n",
       "      <td>0.066590</td>\n",
       "      <td>-0.001037</td>\n",
       "      <td>blues</td>\n",
       "    </tr>\n",
       "    <tr>\n",
       "      <th>1</th>\n",
       "      <td>-0.599829</td>\n",
       "      <td>0.260505</td>\n",
       "      <td>0.001988</td>\n",
       "      <td>-0.047122</td>\n",
       "      <td>0.131503</td>\n",
       "      <td>-0.098223</td>\n",
       "      <td>-0.077307</td>\n",
       "      <td>0.046259</td>\n",
       "      <td>-0.040616</td>\n",
       "      <td>0.094609</td>\n",
       "      <td>...</td>\n",
       "      <td>-0.046636</td>\n",
       "      <td>-0.069302</td>\n",
       "      <td>-0.015874</td>\n",
       "      <td>0.048261</td>\n",
       "      <td>0.035922</td>\n",
       "      <td>0.011380</td>\n",
       "      <td>0.050310</td>\n",
       "      <td>0.013234</td>\n",
       "      <td>-0.018619</td>\n",
       "      <td>rock</td>\n",
       "    </tr>\n",
       "    <tr>\n",
       "      <th>2</th>\n",
       "      <td>-0.246233</td>\n",
       "      <td>-0.118150</td>\n",
       "      <td>0.065454</td>\n",
       "      <td>-0.036683</td>\n",
       "      <td>0.486624</td>\n",
       "      <td>-0.150015</td>\n",
       "      <td>-0.066611</td>\n",
       "      <td>-0.197735</td>\n",
       "      <td>0.041882</td>\n",
       "      <td>0.013266</td>\n",
       "      <td>...</td>\n",
       "      <td>0.035818</td>\n",
       "      <td>0.010278</td>\n",
       "      <td>-0.060462</td>\n",
       "      <td>-0.158529</td>\n",
       "      <td>-0.008003</td>\n",
       "      <td>0.116414</td>\n",
       "      <td>0.030431</td>\n",
       "      <td>0.002657</td>\n",
       "      <td>-0.030584</td>\n",
       "      <td>reggae</td>\n",
       "    </tr>\n",
       "    <tr>\n",
       "      <th>3</th>\n",
       "      <td>-0.748761</td>\n",
       "      <td>0.347893</td>\n",
       "      <td>-0.050810</td>\n",
       "      <td>-0.060772</td>\n",
       "      <td>0.094122</td>\n",
       "      <td>0.043072</td>\n",
       "      <td>-0.091609</td>\n",
       "      <td>0.131256</td>\n",
       "      <td>-0.044358</td>\n",
       "      <td>0.123941</td>\n",
       "      <td>...</td>\n",
       "      <td>0.002656</td>\n",
       "      <td>-0.002470</td>\n",
       "      <td>-0.015218</td>\n",
       "      <td>0.034298</td>\n",
       "      <td>-0.035793</td>\n",
       "      <td>0.016230</td>\n",
       "      <td>0.002116</td>\n",
       "      <td>0.017922</td>\n",
       "      <td>-0.025561</td>\n",
       "      <td>rock</td>\n",
       "    </tr>\n",
       "    <tr>\n",
       "      <th>4</th>\n",
       "      <td>0.390897</td>\n",
       "      <td>0.250941</td>\n",
       "      <td>-0.198188</td>\n",
       "      <td>0.293123</td>\n",
       "      <td>0.621651</td>\n",
       "      <td>0.005957</td>\n",
       "      <td>-0.025044</td>\n",
       "      <td>-0.233484</td>\n",
       "      <td>0.295036</td>\n",
       "      <td>0.131572</td>\n",
       "      <td>...</td>\n",
       "      <td>-0.082078</td>\n",
       "      <td>0.058459</td>\n",
       "      <td>-0.018487</td>\n",
       "      <td>-0.016139</td>\n",
       "      <td>0.000508</td>\n",
       "      <td>-0.048524</td>\n",
       "      <td>-0.032613</td>\n",
       "      <td>-0.024108</td>\n",
       "      <td>0.019714</td>\n",
       "      <td>reggae</td>\n",
       "    </tr>\n",
       "  </tbody>\n",
       "</table>\n",
       "<p>5 rows × 31 columns</p>\n",
       "</div>"
      ],
      "text/plain": [
       "          0         1         2         3         4         5         6  \\\n",
       "0 -0.777410  0.193198 -0.058681 -0.180358 -0.005488 -0.099418 -0.209189   \n",
       "1 -0.599829  0.260505  0.001988 -0.047122  0.131503 -0.098223 -0.077307   \n",
       "2 -0.246233 -0.118150  0.065454 -0.036683  0.486624 -0.150015 -0.066611   \n",
       "3 -0.748761  0.347893 -0.050810 -0.060772  0.094122  0.043072 -0.091609   \n",
       "4  0.390897  0.250941 -0.198188  0.293123  0.621651  0.005957 -0.025044   \n",
       "\n",
       "          7         8         9  ...        21        22        23        24  \\\n",
       "0 -0.328525  0.078990 -0.157335  ...  0.038823 -0.014646  0.078684  0.042298   \n",
       "1  0.046259 -0.040616  0.094609  ... -0.046636 -0.069302 -0.015874  0.048261   \n",
       "2 -0.197735  0.041882  0.013266  ...  0.035818  0.010278 -0.060462 -0.158529   \n",
       "3  0.131256 -0.044358  0.123941  ...  0.002656 -0.002470 -0.015218  0.034298   \n",
       "4 -0.233484  0.295036  0.131572  ... -0.082078  0.058459 -0.018487 -0.016139   \n",
       "\n",
       "         25        26        27        28        29   label  \n",
       "0 -0.019476  0.030807  0.073328  0.066590 -0.001037   blues  \n",
       "1  0.035922  0.011380  0.050310  0.013234 -0.018619    rock  \n",
       "2 -0.008003  0.116414  0.030431  0.002657 -0.030584  reggae  \n",
       "3 -0.035793  0.016230  0.002116  0.017922 -0.025561    rock  \n",
       "4  0.000508 -0.048524 -0.032613 -0.024108  0.019714  reggae  \n",
       "\n",
       "[5 rows x 31 columns]"
      ]
     },
     "execution_count": 15,
     "metadata": {},
     "output_type": "execute_result"
    }
   ],
   "source": [
    "pca_final.head()"
   ]
  },
  {
   "cell_type": "code",
   "execution_count": 16,
   "id": "5845fd7a",
   "metadata": {},
   "outputs": [],
   "source": [
    "# from sklearn.preprocessing import OrdinalEncoder\n",
    "# encoder  = OrdinalEncoder()\n",
    "# encoder.fit(pca_final.iloc[:,10].reshape(-1, 1))\n",
    "# y_train_encoded = encoder.transform(pca_final.iloc[:,10])"
   ]
  },
  {
   "cell_type": "markdown",
   "id": "7793a70c-2945-4262-a2be-3660cd158cf5",
   "metadata": {},
   "source": [
    "### PCA - Original Model\n",
    "Building a model with no parameter tuning and using the PCA data"
   ]
  },
  {
   "cell_type": "code",
   "execution_count": 17,
   "id": "f4b1db81",
   "metadata": {},
   "outputs": [],
   "source": [
    "model_pca = KNeighborsClassifier()\n",
    "model_pca.fit(pca_final.iloc[:,:30],pca_final.iloc[:,30])\n",
    "pcaTrainknn = model_pca.predict(pca_data)\n",
    "pcaTestknn = model_pca.predict(pca_data_test)"
   ]
  },
  {
   "cell_type": "code",
   "execution_count": 18,
   "id": "7f28b6d2",
   "metadata": {},
   "outputs": [],
   "source": [
    "pcatestknn_score =  accuracy_score(y_test, pcaTestknn)\n",
    "pcaknn_score = accuracy_score(y_dev, pcaTrainknn)"
   ]
  },
  {
   "cell_type": "code",
   "execution_count": 19,
   "id": "3c0cf3a6",
   "metadata": {},
   "outputs": [
    {
     "name": "stdout",
     "output_type": "stream",
     "text": [
      "Classification Score for K Neighbors Classifier on Train dataset:\n",
      "\n",
      "Train Score :  0.8025\n",
      "--------------------------------------------------------\n",
      "Classification Score for K Neighbors Classifier on Test dataset:\n",
      "\n",
      "Test Score : 0.705\n"
     ]
    }
   ],
   "source": [
    "print(\"Classification Score for K Neighbors Classifier on Train dataset:\\n\")\n",
    "print(\"Train Score : \", pcaknn_score)\n",
    "print(\"--------------------------------------------------------\")\n",
    "print(\"Classification Score for K Neighbors Classifier on Test dataset:\\n\")\n",
    "print(\"Test Score :\", pcatestknn_score)"
   ]
  },
  {
   "cell_type": "code",
   "execution_count": 20,
   "id": "efa40f55",
   "metadata": {},
   "outputs": [
    {
     "data": {
      "image/png": "[encoded data removed]",
      "text/plain": [
       "<Figure size 1080x432 with 2 Axes>"
      ]
     },
     "metadata": {},
     "output_type": "display_data"
    },
    {
     "name": "stdout",
     "output_type": "stream",
     "text": [
      "Accuracy : 0.70\n",
      "Macro F-1 Score : 0.71\n"
     ]
    }
   ],
   "source": [
    "# Evaluate Model\n",
    "class_labels = list(model_knn.classes_)\n",
    "macro_f1, accuracy = evaluate_model(pcaTestknn, y_test, class_labels, 'Confustion Matrix: PCA - Untuned 30 seconds K Neighbors Classifier')\n",
    "print('Accuracy : %.2f'%accuracy)\n",
    "print('Macro F-1 Score : %.2f'%macro_f1)"
   ]
  },
  {
   "cell_type": "markdown",
   "id": "abbdcf85",
   "metadata": {},
   "source": [
    "### PCA - Tuned Model\n",
    "Building a model with hyperparameters tuning using 5-fold cross validation with GridSearchCV and the PCA data"
   ]
  },
  {
   "cell_type": "code",
   "execution_count": 21,
   "id": "a4a2e80a",
   "metadata": {},
   "outputs": [
    {
     "data": {
      "text/html": [
       "<div>\n",
       "<style scoped>\n",
       "    .dataframe tbody tr th:only-of-type {\n",
       "        vertical-align: middle;\n",
       "    }\n",
       "\n",
       "    .dataframe tbody tr th {\n",
       "        vertical-align: top;\n",
       "    }\n",
       "\n",
       "    .dataframe thead th {\n",
       "        text-align: right;\n",
       "    }\n",
       "</style>\n",
       "<table border=\"1\" class=\"dataframe\">\n",
       "  <thead>\n",
       "    <tr style=\"text-align: right;\">\n",
       "      <th></th>\n",
       "      <th>0</th>\n",
       "      <th>1</th>\n",
       "      <th>2</th>\n",
       "      <th>3</th>\n",
       "      <th>4</th>\n",
       "      <th>5</th>\n",
       "      <th>6</th>\n",
       "      <th>7</th>\n",
       "      <th>8</th>\n",
       "      <th>9</th>\n",
       "      <th>...</th>\n",
       "      <th>20</th>\n",
       "      <th>21</th>\n",
       "      <th>22</th>\n",
       "      <th>23</th>\n",
       "      <th>24</th>\n",
       "      <th>25</th>\n",
       "      <th>26</th>\n",
       "      <th>27</th>\n",
       "      <th>28</th>\n",
       "      <th>29</th>\n",
       "    </tr>\n",
       "  </thead>\n",
       "  <tbody>\n",
       "    <tr>\n",
       "      <th>0</th>\n",
       "      <td>-0.777410</td>\n",
       "      <td>0.193198</td>\n",
       "      <td>-0.058681</td>\n",
       "      <td>-0.180358</td>\n",
       "      <td>-0.005488</td>\n",
       "      <td>-0.099418</td>\n",
       "      <td>-0.209189</td>\n",
       "      <td>-0.328525</td>\n",
       "      <td>0.078990</td>\n",
       "      <td>-0.157335</td>\n",
       "      <td>...</td>\n",
       "      <td>0.041292</td>\n",
       "      <td>0.038823</td>\n",
       "      <td>-0.014646</td>\n",
       "      <td>0.078684</td>\n",
       "      <td>0.042298</td>\n",
       "      <td>-0.019476</td>\n",
       "      <td>0.030807</td>\n",
       "      <td>0.073328</td>\n",
       "      <td>0.066590</td>\n",
       "      <td>-0.001037</td>\n",
       "    </tr>\n",
       "    <tr>\n",
       "      <th>1</th>\n",
       "      <td>-0.599829</td>\n",
       "      <td>0.260505</td>\n",
       "      <td>0.001988</td>\n",
       "      <td>-0.047122</td>\n",
       "      <td>0.131503</td>\n",
       "      <td>-0.098223</td>\n",
       "      <td>-0.077307</td>\n",
       "      <td>0.046259</td>\n",
       "      <td>-0.040616</td>\n",
       "      <td>0.094609</td>\n",
       "      <td>...</td>\n",
       "      <td>-0.041599</td>\n",
       "      <td>-0.046636</td>\n",
       "      <td>-0.069302</td>\n",
       "      <td>-0.015874</td>\n",
       "      <td>0.048261</td>\n",
       "      <td>0.035922</td>\n",
       "      <td>0.011380</td>\n",
       "      <td>0.050310</td>\n",
       "      <td>0.013234</td>\n",
       "      <td>-0.018619</td>\n",
       "    </tr>\n",
       "    <tr>\n",
       "      <th>2</th>\n",
       "      <td>-0.246233</td>\n",
       "      <td>-0.118150</td>\n",
       "      <td>0.065454</td>\n",
       "      <td>-0.036683</td>\n",
       "      <td>0.486624</td>\n",
       "      <td>-0.150015</td>\n",
       "      <td>-0.066611</td>\n",
       "      <td>-0.197735</td>\n",
       "      <td>0.041882</td>\n",
       "      <td>0.013266</td>\n",
       "      <td>...</td>\n",
       "      <td>0.088641</td>\n",
       "      <td>0.035818</td>\n",
       "      <td>0.010278</td>\n",
       "      <td>-0.060462</td>\n",
       "      <td>-0.158529</td>\n",
       "      <td>-0.008003</td>\n",
       "      <td>0.116414</td>\n",
       "      <td>0.030431</td>\n",
       "      <td>0.002657</td>\n",
       "      <td>-0.030584</td>\n",
       "    </tr>\n",
       "    <tr>\n",
       "      <th>3</th>\n",
       "      <td>-0.748761</td>\n",
       "      <td>0.347893</td>\n",
       "      <td>-0.050810</td>\n",
       "      <td>-0.060772</td>\n",
       "      <td>0.094122</td>\n",
       "      <td>0.043072</td>\n",
       "      <td>-0.091609</td>\n",
       "      <td>0.131256</td>\n",
       "      <td>-0.044358</td>\n",
       "      <td>0.123941</td>\n",
       "      <td>...</td>\n",
       "      <td>-0.015478</td>\n",
       "      <td>0.002656</td>\n",
       "      <td>-0.002470</td>\n",
       "      <td>-0.015218</td>\n",
       "      <td>0.034298</td>\n",
       "      <td>-0.035793</td>\n",
       "      <td>0.016230</td>\n",
       "      <td>0.002116</td>\n",
       "      <td>0.017922</td>\n",
       "      <td>-0.025561</td>\n",
       "    </tr>\n",
       "    <tr>\n",
       "      <th>4</th>\n",
       "      <td>0.390897</td>\n",
       "      <td>0.250941</td>\n",
       "      <td>-0.198188</td>\n",
       "      <td>0.293123</td>\n",
       "      <td>0.621651</td>\n",
       "      <td>0.005957</td>\n",
       "      <td>-0.025044</td>\n",
       "      <td>-0.233484</td>\n",
       "      <td>0.295036</td>\n",
       "      <td>0.131572</td>\n",
       "      <td>...</td>\n",
       "      <td>0.015997</td>\n",
       "      <td>-0.082078</td>\n",
       "      <td>0.058459</td>\n",
       "      <td>-0.018487</td>\n",
       "      <td>-0.016139</td>\n",
       "      <td>0.000508</td>\n",
       "      <td>-0.048524</td>\n",
       "      <td>-0.032613</td>\n",
       "      <td>-0.024108</td>\n",
       "      <td>0.019714</td>\n",
       "    </tr>\n",
       "    <tr>\n",
       "      <th>...</th>\n",
       "      <td>...</td>\n",
       "      <td>...</td>\n",
       "      <td>...</td>\n",
       "      <td>...</td>\n",
       "      <td>...</td>\n",
       "      <td>...</td>\n",
       "      <td>...</td>\n",
       "      <td>...</td>\n",
       "      <td>...</td>\n",
       "      <td>...</td>\n",
       "      <td>...</td>\n",
       "      <td>...</td>\n",
       "      <td>...</td>\n",
       "      <td>...</td>\n",
       "      <td>...</td>\n",
       "      <td>...</td>\n",
       "      <td>...</td>\n",
       "      <td>...</td>\n",
       "      <td>...</td>\n",
       "      <td>...</td>\n",
       "      <td>...</td>\n",
       "    </tr>\n",
       "    <tr>\n",
       "      <th>795</th>\n",
       "      <td>-0.565572</td>\n",
       "      <td>0.422083</td>\n",
       "      <td>0.328459</td>\n",
       "      <td>0.111136</td>\n",
       "      <td>-0.153392</td>\n",
       "      <td>-0.133144</td>\n",
       "      <td>0.121273</td>\n",
       "      <td>0.170832</td>\n",
       "      <td>0.181536</td>\n",
       "      <td>-0.003556</td>\n",
       "      <td>...</td>\n",
       "      <td>0.293438</td>\n",
       "      <td>-0.012876</td>\n",
       "      <td>0.057985</td>\n",
       "      <td>0.048249</td>\n",
       "      <td>0.084048</td>\n",
       "      <td>-0.066562</td>\n",
       "      <td>0.016325</td>\n",
       "      <td>-0.024508</td>\n",
       "      <td>-0.003579</td>\n",
       "      <td>0.007440</td>\n",
       "    </tr>\n",
       "    <tr>\n",
       "      <th>796</th>\n",
       "      <td>0.258810</td>\n",
       "      <td>-0.934083</td>\n",
       "      <td>0.031836</td>\n",
       "      <td>0.495334</td>\n",
       "      <td>0.077337</td>\n",
       "      <td>-0.114135</td>\n",
       "      <td>0.171020</td>\n",
       "      <td>-0.128289</td>\n",
       "      <td>0.103752</td>\n",
       "      <td>0.171809</td>\n",
       "      <td>...</td>\n",
       "      <td>0.029032</td>\n",
       "      <td>-0.007809</td>\n",
       "      <td>-0.041900</td>\n",
       "      <td>0.057615</td>\n",
       "      <td>0.157175</td>\n",
       "      <td>0.044139</td>\n",
       "      <td>-0.129631</td>\n",
       "      <td>-0.041429</td>\n",
       "      <td>0.100825</td>\n",
       "      <td>-0.003686</td>\n",
       "    </tr>\n",
       "    <tr>\n",
       "      <th>797</th>\n",
       "      <td>1.243638</td>\n",
       "      <td>0.799851</td>\n",
       "      <td>0.648936</td>\n",
       "      <td>0.304699</td>\n",
       "      <td>-0.379732</td>\n",
       "      <td>0.291343</td>\n",
       "      <td>-0.171435</td>\n",
       "      <td>-0.020328</td>\n",
       "      <td>0.029573</td>\n",
       "      <td>-0.338966</td>\n",
       "      <td>...</td>\n",
       "      <td>-0.005364</td>\n",
       "      <td>-0.006600</td>\n",
       "      <td>0.014061</td>\n",
       "      <td>-0.004801</td>\n",
       "      <td>0.056777</td>\n",
       "      <td>-0.001553</td>\n",
       "      <td>-0.058178</td>\n",
       "      <td>-0.105373</td>\n",
       "      <td>-0.037983</td>\n",
       "      <td>0.004800</td>\n",
       "    </tr>\n",
       "    <tr>\n",
       "      <th>798</th>\n",
       "      <td>0.251711</td>\n",
       "      <td>0.398993</td>\n",
       "      <td>-0.418890</td>\n",
       "      <td>-0.045822</td>\n",
       "      <td>0.030828</td>\n",
       "      <td>0.140385</td>\n",
       "      <td>-0.063129</td>\n",
       "      <td>-0.085624</td>\n",
       "      <td>-0.096346</td>\n",
       "      <td>0.127769</td>\n",
       "      <td>...</td>\n",
       "      <td>0.080303</td>\n",
       "      <td>-0.048448</td>\n",
       "      <td>0.017456</td>\n",
       "      <td>-0.002544</td>\n",
       "      <td>-0.023941</td>\n",
       "      <td>0.124079</td>\n",
       "      <td>-0.097057</td>\n",
       "      <td>-0.052355</td>\n",
       "      <td>0.026250</td>\n",
       "      <td>-0.100128</td>\n",
       "    </tr>\n",
       "    <tr>\n",
       "      <th>799</th>\n",
       "      <td>0.431775</td>\n",
       "      <td>-0.166857</td>\n",
       "      <td>-0.363375</td>\n",
       "      <td>0.099114</td>\n",
       "      <td>0.416899</td>\n",
       "      <td>0.067133</td>\n",
       "      <td>-0.012721</td>\n",
       "      <td>0.112110</td>\n",
       "      <td>-0.131542</td>\n",
       "      <td>0.028368</td>\n",
       "      <td>...</td>\n",
       "      <td>-0.012839</td>\n",
       "      <td>0.035253</td>\n",
       "      <td>0.059120</td>\n",
       "      <td>0.027363</td>\n",
       "      <td>-0.068609</td>\n",
       "      <td>-0.028923</td>\n",
       "      <td>-0.065711</td>\n",
       "      <td>-0.043594</td>\n",
       "      <td>-0.022126</td>\n",
       "      <td>0.060216</td>\n",
       "    </tr>\n",
       "  </tbody>\n",
       "</table>\n",
       "<p>800 rows × 30 columns</p>\n",
       "</div>"
      ],
      "text/plain": [
       "           0         1         2         3         4         5         6   \\\n",
       "0   -0.777410  0.193198 -0.058681 -0.180358 -0.005488 -0.099418 -0.209189   \n",
       "1   -0.599829  0.260505  0.001988 -0.047122  0.131503 -0.098223 -0.077307   \n",
       "2   -0.246233 -0.118150  0.065454 -0.036683  0.486624 -0.150015 -0.066611   \n",
       "3   -0.748761  0.347893 -0.050810 -0.060772  0.094122  0.043072 -0.091609   \n",
       "4    0.390897  0.250941 -0.198188  0.293123  0.621651  0.005957 -0.025044   \n",
       "..        ...       ...       ...       ...       ...       ...       ...   \n",
       "795 -0.565572  0.422083  0.328459  0.111136 -0.153392 -0.133144  0.121273   \n",
       "796  0.258810 -0.934083  0.031836  0.495334  0.077337 -0.114135  0.171020   \n",
       "797  1.243638  0.799851  0.648936  0.304699 -0.379732  0.291343 -0.171435   \n",
       "798  0.251711  0.398993 -0.418890 -0.045822  0.030828  0.140385 -0.063129   \n",
       "799  0.431775 -0.166857 -0.363375  0.099114  0.416899  0.067133 -0.012721   \n",
       "\n",
       "           7         8         9   ...        20        21        22  \\\n",
       "0   -0.328525  0.078990 -0.157335  ...  0.041292  0.038823 -0.014646   \n",
       "1    0.046259 -0.040616  0.094609  ... -0.041599 -0.046636 -0.069302   \n",
       "2   -0.197735  0.041882  0.013266  ...  0.088641  0.035818  0.010278   \n",
       "3    0.131256 -0.044358  0.123941  ... -0.015478  0.002656 -0.002470   \n",
       "4   -0.233484  0.295036  0.131572  ...  0.015997 -0.082078  0.058459   \n",
       "..        ...       ...       ...  ...       ...       ...       ...   \n",
       "795  0.170832  0.181536 -0.003556  ...  0.293438 -0.012876  0.057985   \n",
       "796 -0.128289  0.103752  0.171809  ...  0.029032 -0.007809 -0.041900   \n",
       "797 -0.020328  0.029573 -0.338966  ... -0.005364 -0.006600  0.014061   \n",
       "798 -0.085624 -0.096346  0.127769  ...  0.080303 -0.048448  0.017456   \n",
       "799  0.112110 -0.131542  0.028368  ... -0.012839  0.035253  0.059120   \n",
       "\n",
       "           23        24        25        26        27        28        29  \n",
       "0    0.078684  0.042298 -0.019476  0.030807  0.073328  0.066590 -0.001037  \n",
       "1   -0.015874  0.048261  0.035922  0.011380  0.050310  0.013234 -0.018619  \n",
       "2   -0.060462 -0.158529 -0.008003  0.116414  0.030431  0.002657 -0.030584  \n",
       "3   -0.015218  0.034298 -0.035793  0.016230  0.002116  0.017922 -0.025561  \n",
       "4   -0.018487 -0.016139  0.000508 -0.048524 -0.032613 -0.024108  0.019714  \n",
       "..        ...       ...       ...       ...       ...       ...       ...  \n",
       "795  0.048249  0.084048 -0.066562  0.016325 -0.024508 -0.003579  0.007440  \n",
       "796  0.057615  0.157175  0.044139 -0.129631 -0.041429  0.100825 -0.003686  \n",
       "797 -0.004801  0.056777 -0.001553 -0.058178 -0.105373 -0.037983  0.004800  \n",
       "798 -0.002544 -0.023941  0.124079 -0.097057 -0.052355  0.026250 -0.100128  \n",
       "799  0.027363 -0.068609 -0.028923 -0.065711 -0.043594 -0.022126  0.060216  \n",
       "\n",
       "[800 rows x 30 columns]"
      ]
     },
     "execution_count": 21,
     "metadata": {},
     "output_type": "execute_result"
    }
   ],
   "source": [
    "pca_final.iloc[:,:30]"
   ]
  },
  {
   "cell_type": "code",
   "execution_count": 22,
   "id": "2d7297c1",
   "metadata": {},
   "outputs": [],
   "source": [
    "model_pca_tuned = tune_knn\n",
    "model_pca_tuned.fit(pca_final.iloc[:,:30],pca_final.iloc[:,30])\n",
    "pcaTrainknn_tuned = model_pca_tuned.predict(pca_data)\n",
    "pcaTestknn_tuned = model_pca_tuned.predict(pca_data_test)"
   ]
  },
  {
   "cell_type": "code",
   "execution_count": 23,
   "id": "10717858",
   "metadata": {},
   "outputs": [],
   "source": [
    "pcatestknn_score =  accuracy_score(y_test, pcaTestknn)\n",
    "pcaknn_score = accuracy_score(y_dev, pcaTrainknn)"
   ]
  },
  {
   "cell_type": "code",
   "execution_count": 24,
   "id": "648af0d4",
   "metadata": {},
   "outputs": [
    {
     "name": "stdout",
     "output_type": "stream",
     "text": [
      "Classification Score for K Neighbors Classifier on Train dataset:\n",
      "\n",
      "Train Score :  0.8025\n",
      "--------------------------------------------------------\n",
      "Classification Score for K Neighbors Classifier on Test dataset:\n",
      "\n",
      "Test Score : 0.705\n"
     ]
    }
   ],
   "source": [
    "print(\"Classification Score for K Neighbors Classifier on Train dataset:\\n\")\n",
    "print(\"Train Score : \", pcaknn_score)\n",
    "print(\"--------------------------------------------------------\")\n",
    "print(\"Classification Score for K Neighbors Classifier on Test dataset:\\n\")\n",
    "print(\"Test Score :\", pcatestknn_score)"
   ]
  },
  {
   "cell_type": "code",
   "execution_count": 25,
   "id": "35ad5f21",
   "metadata": {},
   "outputs": [
    {
     "data": {
      "image/png": "[encoded data removed]",
      "text/plain": [
       "<Figure size 1080x432 with 2 Axes>"
      ]
     },
     "metadata": {},
     "output_type": "display_data"
    },
    {
     "name": "stdout",
     "output_type": "stream",
     "text": [
      "Accuracy : 0.70\n",
      "Macro F-1 Score : 0.71\n"
     ]
    }
   ],
   "source": [
    "# Evaluate Model\n",
    "class_labels = list(model_knn.classes_)\n",
    "macro_f1, accuracy = evaluate_model(pcaTestknn, y_test, class_labels, 'Confustion Matrix: PCA - Tuned 30 seconds K Neighbors Classifier')\n",
    "print('Accuracy : %.2f'%accuracy)\n",
    "print('Macro F-1 Score : %.2f'%macro_f1)"
   ]
  },
  {
   "cell_type": "markdown",
   "id": "ba4a69ef",
   "metadata": {},
   "source": [
    "**Ans:** As we see due to the lesser number of data, PCA instead of helping in the improvement of the accuracy or the model learning by reducing the dimensions (\"the curse of dimensionality\"), makes the model worse. "
   ]
  },
  {
   "cell_type": "code",
   "execution_count": null,
   "id": "9d94c790-c815-47d3-80f1-21eb015d90af",
   "metadata": {},
   "outputs": [],
   "source": []
  }
 ],
 "metadata": {
  "kernelspec": {
   "display_name": "Python 3",
   "language": "python",
   "name": "python3"
  },
  "language_info": {
   "codemirror_mode": {
    "name": "ipython",
    "version": 3
   },
   "file_extension": ".py",
   "mimetype": "text/x-python",
   "name": "python",
   "nbconvert_exporter": "python",
   "pygments_lexer": "ipython3",
   "version": "3.8.13"
  }
 },
 "nbformat": 4,
 "nbformat_minor": 5
}
