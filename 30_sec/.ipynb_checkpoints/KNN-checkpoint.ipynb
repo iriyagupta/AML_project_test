{
 "cells": [
  {
   "cell_type": "code",
   "execution_count": 1,
   "id": "ffa7b670",
   "metadata": {},
   "outputs": [],
   "source": [
    "from utils import *\n",
    "from sklearn.decomposition import PCA\n",
    "from sklearn.neighbors import KNeighborsClassifier\n",
    "from sklearn.model_selection import GridSearchCV\n",
    "import random\n",
    "import warnings\n",
    "warnings.filterwarnings('ignore')"
   ]
  },
  {
   "cell_type": "code",
   "execution_count": 2,
   "metadata": {},
   "outputs": [],
   "source": [
    "%store -r data\n",
    "%store -r target"
   ]
  },
  {
   "cell_type": "code",
   "execution_count": 3,
   "metadata": {},
   "outputs": [
    {
     "name": "stdout",
     "output_type": "stream",
     "text": [
      "X_train shape: (810, 54)\n",
      "X_test shape: (100, 54)\n",
      "X_val shape: (90, 54)\n",
      "y_train shape: (810,)\n",
      "y_test shape: (100,)\n",
      "y_val shape: (90,)\n"
     ]
    }
   ],
   "source": [
    "data = standardize(data)\n",
    "X_dev, y_dev, X_test, y_test, X_train, y_train, X_val, y_val = split(data,target)"
   ]
  },
  {
   "cell_type": "markdown",
   "id": "4d9caabe-d2df-40e4-9914-bc6c420e95cd",
   "metadata": {},
   "source": [
    "### Original Model\n",
    "Building a model with no parameter tuning and using the raw csv file"
   ]
  },
  {
   "cell_type": "code",
   "execution_count": 4,
   "id": "4603e557",
   "metadata": {},
   "outputs": [],
   "source": [
    "model_knn = KNeighborsClassifier()\n",
    "model_knn.fit(X_dev, y_dev)\n",
    "predsDevknn = model_knn.predict(X_dev)\n",
    "predsTestknn = model_knn.predict(X_test)"
   ]
  },
  {
   "cell_type": "code",
   "execution_count": 5,
   "id": "798fd0c7",
   "metadata": {},
   "outputs": [],
   "source": [
    "testknn_score =  accuracy_score(y_test, predsTestknn)\n",
    "devknn_score = accuracy_score(y_dev, predsDevknn)"
   ]
  },
  {
   "cell_type": "code",
   "execution_count": 6,
   "id": "2cecfff5",
   "metadata": {},
   "outputs": [
    {
     "name": "stdout",
     "output_type": "stream",
     "text": [
      "Classification Score for K Neighbors Classifier on Dev dataset:\n",
      "\n",
      "Dev Score :  0.8155555555555556\n",
      "              precision    recall  f1-score   support\n",
      "\n",
      "       blues       0.84      0.88      0.86        92\n",
      "   classical       0.90      0.99      0.94        92\n",
      "     country       0.70      0.86      0.77        92\n",
      "       disco       0.69      0.76      0.73        92\n",
      "      hiphop       0.77      0.72      0.74        93\n",
      "        jazz       0.97      0.81      0.88        83\n",
      "       metal       0.98      0.88      0.93        92\n",
      "         pop       0.83      0.85      0.84        92\n",
      "      reggae       0.79      0.64      0.71        86\n",
      "        rock       0.76      0.76      0.76        86\n",
      "\n",
      "    accuracy                           0.82       900\n",
      "   macro avg       0.82      0.81      0.82       900\n",
      "weighted avg       0.82      0.82      0.82       900\n",
      "\n",
      "--------------------------------------------------------\n",
      "Classification Score for K Neighbors Classifier on Test dataset:\n",
      "\n",
      "Test Score : 0.73\n",
      "              precision    recall  f1-score   support\n",
      "\n",
      "       blues       1.00      0.88      0.93         8\n",
      "   classical       0.67      1.00      0.80         8\n",
      "     country       0.57      1.00      0.73         8\n",
      "       disco       0.60      0.75      0.67         8\n",
      "      hiphop       0.50      0.71      0.59         7\n",
      "        jazz       0.85      0.65      0.73        17\n",
      "       metal       1.00      0.75      0.86         8\n",
      "         pop       0.67      0.75      0.71         8\n",
      "      reggae       0.80      0.57      0.67        14\n",
      "        rock       0.89      0.57      0.70        14\n",
      "\n",
      "    accuracy                           0.73       100\n",
      "   macro avg       0.75      0.76      0.74       100\n",
      "weighted avg       0.78      0.73      0.73       100\n",
      "\n"
     ]
    }
   ],
   "source": [
    "print(\"Classification Score for K Neighbors Classifier on Dev dataset:\\n\")\n",
    "print(\"Dev Score : \", devknn_score)\n",
    "print(classification_report(y_dev, predsDevknn))\n",
    "print(\"--------------------------------------------------------\")\n",
    "print(\"Classification Score for K Neighbors Classifier on Test dataset:\\n\")\n",
    "print(\"Test Score :\", testknn_score)\n",
    "print(classification_report(y_test, predsTestknn))"
   ]
  },
  {
   "cell_type": "code",
   "execution_count": 7,
   "id": "e1883907",
   "metadata": {},
   "outputs": [
    {
     "data": {
      "image/png": "[encoded data removed]",
      "text/plain": [
       "<Figure size 1080x432 with 2 Axes>"
      ]
     },
     "metadata": {},
     "output_type": "display_data"
    },
    {
     "name": "stdout",
     "output_type": "stream",
     "text": [
      "Accuracy : 0.73\n",
      "Macro F-1 Score : 0.74\n"
     ]
    }
   ],
   "source": [
    "# Evaluate Model on Test set\n",
    "class_labels = list(model_knn.classes_)\n",
    "macro_f1, accuracy = evaluate_model(predsTestknn, y_test, class_labels, 'Confustion matrix: Untuned 30 seconds K Neighbors Classifier')\n",
    "print('Accuracy : %.2f'%accuracy)\n",
    "print('Macro F-1 Score : %.2f'%macro_f1)"
   ]
  },
  {
   "cell_type": "markdown",
   "id": "94955db3",
   "metadata": {},
   "source": [
    "### Tuned Model\n",
    "Building a model with hyperparameters tuning using 5-fold cross validation with GridSearchCV and the raw csv file"
   ]
  },
  {
   "cell_type": "code",
   "execution_count": 8,
   "id": "3fef49f4",
   "metadata": {},
   "outputs": [
    {
     "name": "stdout",
     "output_type": "stream",
     "text": [
      "{'n_neighbors': array([2, 3, 4, 5, 6, 7, 8, 9]), 'algorithm': ['ball_tree', 'kd_tree', 'brute']}\n"
     ]
    }
   ],
   "source": [
    "parameters = {'n_neighbors':np.arange(2,10,1, dtype=int),\n",
    "            'algorithm':[ 'ball_tree', 'kd_tree', 'brute']}\n",
    "print(parameters)"
   ]
  },
  {
   "cell_type": "code",
   "execution_count": 9,
   "id": "88dfebb1",
   "metadata": {},
   "outputs": [
    {
     "data": {
      "text/plain": [
       "GridSearchCV(cv=5, estimator=KNeighborsClassifier(),\n",
       "             param_grid={'algorithm': ['ball_tree', 'kd_tree', 'brute'],\n",
       "                         'n_neighbors': array([2, 3, 4, 5, 6, 7, 8, 9])})"
      ]
     },
     "execution_count": 9,
     "metadata": {},
     "output_type": "execute_result"
    }
   ],
   "source": [
    "tune_knn = GridSearchCV(estimator = model_knn, param_grid = parameters, cv = 5)\n",
    "tune_knn.fit(X_dev, y_dev)"
   ]
  },
  {
   "cell_type": "code",
   "execution_count": 10,
   "id": "787f731b",
   "metadata": {},
   "outputs": [
    {
     "name": "stdout",
     "output_type": "stream",
     "text": [
      "Best Score : 0.6844444444444444\n",
      "Best Parameters : {'algorithm': 'ball_tree', 'n_neighbors': 5}\n"
     ]
    }
   ],
   "source": [
    "print(\"Best Score :\", tune_knn.best_score_)\n",
    "print(\"Best Parameters :\",tune_knn.best_params_)"
   ]
  },
  {
   "cell_type": "code",
   "execution_count": 11,
   "id": "a51d1aca",
   "metadata": {},
   "outputs": [
    {
     "name": "stdout",
     "output_type": "stream",
     "text": [
      "Score on Dev data for KNN using GridSearchCV: 0.8155555555555556\n",
      "Score on Test data for KNN using GridSearchCV: 0.73\n"
     ]
    }
   ],
   "source": [
    "predsDevknn_tuned = tune_knn.predict(X_dev)\n",
    "predsTestknn_tuned = tune_knn.predict(X_test)\n",
    "\n",
    "print(\"Score on Dev data for KNN using GridSearchCV:\", accuracy_score(y_dev, predsDevknn_tuned))\n",
    "print(\"Score on Test data for KNN using GridSearchCV:\",accuracy_score(y_test, predsTestknn_tuned))"
   ]
  },
  {
   "cell_type": "code",
   "execution_count": 12,
   "id": "8439f97a-f8c5-43bb-a815-c308a0cdd095",
   "metadata": {},
   "outputs": [
    {
     "data": {
      "image/png": "[encoded data removed]",
      "text/plain": [
       "<Figure size 1080x432 with 2 Axes>"
      ]
     },
     "metadata": {},
     "output_type": "display_data"
    },
    {
     "name": "stdout",
     "output_type": "stream",
     "text": [
      "Accuracy : 0.73\n",
      "Macro F-1 Score : 0.74\n"
     ]
    }
   ],
   "source": [
    "# Evaluate Model on Test set\n",
    "class_labels = list(model_knn.classes_)\n",
    "macro_f1, accuracy = evaluate_model(predsTestknn_tuned, y_test, class_labels, 'Confustion matrix: Tuned 30 seconds K Neighbors Classifier')\n",
    "print('Accuracy : %.2f'%accuracy)\n",
    "print('Macro F-1 Score : %.2f'%macro_f1)"
   ]
  },
  {
   "cell_type": "markdown",
   "id": "833b2197",
   "metadata": {},
   "source": [
    "### Dimensionality reduction of data using PCA"
   ]
  },
  {
   "cell_type": "code",
   "execution_count": 13,
   "id": "6553145b",
   "metadata": {},
   "outputs": [
    {
     "name": "stdout",
     "output_type": "stream",
     "text": [
      "Explained Variance of each component: [0.27462107 0.16378828 0.106374   0.0723295  0.05484226 0.0387792\n",
      " 0.02690359 0.02395643 0.02175637 0.01846612 0.01427943 0.01395746\n",
      " 0.0120279  0.01112264 0.01017838 0.00968101 0.00884285 0.00796853\n",
      " 0.00769744 0.00724434 0.00710427 0.00655193 0.0060012  0.00568716\n",
      " 0.00541044 0.00495708 0.00484478 0.00468987 0.00450561 0.00421417]\n",
      "Sum of Explained Variance: 0.9526350207294803\n"
     ]
    }
   ],
   "source": [
    "# Principal Component Analysis \n",
    "### cite : https://machinelearningmastery.com/calculate-principal-component-analysis-scratch-python/\n",
    "\n",
    "# create the PCA instance\n",
    "pca = PCA(n_components=30)\n",
    "# fit on data\n",
    "pca_data = pca.fit_transform(X_dev)\n",
    "pca_data_test = pca.transform(X_test)\n",
    "# pca_data_dev = pca.transform(X_dev)\n",
    "PCA_df= pd.DataFrame(data=pca_data)\n",
    "y_dev.index = PCA_df.index\n",
    "pca_final=pd.concat([PCA_df,y_dev], axis = 1)\n",
    "# access values\n",
    "print(\"Explained Variance of each component:\",pca.explained_variance_)\n",
    "print(\"Sum of Explained Variance:\", sum(pca.explained_variance_ratio_))"
   ]
  },
  {
   "cell_type": "code",
   "execution_count": 14,
   "id": "24f6e702",
   "metadata": {},
   "outputs": [
    {
     "data": {
      "text/html": [
       "<div>\n",
       "<style scoped>\n",
       "    .dataframe tbody tr th:only-of-type {\n",
       "        vertical-align: middle;\n",
       "    }\n",
       "\n",
       "    .dataframe tbody tr th {\n",
       "        vertical-align: top;\n",
       "    }\n",
       "\n",
       "    .dataframe thead th {\n",
       "        text-align: right;\n",
       "    }\n",
       "</style>\n",
       "<table border=\"1\" class=\"dataframe\">\n",
       "  <thead>\n",
       "    <tr style=\"text-align: right;\">\n",
       "      <th></th>\n",
       "      <th>0</th>\n",
       "      <th>1</th>\n",
       "      <th>2</th>\n",
       "      <th>3</th>\n",
       "      <th>4</th>\n",
       "      <th>5</th>\n",
       "      <th>6</th>\n",
       "      <th>7</th>\n",
       "      <th>8</th>\n",
       "      <th>9</th>\n",
       "      <th>...</th>\n",
       "      <th>21</th>\n",
       "      <th>22</th>\n",
       "      <th>23</th>\n",
       "      <th>24</th>\n",
       "      <th>25</th>\n",
       "      <th>26</th>\n",
       "      <th>27</th>\n",
       "      <th>28</th>\n",
       "      <th>29</th>\n",
       "      <th>label</th>\n",
       "    </tr>\n",
       "  </thead>\n",
       "  <tbody>\n",
       "    <tr>\n",
       "      <th>0</th>\n",
       "      <td>0.000578</td>\n",
       "      <td>-0.630373</td>\n",
       "      <td>-0.054837</td>\n",
       "      <td>0.410234</td>\n",
       "      <td>0.009388</td>\n",
       "      <td>0.027372</td>\n",
       "      <td>-0.032693</td>\n",
       "      <td>-0.147326</td>\n",
       "      <td>0.031385</td>\n",
       "      <td>0.111804</td>\n",
       "      <td>...</td>\n",
       "      <td>0.076478</td>\n",
       "      <td>0.102050</td>\n",
       "      <td>-0.078146</td>\n",
       "      <td>0.039644</td>\n",
       "      <td>-0.007254</td>\n",
       "      <td>-0.020662</td>\n",
       "      <td>0.123057</td>\n",
       "      <td>-0.063354</td>\n",
       "      <td>0.036266</td>\n",
       "      <td>classical</td>\n",
       "    </tr>\n",
       "    <tr>\n",
       "      <th>1</th>\n",
       "      <td>0.071451</td>\n",
       "      <td>-0.402465</td>\n",
       "      <td>-0.106786</td>\n",
       "      <td>0.332658</td>\n",
       "      <td>-0.060422</td>\n",
       "      <td>0.226590</td>\n",
       "      <td>0.122803</td>\n",
       "      <td>-0.066844</td>\n",
       "      <td>0.069257</td>\n",
       "      <td>-0.088951</td>\n",
       "      <td>...</td>\n",
       "      <td>0.119324</td>\n",
       "      <td>0.093950</td>\n",
       "      <td>-0.015557</td>\n",
       "      <td>0.093607</td>\n",
       "      <td>0.005462</td>\n",
       "      <td>-0.108916</td>\n",
       "      <td>-0.027931</td>\n",
       "      <td>0.009109</td>\n",
       "      <td>0.001459</td>\n",
       "      <td>jazz</td>\n",
       "    </tr>\n",
       "    <tr>\n",
       "      <th>2</th>\n",
       "      <td>-0.047268</td>\n",
       "      <td>0.326820</td>\n",
       "      <td>-0.598692</td>\n",
       "      <td>0.227380</td>\n",
       "      <td>0.045610</td>\n",
       "      <td>0.264122</td>\n",
       "      <td>-0.077907</td>\n",
       "      <td>0.063583</td>\n",
       "      <td>-0.168403</td>\n",
       "      <td>0.038894</td>\n",
       "      <td>...</td>\n",
       "      <td>-0.088314</td>\n",
       "      <td>0.044282</td>\n",
       "      <td>-0.058775</td>\n",
       "      <td>-0.026480</td>\n",
       "      <td>0.011934</td>\n",
       "      <td>0.086970</td>\n",
       "      <td>-0.023386</td>\n",
       "      <td>-0.155595</td>\n",
       "      <td>-0.052357</td>\n",
       "      <td>country</td>\n",
       "    </tr>\n",
       "    <tr>\n",
       "      <th>3</th>\n",
       "      <td>-0.437642</td>\n",
       "      <td>0.235405</td>\n",
       "      <td>-0.003960</td>\n",
       "      <td>0.029110</td>\n",
       "      <td>-0.170677</td>\n",
       "      <td>-0.094825</td>\n",
       "      <td>-0.142894</td>\n",
       "      <td>0.105725</td>\n",
       "      <td>0.099776</td>\n",
       "      <td>-0.181425</td>\n",
       "      <td>...</td>\n",
       "      <td>0.021233</td>\n",
       "      <td>-0.013547</td>\n",
       "      <td>0.027925</td>\n",
       "      <td>0.054747</td>\n",
       "      <td>0.131752</td>\n",
       "      <td>0.100833</td>\n",
       "      <td>0.085730</td>\n",
       "      <td>-0.040414</td>\n",
       "      <td>0.065366</td>\n",
       "      <td>metal</td>\n",
       "    </tr>\n",
       "    <tr>\n",
       "      <th>4</th>\n",
       "      <td>-0.849344</td>\n",
       "      <td>0.103658</td>\n",
       "      <td>-0.048105</td>\n",
       "      <td>-0.018132</td>\n",
       "      <td>-0.023246</td>\n",
       "      <td>-0.159358</td>\n",
       "      <td>0.035768</td>\n",
       "      <td>-0.071897</td>\n",
       "      <td>0.111841</td>\n",
       "      <td>0.102877</td>\n",
       "      <td>...</td>\n",
       "      <td>0.040635</td>\n",
       "      <td>-0.010478</td>\n",
       "      <td>0.013386</td>\n",
       "      <td>-0.029481</td>\n",
       "      <td>0.037258</td>\n",
       "      <td>0.010039</td>\n",
       "      <td>-0.042075</td>\n",
       "      <td>0.012024</td>\n",
       "      <td>0.026086</td>\n",
       "      <td>disco</td>\n",
       "    </tr>\n",
       "  </tbody>\n",
       "</table>\n",
       "<p>5 rows × 31 columns</p>\n",
       "</div>"
      ],
      "text/plain": [
       "          0         1         2         3         4         5         6  \\\n",
       "0  0.000578 -0.630373 -0.054837  0.410234  0.009388  0.027372 -0.032693   \n",
       "1  0.071451 -0.402465 -0.106786  0.332658 -0.060422  0.226590  0.122803   \n",
       "2 -0.047268  0.326820 -0.598692  0.227380  0.045610  0.264122 -0.077907   \n",
       "3 -0.437642  0.235405 -0.003960  0.029110 -0.170677 -0.094825 -0.142894   \n",
       "4 -0.849344  0.103658 -0.048105 -0.018132 -0.023246 -0.159358  0.035768   \n",
       "\n",
       "          7         8         9  ...        21        22        23        24  \\\n",
       "0 -0.147326  0.031385  0.111804  ...  0.076478  0.102050 -0.078146  0.039644   \n",
       "1 -0.066844  0.069257 -0.088951  ...  0.119324  0.093950 -0.015557  0.093607   \n",
       "2  0.063583 -0.168403  0.038894  ... -0.088314  0.044282 -0.058775 -0.026480   \n",
       "3  0.105725  0.099776 -0.181425  ...  0.021233 -0.013547  0.027925  0.054747   \n",
       "4 -0.071897  0.111841  0.102877  ...  0.040635 -0.010478  0.013386 -0.029481   \n",
       "\n",
       "         25        26        27        28        29      label  \n",
       "0 -0.007254 -0.020662  0.123057 -0.063354  0.036266  classical  \n",
       "1  0.005462 -0.108916 -0.027931  0.009109  0.001459       jazz  \n",
       "2  0.011934  0.086970 -0.023386 -0.155595 -0.052357    country  \n",
       "3  0.131752  0.100833  0.085730 -0.040414  0.065366      metal  \n",
       "4  0.037258  0.010039 -0.042075  0.012024  0.026086      disco  \n",
       "\n",
       "[5 rows x 31 columns]"
      ]
     },
     "execution_count": 14,
     "metadata": {},
     "output_type": "execute_result"
    }
   ],
   "source": [
    "pca_final.head()"
   ]
  },
  {
   "cell_type": "markdown",
   "id": "7793a70c-2945-4262-a2be-3660cd158cf5",
   "metadata": {},
   "source": [
    "### PCA - Original Model\n",
    "Building a model with no parameter tuning and using the PCA data"
   ]
  },
  {
   "cell_type": "code",
   "execution_count": 16,
   "id": "f4b1db81",
   "metadata": {},
   "outputs": [],
   "source": [
    "model_pca = KNeighborsClassifier()\n",
    "model_pca.fit(pca_final.iloc[:,:30],pca_final.iloc[:,30])\n",
    "pcaTrainknn = model_pca.predict(pca_data)\n",
    "pcaTestknn = model_pca.predict(pca_data_test)"
   ]
  },
  {
   "cell_type": "code",
   "execution_count": 17,
   "id": "7f28b6d2",
   "metadata": {},
   "outputs": [],
   "source": [
    "pcatestknn_score =  accuracy_score(y_test, pcaTestknn)\n",
    "pcaknn_score = accuracy_score(y_dev, pcaTrainknn)"
   ]
  },
  {
   "cell_type": "code",
   "execution_count": 19,
   "id": "3c0cf3a6",
   "metadata": {},
   "outputs": [
    {
     "name": "stdout",
     "output_type": "stream",
     "text": [
      "Classification Score for K Neighbors Classifier on Train dataset:\n",
      "\n",
      "Train Score :  0.8033333333333333\n",
      "--------------------------------------------------------\n",
      "Classification Score for K Neighbors Classifier on Test dataset:\n",
      "\n",
      "Test Score : 0.74\n"
     ]
    }
   ],
   "source": [
    "print(\"Classification Score for K Neighbors Classifier on Train dataset:\\n\")\n",
    "print(\"Train Score : \", pcaknn_score)\n",
    "print(\"--------------------------------------------------------\")\n",
    "print(\"Classification Score for K Neighbors Classifier on Test dataset:\\n\")\n",
    "print(\"Test Score :\", pcatestknn_score)"
   ]
  },
  {
   "cell_type": "code",
   "execution_count": 20,
   "id": "efa40f55",
   "metadata": {},
   "outputs": [
    {
     "data": {
      "image/png": "[encoded data removed]",
      "text/plain": [
       "<Figure size 1080x432 with 2 Axes>"
      ]
     },
     "metadata": {},
     "output_type": "display_data"
    },
    {
     "name": "stdout",
     "output_type": "stream",
     "text": [
      "Accuracy : 0.74\n",
      "Macro F-1 Score : 0.75\n"
     ]
    }
   ],
   "source": [
    "# Evaluate Model\n",
    "class_labels = list(model_knn.classes_)\n",
    "macro_f1, accuracy = evaluate_model(pcaTestknn, y_test, class_labels, 'Confustion Matrix: PCA - Untuned 30 seconds K Neighbors Classifier')\n",
    "print('Accuracy : %.2f'%accuracy)\n",
    "print('Macro F-1 Score : %.2f'%macro_f1)"
   ]
  },
  {
   "cell_type": "markdown",
   "id": "abbdcf85",
   "metadata": {},
   "source": [
    "### PCA - Tuned Model\n",
    "Building a model with hyperparameters tuning using 5-fold cross validation with GridSearchCV and the PCA data"
   ]
  },
  {
   "cell_type": "code",
   "execution_count": 21,
   "id": "a4a2e80a",
   "metadata": {},
   "outputs": [
    {
     "data": {
      "text/html": [
       "<div>\n",
       "<style scoped>\n",
       "    .dataframe tbody tr th:only-of-type {\n",
       "        vertical-align: middle;\n",
       "    }\n",
       "\n",
       "    .dataframe tbody tr th {\n",
       "        vertical-align: top;\n",
       "    }\n",
       "\n",
       "    .dataframe thead th {\n",
       "        text-align: right;\n",
       "    }\n",
       "</style>\n",
       "<table border=\"1\" class=\"dataframe\">\n",
       "  <thead>\n",
       "    <tr style=\"text-align: right;\">\n",
       "      <th></th>\n",
       "      <th>0</th>\n",
       "      <th>1</th>\n",
       "      <th>2</th>\n",
       "      <th>3</th>\n",
       "      <th>4</th>\n",
       "      <th>5</th>\n",
       "      <th>6</th>\n",
       "      <th>7</th>\n",
       "      <th>8</th>\n",
       "      <th>9</th>\n",
       "      <th>...</th>\n",
       "      <th>20</th>\n",
       "      <th>21</th>\n",
       "      <th>22</th>\n",
       "      <th>23</th>\n",
       "      <th>24</th>\n",
       "      <th>25</th>\n",
       "      <th>26</th>\n",
       "      <th>27</th>\n",
       "      <th>28</th>\n",
       "      <th>29</th>\n",
       "    </tr>\n",
       "  </thead>\n",
       "  <tbody>\n",
       "    <tr>\n",
       "      <th>0</th>\n",
       "      <td>0.000578</td>\n",
       "      <td>-0.630373</td>\n",
       "      <td>-0.054837</td>\n",
       "      <td>0.410234</td>\n",
       "      <td>0.009388</td>\n",
       "      <td>0.027372</td>\n",
       "      <td>-0.032693</td>\n",
       "      <td>-0.147326</td>\n",
       "      <td>0.031385</td>\n",
       "      <td>0.111804</td>\n",
       "      <td>...</td>\n",
       "      <td>-0.183909</td>\n",
       "      <td>0.076478</td>\n",
       "      <td>0.102050</td>\n",
       "      <td>-0.078146</td>\n",
       "      <td>0.039644</td>\n",
       "      <td>-0.007254</td>\n",
       "      <td>-0.020662</td>\n",
       "      <td>0.123057</td>\n",
       "      <td>-0.063354</td>\n",
       "      <td>0.036266</td>\n",
       "    </tr>\n",
       "    <tr>\n",
       "      <th>1</th>\n",
       "      <td>0.071451</td>\n",
       "      <td>-0.402465</td>\n",
       "      <td>-0.106786</td>\n",
       "      <td>0.332658</td>\n",
       "      <td>-0.060422</td>\n",
       "      <td>0.226590</td>\n",
       "      <td>0.122803</td>\n",
       "      <td>-0.066844</td>\n",
       "      <td>0.069257</td>\n",
       "      <td>-0.088951</td>\n",
       "      <td>...</td>\n",
       "      <td>0.119887</td>\n",
       "      <td>0.119324</td>\n",
       "      <td>0.093950</td>\n",
       "      <td>-0.015557</td>\n",
       "      <td>0.093607</td>\n",
       "      <td>0.005462</td>\n",
       "      <td>-0.108916</td>\n",
       "      <td>-0.027931</td>\n",
       "      <td>0.009109</td>\n",
       "      <td>0.001459</td>\n",
       "    </tr>\n",
       "    <tr>\n",
       "      <th>2</th>\n",
       "      <td>-0.047268</td>\n",
       "      <td>0.326820</td>\n",
       "      <td>-0.598692</td>\n",
       "      <td>0.227380</td>\n",
       "      <td>0.045610</td>\n",
       "      <td>0.264122</td>\n",
       "      <td>-0.077907</td>\n",
       "      <td>0.063583</td>\n",
       "      <td>-0.168403</td>\n",
       "      <td>0.038894</td>\n",
       "      <td>...</td>\n",
       "      <td>-0.009353</td>\n",
       "      <td>-0.088314</td>\n",
       "      <td>0.044282</td>\n",
       "      <td>-0.058775</td>\n",
       "      <td>-0.026480</td>\n",
       "      <td>0.011934</td>\n",
       "      <td>0.086970</td>\n",
       "      <td>-0.023386</td>\n",
       "      <td>-0.155595</td>\n",
       "      <td>-0.052357</td>\n",
       "    </tr>\n",
       "    <tr>\n",
       "      <th>3</th>\n",
       "      <td>-0.437642</td>\n",
       "      <td>0.235405</td>\n",
       "      <td>-0.003960</td>\n",
       "      <td>0.029110</td>\n",
       "      <td>-0.170677</td>\n",
       "      <td>-0.094825</td>\n",
       "      <td>-0.142894</td>\n",
       "      <td>0.105725</td>\n",
       "      <td>0.099776</td>\n",
       "      <td>-0.181425</td>\n",
       "      <td>...</td>\n",
       "      <td>-0.129099</td>\n",
       "      <td>0.021233</td>\n",
       "      <td>-0.013547</td>\n",
       "      <td>0.027925</td>\n",
       "      <td>0.054747</td>\n",
       "      <td>0.131752</td>\n",
       "      <td>0.100833</td>\n",
       "      <td>0.085730</td>\n",
       "      <td>-0.040414</td>\n",
       "      <td>0.065366</td>\n",
       "    </tr>\n",
       "    <tr>\n",
       "      <th>4</th>\n",
       "      <td>-0.849344</td>\n",
       "      <td>0.103658</td>\n",
       "      <td>-0.048105</td>\n",
       "      <td>-0.018132</td>\n",
       "      <td>-0.023246</td>\n",
       "      <td>-0.159358</td>\n",
       "      <td>0.035768</td>\n",
       "      <td>-0.071897</td>\n",
       "      <td>0.111841</td>\n",
       "      <td>0.102877</td>\n",
       "      <td>...</td>\n",
       "      <td>-0.058596</td>\n",
       "      <td>0.040635</td>\n",
       "      <td>-0.010478</td>\n",
       "      <td>0.013386</td>\n",
       "      <td>-0.029481</td>\n",
       "      <td>0.037258</td>\n",
       "      <td>0.010039</td>\n",
       "      <td>-0.042075</td>\n",
       "      <td>0.012024</td>\n",
       "      <td>0.026086</td>\n",
       "    </tr>\n",
       "    <tr>\n",
       "      <th>...</th>\n",
       "      <td>...</td>\n",
       "      <td>...</td>\n",
       "      <td>...</td>\n",
       "      <td>...</td>\n",
       "      <td>...</td>\n",
       "      <td>...</td>\n",
       "      <td>...</td>\n",
       "      <td>...</td>\n",
       "      <td>...</td>\n",
       "      <td>...</td>\n",
       "      <td>...</td>\n",
       "      <td>...</td>\n",
       "      <td>...</td>\n",
       "      <td>...</td>\n",
       "      <td>...</td>\n",
       "      <td>...</td>\n",
       "      <td>...</td>\n",
       "      <td>...</td>\n",
       "      <td>...</td>\n",
       "      <td>...</td>\n",
       "      <td>...</td>\n",
       "    </tr>\n",
       "    <tr>\n",
       "      <th>895</th>\n",
       "      <td>-0.654431</td>\n",
       "      <td>0.218151</td>\n",
       "      <td>0.332880</td>\n",
       "      <td>0.090825</td>\n",
       "      <td>0.133881</td>\n",
       "      <td>-0.215552</td>\n",
       "      <td>0.054109</td>\n",
       "      <td>0.024756</td>\n",
       "      <td>0.233052</td>\n",
       "      <td>-0.024786</td>\n",
       "      <td>...</td>\n",
       "      <td>0.274051</td>\n",
       "      <td>-0.019805</td>\n",
       "      <td>0.088398</td>\n",
       "      <td>-0.033036</td>\n",
       "      <td>-0.048972</td>\n",
       "      <td>-0.003956</td>\n",
       "      <td>-0.084452</td>\n",
       "      <td>-0.004238</td>\n",
       "      <td>-0.000804</td>\n",
       "      <td>0.010747</td>\n",
       "    </tr>\n",
       "    <tr>\n",
       "      <th>896</th>\n",
       "      <td>0.515280</td>\n",
       "      <td>-0.634698</td>\n",
       "      <td>0.082394</td>\n",
       "      <td>0.485203</td>\n",
       "      <td>-0.101830</td>\n",
       "      <td>-0.139828</td>\n",
       "      <td>-0.145428</td>\n",
       "      <td>0.177590</td>\n",
       "      <td>0.022323</td>\n",
       "      <td>0.179427</td>\n",
       "      <td>...</td>\n",
       "      <td>0.034017</td>\n",
       "      <td>-0.017550</td>\n",
       "      <td>-0.010309</td>\n",
       "      <td>-0.119060</td>\n",
       "      <td>-0.052039</td>\n",
       "      <td>-0.188385</td>\n",
       "      <td>-0.017371</td>\n",
       "      <td>-0.002189</td>\n",
       "      <td>0.071905</td>\n",
       "      <td>-0.036857</td>\n",
       "    </tr>\n",
       "    <tr>\n",
       "      <th>897</th>\n",
       "      <td>0.976786</td>\n",
       "      <td>0.902560</td>\n",
       "      <td>0.595924</td>\n",
       "      <td>0.289104</td>\n",
       "      <td>0.483065</td>\n",
       "      <td>0.202642</td>\n",
       "      <td>0.115373</td>\n",
       "      <td>0.003239</td>\n",
       "      <td>-0.108634</td>\n",
       "      <td>-0.320637</td>\n",
       "      <td>...</td>\n",
       "      <td>0.045215</td>\n",
       "      <td>0.006396</td>\n",
       "      <td>-0.011977</td>\n",
       "      <td>-0.011779</td>\n",
       "      <td>-0.029435</td>\n",
       "      <td>-0.130917</td>\n",
       "      <td>-0.033124</td>\n",
       "      <td>-0.001105</td>\n",
       "      <td>-0.075626</td>\n",
       "      <td>0.048263</td>\n",
       "    </tr>\n",
       "    <tr>\n",
       "      <th>898</th>\n",
       "      <td>0.124804</td>\n",
       "      <td>0.297352</td>\n",
       "      <td>-0.452053</td>\n",
       "      <td>-0.032074</td>\n",
       "      <td>0.037626</td>\n",
       "      <td>0.157139</td>\n",
       "      <td>-0.016187</td>\n",
       "      <td>-0.012221</td>\n",
       "      <td>-0.084176</td>\n",
       "      <td>0.132889</td>\n",
       "      <td>...</td>\n",
       "      <td>0.118056</td>\n",
       "      <td>-0.044843</td>\n",
       "      <td>0.003588</td>\n",
       "      <td>0.033771</td>\n",
       "      <td>0.039801</td>\n",
       "      <td>-0.129151</td>\n",
       "      <td>0.084942</td>\n",
       "      <td>0.037983</td>\n",
       "      <td>-0.039073</td>\n",
       "      <td>-0.081187</td>\n",
       "    </tr>\n",
       "    <tr>\n",
       "      <th>899</th>\n",
       "      <td>0.450970</td>\n",
       "      <td>0.022880</td>\n",
       "      <td>-0.401623</td>\n",
       "      <td>0.147816</td>\n",
       "      <td>-0.331353</td>\n",
       "      <td>0.127982</td>\n",
       "      <td>-0.007133</td>\n",
       "      <td>-0.183301</td>\n",
       "      <td>0.021893</td>\n",
       "      <td>0.023210</td>\n",
       "      <td>...</td>\n",
       "      <td>-0.064590</td>\n",
       "      <td>0.026610</td>\n",
       "      <td>0.057758</td>\n",
       "      <td>0.063185</td>\n",
       "      <td>0.059464</td>\n",
       "      <td>-0.039949</td>\n",
       "      <td>-0.047017</td>\n",
       "      <td>-0.063334</td>\n",
       "      <td>-0.011921</td>\n",
       "      <td>0.038655</td>\n",
       "    </tr>\n",
       "  </tbody>\n",
       "</table>\n",
       "<p>900 rows × 30 columns</p>\n",
       "</div>"
      ],
      "text/plain": [
       "           0         1         2         3         4         5         6   \\\n",
       "0    0.000578 -0.630373 -0.054837  0.410234  0.009388  0.027372 -0.032693   \n",
       "1    0.071451 -0.402465 -0.106786  0.332658 -0.060422  0.226590  0.122803   \n",
       "2   -0.047268  0.326820 -0.598692  0.227380  0.045610  0.264122 -0.077907   \n",
       "3   -0.437642  0.235405 -0.003960  0.029110 -0.170677 -0.094825 -0.142894   \n",
       "4   -0.849344  0.103658 -0.048105 -0.018132 -0.023246 -0.159358  0.035768   \n",
       "..        ...       ...       ...       ...       ...       ...       ...   \n",
       "895 -0.654431  0.218151  0.332880  0.090825  0.133881 -0.215552  0.054109   \n",
       "896  0.515280 -0.634698  0.082394  0.485203 -0.101830 -0.139828 -0.145428   \n",
       "897  0.976786  0.902560  0.595924  0.289104  0.483065  0.202642  0.115373   \n",
       "898  0.124804  0.297352 -0.452053 -0.032074  0.037626  0.157139 -0.016187   \n",
       "899  0.450970  0.022880 -0.401623  0.147816 -0.331353  0.127982 -0.007133   \n",
       "\n",
       "           7         8         9   ...        20        21        22  \\\n",
       "0   -0.147326  0.031385  0.111804  ... -0.183909  0.076478  0.102050   \n",
       "1   -0.066844  0.069257 -0.088951  ...  0.119887  0.119324  0.093950   \n",
       "2    0.063583 -0.168403  0.038894  ... -0.009353 -0.088314  0.044282   \n",
       "3    0.105725  0.099776 -0.181425  ... -0.129099  0.021233 -0.013547   \n",
       "4   -0.071897  0.111841  0.102877  ... -0.058596  0.040635 -0.010478   \n",
       "..        ...       ...       ...  ...       ...       ...       ...   \n",
       "895  0.024756  0.233052 -0.024786  ...  0.274051 -0.019805  0.088398   \n",
       "896  0.177590  0.022323  0.179427  ...  0.034017 -0.017550 -0.010309   \n",
       "897  0.003239 -0.108634 -0.320637  ...  0.045215  0.006396 -0.011977   \n",
       "898 -0.012221 -0.084176  0.132889  ...  0.118056 -0.044843  0.003588   \n",
       "899 -0.183301  0.021893  0.023210  ... -0.064590  0.026610  0.057758   \n",
       "\n",
       "           23        24        25        26        27        28        29  \n",
       "0   -0.078146  0.039644 -0.007254 -0.020662  0.123057 -0.063354  0.036266  \n",
       "1   -0.015557  0.093607  0.005462 -0.108916 -0.027931  0.009109  0.001459  \n",
       "2   -0.058775 -0.026480  0.011934  0.086970 -0.023386 -0.155595 -0.052357  \n",
       "3    0.027925  0.054747  0.131752  0.100833  0.085730 -0.040414  0.065366  \n",
       "4    0.013386 -0.029481  0.037258  0.010039 -0.042075  0.012024  0.026086  \n",
       "..        ...       ...       ...       ...       ...       ...       ...  \n",
       "895 -0.033036 -0.048972 -0.003956 -0.084452 -0.004238 -0.000804  0.010747  \n",
       "896 -0.119060 -0.052039 -0.188385 -0.017371 -0.002189  0.071905 -0.036857  \n",
       "897 -0.011779 -0.029435 -0.130917 -0.033124 -0.001105 -0.075626  0.048263  \n",
       "898  0.033771  0.039801 -0.129151  0.084942  0.037983 -0.039073 -0.081187  \n",
       "899  0.063185  0.059464 -0.039949 -0.047017 -0.063334 -0.011921  0.038655  \n",
       "\n",
       "[900 rows x 30 columns]"
      ]
     },
     "execution_count": 21,
     "metadata": {},
     "output_type": "execute_result"
    }
   ],
   "source": [
    "pca_final.iloc[:,:30]"
   ]
  },
  {
   "cell_type": "code",
   "execution_count": 22,
   "id": "2d7297c1",
   "metadata": {},
   "outputs": [],
   "source": [
    "model_pca_tuned = tune_knn\n",
    "model_pca_tuned.fit(pca_final.iloc[:,:30],pca_final.iloc[:,30])\n",
    "pcaTrainknn_tuned = model_pca_tuned.predict(pca_data)\n",
    "pcaTestknn_tuned = model_pca_tuned.predict(pca_data_test)"
   ]
  },
  {
   "cell_type": "code",
   "execution_count": 23,
   "id": "10717858",
   "metadata": {},
   "outputs": [],
   "source": [
    "pcatestknn_score =  accuracy_score(y_test, pcaTestknn_tuned)\n",
    "pcaknn_score = accuracy_score(y_dev, pcaTrainknn_tuned)"
   ]
  },
  {
   "cell_type": "code",
   "execution_count": 24,
   "id": "648af0d4",
   "metadata": {},
   "outputs": [
    {
     "name": "stdout",
     "output_type": "stream",
     "text": [
      "Classification Score for K Neighbors Classifier on Train dataset:\n",
      "\n",
      "Train Score :  0.8033333333333333\n",
      "--------------------------------------------------------\n",
      "Classification Score for K Neighbors Classifier on Test dataset:\n",
      "\n",
      "Test Score : 0.74\n"
     ]
    }
   ],
   "source": [
    "print(\"Classification Score for K Neighbors Classifier on Train dataset:\\n\")\n",
    "print(\"Train Score : \", pcaknn_score)\n",
    "print(\"--------------------------------------------------------\")\n",
    "print(\"Classification Score for K Neighbors Classifier on Test dataset:\\n\")\n",
    "print(\"Test Score :\", pcatestknn_score)"
   ]
  },
  {
   "cell_type": "code",
   "execution_count": 25,
   "id": "35ad5f21",
   "metadata": {},
   "outputs": [
    {
     "data": {
      "image/png": "[encoded data removed]",
      "text/plain": [
       "<Figure size 1080x432 with 2 Axes>"
      ]
     },
     "metadata": {},
     "output_type": "display_data"
    },
    {
     "name": "stdout",
     "output_type": "stream",
     "text": [
      "Accuracy : 0.74\n",
      "Macro F-1 Score : 0.75\n"
     ]
    }
   ],
   "source": [
    "# Evaluate Model\n",
    "class_labels = list(model_pca_tuned.classes_)\n",
    "macro_f1, accuracy = evaluate_model(pcaTestknn_tuned, y_test, class_labels, 'Confustion Matrix: PCA - Tuned 30 seconds K Neighbors Classifier')\n",
    "print('Accuracy : %.2f'%accuracy)\n",
    "print('Macro F-1 Score : %.2f'%macro_f1)"
   ]
  }
 ],
 "metadata": {
  "kernelspec": {
   "display_name": "Python 3",
   "language": "python",
   "name": "python3"
  },
  "language_info": {
   "codemirror_mode": {
    "name": "ipython",
    "version": 3
   },
   "file_extension": ".py",
   "mimetype": "text/x-python",
   "name": "python",
   "nbconvert_exporter": "python",
   "pygments_lexer": "ipython3",
   "version": "3.8.13"
  }
 },
 "nbformat": 4,
 "nbformat_minor": 5
}
