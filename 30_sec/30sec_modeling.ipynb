{
 "cells": [
  {
   "cell_type": "code",
   "execution_count": 1,
   "id": "a5625d18",
   "metadata": {},
   "outputs": [],
   "source": [
    "from utils import *\n",
    "from sklearn.decomposition import PCA\n",
    "from sklearn.model_selection import GridSearchCV\n",
    "import random\n",
    "from sklearn.preprocessing import OneHotEncoder\n",
    "from sklearn.compose import make_column_transformer\n",
    "from sklearn.ensemble import GradientBoostingClassifier\n",
    "from sklearn.ensemble import HistGradientBoostingClassifier\n",
    "from sklearn.ensemble import RandomForestClassifier\n",
    "from sklearn.model_selection import GridSearchCV, StratifiedKFold\n",
    "from xgboost import XGBClassifier\n",
    "from sklearn.metrics import plot_confusion_matrix\n",
    "from sklearn.svm import SVC\n",
    "\n",
    "import warnings\n",
    "warnings.filterwarnings('ignore')\n",
    "\n"
   ]
  },
  {
   "cell_type": "code",
   "execution_count": 2,
   "id": "4404ec2b",
   "metadata": {},
   "outputs": [],
   "source": [
    "df = pd.read_csv('data/features_30_sec.csv') \n",
    "# map labels to index\n",
    "label_index = dict()\n",
    "index_label = dict()\n",
    "for i, x in enumerate(df.label.unique()):\n",
    "    label_index[x] = i \n",
    "    index_label[i] = x\n",
    "    \n",
    "# update labels in df to index\n",
    "df.label = [label_index[l] for l in df.label]\n",
    "\n",
    "# length is not an informative feature so we just drop it\n",
    "y = df['label']\n",
    "X = df.drop(columns = ['label','filename','length'])\n",
    "\n"
   ]
  },
  {
   "cell_type": "code",
   "execution_count": 3,
   "id": "7ce6e56d",
   "metadata": {},
   "outputs": [
    {
     "name": "stdout",
     "output_type": "stream",
     "text": [
      "X_dev shape: (800, 57)\n",
      "X_test shape: (200, 57)\n"
     ]
    }
   ],
   "source": [
    "# Scaling and Data Spiltting  \n",
    "X = standardize(X)\n",
    "X_dev, y_dev, X_test, y_test = split(X, y)\n",
    "\n"
   ]
  },
  {
   "cell_type": "markdown",
   "id": "392b8955",
   "metadata": {
    "tags": []
   },
   "source": [
    "# HistGradientBoosting"
   ]
  },
  {
   "cell_type": "markdown",
   "id": "fe6d9dfd-1623-4174-afaf-3cf078d6ebfb",
   "metadata": {
    "tags": []
   },
   "source": [
    "### Original Model (untuned)\n",
    "Building a model with no parameter tuning and using the raw csv file"
   ]
  },
  {
   "cell_type": "code",
   "execution_count": 4,
   "id": "9dd119cf-5b8b-46cd-bf6b-6c6f15da6c10",
   "metadata": {},
   "outputs": [],
   "source": [
    "model_hgb = HistGradientBoostingClassifier()\n",
    "model_hgb.fit(X_dev, y_dev)\n",
    "predsDevhgb = model_hgb.predict(X_dev)\n",
    "predsTesthgb = model_hgb.predict(X_test)"
   ]
  },
  {
   "cell_type": "code",
   "execution_count": 5,
   "id": "fac90dc7-b83e-4eab-be34-fa66b5ff595c",
   "metadata": {},
   "outputs": [],
   "source": [
    "testhgb_score =  accuracy_score(y_test, predsTesthgb)\n",
    "devhgb_score = accuracy_score(y_dev, predsDevhgb)"
   ]
  },
  {
   "cell_type": "code",
   "execution_count": 6,
   "id": "04da1c89-cde0-4086-a83f-960783b37730",
   "metadata": {},
   "outputs": [
    {
     "name": "stdout",
     "output_type": "stream",
     "text": [
      "Classification Score for HistGradientBoosting on Dev dataset:\n",
      "\n",
      "Dev Score :  0.99875\n",
      "              precision    recall  f1-score   support\n",
      "\n",
      "           0       1.00      1.00      1.00        88\n",
      "           1       1.00      1.00      1.00        84\n",
      "           2       1.00      1.00      1.00        78\n",
      "           3       1.00      1.00      1.00        78\n",
      "           4       1.00      1.00      1.00        81\n",
      "           5       1.00      1.00      1.00        71\n",
      "           6       0.99      1.00      0.99        81\n",
      "           7       1.00      1.00      1.00        84\n",
      "           8       1.00      1.00      1.00        78\n",
      "           9       1.00      0.99      0.99        77\n",
      "\n",
      "    accuracy                           1.00       800\n",
      "   macro avg       1.00      1.00      1.00       800\n",
      "weighted avg       1.00      1.00      1.00       800\n",
      "\n",
      "--------------------------------------------------------\n",
      "Classification Score for HistGradientBoosting on Test dataset:\n",
      "\n",
      "Test Score : 0.765\n",
      "              precision    recall  f1-score   support\n",
      "\n",
      "           0       0.71      0.83      0.77        12\n",
      "           1       0.80      1.00      0.89        16\n",
      "           2       0.68      0.77      0.72        22\n",
      "           3       0.68      0.68      0.68        22\n",
      "           4       0.63      0.63      0.63        19\n",
      "           5       0.88      0.76      0.81        29\n",
      "           6       0.95      1.00      0.97        19\n",
      "           7       0.76      0.81      0.79        16\n",
      "           8       0.77      0.77      0.77        22\n",
      "           9       0.75      0.52      0.62        23\n",
      "\n",
      "    accuracy                           0.77       200\n",
      "   macro avg       0.76      0.78      0.77       200\n",
      "weighted avg       0.77      0.77      0.76       200\n",
      "\n"
     ]
    }
   ],
   "source": [
    "print(\"Classification Score for HistGradientBoosting on Dev dataset:\\n\")\n",
    "print(\"Dev Score : \", devhgb_score)\n",
    "print(classification_report(y_dev, predsDevhgb))\n",
    "print(\"--------------------------------------------------------\")\n",
    "print(\"Classification Score for HistGradientBoosting on Test dataset:\\n\")\n",
    "print(\"Test Score :\", testhgb_score)\n",
    "print(classification_report(y_test, predsTesthgb))"
   ]
  },
  {
   "cell_type": "code",
   "execution_count": 7,
   "id": "ed0a6981-5768-4131-81cd-86d397eed465",
   "metadata": {},
   "outputs": [
    {
     "data": {
      "image/png": "[encoded data removed]",
      "text/plain": [
       "<Figure size 1080x432 with 2 Axes>"
      ]
     },
     "metadata": {},
     "output_type": "display_data"
    },
    {
     "name": "stdout",
     "output_type": "stream",
     "text": [
      "Accuracy : 0.77\n",
      "Macro F-1 Score : 0.77\n"
     ]
    }
   ],
   "source": [
    "# Evaluate Model on Test set\n",
    "class_labels = list(model_hgb.classes_)\n",
    "macro_f1, accuracy = evaluate_model(predsTesthgb, y_test, class_labels,\n",
    "                                    'Confustion matrix: Untuned 30 seconds Hist GradientBoosting Classifier')\n",
    "print('Accuracy : %.2f'%accuracy)\n",
    "print('Macro F-1 Score : %.2f'%macro_f1)"
   ]
  },
  {
   "cell_type": "markdown",
   "id": "9ea95536-4ee0-4d41-bb2a-e92edf0032ae",
   "metadata": {},
   "source": [
    "### Tuned Model\n",
    "Building a model with hyperparameters tuning using 5-fold cross validation with GridSearchCV and the raw csv file"
   ]
  },
  {
   "cell_type": "code",
   "execution_count": 8,
   "id": "be69fe70",
   "metadata": {},
   "outputs": [
    {
     "data": {
      "text/plain": [
       "{'max_iter': [100, 200, 300],\n",
       " 'learning_rate': array([0.09512011, 0.02165036, 0.13450908]),\n",
       " 'max_depth': [4, 6, 8]}"
      ]
     },
     "execution_count": 8,
     "metadata": {},
     "output_type": "execute_result"
    }
   ],
   "source": [
    "hgb_param_grid = {\"max_iter\": [100, 200, 300],\n",
    "                  \"learning_rate\": np.random.uniform(0.01, 0.3, 3),\n",
    "                  \"max_depth\": [4, 6, 8]}\n",
    "hgb_param_grid"
   ]
  },
  {
   "cell_type": "code",
   "execution_count": 9,
   "id": "764395ff",
   "metadata": {},
   "outputs": [
    {
     "name": "stdout",
     "output_type": "stream",
     "text": [
      "Best parameter set is: {'learning_rate': 0.09512011480769186, 'max_depth': 4, 'max_iter': 200}\n",
      "Score on Dev data for hgb using GridSearchCV: 0.99875\n",
      "Score on Test data for hgb using GridSearchCV: 0.745\n"
     ]
    }
   ],
   "source": [
    "grid_search_hgb = GridSearchCV(model_hgb, \n",
    "                           param_grid = hgb_param_grid, \n",
    "                           cv = 5,\n",
    "                           n_jobs=-1)\n",
    "\n",
    "\n",
    "\n",
    "grid_search_hgb.fit(X_dev, y_dev)\n",
    "print(\"Best parameter set is: {}\".format(grid_search_hgb.best_params_))\n",
    "best_hgb = grid_search_hgb.best_estimator_\n",
    "best_hgb.fit(X_dev, y_dev)\n",
    "\n",
    "predsDevhgb_tuned = best_hgb.predict(X_dev)\n",
    "predsTesthgb_tuned = best_hgb.predict(X_test)\n",
    "\n",
    "print(\"Score on Dev data for hgb using GridSearchCV:\", accuracy_score(y_dev, predsDevhgb_tuned))\n",
    "print(\"Score on Test data for hgb using GridSearchCV:\",accuracy_score(y_test, predsTesthgb_tuned))"
   ]
  },
  {
   "cell_type": "code",
   "execution_count": 10,
   "id": "0051d0ac",
   "metadata": {},
   "outputs": [
    {
     "data": {
      "image/png": "[encoded data removed]",
      "text/plain": [
       "<Figure size 1080x432 with 2 Axes>"
      ]
     },
     "metadata": {},
     "output_type": "display_data"
    },
    {
     "name": "stdout",
     "output_type": "stream",
     "text": [
      "Accuracy : 0.74\n",
      "Macro F-1 Score : 0.75\n"
     ]
    }
   ],
   "source": [
    "# Evaluate Model on Test set\n",
    "class_labels = list(best_hgb.classes_)\n",
    "macro_f1, accuracy = evaluate_model(predsTesthgb_tuned, y_test, class_labels,\n",
    "                                    'Confustion matrix: Tuned 30 seconds Hist GradientBoosting Classifier')\n",
    "print('Accuracy : %.2f'%accuracy)\n",
    "print('Macro F-1 Score : %.2f'%macro_f1)"
   ]
  },
  {
   "cell_type": "markdown",
   "id": "d0aab414",
   "metadata": {
    "tags": []
   },
   "source": [
    "# GradientBoosting"
   ]
  },
  {
   "cell_type": "code",
   "execution_count": 11,
   "id": "d08c2927-2007-4fde-bf61-89ab15792baa",
   "metadata": {},
   "outputs": [],
   "source": [
    "model_gb = GradientBoostingClassifier()\n",
    "model_gb.fit(X_dev, y_dev)\n",
    "predsDevgb = model_gb.predict(X_dev)\n",
    "predsTestgb = model_gb.predict(X_test)"
   ]
  },
  {
   "cell_type": "code",
   "execution_count": 12,
   "id": "2f22c3c0-d69a-49b5-ac48-6709541040ee",
   "metadata": {},
   "outputs": [],
   "source": [
    "testgb_score =  accuracy_score(y_test, predsTestgb)\n",
    "devgb_score = accuracy_score(y_dev, predsDevgb)"
   ]
  },
  {
   "cell_type": "code",
   "execution_count": 13,
   "id": "88b9416c-f5be-4a37-ac81-a3fc6daa1a70",
   "metadata": {},
   "outputs": [
    {
     "name": "stdout",
     "output_type": "stream",
     "text": [
      "Classification Score for GradientBoostingClassifier on Dev dataset:\n",
      "\n",
      "Dev Score :  0.99875\n",
      "              precision    recall  f1-score   support\n",
      "\n",
      "           0       1.00      1.00      1.00        88\n",
      "           1       1.00      1.00      1.00        84\n",
      "           2       1.00      1.00      1.00        78\n",
      "           3       1.00      1.00      1.00        78\n",
      "           4       1.00      1.00      1.00        81\n",
      "           5       1.00      1.00      1.00        71\n",
      "           6       0.99      1.00      0.99        81\n",
      "           7       1.00      1.00      1.00        84\n",
      "           8       1.00      1.00      1.00        78\n",
      "           9       1.00      0.99      0.99        77\n",
      "\n",
      "    accuracy                           1.00       800\n",
      "   macro avg       1.00      1.00      1.00       800\n",
      "weighted avg       1.00      1.00      1.00       800\n",
      "\n",
      "--------------------------------------------------------\n",
      "Classification Score for GradientBoostingClassifier on Test dataset:\n",
      "\n",
      "Test Score : 0.745\n",
      "              precision    recall  f1-score   support\n",
      "\n",
      "           0       0.53      0.83      0.65        12\n",
      "           1       0.75      0.94      0.83        16\n",
      "           2       0.86      0.86      0.86        22\n",
      "           3       0.64      0.64      0.64        22\n",
      "           4       0.71      0.63      0.67        19\n",
      "           5       0.91      0.69      0.78        29\n",
      "           6       1.00      0.89      0.94        19\n",
      "           7       0.63      0.75      0.69        16\n",
      "           8       0.76      0.73      0.74        22\n",
      "           9       0.67      0.61      0.64        23\n",
      "\n",
      "    accuracy                           0.74       200\n",
      "   macro avg       0.75      0.76      0.74       200\n",
      "weighted avg       0.76      0.74      0.75       200\n",
      "\n"
     ]
    }
   ],
   "source": [
    "print(\"Classification Score for GradientBoostingClassifier on Dev dataset:\\n\")\n",
    "print(\"Dev Score : \", devgb_score)\n",
    "print(classification_report(y_dev, predsDevgb))\n",
    "print(\"--------------------------------------------------------\")\n",
    "print(\"Classification Score for GradientBoostingClassifier on Test dataset:\\n\")\n",
    "print(\"Test Score :\", testgb_score)\n",
    "print(classification_report(y_test, predsTestgb))"
   ]
  },
  {
   "cell_type": "code",
   "execution_count": 14,
   "id": "2963b4f9-df66-4899-904e-8120cf1f615b",
   "metadata": {},
   "outputs": [
    {
     "data": {
      "image/png": "[encoded data removed]",
      "text/plain": [
       "<Figure size 1080x432 with 2 Axes>"
      ]
     },
     "metadata": {},
     "output_type": "display_data"
    },
    {
     "name": "stdout",
     "output_type": "stream",
     "text": [
      "Accuracy : 0.74\n",
      "Macro F-1 Score : 0.74\n"
     ]
    }
   ],
   "source": [
    "# Evaluate Model on Test set\n",
    "class_labels = list(model_gb.classes_)\n",
    "macro_f1, accuracy = evaluate_model(predsTestgb, y_test, class_labels,\n",
    "                                    'Confustion matrix: Untuned 30 seconds Gradient Boosting Classifier')\n",
    "print('Accuracy : %.2f'%accuracy)\n",
    "print('Macro F-1 Score : %.2f'%macro_f1)"
   ]
  },
  {
   "cell_type": "markdown",
   "id": "7048313a-4c51-4ca6-a1b7-118710971997",
   "metadata": {},
   "source": [
    "### Tuned Model\n",
    "Building a model with hyperparameters tuning using 5-fold cross validation with GridSearchCV and the raw csv file"
   ]
  },
  {
   "cell_type": "code",
   "execution_count": 15,
   "id": "eb2541b8-6f5a-4e37-a42b-381c90c1d1b8",
   "metadata": {},
   "outputs": [
    {
     "data": {
      "text/plain": [
       "{'n_estimators': [100], 'learning_rate': [0.1], 'max_depth': [6, 3]}"
      ]
     },
     "execution_count": 15,
     "metadata": {},
     "output_type": "execute_result"
    }
   ],
   "source": [
    "gb_param_grid = {\"n_estimators\": [100],\n",
    "                 \"learning_rate\": [0.1],\n",
    "                 \"max_depth\": random.sample(range(3, 8), 2)}\n",
    "gb_param_grid"
   ]
  },
  {
   "cell_type": "code",
   "execution_count": 16,
   "id": "1576a4e8-788b-4ce6-9a3a-e443c20bd32e",
   "metadata": {},
   "outputs": [
    {
     "name": "stdout",
     "output_type": "stream",
     "text": [
      "Best parameter set is: {'learning_rate': 0.1, 'max_depth': 3, 'n_estimators': 100}\n",
      "Score on Dev data for gb using GridSearchCV: 0.99875\n",
      "Score on Test data for gb using GridSearchCV: 0.735\n"
     ]
    }
   ],
   "source": [
    "grid_search_gb = GridSearchCV(estimator =  model_gb, \n",
    "                           param_grid = gb_param_grid, \n",
    "                           cv = 5,\n",
    "                           n_jobs=-1)\n",
    "\n",
    "\n",
    "\n",
    "grid_search_gb.fit(X_dev, y_dev)\n",
    "print(\"Best parameter set is: {}\".format(grid_search_gb.best_params_))\n",
    "best_gb = grid_search_gb.best_estimator_\n",
    "best_gb.fit(X_dev, y_dev)\n",
    "\n",
    "predsDevgb_tuned = best_gb.predict(X_dev)\n",
    "predsTestgb_tuned = best_gb.predict(X_test)\n",
    "\n",
    "print(\"Score on Dev data for gb using GridSearchCV:\", accuracy_score(y_dev, predsDevgb_tuned))\n",
    "print(\"Score on Test data for gb using GridSearchCV:\",accuracy_score(y_test, predsTestgb_tuned))"
   ]
  },
  {
   "cell_type": "code",
   "execution_count": 17,
   "id": "e14b60b6-b19a-450e-9410-59553e147067",
   "metadata": {},
   "outputs": [
    {
     "data": {
      "image/png": "[encoded data removed]",
      "text/plain": [
       "<Figure size 1080x432 with 2 Axes>"
      ]
     },
     "metadata": {},
     "output_type": "display_data"
    },
    {
     "name": "stdout",
     "output_type": "stream",
     "text": [
      "Accuracy : 0.73\n",
      "Macro F-1 Score : 0.74\n"
     ]
    }
   ],
   "source": [
    "# Evaluate Model on Test set\n",
    "class_labels = list(best_gb.classes_)\n",
    "macro_f1, accuracy = evaluate_model(predsTestgb_tuned, y_test, class_labels,\n",
    "                                    'Confustion matrix: Tuned 30 seconds Gradient Boosting Classifier')\n",
    "print('Accuracy : %.2f'%accuracy)\n",
    "print('Macro F-1 Score : %.2f'%macro_f1)"
   ]
  },
  {
   "cell_type": "markdown",
   "id": "38037600",
   "metadata": {
    "tags": []
   },
   "source": [
    "# XGB"
   ]
  },
  {
   "cell_type": "code",
   "execution_count": 18,
   "id": "15d64929-bedc-4167-aaf0-b343c0b2ad8d",
   "metadata": {},
   "outputs": [],
   "source": [
    "model_xgb = XGBClassifier()\n",
    "model_xgb.fit(X_dev, y_dev)\n",
    "predsDevxgb = model_xgb.predict(X_dev)\n",
    "predsTestxgb = model_xgb.predict(X_test)"
   ]
  },
  {
   "cell_type": "code",
   "execution_count": 19,
   "id": "3ae94a5c-31a0-459f-8469-692901712b69",
   "metadata": {},
   "outputs": [],
   "source": [
    "testxgb_score =  accuracy_score(y_test, predsTestxgb)\n",
    "devxgb_score = accuracy_score(y_dev, predsDevxgb)"
   ]
  },
  {
   "cell_type": "code",
   "execution_count": 20,
   "id": "3a7840cc-2c52-4836-8fe3-7e199fe771e4",
   "metadata": {},
   "outputs": [
    {
     "name": "stdout",
     "output_type": "stream",
     "text": [
      "Classification Score for XGBClassifier on Dev dataset:\n",
      "\n",
      "Dev Score :  0.99875\n",
      "              precision    recall  f1-score   support\n",
      "\n",
      "           0       1.00      1.00      1.00        88\n",
      "           1       1.00      1.00      1.00        84\n",
      "           2       1.00      1.00      1.00        78\n",
      "           3       1.00      1.00      1.00        78\n",
      "           4       1.00      1.00      1.00        81\n",
      "           5       1.00      1.00      1.00        71\n",
      "           6       0.99      1.00      0.99        81\n",
      "           7       1.00      1.00      1.00        84\n",
      "           8       1.00      1.00      1.00        78\n",
      "           9       1.00      0.99      0.99        77\n",
      "\n",
      "    accuracy                           1.00       800\n",
      "   macro avg       1.00      1.00      1.00       800\n",
      "weighted avg       1.00      1.00      1.00       800\n",
      "\n",
      "--------------------------------------------------------\n",
      "Classification Score for XGBClassifier on Test dataset:\n",
      "\n",
      "Test Score : 0.765\n",
      "              precision    recall  f1-score   support\n",
      "\n",
      "           0       0.79      0.92      0.85        12\n",
      "           1       0.83      0.94      0.88        16\n",
      "           2       0.68      0.68      0.68        22\n",
      "           3       0.70      0.64      0.67        22\n",
      "           4       0.63      0.63      0.63        19\n",
      "           5       0.89      0.86      0.88        29\n",
      "           6       0.95      0.95      0.95        19\n",
      "           7       0.76      0.81      0.79        16\n",
      "           8       0.69      0.82      0.75        22\n",
      "           9       0.71      0.52      0.60        23\n",
      "\n",
      "    accuracy                           0.77       200\n",
      "   macro avg       0.76      0.78      0.77       200\n",
      "weighted avg       0.76      0.77      0.76       200\n",
      "\n"
     ]
    }
   ],
   "source": [
    "print(\"Classification Score for XGBClassifier on Dev dataset:\\n\")\n",
    "print(\"Dev Score : \", devxgb_score)\n",
    "print(classification_report(y_dev, predsDevxgb))\n",
    "print(\"--------------------------------------------------------\")\n",
    "print(\"Classification Score for XGBClassifier on Test dataset:\\n\")\n",
    "print(\"Test Score :\", testxgb_score)\n",
    "print(classification_report(y_test, predsTestxgb))"
   ]
  },
  {
   "cell_type": "code",
   "execution_count": 21,
   "id": "350e1e50-199f-4a91-89bb-b348691cf770",
   "metadata": {},
   "outputs": [
    {
     "data": {
      "image/png": "[encoded data removed]",
      "text/plain": [
       "<Figure size 1080x432 with 2 Axes>"
      ]
     },
     "metadata": {},
     "output_type": "display_data"
    },
    {
     "name": "stdout",
     "output_type": "stream",
     "text": [
      "Accuracy : 0.77\n",
      "Macro F-1 Score : 0.77\n"
     ]
    }
   ],
   "source": [
    "# Evaluate Model on Test set\n",
    "class_labels = list(model_xgb.classes_)\n",
    "macro_f1, accuracy = evaluate_model(predsTestxgb, y_test, class_labels,\n",
    "                                    'Confustion matrix: Untuned 30 seconds XGBClassifier')\n",
    "print('Accuracy : %.2f'%accuracy)\n",
    "print('Macro F-1 Score : %.2f'%macro_f1)"
   ]
  },
  {
   "cell_type": "markdown",
   "id": "c81d14f3-d5a1-4a89-aa71-b2d9dbe30ee1",
   "metadata": {},
   "source": [
    "### Tuned Model\n",
    "Building a model with hyperparameters tuning using 5-fold cross validation with GridSearchCV and the raw csv file"
   ]
  },
  {
   "cell_type": "code",
   "execution_count": 22,
   "id": "c9f63d91-fe84-46a8-9ad4-6138574b7ce6",
   "metadata": {},
   "outputs": [
    {
     "data": {
      "text/plain": [
       "{'n_estimators': [100],\n",
       " 'learning_rate': [0.1],\n",
       " 'max_depth': [4, 5],\n",
       " 'eval_metric': ['logloss'],\n",
       " 'use_label_encoder': [False]}"
      ]
     },
     "execution_count": 22,
     "metadata": {},
     "output_type": "execute_result"
    }
   ],
   "source": [
    "xgb_param_grid={\"n_estimators\": [100],\n",
    "            \"learning_rate\": [0.1],\n",
    "            \"max_depth\": random.sample(range(3, 8), 2),\n",
    "            'eval_metric':['logloss'],\n",
    "            \"use_label_encoder\": [False]}\n",
    "xgb_param_grid"
   ]
  },
  {
   "cell_type": "code",
   "execution_count": 23,
   "id": "992d1140-6a96-4f94-b2d3-aa89c7d5907e",
   "metadata": {},
   "outputs": [
    {
     "name": "stdout",
     "output_type": "stream",
     "text": [
      "Best parameter set is: {'eval_metric': 'logloss', 'learning_rate': 0.1, 'max_depth': 5, 'n_estimators': 100, 'use_label_encoder': False}\n",
      "Score on Dev data for xgb using GridSearchCV: 0.99875\n",
      "Score on Test data for xgb using GridSearchCV: 0.74\n"
     ]
    }
   ],
   "source": [
    "grid_search_xgb = GridSearchCV(estimator =  model_xgb, \n",
    "                           param_grid = xgb_param_grid, \n",
    "                           cv = 5,\n",
    "                           n_jobs=-1)\n",
    "\n",
    "\n",
    "\n",
    "grid_search_xgb.fit(X_dev, y_dev)\n",
    "print(\"Best parameter set is: {}\".format(grid_search_xgb.best_params_))\n",
    "best_xgb = grid_search_xgb.best_estimator_\n",
    "best_xgb.fit(X_dev, y_dev)\n",
    "\n",
    "predsDevxgb_tuned = best_xgb.predict(X_dev)\n",
    "predsTestxgb_tuned = best_xgb.predict(X_test)\n",
    "\n",
    "print(\"Score on Dev data for xgb using GridSearchCV:\", accuracy_score(y_dev, predsDevxgb_tuned))\n",
    "print(\"Score on Test data for xgb using GridSearchCV:\",accuracy_score(y_test, predsTestxgb_tuned))"
   ]
  },
  {
   "cell_type": "code",
   "execution_count": 24,
   "id": "0ec792f5-34f9-4552-bf8e-8f93cd7308ae",
   "metadata": {},
   "outputs": [
    {
     "data": {
      "image/png": "[encoded data removed]",
      "text/plain": [
       "<Figure size 1080x432 with 2 Axes>"
      ]
     },
     "metadata": {},
     "output_type": "display_data"
    },
    {
     "name": "stdout",
     "output_type": "stream",
     "text": [
      "Accuracy : 0.74\n",
      "Macro F-1 Score : 0.74\n"
     ]
    }
   ],
   "source": [
    "# Evaluate Model on Test set\n",
    "class_labels = list(best_xgb.classes_)\n",
    "macro_f1, accuracy = evaluate_model(predsTestxgb_tuned, y_test, class_labels,\n",
    "                                    'Confustion matrix: Tuned 30 seconds XGBClassifier')\n",
    "print('Accuracy : %.2f'%accuracy)\n",
    "print('Macro F-1 Score : %.2f'%macro_f1)"
   ]
  },
  {
   "cell_type": "markdown",
   "id": "0d349f3a",
   "metadata": {
    "tags": []
   },
   "source": [
    "# SVM"
   ]
  },
  {
   "cell_type": "code",
   "execution_count": 25,
   "id": "ae844ec1-5b8e-4964-8ad9-b587280df1c9",
   "metadata": {},
   "outputs": [],
   "source": [
    "model_svm = SVC()\n",
    "model_svm.fit(X_dev, y_dev)\n",
    "predsDevsvm = model_svm.predict(X_dev)\n",
    "predsTestsvm = model_svm.predict(X_test)"
   ]
  },
  {
   "cell_type": "code",
   "execution_count": 26,
   "id": "d32492fc-84a9-47f6-b28f-a7b648618484",
   "metadata": {},
   "outputs": [],
   "source": [
    "testsvm_score =  accuracy_score(y_test, predsTestsvm)\n",
    "devsvm_score = accuracy_score(y_dev, predsDevsvm)"
   ]
  },
  {
   "cell_type": "code",
   "execution_count": 27,
   "id": "39aa1b88-4274-4c15-9201-13cfc723b158",
   "metadata": {},
   "outputs": [
    {
     "name": "stdout",
     "output_type": "stream",
     "text": [
      "Classification Score for SVM on Dev dataset:\n",
      "\n",
      "Dev Score :  0.76375\n",
      "              precision    recall  f1-score   support\n",
      "\n",
      "           0       0.75      0.78      0.77        88\n",
      "           1       0.95      0.98      0.96        84\n",
      "           2       0.74      0.71      0.72        78\n",
      "           3       0.58      0.73      0.65        78\n",
      "           4       0.82      0.63      0.71        81\n",
      "           5       0.89      0.82      0.85        71\n",
      "           6       0.78      0.94      0.85        81\n",
      "           7       0.85      0.83      0.84        84\n",
      "           8       0.72      0.73      0.73        78\n",
      "           9       0.55      0.47      0.51        77\n",
      "\n",
      "    accuracy                           0.76       800\n",
      "   macro avg       0.77      0.76      0.76       800\n",
      "weighted avg       0.77      0.76      0.76       800\n",
      "\n",
      "--------------------------------------------------------\n",
      "Classification Score for SVM on Test dataset:\n",
      "\n",
      "Test Score : 0.72\n",
      "              precision    recall  f1-score   support\n",
      "\n",
      "           0       0.50      0.67      0.57        12\n",
      "           1       0.80      1.00      0.89        16\n",
      "           2       0.76      0.59      0.67        22\n",
      "           3       0.52      0.59      0.55        22\n",
      "           4       0.61      0.58      0.59        19\n",
      "           5       0.87      0.90      0.88        29\n",
      "           6       0.81      0.89      0.85        19\n",
      "           7       1.00      0.75      0.86        16\n",
      "           8       0.65      0.77      0.71        22\n",
      "           9       0.73      0.48      0.58        23\n",
      "\n",
      "    accuracy                           0.72       200\n",
      "   macro avg       0.73      0.72      0.72       200\n",
      "weighted avg       0.73      0.72      0.72       200\n",
      "\n"
     ]
    }
   ],
   "source": [
    "print(\"Classification Score for SVM on Dev dataset:\\n\")\n",
    "print(\"Dev Score : \", devsvm_score)\n",
    "print(classification_report(y_dev, predsDevsvm))\n",
    "print(\"--------------------------------------------------------\")\n",
    "print(\"Classification Score for SVM on Test dataset:\\n\")\n",
    "print(\"Test Score :\", testsvm_score)\n",
    "print(classification_report(y_test, predsTestsvm))"
   ]
  },
  {
   "cell_type": "code",
   "execution_count": 28,
   "id": "97a82abb-95f1-4d53-afeb-bbfe34ebb764",
   "metadata": {},
   "outputs": [
    {
     "data": {
      "image/png": "[encoded data removed]",
      "text/plain": [
       "<Figure size 1080x432 with 2 Axes>"
      ]
     },
     "metadata": {},
     "output_type": "display_data"
    },
    {
     "name": "stdout",
     "output_type": "stream",
     "text": [
      "Accuracy : 0.72\n",
      "Macro F-1 Score : 0.72\n"
     ]
    }
   ],
   "source": [
    "# Evaluate Model on Test set\n",
    "class_labels = list(model_svm.classes_)\n",
    "macro_f1, accuracy = evaluate_model(predsTestsvm, y_test, class_labels,\n",
    "                                    'Confustion matrix: Untuned 30 seconds SVM')\n",
    "print('Accuracy : %.2f'%accuracy)\n",
    "print('Macro F-1 Score : %.2f'%macro_f1)"
   ]
  },
  {
   "cell_type": "markdown",
   "id": "3d8c6ac1-c97c-4ae7-a15f-5bdd00a0ea9c",
   "metadata": {},
   "source": [
    "### Tuned Model\n",
    "Building a model with hyperparameters tuning using 5-fold cross validation with GridSearchCV and the raw csv file"
   ]
  },
  {
   "cell_type": "code",
   "execution_count": 29,
   "id": "c4e8c9a0-4d5a-4bde-9610-c5362055f676",
   "metadata": {},
   "outputs": [
    {
     "data": {
      "text/plain": [
       "{'kernel': ['linear', 'rbf', 'sigmoid'],\n",
       " 'C': [0.001, 0.01, 0.1, 1, 10],\n",
       " 'gamma': [0.001, 0.01, 0.1, 1]}"
      ]
     },
     "execution_count": 29,
     "metadata": {},
     "output_type": "execute_result"
    }
   ],
   "source": [
    "svm_param_grid={\"kernel\": ['linear', 'rbf', 'sigmoid'],\n",
    "            \"C\": [0.001, 0.01, 0.1, 1, 10],\n",
    "            \"gamma\": [0.001, 0.01, 0.1, 1]}\n",
    "svm_param_grid"
   ]
  },
  {
   "cell_type": "code",
   "execution_count": 30,
   "id": "a3b15739-db1f-46e6-be89-8b57e06ec4b2",
   "metadata": {},
   "outputs": [
    {
     "name": "stdout",
     "output_type": "stream",
     "text": [
      "Best parameter set is: {'C': 10, 'gamma': 1, 'kernel': 'rbf'}\n",
      "Score on Dev data for SVM using GridSearchCV: 0.99875\n",
      "Score on Test data for SVM using GridSearchCV: 0.77\n"
     ]
    }
   ],
   "source": [
    "grid_search_svm = GridSearchCV(estimator =  model_svm, \n",
    "                           param_grid = svm_param_grid, \n",
    "                           cv = 5,\n",
    "                           n_jobs=-1)\n",
    "\n",
    "\n",
    "grid_search_svm.fit(X_dev, y_dev)\n",
    "print(\"Best parameter set is: {}\".format(grid_search_svm.best_params_))\n",
    "best_svm = grid_search_svm.best_estimator_\n",
    "best_svm.fit(X_dev, y_dev)\n",
    "\n",
    "predsDevsvm_tuned = best_svm.predict(X_dev)\n",
    "predsTestsvm_tuned = best_svm.predict(X_test)\n",
    "\n",
    "print(\"Score on Dev data for SVM using GridSearchCV:\", accuracy_score(y_dev, predsDevsvm_tuned))\n",
    "print(\"Score on Test data for SVM using GridSearchCV:\",accuracy_score(y_test, predsTestsvm_tuned))"
   ]
  },
  {
   "cell_type": "code",
   "execution_count": 31,
   "id": "eb3bb196-bf73-4a07-bac4-7f32f26439ea",
   "metadata": {},
   "outputs": [
    {
     "data": {
      "image/png": "[encoded data removed]",
      "text/plain": [
       "<Figure size 1080x432 with 2 Axes>"
      ]
     },
     "metadata": {},
     "output_type": "display_data"
    },
    {
     "name": "stdout",
     "output_type": "stream",
     "text": [
      "Accuracy : 0.77\n",
      "Macro F-1 Score : 0.77\n"
     ]
    }
   ],
   "source": [
    "# Evaluate Model on Test set\n",
    "class_labels = list(best_svm.classes_)\n",
    "macro_f1, accuracy = evaluate_model(predsTestsvm_tuned, y_test, class_labels,\n",
    "                                    'Confustion matrix: Tuned 30 seconds XGBClassifier')\n",
    "print('Accuracy : %.2f'%accuracy)\n",
    "print('Macro F-1 Score : %.2f'%macro_f1)"
   ]
  },
  {
   "cell_type": "markdown",
   "id": "67eb8885-89b7-4a38-8d64-b3ccb6333682",
   "metadata": {
    "tags": []
   },
   "source": [
    "# Dimensionality reduction of data using PCA"
   ]
  },
  {
   "cell_type": "code",
   "execution_count": 32,
   "id": "9bd2cfb2-9c70-440b-90fe-c6bff538a5dd",
   "metadata": {},
   "outputs": [
    {
     "name": "stdout",
     "output_type": "stream",
     "text": [
      "Explained Variance of each component: [0.27766419 0.24831461 0.10817539 0.0735775  0.05921353 0.04313114\n",
      " 0.03041835 0.02485929 0.02357102 0.0185913  0.01458576 0.01445453\n",
      " 0.01236632 0.01085371 0.01042908 0.00964281 0.00916207 0.00839637\n",
      " 0.00793385 0.00728807 0.00723336 0.00675814 0.00606176 0.00560799\n",
      " 0.0055164  0.00512505 0.00504721 0.00464988 0.00453897 0.00424095]\n",
      "Sum of Explained Variance: 0.9554564819451608\n"
     ]
    }
   ],
   "source": [
    "# Principal Component Analysis \n",
    "### cite : https://machinelearningmastery.com/calculate-principal-component-analysis-scratch-python/\n",
    "\n",
    "# create the PCA instance\n",
    "pca = PCA(n_components=30)\n",
    "# fit on data\n",
    "pca_data = pca.fit_transform(X_dev)\n",
    "pca_data_test = pca.transform(X_test)\n",
    "# pca_data_dev = pca.transform(X_dev)\n",
    "PCA_df= pd.DataFrame(data=pca_data)\n",
    "y_dev.index = PCA_df.index\n",
    "pca_final=pd.concat([PCA_df,y_dev], axis = 1)\n",
    "# access values\n",
    "print(\"Explained Variance of each component:\",pca.explained_variance_)\n",
    "print(\"Sum of Explained Variance:\", sum(pca.explained_variance_ratio_))"
   ]
  },
  {
   "cell_type": "code",
   "execution_count": 33,
   "id": "92f09298-eb71-4b58-bbda-0e31baf20ea9",
   "metadata": {},
   "outputs": [
    {
     "data": {
      "text/html": [
       "<div>\n",
       "<style scoped>\n",
       "    .dataframe tbody tr th:only-of-type {\n",
       "        vertical-align: middle;\n",
       "    }\n",
       "\n",
       "    .dataframe tbody tr th {\n",
       "        vertical-align: top;\n",
       "    }\n",
       "\n",
       "    .dataframe thead th {\n",
       "        text-align: right;\n",
       "    }\n",
       "</style>\n",
       "<table border=\"1\" class=\"dataframe\">\n",
       "  <thead>\n",
       "    <tr style=\"text-align: right;\">\n",
       "      <th></th>\n",
       "      <th>0</th>\n",
       "      <th>1</th>\n",
       "      <th>2</th>\n",
       "      <th>3</th>\n",
       "      <th>4</th>\n",
       "      <th>5</th>\n",
       "      <th>6</th>\n",
       "      <th>7</th>\n",
       "      <th>8</th>\n",
       "      <th>9</th>\n",
       "      <th>...</th>\n",
       "      <th>21</th>\n",
       "      <th>22</th>\n",
       "      <th>23</th>\n",
       "      <th>24</th>\n",
       "      <th>25</th>\n",
       "      <th>26</th>\n",
       "      <th>27</th>\n",
       "      <th>28</th>\n",
       "      <th>29</th>\n",
       "      <th>label</th>\n",
       "    </tr>\n",
       "  </thead>\n",
       "  <tbody>\n",
       "    <tr>\n",
       "      <th>0</th>\n",
       "      <td>-0.777410</td>\n",
       "      <td>0.193198</td>\n",
       "      <td>-0.058681</td>\n",
       "      <td>-0.180358</td>\n",
       "      <td>-0.005488</td>\n",
       "      <td>-0.099418</td>\n",
       "      <td>-0.209192</td>\n",
       "      <td>-0.328523</td>\n",
       "      <td>0.078996</td>\n",
       "      <td>-0.157323</td>\n",
       "      <td>...</td>\n",
       "      <td>0.038868</td>\n",
       "      <td>-0.014776</td>\n",
       "      <td>0.077619</td>\n",
       "      <td>0.042378</td>\n",
       "      <td>-0.022349</td>\n",
       "      <td>0.027487</td>\n",
       "      <td>0.072776</td>\n",
       "      <td>0.064374</td>\n",
       "      <td>-0.002495</td>\n",
       "      <td>0</td>\n",
       "    </tr>\n",
       "    <tr>\n",
       "      <th>1</th>\n",
       "      <td>-0.599829</td>\n",
       "      <td>0.260505</td>\n",
       "      <td>0.001988</td>\n",
       "      <td>-0.047122</td>\n",
       "      <td>0.131503</td>\n",
       "      <td>-0.098224</td>\n",
       "      <td>-0.077306</td>\n",
       "      <td>0.046255</td>\n",
       "      <td>-0.040616</td>\n",
       "      <td>0.094603</td>\n",
       "      <td>...</td>\n",
       "      <td>-0.046373</td>\n",
       "      <td>-0.068694</td>\n",
       "      <td>-0.016307</td>\n",
       "      <td>0.047816</td>\n",
       "      <td>0.034589</td>\n",
       "      <td>0.010604</td>\n",
       "      <td>0.052721</td>\n",
       "      <td>0.011093</td>\n",
       "      <td>-0.018114</td>\n",
       "      <td>9</td>\n",
       "    </tr>\n",
       "    <tr>\n",
       "      <th>2</th>\n",
       "      <td>-0.246233</td>\n",
       "      <td>-0.118150</td>\n",
       "      <td>0.065454</td>\n",
       "      <td>-0.036683</td>\n",
       "      <td>0.486624</td>\n",
       "      <td>-0.150015</td>\n",
       "      <td>-0.066610</td>\n",
       "      <td>-0.197734</td>\n",
       "      <td>0.041883</td>\n",
       "      <td>0.013262</td>\n",
       "      <td>...</td>\n",
       "      <td>0.035792</td>\n",
       "      <td>0.010247</td>\n",
       "      <td>-0.059556</td>\n",
       "      <td>-0.157718</td>\n",
       "      <td>-0.009606</td>\n",
       "      <td>0.117418</td>\n",
       "      <td>0.033817</td>\n",
       "      <td>0.003053</td>\n",
       "      <td>-0.032089</td>\n",
       "      <td>8</td>\n",
       "    </tr>\n",
       "    <tr>\n",
       "      <th>3</th>\n",
       "      <td>-0.748761</td>\n",
       "      <td>0.347893</td>\n",
       "      <td>-0.050810</td>\n",
       "      <td>-0.060772</td>\n",
       "      <td>0.094122</td>\n",
       "      <td>0.043072</td>\n",
       "      <td>-0.091611</td>\n",
       "      <td>0.131255</td>\n",
       "      <td>-0.044354</td>\n",
       "      <td>0.123954</td>\n",
       "      <td>...</td>\n",
       "      <td>0.002813</td>\n",
       "      <td>-0.002246</td>\n",
       "      <td>-0.016255</td>\n",
       "      <td>0.033266</td>\n",
       "      <td>-0.038578</td>\n",
       "      <td>0.011985</td>\n",
       "      <td>0.000457</td>\n",
       "      <td>0.015948</td>\n",
       "      <td>-0.024016</td>\n",
       "      <td>9</td>\n",
       "    </tr>\n",
       "    <tr>\n",
       "      <th>4</th>\n",
       "      <td>0.390897</td>\n",
       "      <td>0.250941</td>\n",
       "      <td>-0.198188</td>\n",
       "      <td>0.293123</td>\n",
       "      <td>0.621651</td>\n",
       "      <td>0.005957</td>\n",
       "      <td>-0.025039</td>\n",
       "      <td>-0.233490</td>\n",
       "      <td>0.295023</td>\n",
       "      <td>0.131552</td>\n",
       "      <td>...</td>\n",
       "      <td>-0.082243</td>\n",
       "      <td>0.057713</td>\n",
       "      <td>-0.016134</td>\n",
       "      <td>-0.016780</td>\n",
       "      <td>0.004757</td>\n",
       "      <td>-0.044126</td>\n",
       "      <td>-0.030980</td>\n",
       "      <td>-0.015806</td>\n",
       "      <td>0.015246</td>\n",
       "      <td>8</td>\n",
       "    </tr>\n",
       "  </tbody>\n",
       "</table>\n",
       "<p>5 rows × 31 columns</p>\n",
       "</div>"
      ],
      "text/plain": [
       "          0         1         2         3         4         5         6  \\\n",
       "0 -0.777410  0.193198 -0.058681 -0.180358 -0.005488 -0.099418 -0.209192   \n",
       "1 -0.599829  0.260505  0.001988 -0.047122  0.131503 -0.098224 -0.077306   \n",
       "2 -0.246233 -0.118150  0.065454 -0.036683  0.486624 -0.150015 -0.066610   \n",
       "3 -0.748761  0.347893 -0.050810 -0.060772  0.094122  0.043072 -0.091611   \n",
       "4  0.390897  0.250941 -0.198188  0.293123  0.621651  0.005957 -0.025039   \n",
       "\n",
       "          7         8         9  ...        21        22        23        24  \\\n",
       "0 -0.328523  0.078996 -0.157323  ...  0.038868 -0.014776  0.077619  0.042378   \n",
       "1  0.046255 -0.040616  0.094603  ... -0.046373 -0.068694 -0.016307  0.047816   \n",
       "2 -0.197734  0.041883  0.013262  ...  0.035792  0.010247 -0.059556 -0.157718   \n",
       "3  0.131255 -0.044354  0.123954  ...  0.002813 -0.002246 -0.016255  0.033266   \n",
       "4 -0.233490  0.295023  0.131552  ... -0.082243  0.057713 -0.016134 -0.016780   \n",
       "\n",
       "         25        26        27        28        29  label  \n",
       "0 -0.022349  0.027487  0.072776  0.064374 -0.002495      0  \n",
       "1  0.034589  0.010604  0.052721  0.011093 -0.018114      9  \n",
       "2 -0.009606  0.117418  0.033817  0.003053 -0.032089      8  \n",
       "3 -0.038578  0.011985  0.000457  0.015948 -0.024016      9  \n",
       "4  0.004757 -0.044126 -0.030980 -0.015806  0.015246      8  \n",
       "\n",
       "[5 rows x 31 columns]"
      ]
     },
     "execution_count": 33,
     "metadata": {},
     "output_type": "execute_result"
    }
   ],
   "source": [
    "pca_final.head()"
   ]
  },
  {
   "cell_type": "markdown",
   "id": "52313776-ec2d-4068-99c7-1f9b54f15af6",
   "metadata": {
    "tags": []
   },
   "source": [
    "## HistGradientBoosting"
   ]
  },
  {
   "cell_type": "markdown",
   "id": "383af4c7-ef43-423c-95a5-4df659b7c67b",
   "metadata": {
    "tags": []
   },
   "source": [
    "### PCA - Original Model\n",
    "Building a model with no parameter tuning and using the PCA data"
   ]
  },
  {
   "cell_type": "code",
   "execution_count": 34,
   "id": "68949ac4-6934-42f1-ba2d-de244274609b",
   "metadata": {},
   "outputs": [],
   "source": [
    "model_pca_hbg = HistGradientBoostingClassifier()\n",
    "model_pca_hbg.fit(pca_final.iloc[:,:30],pca_final.iloc[:,30])\n",
    "pcaTrainhbg = model_pca_hbg.predict(pca_data)\n",
    "pcaTesthbg = model_pca_hbg.predict(pca_data_test)"
   ]
  },
  {
   "cell_type": "code",
   "execution_count": 35,
   "id": "51c2b97e-3455-4681-9a1c-25ba46c95775",
   "metadata": {},
   "outputs": [],
   "source": [
    "pcatesthbg_score =  accuracy_score(y_test, pcaTesthbg)\n",
    "pcahbg_score = accuracy_score(y_dev, pcaTrainhbg)"
   ]
  },
  {
   "cell_type": "code",
   "execution_count": 36,
   "id": "df6e48db-b53f-4260-ac66-6db218e09bfd",
   "metadata": {},
   "outputs": [
    {
     "name": "stdout",
     "output_type": "stream",
     "text": [
      "Classification Score for HistGradientBoosting Classifier on Train dataset:\n",
      "\n",
      "Train Score :  0.99875\n",
      "--------------------------------------------------------\n",
      "Classification Score for HistGradientBoosting Classifier on Test dataset:\n",
      "\n",
      "Test Score : 0.74\n"
     ]
    }
   ],
   "source": [
    "print(\"Classification Score for HistGradientBoosting Classifier on Train dataset:\\n\")\n",
    "print(\"Train Score : \", pcahbg_score)\n",
    "print(\"--------------------------------------------------------\")\n",
    "print(\"Classification Score for HistGradientBoosting Classifier on Test dataset:\\n\")\n",
    "print(\"Test Score :\", pcatesthbg_score)"
   ]
  },
  {
   "cell_type": "code",
   "execution_count": 37,
   "id": "bda01497-c2b2-42cb-a93d-27a2fe3bd5bf",
   "metadata": {},
   "outputs": [
    {
     "data": {
      "image/png": "[encoded data removed]",
      "text/plain": [
       "<Figure size 1080x432 with 2 Axes>"
      ]
     },
     "metadata": {},
     "output_type": "display_data"
    },
    {
     "name": "stdout",
     "output_type": "stream",
     "text": [
      "Accuracy : 0.74\n",
      "Macro F-1 Score : 0.73\n"
     ]
    }
   ],
   "source": [
    "# Evaluate Model\n",
    "class_labels = list(model_pca_hbg.classes_)\n",
    "macro_f1, accuracy = evaluate_model(pcaTesthbg, y_test, class_labels,\n",
    "                                    'Confustion Matrix: PCA - Untuned 30 seconds HistGradientBoosting Classifier ')\n",
    "print('Accuracy : %.2f'%accuracy)\n",
    "print('Macro F-1 Score : %.2f'%macro_f1)"
   ]
  },
  {
   "cell_type": "markdown",
   "id": "176f8875-f91c-4905-a8bf-b225d41de21f",
   "metadata": {},
   "source": [
    "### PCA - Tuned Model\n",
    "Building a model with hyperparameters tuning using 5-fold cross validation with GridSearchCV and the PCA data"
   ]
  },
  {
   "cell_type": "code",
   "execution_count": 38,
   "id": "754bb5bd-8a90-4481-ab2e-0ba70d3a6c08",
   "metadata": {},
   "outputs": [
    {
     "data": {
      "text/html": [
       "<div>\n",
       "<style scoped>\n",
       "    .dataframe tbody tr th:only-of-type {\n",
       "        vertical-align: middle;\n",
       "    }\n",
       "\n",
       "    .dataframe tbody tr th {\n",
       "        vertical-align: top;\n",
       "    }\n",
       "\n",
       "    .dataframe thead th {\n",
       "        text-align: right;\n",
       "    }\n",
       "</style>\n",
       "<table border=\"1\" class=\"dataframe\">\n",
       "  <thead>\n",
       "    <tr style=\"text-align: right;\">\n",
       "      <th></th>\n",
       "      <th>0</th>\n",
       "      <th>1</th>\n",
       "      <th>2</th>\n",
       "      <th>3</th>\n",
       "      <th>4</th>\n",
       "      <th>5</th>\n",
       "      <th>6</th>\n",
       "      <th>7</th>\n",
       "      <th>8</th>\n",
       "      <th>9</th>\n",
       "      <th>...</th>\n",
       "      <th>20</th>\n",
       "      <th>21</th>\n",
       "      <th>22</th>\n",
       "      <th>23</th>\n",
       "      <th>24</th>\n",
       "      <th>25</th>\n",
       "      <th>26</th>\n",
       "      <th>27</th>\n",
       "      <th>28</th>\n",
       "      <th>29</th>\n",
       "    </tr>\n",
       "  </thead>\n",
       "  <tbody>\n",
       "    <tr>\n",
       "      <th>0</th>\n",
       "      <td>-0.777410</td>\n",
       "      <td>0.193198</td>\n",
       "      <td>-0.058681</td>\n",
       "      <td>-0.180358</td>\n",
       "      <td>-0.005488</td>\n",
       "      <td>-0.099418</td>\n",
       "      <td>-0.209192</td>\n",
       "      <td>-0.328523</td>\n",
       "      <td>0.078996</td>\n",
       "      <td>-0.157323</td>\n",
       "      <td>...</td>\n",
       "      <td>0.041165</td>\n",
       "      <td>0.038868</td>\n",
       "      <td>-0.014776</td>\n",
       "      <td>0.077619</td>\n",
       "      <td>0.042378</td>\n",
       "      <td>-0.022349</td>\n",
       "      <td>0.027487</td>\n",
       "      <td>0.072776</td>\n",
       "      <td>0.064374</td>\n",
       "      <td>-0.002495</td>\n",
       "    </tr>\n",
       "    <tr>\n",
       "      <th>1</th>\n",
       "      <td>-0.599829</td>\n",
       "      <td>0.260505</td>\n",
       "      <td>0.001988</td>\n",
       "      <td>-0.047122</td>\n",
       "      <td>0.131503</td>\n",
       "      <td>-0.098224</td>\n",
       "      <td>-0.077306</td>\n",
       "      <td>0.046255</td>\n",
       "      <td>-0.040616</td>\n",
       "      <td>0.094603</td>\n",
       "      <td>...</td>\n",
       "      <td>-0.041534</td>\n",
       "      <td>-0.046373</td>\n",
       "      <td>-0.068694</td>\n",
       "      <td>-0.016307</td>\n",
       "      <td>0.047816</td>\n",
       "      <td>0.034589</td>\n",
       "      <td>0.010604</td>\n",
       "      <td>0.052721</td>\n",
       "      <td>0.011093</td>\n",
       "      <td>-0.018114</td>\n",
       "    </tr>\n",
       "    <tr>\n",
       "      <th>2</th>\n",
       "      <td>-0.246233</td>\n",
       "      <td>-0.118150</td>\n",
       "      <td>0.065454</td>\n",
       "      <td>-0.036683</td>\n",
       "      <td>0.486624</td>\n",
       "      <td>-0.150015</td>\n",
       "      <td>-0.066610</td>\n",
       "      <td>-0.197734</td>\n",
       "      <td>0.041883</td>\n",
       "      <td>0.013262</td>\n",
       "      <td>...</td>\n",
       "      <td>0.088581</td>\n",
       "      <td>0.035792</td>\n",
       "      <td>0.010247</td>\n",
       "      <td>-0.059556</td>\n",
       "      <td>-0.157718</td>\n",
       "      <td>-0.009606</td>\n",
       "      <td>0.117418</td>\n",
       "      <td>0.033817</td>\n",
       "      <td>0.003053</td>\n",
       "      <td>-0.032089</td>\n",
       "    </tr>\n",
       "    <tr>\n",
       "      <th>3</th>\n",
       "      <td>-0.748761</td>\n",
       "      <td>0.347893</td>\n",
       "      <td>-0.050810</td>\n",
       "      <td>-0.060772</td>\n",
       "      <td>0.094122</td>\n",
       "      <td>0.043072</td>\n",
       "      <td>-0.091611</td>\n",
       "      <td>0.131255</td>\n",
       "      <td>-0.044354</td>\n",
       "      <td>0.123954</td>\n",
       "      <td>...</td>\n",
       "      <td>-0.015460</td>\n",
       "      <td>0.002813</td>\n",
       "      <td>-0.002246</td>\n",
       "      <td>-0.016255</td>\n",
       "      <td>0.033266</td>\n",
       "      <td>-0.038578</td>\n",
       "      <td>0.011985</td>\n",
       "      <td>0.000457</td>\n",
       "      <td>0.015948</td>\n",
       "      <td>-0.024016</td>\n",
       "    </tr>\n",
       "    <tr>\n",
       "      <th>4</th>\n",
       "      <td>0.390897</td>\n",
       "      <td>0.250941</td>\n",
       "      <td>-0.198188</td>\n",
       "      <td>0.293123</td>\n",
       "      <td>0.621651</td>\n",
       "      <td>0.005957</td>\n",
       "      <td>-0.025039</td>\n",
       "      <td>-0.233490</td>\n",
       "      <td>0.295023</td>\n",
       "      <td>0.131552</td>\n",
       "      <td>...</td>\n",
       "      <td>0.016740</td>\n",
       "      <td>-0.082243</td>\n",
       "      <td>0.057713</td>\n",
       "      <td>-0.016134</td>\n",
       "      <td>-0.016780</td>\n",
       "      <td>0.004757</td>\n",
       "      <td>-0.044126</td>\n",
       "      <td>-0.030980</td>\n",
       "      <td>-0.015806</td>\n",
       "      <td>0.015246</td>\n",
       "    </tr>\n",
       "    <tr>\n",
       "      <th>...</th>\n",
       "      <td>...</td>\n",
       "      <td>...</td>\n",
       "      <td>...</td>\n",
       "      <td>...</td>\n",
       "      <td>...</td>\n",
       "      <td>...</td>\n",
       "      <td>...</td>\n",
       "      <td>...</td>\n",
       "      <td>...</td>\n",
       "      <td>...</td>\n",
       "      <td>...</td>\n",
       "      <td>...</td>\n",
       "      <td>...</td>\n",
       "      <td>...</td>\n",
       "      <td>...</td>\n",
       "      <td>...</td>\n",
       "      <td>...</td>\n",
       "      <td>...</td>\n",
       "      <td>...</td>\n",
       "      <td>...</td>\n",
       "      <td>...</td>\n",
       "    </tr>\n",
       "    <tr>\n",
       "      <th>795</th>\n",
       "      <td>-0.565572</td>\n",
       "      <td>0.422083</td>\n",
       "      <td>0.328459</td>\n",
       "      <td>0.111136</td>\n",
       "      <td>-0.153392</td>\n",
       "      <td>-0.133144</td>\n",
       "      <td>0.121274</td>\n",
       "      <td>0.170829</td>\n",
       "      <td>0.181531</td>\n",
       "      <td>-0.003553</td>\n",
       "      <td>...</td>\n",
       "      <td>0.293489</td>\n",
       "      <td>-0.012800</td>\n",
       "      <td>0.058350</td>\n",
       "      <td>0.047841</td>\n",
       "      <td>0.083061</td>\n",
       "      <td>-0.066748</td>\n",
       "      <td>0.014930</td>\n",
       "      <td>-0.025305</td>\n",
       "      <td>-0.000576</td>\n",
       "      <td>0.010976</td>\n",
       "    </tr>\n",
       "    <tr>\n",
       "      <th>796</th>\n",
       "      <td>0.258810</td>\n",
       "      <td>-0.934083</td>\n",
       "      <td>0.031836</td>\n",
       "      <td>0.495334</td>\n",
       "      <td>0.077337</td>\n",
       "      <td>-0.114135</td>\n",
       "      <td>0.171023</td>\n",
       "      <td>-0.128289</td>\n",
       "      <td>0.103747</td>\n",
       "      <td>0.171771</td>\n",
       "      <td>...</td>\n",
       "      <td>0.028867</td>\n",
       "      <td>-0.007606</td>\n",
       "      <td>-0.040242</td>\n",
       "      <td>0.058971</td>\n",
       "      <td>0.156630</td>\n",
       "      <td>0.046094</td>\n",
       "      <td>-0.127337</td>\n",
       "      <td>-0.039484</td>\n",
       "      <td>0.098118</td>\n",
       "      <td>0.001165</td>\n",
       "    </tr>\n",
       "    <tr>\n",
       "      <th>797</th>\n",
       "      <td>1.243638</td>\n",
       "      <td>0.799851</td>\n",
       "      <td>0.648936</td>\n",
       "      <td>0.304699</td>\n",
       "      <td>-0.379732</td>\n",
       "      <td>0.291342</td>\n",
       "      <td>-0.171433</td>\n",
       "      <td>-0.020330</td>\n",
       "      <td>0.029568</td>\n",
       "      <td>-0.338996</td>\n",
       "      <td>...</td>\n",
       "      <td>-0.005325</td>\n",
       "      <td>-0.005846</td>\n",
       "      <td>0.016543</td>\n",
       "      <td>-0.003658</td>\n",
       "      <td>0.054954</td>\n",
       "      <td>-0.001606</td>\n",
       "      <td>-0.058225</td>\n",
       "      <td>-0.101575</td>\n",
       "      <td>-0.042101</td>\n",
       "      <td>0.014038</td>\n",
       "    </tr>\n",
       "    <tr>\n",
       "      <th>798</th>\n",
       "      <td>0.251711</td>\n",
       "      <td>0.398993</td>\n",
       "      <td>-0.418890</td>\n",
       "      <td>-0.045822</td>\n",
       "      <td>0.030828</td>\n",
       "      <td>0.140385</td>\n",
       "      <td>-0.063128</td>\n",
       "      <td>-0.085624</td>\n",
       "      <td>-0.096346</td>\n",
       "      <td>0.127764</td>\n",
       "      <td>...</td>\n",
       "      <td>0.080396</td>\n",
       "      <td>-0.048845</td>\n",
       "      <td>0.017187</td>\n",
       "      <td>-0.002996</td>\n",
       "      <td>-0.023183</td>\n",
       "      <td>0.127376</td>\n",
       "      <td>-0.093147</td>\n",
       "      <td>-0.051952</td>\n",
       "      <td>0.023988</td>\n",
       "      <td>-0.100967</td>\n",
       "    </tr>\n",
       "    <tr>\n",
       "      <th>799</th>\n",
       "      <td>0.431775</td>\n",
       "      <td>-0.166857</td>\n",
       "      <td>-0.363375</td>\n",
       "      <td>0.099114</td>\n",
       "      <td>0.416899</td>\n",
       "      <td>0.067133</td>\n",
       "      <td>-0.012719</td>\n",
       "      <td>0.112108</td>\n",
       "      <td>-0.131549</td>\n",
       "      <td>0.028352</td>\n",
       "      <td>...</td>\n",
       "      <td>-0.012652</td>\n",
       "      <td>0.035097</td>\n",
       "      <td>0.059275</td>\n",
       "      <td>0.028994</td>\n",
       "      <td>-0.068823</td>\n",
       "      <td>-0.026260</td>\n",
       "      <td>-0.064087</td>\n",
       "      <td>-0.043392</td>\n",
       "      <td>-0.022050</td>\n",
       "      <td>0.061802</td>\n",
       "    </tr>\n",
       "  </tbody>\n",
       "</table>\n",
       "<p>800 rows × 30 columns</p>\n",
       "</div>"
      ],
      "text/plain": [
       "           0         1         2         3         4         5         6   \\\n",
       "0   -0.777410  0.193198 -0.058681 -0.180358 -0.005488 -0.099418 -0.209192   \n",
       "1   -0.599829  0.260505  0.001988 -0.047122  0.131503 -0.098224 -0.077306   \n",
       "2   -0.246233 -0.118150  0.065454 -0.036683  0.486624 -0.150015 -0.066610   \n",
       "3   -0.748761  0.347893 -0.050810 -0.060772  0.094122  0.043072 -0.091611   \n",
       "4    0.390897  0.250941 -0.198188  0.293123  0.621651  0.005957 -0.025039   \n",
       "..        ...       ...       ...       ...       ...       ...       ...   \n",
       "795 -0.565572  0.422083  0.328459  0.111136 -0.153392 -0.133144  0.121274   \n",
       "796  0.258810 -0.934083  0.031836  0.495334  0.077337 -0.114135  0.171023   \n",
       "797  1.243638  0.799851  0.648936  0.304699 -0.379732  0.291342 -0.171433   \n",
       "798  0.251711  0.398993 -0.418890 -0.045822  0.030828  0.140385 -0.063128   \n",
       "799  0.431775 -0.166857 -0.363375  0.099114  0.416899  0.067133 -0.012719   \n",
       "\n",
       "           7         8         9   ...        20        21        22  \\\n",
       "0   -0.328523  0.078996 -0.157323  ...  0.041165  0.038868 -0.014776   \n",
       "1    0.046255 -0.040616  0.094603  ... -0.041534 -0.046373 -0.068694   \n",
       "2   -0.197734  0.041883  0.013262  ...  0.088581  0.035792  0.010247   \n",
       "3    0.131255 -0.044354  0.123954  ... -0.015460  0.002813 -0.002246   \n",
       "4   -0.233490  0.295023  0.131552  ...  0.016740 -0.082243  0.057713   \n",
       "..        ...       ...       ...  ...       ...       ...       ...   \n",
       "795  0.170829  0.181531 -0.003553  ...  0.293489 -0.012800  0.058350   \n",
       "796 -0.128289  0.103747  0.171771  ...  0.028867 -0.007606 -0.040242   \n",
       "797 -0.020330  0.029568 -0.338996  ... -0.005325 -0.005846  0.016543   \n",
       "798 -0.085624 -0.096346  0.127764  ...  0.080396 -0.048845  0.017187   \n",
       "799  0.112108 -0.131549  0.028352  ... -0.012652  0.035097  0.059275   \n",
       "\n",
       "           23        24        25        26        27        28        29  \n",
       "0    0.077619  0.042378 -0.022349  0.027487  0.072776  0.064374 -0.002495  \n",
       "1   -0.016307  0.047816  0.034589  0.010604  0.052721  0.011093 -0.018114  \n",
       "2   -0.059556 -0.157718 -0.009606  0.117418  0.033817  0.003053 -0.032089  \n",
       "3   -0.016255  0.033266 -0.038578  0.011985  0.000457  0.015948 -0.024016  \n",
       "4   -0.016134 -0.016780  0.004757 -0.044126 -0.030980 -0.015806  0.015246  \n",
       "..        ...       ...       ...       ...       ...       ...       ...  \n",
       "795  0.047841  0.083061 -0.066748  0.014930 -0.025305 -0.000576  0.010976  \n",
       "796  0.058971  0.156630  0.046094 -0.127337 -0.039484  0.098118  0.001165  \n",
       "797 -0.003658  0.054954 -0.001606 -0.058225 -0.101575 -0.042101  0.014038  \n",
       "798 -0.002996 -0.023183  0.127376 -0.093147 -0.051952  0.023988 -0.100967  \n",
       "799  0.028994 -0.068823 -0.026260 -0.064087 -0.043392 -0.022050  0.061802  \n",
       "\n",
       "[800 rows x 30 columns]"
      ]
     },
     "execution_count": 38,
     "metadata": {},
     "output_type": "execute_result"
    }
   ],
   "source": [
    "pca_final.iloc[:,:30]"
   ]
  },
  {
   "cell_type": "code",
   "execution_count": 39,
   "id": "6d53d3c9-caba-48a4-8658-f24c12ea8c53",
   "metadata": {},
   "outputs": [],
   "source": [
    "model_pca_tuned_hbg = best_hgb\n",
    "model_pca_tuned_hbg.fit(pca_final.iloc[:,:30],pca_final.iloc[:,30])\n",
    "pcaTrainhbg_tuned = model_pca_tuned_hbg.predict(pca_data)\n",
    "pcaTesthbg_tuned = model_pca_tuned_hbg.predict(pca_data_test)"
   ]
  },
  {
   "cell_type": "code",
   "execution_count": 40,
   "id": "4c58e7ce-ef2f-4b91-a3cc-4240c74f9d0e",
   "metadata": {},
   "outputs": [],
   "source": [
    "pcatesthbg_score =  accuracy_score(y_test, pcaTesthbg)\n",
    "pcahbg_score = accuracy_score(y_dev, pcaTrainhbg)"
   ]
  },
  {
   "cell_type": "code",
   "execution_count": 41,
   "id": "b9716b77-c5da-4924-abf7-4304abac55e0",
   "metadata": {},
   "outputs": [
    {
     "name": "stdout",
     "output_type": "stream",
     "text": [
      "Classification Score for HistGradientBoosting Classifier on Train dataset:\n",
      "\n",
      "Train Score :  0.99875\n",
      "--------------------------------------------------------\n",
      "Classification Score for HistGradientBoosting Classifier on Test dataset:\n",
      "\n",
      "Test Score : 0.74\n"
     ]
    }
   ],
   "source": [
    "print(\"Classification Score for HistGradientBoosting Classifier on Train dataset:\\n\")\n",
    "print(\"Train Score : \", pcahbg_score)\n",
    "print(\"--------------------------------------------------------\")\n",
    "print(\"Classification Score for HistGradientBoosting Classifier on Test dataset:\\n\")\n",
    "print(\"Test Score :\", pcatesthbg_score)"
   ]
  },
  {
   "cell_type": "code",
   "execution_count": 42,
   "id": "aed1cfec-1cf3-44da-9eb7-61bb81a5b16b",
   "metadata": {},
   "outputs": [
    {
     "data": {
      "image/png": "[encoded data removed]",
      "text/plain": [
       "<Figure size 1080x432 with 2 Axes>"
      ]
     },
     "metadata": {},
     "output_type": "display_data"
    },
    {
     "name": "stdout",
     "output_type": "stream",
     "text": [
      "Accuracy : 0.74\n",
      "Macro F-1 Score : 0.73\n"
     ]
    }
   ],
   "source": [
    "# Evaluate Model\n",
    "class_labels = list(model_pca_tuned_hbg.classes_)\n",
    "macro_f1, accuracy = evaluate_model(pcaTesthbg, y_test, class_labels,\n",
    "                                    'Confustion Matrix: PCA - Tuned 30 seconds HistGradientBoosting Classifier')\n",
    "print('Accuracy : %.2f'%accuracy)\n",
    "print('Macro F-1 Score : %.2f'%macro_f1)"
   ]
  },
  {
   "cell_type": "markdown",
   "id": "fb00f2bc-4109-4d4e-96dd-a8c499335c6a",
   "metadata": {},
   "source": [
    "## GradientBoosting"
   ]
  },
  {
   "cell_type": "markdown",
   "id": "538e5caa-4506-4f1a-9c9e-86de607bb311",
   "metadata": {},
   "source": [
    "### PCA - Original Model\n",
    "Building a model with no parameter tuning and using the PCA data"
   ]
  },
  {
   "cell_type": "code",
   "execution_count": 43,
   "id": "9a3f293b-9e14-4403-97df-bf00f932c9a3",
   "metadata": {},
   "outputs": [],
   "source": [
    "model_pca_bg = GradientBoostingClassifier()\n",
    "model_pca_bg.fit(pca_final.iloc[:,:30],pca_final.iloc[:,30])\n",
    "pcaTrainbg = model_pca_bg.predict(pca_data)\n",
    "pcaTestbg = model_pca_bg.predict(pca_data_test)"
   ]
  },
  {
   "cell_type": "code",
   "execution_count": 44,
   "id": "b6b33814-9950-4f72-a18f-5a47ce84f1a9",
   "metadata": {},
   "outputs": [],
   "source": [
    "pcatestbg_score =  accuracy_score(y_test, pcaTestbg)\n",
    "pcabg_score = accuracy_score(y_dev, pcaTrainbg)"
   ]
  },
  {
   "cell_type": "code",
   "execution_count": 45,
   "id": "fdc8918c-9b2d-44e0-803e-1aeed0142552",
   "metadata": {},
   "outputs": [
    {
     "name": "stdout",
     "output_type": "stream",
     "text": [
      "Classification Score for GradientBoosting Classifier on Train dataset:\n",
      "\n",
      "Train Score :  0.99875\n",
      "--------------------------------------------------------\n",
      "Classification Score for GradientBoosting Classifier on Test dataset:\n",
      "\n",
      "Test Score : 0.675\n"
     ]
    }
   ],
   "source": [
    "print(\"Classification Score for GradientBoosting Classifier on Train dataset:\\n\")\n",
    "print(\"Train Score : \", pcabg_score)\n",
    "print(\"--------------------------------------------------------\")\n",
    "print(\"Classification Score for GradientBoosting Classifier on Test dataset:\\n\")\n",
    "print(\"Test Score :\", pcatestbg_score)"
   ]
  },
  {
   "cell_type": "code",
   "execution_count": 46,
   "id": "aac0f39a-0fb1-4330-b09d-e5bcc6332793",
   "metadata": {},
   "outputs": [
    {
     "data": {
      "image/png": "[encoded data removed]",
      "text/plain": [
       "<Figure size 1080x432 with 2 Axes>"
      ]
     },
     "metadata": {},
     "output_type": "display_data"
    },
    {
     "name": "stdout",
     "output_type": "stream",
     "text": [
      "Accuracy : 0.68\n",
      "Macro F-1 Score : 0.67\n"
     ]
    }
   ],
   "source": [
    "# Evaluate Model\n",
    "class_labels = list(model_pca_bg.classes_)\n",
    "macro_f1, accuracy = evaluate_model(pcaTestbg, y_test, class_labels,\n",
    "                                    'Confustion Matrix: PCA - Untuned 30 seconds GradientBoosting Classifier ')\n",
    "print('Accuracy : %.2f'%accuracy)\n",
    "print('Macro F-1 Score : %.2f'%macro_f1)"
   ]
  },
  {
   "cell_type": "markdown",
   "id": "97aae990-f8dd-4f18-ad7c-3c6337a3f486",
   "metadata": {},
   "source": [
    "### PCA - Tuned Model\n",
    "Building a model with hyperparameters tuning using 5-fold cross validation with GridSearchCV and the PCA data"
   ]
  },
  {
   "cell_type": "code",
   "execution_count": 47,
   "id": "93191545-1965-4771-8017-2a9a922d3cef",
   "metadata": {},
   "outputs": [
    {
     "data": {
      "text/html": [
       "<div>\n",
       "<style scoped>\n",
       "    .dataframe tbody tr th:only-of-type {\n",
       "        vertical-align: middle;\n",
       "    }\n",
       "\n",
       "    .dataframe tbody tr th {\n",
       "        vertical-align: top;\n",
       "    }\n",
       "\n",
       "    .dataframe thead th {\n",
       "        text-align: right;\n",
       "    }\n",
       "</style>\n",
       "<table border=\"1\" class=\"dataframe\">\n",
       "  <thead>\n",
       "    <tr style=\"text-align: right;\">\n",
       "      <th></th>\n",
       "      <th>0</th>\n",
       "      <th>1</th>\n",
       "      <th>2</th>\n",
       "      <th>3</th>\n",
       "      <th>4</th>\n",
       "      <th>5</th>\n",
       "      <th>6</th>\n",
       "      <th>7</th>\n",
       "      <th>8</th>\n",
       "      <th>9</th>\n",
       "      <th>...</th>\n",
       "      <th>20</th>\n",
       "      <th>21</th>\n",
       "      <th>22</th>\n",
       "      <th>23</th>\n",
       "      <th>24</th>\n",
       "      <th>25</th>\n",
       "      <th>26</th>\n",
       "      <th>27</th>\n",
       "      <th>28</th>\n",
       "      <th>29</th>\n",
       "    </tr>\n",
       "  </thead>\n",
       "  <tbody>\n",
       "    <tr>\n",
       "      <th>0</th>\n",
       "      <td>-0.777410</td>\n",
       "      <td>0.193198</td>\n",
       "      <td>-0.058681</td>\n",
       "      <td>-0.180358</td>\n",
       "      <td>-0.005488</td>\n",
       "      <td>-0.099418</td>\n",
       "      <td>-0.209192</td>\n",
       "      <td>-0.328523</td>\n",
       "      <td>0.078996</td>\n",
       "      <td>-0.157323</td>\n",
       "      <td>...</td>\n",
       "      <td>0.041165</td>\n",
       "      <td>0.038868</td>\n",
       "      <td>-0.014776</td>\n",
       "      <td>0.077619</td>\n",
       "      <td>0.042378</td>\n",
       "      <td>-0.022349</td>\n",
       "      <td>0.027487</td>\n",
       "      <td>0.072776</td>\n",
       "      <td>0.064374</td>\n",
       "      <td>-0.002495</td>\n",
       "    </tr>\n",
       "    <tr>\n",
       "      <th>1</th>\n",
       "      <td>-0.599829</td>\n",
       "      <td>0.260505</td>\n",
       "      <td>0.001988</td>\n",
       "      <td>-0.047122</td>\n",
       "      <td>0.131503</td>\n",
       "      <td>-0.098224</td>\n",
       "      <td>-0.077306</td>\n",
       "      <td>0.046255</td>\n",
       "      <td>-0.040616</td>\n",
       "      <td>0.094603</td>\n",
       "      <td>...</td>\n",
       "      <td>-0.041534</td>\n",
       "      <td>-0.046373</td>\n",
       "      <td>-0.068694</td>\n",
       "      <td>-0.016307</td>\n",
       "      <td>0.047816</td>\n",
       "      <td>0.034589</td>\n",
       "      <td>0.010604</td>\n",
       "      <td>0.052721</td>\n",
       "      <td>0.011093</td>\n",
       "      <td>-0.018114</td>\n",
       "    </tr>\n",
       "    <tr>\n",
       "      <th>2</th>\n",
       "      <td>-0.246233</td>\n",
       "      <td>-0.118150</td>\n",
       "      <td>0.065454</td>\n",
       "      <td>-0.036683</td>\n",
       "      <td>0.486624</td>\n",
       "      <td>-0.150015</td>\n",
       "      <td>-0.066610</td>\n",
       "      <td>-0.197734</td>\n",
       "      <td>0.041883</td>\n",
       "      <td>0.013262</td>\n",
       "      <td>...</td>\n",
       "      <td>0.088581</td>\n",
       "      <td>0.035792</td>\n",
       "      <td>0.010247</td>\n",
       "      <td>-0.059556</td>\n",
       "      <td>-0.157718</td>\n",
       "      <td>-0.009606</td>\n",
       "      <td>0.117418</td>\n",
       "      <td>0.033817</td>\n",
       "      <td>0.003053</td>\n",
       "      <td>-0.032089</td>\n",
       "    </tr>\n",
       "    <tr>\n",
       "      <th>3</th>\n",
       "      <td>-0.748761</td>\n",
       "      <td>0.347893</td>\n",
       "      <td>-0.050810</td>\n",
       "      <td>-0.060772</td>\n",
       "      <td>0.094122</td>\n",
       "      <td>0.043072</td>\n",
       "      <td>-0.091611</td>\n",
       "      <td>0.131255</td>\n",
       "      <td>-0.044354</td>\n",
       "      <td>0.123954</td>\n",
       "      <td>...</td>\n",
       "      <td>-0.015460</td>\n",
       "      <td>0.002813</td>\n",
       "      <td>-0.002246</td>\n",
       "      <td>-0.016255</td>\n",
       "      <td>0.033266</td>\n",
       "      <td>-0.038578</td>\n",
       "      <td>0.011985</td>\n",
       "      <td>0.000457</td>\n",
       "      <td>0.015948</td>\n",
       "      <td>-0.024016</td>\n",
       "    </tr>\n",
       "    <tr>\n",
       "      <th>4</th>\n",
       "      <td>0.390897</td>\n",
       "      <td>0.250941</td>\n",
       "      <td>-0.198188</td>\n",
       "      <td>0.293123</td>\n",
       "      <td>0.621651</td>\n",
       "      <td>0.005957</td>\n",
       "      <td>-0.025039</td>\n",
       "      <td>-0.233490</td>\n",
       "      <td>0.295023</td>\n",
       "      <td>0.131552</td>\n",
       "      <td>...</td>\n",
       "      <td>0.016740</td>\n",
       "      <td>-0.082243</td>\n",
       "      <td>0.057713</td>\n",
       "      <td>-0.016134</td>\n",
       "      <td>-0.016780</td>\n",
       "      <td>0.004757</td>\n",
       "      <td>-0.044126</td>\n",
       "      <td>-0.030980</td>\n",
       "      <td>-0.015806</td>\n",
       "      <td>0.015246</td>\n",
       "    </tr>\n",
       "    <tr>\n",
       "      <th>...</th>\n",
       "      <td>...</td>\n",
       "      <td>...</td>\n",
       "      <td>...</td>\n",
       "      <td>...</td>\n",
       "      <td>...</td>\n",
       "      <td>...</td>\n",
       "      <td>...</td>\n",
       "      <td>...</td>\n",
       "      <td>...</td>\n",
       "      <td>...</td>\n",
       "      <td>...</td>\n",
       "      <td>...</td>\n",
       "      <td>...</td>\n",
       "      <td>...</td>\n",
       "      <td>...</td>\n",
       "      <td>...</td>\n",
       "      <td>...</td>\n",
       "      <td>...</td>\n",
       "      <td>...</td>\n",
       "      <td>...</td>\n",
       "      <td>...</td>\n",
       "    </tr>\n",
       "    <tr>\n",
       "      <th>795</th>\n",
       "      <td>-0.565572</td>\n",
       "      <td>0.422083</td>\n",
       "      <td>0.328459</td>\n",
       "      <td>0.111136</td>\n",
       "      <td>-0.153392</td>\n",
       "      <td>-0.133144</td>\n",
       "      <td>0.121274</td>\n",
       "      <td>0.170829</td>\n",
       "      <td>0.181531</td>\n",
       "      <td>-0.003553</td>\n",
       "      <td>...</td>\n",
       "      <td>0.293489</td>\n",
       "      <td>-0.012800</td>\n",
       "      <td>0.058350</td>\n",
       "      <td>0.047841</td>\n",
       "      <td>0.083061</td>\n",
       "      <td>-0.066748</td>\n",
       "      <td>0.014930</td>\n",
       "      <td>-0.025305</td>\n",
       "      <td>-0.000576</td>\n",
       "      <td>0.010976</td>\n",
       "    </tr>\n",
       "    <tr>\n",
       "      <th>796</th>\n",
       "      <td>0.258810</td>\n",
       "      <td>-0.934083</td>\n",
       "      <td>0.031836</td>\n",
       "      <td>0.495334</td>\n",
       "      <td>0.077337</td>\n",
       "      <td>-0.114135</td>\n",
       "      <td>0.171023</td>\n",
       "      <td>-0.128289</td>\n",
       "      <td>0.103747</td>\n",
       "      <td>0.171771</td>\n",
       "      <td>...</td>\n",
       "      <td>0.028867</td>\n",
       "      <td>-0.007606</td>\n",
       "      <td>-0.040242</td>\n",
       "      <td>0.058971</td>\n",
       "      <td>0.156630</td>\n",
       "      <td>0.046094</td>\n",
       "      <td>-0.127337</td>\n",
       "      <td>-0.039484</td>\n",
       "      <td>0.098118</td>\n",
       "      <td>0.001165</td>\n",
       "    </tr>\n",
       "    <tr>\n",
       "      <th>797</th>\n",
       "      <td>1.243638</td>\n",
       "      <td>0.799851</td>\n",
       "      <td>0.648936</td>\n",
       "      <td>0.304699</td>\n",
       "      <td>-0.379732</td>\n",
       "      <td>0.291342</td>\n",
       "      <td>-0.171433</td>\n",
       "      <td>-0.020330</td>\n",
       "      <td>0.029568</td>\n",
       "      <td>-0.338996</td>\n",
       "      <td>...</td>\n",
       "      <td>-0.005325</td>\n",
       "      <td>-0.005846</td>\n",
       "      <td>0.016543</td>\n",
       "      <td>-0.003658</td>\n",
       "      <td>0.054954</td>\n",
       "      <td>-0.001606</td>\n",
       "      <td>-0.058225</td>\n",
       "      <td>-0.101575</td>\n",
       "      <td>-0.042101</td>\n",
       "      <td>0.014038</td>\n",
       "    </tr>\n",
       "    <tr>\n",
       "      <th>798</th>\n",
       "      <td>0.251711</td>\n",
       "      <td>0.398993</td>\n",
       "      <td>-0.418890</td>\n",
       "      <td>-0.045822</td>\n",
       "      <td>0.030828</td>\n",
       "      <td>0.140385</td>\n",
       "      <td>-0.063128</td>\n",
       "      <td>-0.085624</td>\n",
       "      <td>-0.096346</td>\n",
       "      <td>0.127764</td>\n",
       "      <td>...</td>\n",
       "      <td>0.080396</td>\n",
       "      <td>-0.048845</td>\n",
       "      <td>0.017187</td>\n",
       "      <td>-0.002996</td>\n",
       "      <td>-0.023183</td>\n",
       "      <td>0.127376</td>\n",
       "      <td>-0.093147</td>\n",
       "      <td>-0.051952</td>\n",
       "      <td>0.023988</td>\n",
       "      <td>-0.100967</td>\n",
       "    </tr>\n",
       "    <tr>\n",
       "      <th>799</th>\n",
       "      <td>0.431775</td>\n",
       "      <td>-0.166857</td>\n",
       "      <td>-0.363375</td>\n",
       "      <td>0.099114</td>\n",
       "      <td>0.416899</td>\n",
       "      <td>0.067133</td>\n",
       "      <td>-0.012719</td>\n",
       "      <td>0.112108</td>\n",
       "      <td>-0.131549</td>\n",
       "      <td>0.028352</td>\n",
       "      <td>...</td>\n",
       "      <td>-0.012652</td>\n",
       "      <td>0.035097</td>\n",
       "      <td>0.059275</td>\n",
       "      <td>0.028994</td>\n",
       "      <td>-0.068823</td>\n",
       "      <td>-0.026260</td>\n",
       "      <td>-0.064087</td>\n",
       "      <td>-0.043392</td>\n",
       "      <td>-0.022050</td>\n",
       "      <td>0.061802</td>\n",
       "    </tr>\n",
       "  </tbody>\n",
       "</table>\n",
       "<p>800 rows × 30 columns</p>\n",
       "</div>"
      ],
      "text/plain": [
       "           0         1         2         3         4         5         6   \\\n",
       "0   -0.777410  0.193198 -0.058681 -0.180358 -0.005488 -0.099418 -0.209192   \n",
       "1   -0.599829  0.260505  0.001988 -0.047122  0.131503 -0.098224 -0.077306   \n",
       "2   -0.246233 -0.118150  0.065454 -0.036683  0.486624 -0.150015 -0.066610   \n",
       "3   -0.748761  0.347893 -0.050810 -0.060772  0.094122  0.043072 -0.091611   \n",
       "4    0.390897  0.250941 -0.198188  0.293123  0.621651  0.005957 -0.025039   \n",
       "..        ...       ...       ...       ...       ...       ...       ...   \n",
       "795 -0.565572  0.422083  0.328459  0.111136 -0.153392 -0.133144  0.121274   \n",
       "796  0.258810 -0.934083  0.031836  0.495334  0.077337 -0.114135  0.171023   \n",
       "797  1.243638  0.799851  0.648936  0.304699 -0.379732  0.291342 -0.171433   \n",
       "798  0.251711  0.398993 -0.418890 -0.045822  0.030828  0.140385 -0.063128   \n",
       "799  0.431775 -0.166857 -0.363375  0.099114  0.416899  0.067133 -0.012719   \n",
       "\n",
       "           7         8         9   ...        20        21        22  \\\n",
       "0   -0.328523  0.078996 -0.157323  ...  0.041165  0.038868 -0.014776   \n",
       "1    0.046255 -0.040616  0.094603  ... -0.041534 -0.046373 -0.068694   \n",
       "2   -0.197734  0.041883  0.013262  ...  0.088581  0.035792  0.010247   \n",
       "3    0.131255 -0.044354  0.123954  ... -0.015460  0.002813 -0.002246   \n",
       "4   -0.233490  0.295023  0.131552  ...  0.016740 -0.082243  0.057713   \n",
       "..        ...       ...       ...  ...       ...       ...       ...   \n",
       "795  0.170829  0.181531 -0.003553  ...  0.293489 -0.012800  0.058350   \n",
       "796 -0.128289  0.103747  0.171771  ...  0.028867 -0.007606 -0.040242   \n",
       "797 -0.020330  0.029568 -0.338996  ... -0.005325 -0.005846  0.016543   \n",
       "798 -0.085624 -0.096346  0.127764  ...  0.080396 -0.048845  0.017187   \n",
       "799  0.112108 -0.131549  0.028352  ... -0.012652  0.035097  0.059275   \n",
       "\n",
       "           23        24        25        26        27        28        29  \n",
       "0    0.077619  0.042378 -0.022349  0.027487  0.072776  0.064374 -0.002495  \n",
       "1   -0.016307  0.047816  0.034589  0.010604  0.052721  0.011093 -0.018114  \n",
       "2   -0.059556 -0.157718 -0.009606  0.117418  0.033817  0.003053 -0.032089  \n",
       "3   -0.016255  0.033266 -0.038578  0.011985  0.000457  0.015948 -0.024016  \n",
       "4   -0.016134 -0.016780  0.004757 -0.044126 -0.030980 -0.015806  0.015246  \n",
       "..        ...       ...       ...       ...       ...       ...       ...  \n",
       "795  0.047841  0.083061 -0.066748  0.014930 -0.025305 -0.000576  0.010976  \n",
       "796  0.058971  0.156630  0.046094 -0.127337 -0.039484  0.098118  0.001165  \n",
       "797 -0.003658  0.054954 -0.001606 -0.058225 -0.101575 -0.042101  0.014038  \n",
       "798 -0.002996 -0.023183  0.127376 -0.093147 -0.051952  0.023988 -0.100967  \n",
       "799  0.028994 -0.068823 -0.026260 -0.064087 -0.043392 -0.022050  0.061802  \n",
       "\n",
       "[800 rows x 30 columns]"
      ]
     },
     "execution_count": 47,
     "metadata": {},
     "output_type": "execute_result"
    }
   ],
   "source": [
    "pca_final.iloc[:,:30]"
   ]
  },
  {
   "cell_type": "code",
   "execution_count": 48,
   "id": "93d6107b-bc48-4584-a1f3-f44081b54a2b",
   "metadata": {},
   "outputs": [],
   "source": [
    "model_pca_tuned_bg = best_gb\n",
    "model_pca_tuned_bg.fit(pca_final.iloc[:,:30],pca_final.iloc[:,30])\n",
    "pcaTrainbg_tuned = model_pca_tuned_bg.predict(pca_data)\n",
    "pcaTestbg_tuned = model_pca_tuned_bg.predict(pca_data_test)"
   ]
  },
  {
   "cell_type": "code",
   "execution_count": 49,
   "id": "67ce56a6-0152-41b5-b750-34ee5e631097",
   "metadata": {},
   "outputs": [],
   "source": [
    "pcatestbg_score =  accuracy_score(y_test, pcaTestbg)\n",
    "pcabg_score = accuracy_score(y_dev, pcaTrainbg)"
   ]
  },
  {
   "cell_type": "code",
   "execution_count": 50,
   "id": "1e28954e-9104-460f-8706-11c1a4f15d30",
   "metadata": {},
   "outputs": [
    {
     "name": "stdout",
     "output_type": "stream",
     "text": [
      "Classification Score for GradientBoosting Classifier on Train dataset:\n",
      "\n",
      "Train Score :  0.99875\n",
      "--------------------------------------------------------\n",
      "Classification Score for GradientBoosting Classifier on Test dataset:\n",
      "\n",
      "Test Score : 0.675\n"
     ]
    }
   ],
   "source": [
    "print(\"Classification Score for GradientBoosting Classifier on Train dataset:\\n\")\n",
    "print(\"Train Score : \", pcabg_score)\n",
    "print(\"--------------------------------------------------------\")\n",
    "print(\"Classification Score for GradientBoosting Classifier on Test dataset:\\n\")\n",
    "print(\"Test Score :\", pcatestbg_score)"
   ]
  },
  {
   "cell_type": "code",
   "execution_count": 51,
   "id": "2fcc82c0-8339-42c7-98d7-1a823bc9eb2c",
   "metadata": {},
   "outputs": [
    {
     "data": {
      "image/png": "[encoded data removed]",
      "text/plain": [
       "<Figure size 1080x432 with 2 Axes>"
      ]
     },
     "metadata": {},
     "output_type": "display_data"
    },
    {
     "name": "stdout",
     "output_type": "stream",
     "text": [
      "Accuracy : 0.68\n",
      "Macro F-1 Score : 0.67\n"
     ]
    }
   ],
   "source": [
    "# Evaluate Model\n",
    "class_labels = list(model_pca_tuned_bg.classes_)\n",
    "macro_f1, accuracy = evaluate_model(pcaTestbg, y_test, class_labels,\n",
    "                                    'Confustion Matrix: PCA - Tuned 30 seconds GradientBoosting Classifier')\n",
    "print('Accuracy : %.2f'%accuracy)\n",
    "print('Macro F-1 Score : %.2f'%macro_f1)"
   ]
  },
  {
   "cell_type": "markdown",
   "id": "b461e2ab-f117-4ec6-a19c-f49f6a9f03a2",
   "metadata": {
    "tags": []
   },
   "source": [
    "## XGB"
   ]
  },
  {
   "cell_type": "markdown",
   "id": "a595dc18-1207-4faf-a63d-aa1703e24d1f",
   "metadata": {
    "tags": []
   },
   "source": [
    "### PCA - Original Model\n",
    "Building a model with no parameter tuning and using the PCA data"
   ]
  },
  {
   "cell_type": "code",
   "execution_count": 52,
   "id": "44f40471-d2b1-410c-92af-0f73e2afa11e",
   "metadata": {},
   "outputs": [],
   "source": [
    "model_pca_xbg = XGBClassifier()\n",
    "model_pca_xbg.fit(pca_final.iloc[:,:30],pca_final.iloc[:,30])\n",
    "pcaTrainxbg = model_pca_xbg.predict(pca_data)\n",
    "pcaTestxbg = model_pca_xbg.predict(pca_data_test)"
   ]
  },
  {
   "cell_type": "code",
   "execution_count": 53,
   "id": "a1ee10ca-8fc8-4685-a494-76731e4e56ef",
   "metadata": {},
   "outputs": [],
   "source": [
    "pcatestxbg_score =  accuracy_score(y_test, pcaTestxbg)\n",
    "pcaxbg_score = accuracy_score(y_dev, pcaTrainxbg)"
   ]
  },
  {
   "cell_type": "code",
   "execution_count": 54,
   "id": "deac0403-13f2-497e-b687-3b8761884b40",
   "metadata": {},
   "outputs": [
    {
     "name": "stdout",
     "output_type": "stream",
     "text": [
      "Classification Score for XGB Classifier on Train dataset:\n",
      "\n",
      "Train Score :  0.99875\n",
      "--------------------------------------------------------\n",
      "Classification Score for XGB Classifier on Test dataset:\n",
      "\n",
      "Test Score : 0.685\n"
     ]
    }
   ],
   "source": [
    "print(\"Classification Score for XGB Classifier on Train dataset:\\n\")\n",
    "print(\"Train Score : \", pcaxbg_score)\n",
    "print(\"--------------------------------------------------------\")\n",
    "print(\"Classification Score for XGB Classifier on Test dataset:\\n\")\n",
    "print(\"Test Score :\", pcatestxbg_score)"
   ]
  },
  {
   "cell_type": "code",
   "execution_count": 55,
   "id": "1e7fa09a-9119-4d2c-b198-eae40d92707c",
   "metadata": {},
   "outputs": [
    {
     "data": {
      "image/png": "[encoded data removed]",
      "text/plain": [
       "<Figure size 1080x432 with 2 Axes>"
      ]
     },
     "metadata": {},
     "output_type": "display_data"
    },
    {
     "name": "stdout",
     "output_type": "stream",
     "text": [
      "Accuracy : 0.69\n",
      "Macro F-1 Score : 0.67\n"
     ]
    }
   ],
   "source": [
    "# Evaluate Model\n",
    "class_labels = list(model_pca_xbg.classes_)\n",
    "macro_f1, accuracy = evaluate_model(pcaTestxbg, y_test, class_labels,\n",
    "                                    'Confustion Matrix: PCA - Untuned 30 seconds XGB Classifier ')\n",
    "print('Accuracy : %.2f'%accuracy)\n",
    "print('Macro F-1 Score : %.2f'%macro_f1)"
   ]
  },
  {
   "cell_type": "markdown",
   "id": "5e50e6e6-390d-4e6c-8f7d-c02a54f41a48",
   "metadata": {},
   "source": [
    "### PCA - Tuned Model\n",
    "Building a model with hyperparameters tuning using 5-fold cross validation with GridSearchCV and the PCA data"
   ]
  },
  {
   "cell_type": "code",
   "execution_count": 56,
   "id": "58815b18-5858-412a-87b4-b32154fdb0ca",
   "metadata": {},
   "outputs": [
    {
     "data": {
      "text/html": [
       "<div>\n",
       "<style scoped>\n",
       "    .dataframe tbody tr th:only-of-type {\n",
       "        vertical-align: middle;\n",
       "    }\n",
       "\n",
       "    .dataframe tbody tr th {\n",
       "        vertical-align: top;\n",
       "    }\n",
       "\n",
       "    .dataframe thead th {\n",
       "        text-align: right;\n",
       "    }\n",
       "</style>\n",
       "<table border=\"1\" class=\"dataframe\">\n",
       "  <thead>\n",
       "    <tr style=\"text-align: right;\">\n",
       "      <th></th>\n",
       "      <th>0</th>\n",
       "      <th>1</th>\n",
       "      <th>2</th>\n",
       "      <th>3</th>\n",
       "      <th>4</th>\n",
       "      <th>5</th>\n",
       "      <th>6</th>\n",
       "      <th>7</th>\n",
       "      <th>8</th>\n",
       "      <th>9</th>\n",
       "      <th>...</th>\n",
       "      <th>20</th>\n",
       "      <th>21</th>\n",
       "      <th>22</th>\n",
       "      <th>23</th>\n",
       "      <th>24</th>\n",
       "      <th>25</th>\n",
       "      <th>26</th>\n",
       "      <th>27</th>\n",
       "      <th>28</th>\n",
       "      <th>29</th>\n",
       "    </tr>\n",
       "  </thead>\n",
       "  <tbody>\n",
       "    <tr>\n",
       "      <th>0</th>\n",
       "      <td>-0.777410</td>\n",
       "      <td>0.193198</td>\n",
       "      <td>-0.058681</td>\n",
       "      <td>-0.180358</td>\n",
       "      <td>-0.005488</td>\n",
       "      <td>-0.099418</td>\n",
       "      <td>-0.209192</td>\n",
       "      <td>-0.328523</td>\n",
       "      <td>0.078996</td>\n",
       "      <td>-0.157323</td>\n",
       "      <td>...</td>\n",
       "      <td>0.041165</td>\n",
       "      <td>0.038868</td>\n",
       "      <td>-0.014776</td>\n",
       "      <td>0.077619</td>\n",
       "      <td>0.042378</td>\n",
       "      <td>-0.022349</td>\n",
       "      <td>0.027487</td>\n",
       "      <td>0.072776</td>\n",
       "      <td>0.064374</td>\n",
       "      <td>-0.002495</td>\n",
       "    </tr>\n",
       "    <tr>\n",
       "      <th>1</th>\n",
       "      <td>-0.599829</td>\n",
       "      <td>0.260505</td>\n",
       "      <td>0.001988</td>\n",
       "      <td>-0.047122</td>\n",
       "      <td>0.131503</td>\n",
       "      <td>-0.098224</td>\n",
       "      <td>-0.077306</td>\n",
       "      <td>0.046255</td>\n",
       "      <td>-0.040616</td>\n",
       "      <td>0.094603</td>\n",
       "      <td>...</td>\n",
       "      <td>-0.041534</td>\n",
       "      <td>-0.046373</td>\n",
       "      <td>-0.068694</td>\n",
       "      <td>-0.016307</td>\n",
       "      <td>0.047816</td>\n",
       "      <td>0.034589</td>\n",
       "      <td>0.010604</td>\n",
       "      <td>0.052721</td>\n",
       "      <td>0.011093</td>\n",
       "      <td>-0.018114</td>\n",
       "    </tr>\n",
       "    <tr>\n",
       "      <th>2</th>\n",
       "      <td>-0.246233</td>\n",
       "      <td>-0.118150</td>\n",
       "      <td>0.065454</td>\n",
       "      <td>-0.036683</td>\n",
       "      <td>0.486624</td>\n",
       "      <td>-0.150015</td>\n",
       "      <td>-0.066610</td>\n",
       "      <td>-0.197734</td>\n",
       "      <td>0.041883</td>\n",
       "      <td>0.013262</td>\n",
       "      <td>...</td>\n",
       "      <td>0.088581</td>\n",
       "      <td>0.035792</td>\n",
       "      <td>0.010247</td>\n",
       "      <td>-0.059556</td>\n",
       "      <td>-0.157718</td>\n",
       "      <td>-0.009606</td>\n",
       "      <td>0.117418</td>\n",
       "      <td>0.033817</td>\n",
       "      <td>0.003053</td>\n",
       "      <td>-0.032089</td>\n",
       "    </tr>\n",
       "    <tr>\n",
       "      <th>3</th>\n",
       "      <td>-0.748761</td>\n",
       "      <td>0.347893</td>\n",
       "      <td>-0.050810</td>\n",
       "      <td>-0.060772</td>\n",
       "      <td>0.094122</td>\n",
       "      <td>0.043072</td>\n",
       "      <td>-0.091611</td>\n",
       "      <td>0.131255</td>\n",
       "      <td>-0.044354</td>\n",
       "      <td>0.123954</td>\n",
       "      <td>...</td>\n",
       "      <td>-0.015460</td>\n",
       "      <td>0.002813</td>\n",
       "      <td>-0.002246</td>\n",
       "      <td>-0.016255</td>\n",
       "      <td>0.033266</td>\n",
       "      <td>-0.038578</td>\n",
       "      <td>0.011985</td>\n",
       "      <td>0.000457</td>\n",
       "      <td>0.015948</td>\n",
       "      <td>-0.024016</td>\n",
       "    </tr>\n",
       "    <tr>\n",
       "      <th>4</th>\n",
       "      <td>0.390897</td>\n",
       "      <td>0.250941</td>\n",
       "      <td>-0.198188</td>\n",
       "      <td>0.293123</td>\n",
       "      <td>0.621651</td>\n",
       "      <td>0.005957</td>\n",
       "      <td>-0.025039</td>\n",
       "      <td>-0.233490</td>\n",
       "      <td>0.295023</td>\n",
       "      <td>0.131552</td>\n",
       "      <td>...</td>\n",
       "      <td>0.016740</td>\n",
       "      <td>-0.082243</td>\n",
       "      <td>0.057713</td>\n",
       "      <td>-0.016134</td>\n",
       "      <td>-0.016780</td>\n",
       "      <td>0.004757</td>\n",
       "      <td>-0.044126</td>\n",
       "      <td>-0.030980</td>\n",
       "      <td>-0.015806</td>\n",
       "      <td>0.015246</td>\n",
       "    </tr>\n",
       "    <tr>\n",
       "      <th>...</th>\n",
       "      <td>...</td>\n",
       "      <td>...</td>\n",
       "      <td>...</td>\n",
       "      <td>...</td>\n",
       "      <td>...</td>\n",
       "      <td>...</td>\n",
       "      <td>...</td>\n",
       "      <td>...</td>\n",
       "      <td>...</td>\n",
       "      <td>...</td>\n",
       "      <td>...</td>\n",
       "      <td>...</td>\n",
       "      <td>...</td>\n",
       "      <td>...</td>\n",
       "      <td>...</td>\n",
       "      <td>...</td>\n",
       "      <td>...</td>\n",
       "      <td>...</td>\n",
       "      <td>...</td>\n",
       "      <td>...</td>\n",
       "      <td>...</td>\n",
       "    </tr>\n",
       "    <tr>\n",
       "      <th>795</th>\n",
       "      <td>-0.565572</td>\n",
       "      <td>0.422083</td>\n",
       "      <td>0.328459</td>\n",
       "      <td>0.111136</td>\n",
       "      <td>-0.153392</td>\n",
       "      <td>-0.133144</td>\n",
       "      <td>0.121274</td>\n",
       "      <td>0.170829</td>\n",
       "      <td>0.181531</td>\n",
       "      <td>-0.003553</td>\n",
       "      <td>...</td>\n",
       "      <td>0.293489</td>\n",
       "      <td>-0.012800</td>\n",
       "      <td>0.058350</td>\n",
       "      <td>0.047841</td>\n",
       "      <td>0.083061</td>\n",
       "      <td>-0.066748</td>\n",
       "      <td>0.014930</td>\n",
       "      <td>-0.025305</td>\n",
       "      <td>-0.000576</td>\n",
       "      <td>0.010976</td>\n",
       "    </tr>\n",
       "    <tr>\n",
       "      <th>796</th>\n",
       "      <td>0.258810</td>\n",
       "      <td>-0.934083</td>\n",
       "      <td>0.031836</td>\n",
       "      <td>0.495334</td>\n",
       "      <td>0.077337</td>\n",
       "      <td>-0.114135</td>\n",
       "      <td>0.171023</td>\n",
       "      <td>-0.128289</td>\n",
       "      <td>0.103747</td>\n",
       "      <td>0.171771</td>\n",
       "      <td>...</td>\n",
       "      <td>0.028867</td>\n",
       "      <td>-0.007606</td>\n",
       "      <td>-0.040242</td>\n",
       "      <td>0.058971</td>\n",
       "      <td>0.156630</td>\n",
       "      <td>0.046094</td>\n",
       "      <td>-0.127337</td>\n",
       "      <td>-0.039484</td>\n",
       "      <td>0.098118</td>\n",
       "      <td>0.001165</td>\n",
       "    </tr>\n",
       "    <tr>\n",
       "      <th>797</th>\n",
       "      <td>1.243638</td>\n",
       "      <td>0.799851</td>\n",
       "      <td>0.648936</td>\n",
       "      <td>0.304699</td>\n",
       "      <td>-0.379732</td>\n",
       "      <td>0.291342</td>\n",
       "      <td>-0.171433</td>\n",
       "      <td>-0.020330</td>\n",
       "      <td>0.029568</td>\n",
       "      <td>-0.338996</td>\n",
       "      <td>...</td>\n",
       "      <td>-0.005325</td>\n",
       "      <td>-0.005846</td>\n",
       "      <td>0.016543</td>\n",
       "      <td>-0.003658</td>\n",
       "      <td>0.054954</td>\n",
       "      <td>-0.001606</td>\n",
       "      <td>-0.058225</td>\n",
       "      <td>-0.101575</td>\n",
       "      <td>-0.042101</td>\n",
       "      <td>0.014038</td>\n",
       "    </tr>\n",
       "    <tr>\n",
       "      <th>798</th>\n",
       "      <td>0.251711</td>\n",
       "      <td>0.398993</td>\n",
       "      <td>-0.418890</td>\n",
       "      <td>-0.045822</td>\n",
       "      <td>0.030828</td>\n",
       "      <td>0.140385</td>\n",
       "      <td>-0.063128</td>\n",
       "      <td>-0.085624</td>\n",
       "      <td>-0.096346</td>\n",
       "      <td>0.127764</td>\n",
       "      <td>...</td>\n",
       "      <td>0.080396</td>\n",
       "      <td>-0.048845</td>\n",
       "      <td>0.017187</td>\n",
       "      <td>-0.002996</td>\n",
       "      <td>-0.023183</td>\n",
       "      <td>0.127376</td>\n",
       "      <td>-0.093147</td>\n",
       "      <td>-0.051952</td>\n",
       "      <td>0.023988</td>\n",
       "      <td>-0.100967</td>\n",
       "    </tr>\n",
       "    <tr>\n",
       "      <th>799</th>\n",
       "      <td>0.431775</td>\n",
       "      <td>-0.166857</td>\n",
       "      <td>-0.363375</td>\n",
       "      <td>0.099114</td>\n",
       "      <td>0.416899</td>\n",
       "      <td>0.067133</td>\n",
       "      <td>-0.012719</td>\n",
       "      <td>0.112108</td>\n",
       "      <td>-0.131549</td>\n",
       "      <td>0.028352</td>\n",
       "      <td>...</td>\n",
       "      <td>-0.012652</td>\n",
       "      <td>0.035097</td>\n",
       "      <td>0.059275</td>\n",
       "      <td>0.028994</td>\n",
       "      <td>-0.068823</td>\n",
       "      <td>-0.026260</td>\n",
       "      <td>-0.064087</td>\n",
       "      <td>-0.043392</td>\n",
       "      <td>-0.022050</td>\n",
       "      <td>0.061802</td>\n",
       "    </tr>\n",
       "  </tbody>\n",
       "</table>\n",
       "<p>800 rows × 30 columns</p>\n",
       "</div>"
      ],
      "text/plain": [
       "           0         1         2         3         4         5         6   \\\n",
       "0   -0.777410  0.193198 -0.058681 -0.180358 -0.005488 -0.099418 -0.209192   \n",
       "1   -0.599829  0.260505  0.001988 -0.047122  0.131503 -0.098224 -0.077306   \n",
       "2   -0.246233 -0.118150  0.065454 -0.036683  0.486624 -0.150015 -0.066610   \n",
       "3   -0.748761  0.347893 -0.050810 -0.060772  0.094122  0.043072 -0.091611   \n",
       "4    0.390897  0.250941 -0.198188  0.293123  0.621651  0.005957 -0.025039   \n",
       "..        ...       ...       ...       ...       ...       ...       ...   \n",
       "795 -0.565572  0.422083  0.328459  0.111136 -0.153392 -0.133144  0.121274   \n",
       "796  0.258810 -0.934083  0.031836  0.495334  0.077337 -0.114135  0.171023   \n",
       "797  1.243638  0.799851  0.648936  0.304699 -0.379732  0.291342 -0.171433   \n",
       "798  0.251711  0.398993 -0.418890 -0.045822  0.030828  0.140385 -0.063128   \n",
       "799  0.431775 -0.166857 -0.363375  0.099114  0.416899  0.067133 -0.012719   \n",
       "\n",
       "           7         8         9   ...        20        21        22  \\\n",
       "0   -0.328523  0.078996 -0.157323  ...  0.041165  0.038868 -0.014776   \n",
       "1    0.046255 -0.040616  0.094603  ... -0.041534 -0.046373 -0.068694   \n",
       "2   -0.197734  0.041883  0.013262  ...  0.088581  0.035792  0.010247   \n",
       "3    0.131255 -0.044354  0.123954  ... -0.015460  0.002813 -0.002246   \n",
       "4   -0.233490  0.295023  0.131552  ...  0.016740 -0.082243  0.057713   \n",
       "..        ...       ...       ...  ...       ...       ...       ...   \n",
       "795  0.170829  0.181531 -0.003553  ...  0.293489 -0.012800  0.058350   \n",
       "796 -0.128289  0.103747  0.171771  ...  0.028867 -0.007606 -0.040242   \n",
       "797 -0.020330  0.029568 -0.338996  ... -0.005325 -0.005846  0.016543   \n",
       "798 -0.085624 -0.096346  0.127764  ...  0.080396 -0.048845  0.017187   \n",
       "799  0.112108 -0.131549  0.028352  ... -0.012652  0.035097  0.059275   \n",
       "\n",
       "           23        24        25        26        27        28        29  \n",
       "0    0.077619  0.042378 -0.022349  0.027487  0.072776  0.064374 -0.002495  \n",
       "1   -0.016307  0.047816  0.034589  0.010604  0.052721  0.011093 -0.018114  \n",
       "2   -0.059556 -0.157718 -0.009606  0.117418  0.033817  0.003053 -0.032089  \n",
       "3   -0.016255  0.033266 -0.038578  0.011985  0.000457  0.015948 -0.024016  \n",
       "4   -0.016134 -0.016780  0.004757 -0.044126 -0.030980 -0.015806  0.015246  \n",
       "..        ...       ...       ...       ...       ...       ...       ...  \n",
       "795  0.047841  0.083061 -0.066748  0.014930 -0.025305 -0.000576  0.010976  \n",
       "796  0.058971  0.156630  0.046094 -0.127337 -0.039484  0.098118  0.001165  \n",
       "797 -0.003658  0.054954 -0.001606 -0.058225 -0.101575 -0.042101  0.014038  \n",
       "798 -0.002996 -0.023183  0.127376 -0.093147 -0.051952  0.023988 -0.100967  \n",
       "799  0.028994 -0.068823 -0.026260 -0.064087 -0.043392 -0.022050  0.061802  \n",
       "\n",
       "[800 rows x 30 columns]"
      ]
     },
     "execution_count": 56,
     "metadata": {},
     "output_type": "execute_result"
    }
   ],
   "source": [
    "pca_final.iloc[:,:30]"
   ]
  },
  {
   "cell_type": "code",
   "execution_count": 57,
   "id": "b7416f1b-25b0-4c57-8c0d-e742420321be",
   "metadata": {},
   "outputs": [],
   "source": [
    "model_pca_tuned_xbg = best_xgb\n",
    "model_pca_tuned_xbg.fit(pca_final.iloc[:,:30],pca_final.iloc[:,30])\n",
    "pcaTrainxbg_tuned = model_pca_tuned_xbg.predict(pca_data)\n",
    "pcaTestxbg_tuned = model_pca_tuned_xbg.predict(pca_data_test)"
   ]
  },
  {
   "cell_type": "code",
   "execution_count": 58,
   "id": "7c108646-a2d1-4a21-a186-2e12fc25858b",
   "metadata": {},
   "outputs": [],
   "source": [
    "pcatestxbg_score =  accuracy_score(y_test, pcaTestxbg)\n",
    "pcaxbg_score = accuracy_score(y_dev, pcaTrainxbg)"
   ]
  },
  {
   "cell_type": "code",
   "execution_count": 59,
   "id": "c9e0d80c-b059-49a7-95e5-acd84c9b9bf6",
   "metadata": {},
   "outputs": [
    {
     "name": "stdout",
     "output_type": "stream",
     "text": [
      "Classification Score for XGB Classifier on Train dataset:\n",
      "\n",
      "Train Score :  0.99875\n",
      "--------------------------------------------------------\n",
      "Classification Score for XGB Classifier on Test dataset:\n",
      "\n",
      "Test Score : 0.685\n"
     ]
    }
   ],
   "source": [
    "print(\"Classification Score for XGB Classifier on Train dataset:\\n\")\n",
    "print(\"Train Score : \", pcaxbg_score)\n",
    "print(\"--------------------------------------------------------\")\n",
    "print(\"Classification Score for XGB Classifier on Test dataset:\\n\")\n",
    "print(\"Test Score :\", pcatestxbg_score)"
   ]
  },
  {
   "cell_type": "code",
   "execution_count": 60,
   "id": "c94e5157-9e9c-4b7c-bf11-f10b613e4b5f",
   "metadata": {},
   "outputs": [
    {
     "data": {
      "image/png": "[encoded data removed]",
      "text/plain": [
       "<Figure size 1080x432 with 2 Axes>"
      ]
     },
     "metadata": {},
     "output_type": "display_data"
    },
    {
     "name": "stdout",
     "output_type": "stream",
     "text": [
      "Accuracy : 0.69\n",
      "Macro F-1 Score : 0.67\n"
     ]
    }
   ],
   "source": [
    "# Evaluate Model\n",
    "class_labels = list(model_pca_tuned_xbg.classes_)\n",
    "macro_f1, accuracy = evaluate_model(pcaTestxbg, y_test, class_labels,\n",
    "                                    'Confustion Matrix: PCA - Tuned 30 seconds XGB Classifier')\n",
    "print('Accuracy : %.2f'%accuracy)\n",
    "print('Macro F-1 Score : %.2f'%macro_f1)"
   ]
  },
  {
   "cell_type": "markdown",
   "id": "cae8835c-8d4c-4b79-a877-d295c9c145a3",
   "metadata": {
    "tags": []
   },
   "source": [
    "## SVM"
   ]
  },
  {
   "cell_type": "code",
   "execution_count": 61,
   "id": "abc39c51-b4eb-4cfb-9d7c-060f90a0df6b",
   "metadata": {},
   "outputs": [],
   "source": [
    "model_pca_svm = SVC()\n",
    "model_pca_svm.fit(pca_final.iloc[:,:30],pca_final.iloc[:,30])\n",
    "pcaTrainsvm = model_pca_svm.predict(pca_data)\n",
    "pcaTestsvm = model_pca_svm.predict(pca_data_test)"
   ]
  },
  {
   "cell_type": "code",
   "execution_count": 62,
   "id": "0c0a4ac8-85a0-4ca3-9270-05b974f39336",
   "metadata": {},
   "outputs": [],
   "source": [
    "pcatestsvm_score =  accuracy_score(y_test, pcaTestsvm)\n",
    "pcasvm_score = accuracy_score(y_dev, pcaTrainsvm)"
   ]
  },
  {
   "cell_type": "code",
   "execution_count": 63,
   "id": "ff6c687e-e9d5-4599-9b4c-a7b33beace92",
   "metadata": {},
   "outputs": [
    {
     "name": "stdout",
     "output_type": "stream",
     "text": [
      "Classification Score for SVM Classifier on Train dataset:\n",
      "\n",
      "Train Score :  0.85625\n",
      "--------------------------------------------------------\n",
      "Classification Score for SVM Classifier on Test dataset:\n",
      "\n",
      "Test Score : 0.775\n"
     ]
    }
   ],
   "source": [
    "print(\"Classification Score for SVM Classifier on Train dataset:\\n\")\n",
    "print(\"Train Score : \", pcasvm_score)\n",
    "print(\"--------------------------------------------------------\")\n",
    "print(\"Classification Score for SVM Classifier on Test dataset:\\n\")\n",
    "print(\"Test Score :\", pcatestsvm_score)"
   ]
  },
  {
   "cell_type": "code",
   "execution_count": 64,
   "id": "e2583b05-43f7-4b3a-97a6-8842cf9f5361",
   "metadata": {},
   "outputs": [
    {
     "data": {
      "image/png": "[encoded data removed]",
      "text/plain": [
       "<Figure size 1080x432 with 2 Axes>"
      ]
     },
     "metadata": {},
     "output_type": "display_data"
    },
    {
     "name": "stdout",
     "output_type": "stream",
     "text": [
      "Accuracy : 0.78\n",
      "Macro F-1 Score : 0.77\n"
     ]
    }
   ],
   "source": [
    "# Evaluate Model\n",
    "class_labels = list(model_pca_svm.classes_)\n",
    "macro_f1, accuracy = evaluate_model(pcaTestsvm, y_test, class_labels,\n",
    "                                    'Confustion Matrix: PCA - Untuned 30 seconds SVM Classifier ')\n",
    "print('Accuracy : %.2f'%accuracy)\n",
    "print('Macro F-1 Score : %.2f'%macro_f1)"
   ]
  },
  {
   "cell_type": "markdown",
   "id": "6c3606f9-cc2c-40b9-92e5-c28db74ede2d",
   "metadata": {},
   "source": [
    "### PCA - Tuned Model\n",
    "Building a model with hyperparameters tuning using 5-fold cross validation with GridSearchCV and the PCA data"
   ]
  },
  {
   "cell_type": "code",
   "execution_count": 65,
   "id": "67a5e1a3-ef64-4892-9821-bd39aa8b2f29",
   "metadata": {},
   "outputs": [
    {
     "data": {
      "text/html": [
       "<div>\n",
       "<style scoped>\n",
       "    .dataframe tbody tr th:only-of-type {\n",
       "        vertical-align: middle;\n",
       "    }\n",
       "\n",
       "    .dataframe tbody tr th {\n",
       "        vertical-align: top;\n",
       "    }\n",
       "\n",
       "    .dataframe thead th {\n",
       "        text-align: right;\n",
       "    }\n",
       "</style>\n",
       "<table border=\"1\" class=\"dataframe\">\n",
       "  <thead>\n",
       "    <tr style=\"text-align: right;\">\n",
       "      <th></th>\n",
       "      <th>0</th>\n",
       "      <th>1</th>\n",
       "      <th>2</th>\n",
       "      <th>3</th>\n",
       "      <th>4</th>\n",
       "      <th>5</th>\n",
       "      <th>6</th>\n",
       "      <th>7</th>\n",
       "      <th>8</th>\n",
       "      <th>9</th>\n",
       "      <th>...</th>\n",
       "      <th>20</th>\n",
       "      <th>21</th>\n",
       "      <th>22</th>\n",
       "      <th>23</th>\n",
       "      <th>24</th>\n",
       "      <th>25</th>\n",
       "      <th>26</th>\n",
       "      <th>27</th>\n",
       "      <th>28</th>\n",
       "      <th>29</th>\n",
       "    </tr>\n",
       "  </thead>\n",
       "  <tbody>\n",
       "    <tr>\n",
       "      <th>0</th>\n",
       "      <td>-0.777410</td>\n",
       "      <td>0.193198</td>\n",
       "      <td>-0.058681</td>\n",
       "      <td>-0.180358</td>\n",
       "      <td>-0.005488</td>\n",
       "      <td>-0.099418</td>\n",
       "      <td>-0.209192</td>\n",
       "      <td>-0.328523</td>\n",
       "      <td>0.078996</td>\n",
       "      <td>-0.157323</td>\n",
       "      <td>...</td>\n",
       "      <td>0.041165</td>\n",
       "      <td>0.038868</td>\n",
       "      <td>-0.014776</td>\n",
       "      <td>0.077619</td>\n",
       "      <td>0.042378</td>\n",
       "      <td>-0.022349</td>\n",
       "      <td>0.027487</td>\n",
       "      <td>0.072776</td>\n",
       "      <td>0.064374</td>\n",
       "      <td>-0.002495</td>\n",
       "    </tr>\n",
       "    <tr>\n",
       "      <th>1</th>\n",
       "      <td>-0.599829</td>\n",
       "      <td>0.260505</td>\n",
       "      <td>0.001988</td>\n",
       "      <td>-0.047122</td>\n",
       "      <td>0.131503</td>\n",
       "      <td>-0.098224</td>\n",
       "      <td>-0.077306</td>\n",
       "      <td>0.046255</td>\n",
       "      <td>-0.040616</td>\n",
       "      <td>0.094603</td>\n",
       "      <td>...</td>\n",
       "      <td>-0.041534</td>\n",
       "      <td>-0.046373</td>\n",
       "      <td>-0.068694</td>\n",
       "      <td>-0.016307</td>\n",
       "      <td>0.047816</td>\n",
       "      <td>0.034589</td>\n",
       "      <td>0.010604</td>\n",
       "      <td>0.052721</td>\n",
       "      <td>0.011093</td>\n",
       "      <td>-0.018114</td>\n",
       "    </tr>\n",
       "    <tr>\n",
       "      <th>2</th>\n",
       "      <td>-0.246233</td>\n",
       "      <td>-0.118150</td>\n",
       "      <td>0.065454</td>\n",
       "      <td>-0.036683</td>\n",
       "      <td>0.486624</td>\n",
       "      <td>-0.150015</td>\n",
       "      <td>-0.066610</td>\n",
       "      <td>-0.197734</td>\n",
       "      <td>0.041883</td>\n",
       "      <td>0.013262</td>\n",
       "      <td>...</td>\n",
       "      <td>0.088581</td>\n",
       "      <td>0.035792</td>\n",
       "      <td>0.010247</td>\n",
       "      <td>-0.059556</td>\n",
       "      <td>-0.157718</td>\n",
       "      <td>-0.009606</td>\n",
       "      <td>0.117418</td>\n",
       "      <td>0.033817</td>\n",
       "      <td>0.003053</td>\n",
       "      <td>-0.032089</td>\n",
       "    </tr>\n",
       "    <tr>\n",
       "      <th>3</th>\n",
       "      <td>-0.748761</td>\n",
       "      <td>0.347893</td>\n",
       "      <td>-0.050810</td>\n",
       "      <td>-0.060772</td>\n",
       "      <td>0.094122</td>\n",
       "      <td>0.043072</td>\n",
       "      <td>-0.091611</td>\n",
       "      <td>0.131255</td>\n",
       "      <td>-0.044354</td>\n",
       "      <td>0.123954</td>\n",
       "      <td>...</td>\n",
       "      <td>-0.015460</td>\n",
       "      <td>0.002813</td>\n",
       "      <td>-0.002246</td>\n",
       "      <td>-0.016255</td>\n",
       "      <td>0.033266</td>\n",
       "      <td>-0.038578</td>\n",
       "      <td>0.011985</td>\n",
       "      <td>0.000457</td>\n",
       "      <td>0.015948</td>\n",
       "      <td>-0.024016</td>\n",
       "    </tr>\n",
       "    <tr>\n",
       "      <th>4</th>\n",
       "      <td>0.390897</td>\n",
       "      <td>0.250941</td>\n",
       "      <td>-0.198188</td>\n",
       "      <td>0.293123</td>\n",
       "      <td>0.621651</td>\n",
       "      <td>0.005957</td>\n",
       "      <td>-0.025039</td>\n",
       "      <td>-0.233490</td>\n",
       "      <td>0.295023</td>\n",
       "      <td>0.131552</td>\n",
       "      <td>...</td>\n",
       "      <td>0.016740</td>\n",
       "      <td>-0.082243</td>\n",
       "      <td>0.057713</td>\n",
       "      <td>-0.016134</td>\n",
       "      <td>-0.016780</td>\n",
       "      <td>0.004757</td>\n",
       "      <td>-0.044126</td>\n",
       "      <td>-0.030980</td>\n",
       "      <td>-0.015806</td>\n",
       "      <td>0.015246</td>\n",
       "    </tr>\n",
       "    <tr>\n",
       "      <th>...</th>\n",
       "      <td>...</td>\n",
       "      <td>...</td>\n",
       "      <td>...</td>\n",
       "      <td>...</td>\n",
       "      <td>...</td>\n",
       "      <td>...</td>\n",
       "      <td>...</td>\n",
       "      <td>...</td>\n",
       "      <td>...</td>\n",
       "      <td>...</td>\n",
       "      <td>...</td>\n",
       "      <td>...</td>\n",
       "      <td>...</td>\n",
       "      <td>...</td>\n",
       "      <td>...</td>\n",
       "      <td>...</td>\n",
       "      <td>...</td>\n",
       "      <td>...</td>\n",
       "      <td>...</td>\n",
       "      <td>...</td>\n",
       "      <td>...</td>\n",
       "    </tr>\n",
       "    <tr>\n",
       "      <th>795</th>\n",
       "      <td>-0.565572</td>\n",
       "      <td>0.422083</td>\n",
       "      <td>0.328459</td>\n",
       "      <td>0.111136</td>\n",
       "      <td>-0.153392</td>\n",
       "      <td>-0.133144</td>\n",
       "      <td>0.121274</td>\n",
       "      <td>0.170829</td>\n",
       "      <td>0.181531</td>\n",
       "      <td>-0.003553</td>\n",
       "      <td>...</td>\n",
       "      <td>0.293489</td>\n",
       "      <td>-0.012800</td>\n",
       "      <td>0.058350</td>\n",
       "      <td>0.047841</td>\n",
       "      <td>0.083061</td>\n",
       "      <td>-0.066748</td>\n",
       "      <td>0.014930</td>\n",
       "      <td>-0.025305</td>\n",
       "      <td>-0.000576</td>\n",
       "      <td>0.010976</td>\n",
       "    </tr>\n",
       "    <tr>\n",
       "      <th>796</th>\n",
       "      <td>0.258810</td>\n",
       "      <td>-0.934083</td>\n",
       "      <td>0.031836</td>\n",
       "      <td>0.495334</td>\n",
       "      <td>0.077337</td>\n",
       "      <td>-0.114135</td>\n",
       "      <td>0.171023</td>\n",
       "      <td>-0.128289</td>\n",
       "      <td>0.103747</td>\n",
       "      <td>0.171771</td>\n",
       "      <td>...</td>\n",
       "      <td>0.028867</td>\n",
       "      <td>-0.007606</td>\n",
       "      <td>-0.040242</td>\n",
       "      <td>0.058971</td>\n",
       "      <td>0.156630</td>\n",
       "      <td>0.046094</td>\n",
       "      <td>-0.127337</td>\n",
       "      <td>-0.039484</td>\n",
       "      <td>0.098118</td>\n",
       "      <td>0.001165</td>\n",
       "    </tr>\n",
       "    <tr>\n",
       "      <th>797</th>\n",
       "      <td>1.243638</td>\n",
       "      <td>0.799851</td>\n",
       "      <td>0.648936</td>\n",
       "      <td>0.304699</td>\n",
       "      <td>-0.379732</td>\n",
       "      <td>0.291342</td>\n",
       "      <td>-0.171433</td>\n",
       "      <td>-0.020330</td>\n",
       "      <td>0.029568</td>\n",
       "      <td>-0.338996</td>\n",
       "      <td>...</td>\n",
       "      <td>-0.005325</td>\n",
       "      <td>-0.005846</td>\n",
       "      <td>0.016543</td>\n",
       "      <td>-0.003658</td>\n",
       "      <td>0.054954</td>\n",
       "      <td>-0.001606</td>\n",
       "      <td>-0.058225</td>\n",
       "      <td>-0.101575</td>\n",
       "      <td>-0.042101</td>\n",
       "      <td>0.014038</td>\n",
       "    </tr>\n",
       "    <tr>\n",
       "      <th>798</th>\n",
       "      <td>0.251711</td>\n",
       "      <td>0.398993</td>\n",
       "      <td>-0.418890</td>\n",
       "      <td>-0.045822</td>\n",
       "      <td>0.030828</td>\n",
       "      <td>0.140385</td>\n",
       "      <td>-0.063128</td>\n",
       "      <td>-0.085624</td>\n",
       "      <td>-0.096346</td>\n",
       "      <td>0.127764</td>\n",
       "      <td>...</td>\n",
       "      <td>0.080396</td>\n",
       "      <td>-0.048845</td>\n",
       "      <td>0.017187</td>\n",
       "      <td>-0.002996</td>\n",
       "      <td>-0.023183</td>\n",
       "      <td>0.127376</td>\n",
       "      <td>-0.093147</td>\n",
       "      <td>-0.051952</td>\n",
       "      <td>0.023988</td>\n",
       "      <td>-0.100967</td>\n",
       "    </tr>\n",
       "    <tr>\n",
       "      <th>799</th>\n",
       "      <td>0.431775</td>\n",
       "      <td>-0.166857</td>\n",
       "      <td>-0.363375</td>\n",
       "      <td>0.099114</td>\n",
       "      <td>0.416899</td>\n",
       "      <td>0.067133</td>\n",
       "      <td>-0.012719</td>\n",
       "      <td>0.112108</td>\n",
       "      <td>-0.131549</td>\n",
       "      <td>0.028352</td>\n",
       "      <td>...</td>\n",
       "      <td>-0.012652</td>\n",
       "      <td>0.035097</td>\n",
       "      <td>0.059275</td>\n",
       "      <td>0.028994</td>\n",
       "      <td>-0.068823</td>\n",
       "      <td>-0.026260</td>\n",
       "      <td>-0.064087</td>\n",
       "      <td>-0.043392</td>\n",
       "      <td>-0.022050</td>\n",
       "      <td>0.061802</td>\n",
       "    </tr>\n",
       "  </tbody>\n",
       "</table>\n",
       "<p>800 rows × 30 columns</p>\n",
       "</div>"
      ],
      "text/plain": [
       "           0         1         2         3         4         5         6   \\\n",
       "0   -0.777410  0.193198 -0.058681 -0.180358 -0.005488 -0.099418 -0.209192   \n",
       "1   -0.599829  0.260505  0.001988 -0.047122  0.131503 -0.098224 -0.077306   \n",
       "2   -0.246233 -0.118150  0.065454 -0.036683  0.486624 -0.150015 -0.066610   \n",
       "3   -0.748761  0.347893 -0.050810 -0.060772  0.094122  0.043072 -0.091611   \n",
       "4    0.390897  0.250941 -0.198188  0.293123  0.621651  0.005957 -0.025039   \n",
       "..        ...       ...       ...       ...       ...       ...       ...   \n",
       "795 -0.565572  0.422083  0.328459  0.111136 -0.153392 -0.133144  0.121274   \n",
       "796  0.258810 -0.934083  0.031836  0.495334  0.077337 -0.114135  0.171023   \n",
       "797  1.243638  0.799851  0.648936  0.304699 -0.379732  0.291342 -0.171433   \n",
       "798  0.251711  0.398993 -0.418890 -0.045822  0.030828  0.140385 -0.063128   \n",
       "799  0.431775 -0.166857 -0.363375  0.099114  0.416899  0.067133 -0.012719   \n",
       "\n",
       "           7         8         9   ...        20        21        22  \\\n",
       "0   -0.328523  0.078996 -0.157323  ...  0.041165  0.038868 -0.014776   \n",
       "1    0.046255 -0.040616  0.094603  ... -0.041534 -0.046373 -0.068694   \n",
       "2   -0.197734  0.041883  0.013262  ...  0.088581  0.035792  0.010247   \n",
       "3    0.131255 -0.044354  0.123954  ... -0.015460  0.002813 -0.002246   \n",
       "4   -0.233490  0.295023  0.131552  ...  0.016740 -0.082243  0.057713   \n",
       "..        ...       ...       ...  ...       ...       ...       ...   \n",
       "795  0.170829  0.181531 -0.003553  ...  0.293489 -0.012800  0.058350   \n",
       "796 -0.128289  0.103747  0.171771  ...  0.028867 -0.007606 -0.040242   \n",
       "797 -0.020330  0.029568 -0.338996  ... -0.005325 -0.005846  0.016543   \n",
       "798 -0.085624 -0.096346  0.127764  ...  0.080396 -0.048845  0.017187   \n",
       "799  0.112108 -0.131549  0.028352  ... -0.012652  0.035097  0.059275   \n",
       "\n",
       "           23        24        25        26        27        28        29  \n",
       "0    0.077619  0.042378 -0.022349  0.027487  0.072776  0.064374 -0.002495  \n",
       "1   -0.016307  0.047816  0.034589  0.010604  0.052721  0.011093 -0.018114  \n",
       "2   -0.059556 -0.157718 -0.009606  0.117418  0.033817  0.003053 -0.032089  \n",
       "3   -0.016255  0.033266 -0.038578  0.011985  0.000457  0.015948 -0.024016  \n",
       "4   -0.016134 -0.016780  0.004757 -0.044126 -0.030980 -0.015806  0.015246  \n",
       "..        ...       ...       ...       ...       ...       ...       ...  \n",
       "795  0.047841  0.083061 -0.066748  0.014930 -0.025305 -0.000576  0.010976  \n",
       "796  0.058971  0.156630  0.046094 -0.127337 -0.039484  0.098118  0.001165  \n",
       "797 -0.003658  0.054954 -0.001606 -0.058225 -0.101575 -0.042101  0.014038  \n",
       "798 -0.002996 -0.023183  0.127376 -0.093147 -0.051952  0.023988 -0.100967  \n",
       "799  0.028994 -0.068823 -0.026260 -0.064087 -0.043392 -0.022050  0.061802  \n",
       "\n",
       "[800 rows x 30 columns]"
      ]
     },
     "execution_count": 65,
     "metadata": {},
     "output_type": "execute_result"
    }
   ],
   "source": [
    "pca_final.iloc[:,:30]"
   ]
  },
  {
   "cell_type": "code",
   "execution_count": 66,
   "id": "cbe25e9b-7c09-453a-8dfe-71c8c94bceb2",
   "metadata": {},
   "outputs": [],
   "source": [
    "model_pca_tuned_svm = best_svm\n",
    "model_pca_tuned_svm.fit(pca_final.iloc[:,:30],pca_final.iloc[:,30])\n",
    "pcaTrainsvm_tuned = model_pca_tuned_svm.predict(pca_data)\n",
    "pcaTestsvm_tuned = model_pca_tuned_svm.predict(pca_data_test)"
   ]
  },
  {
   "cell_type": "code",
   "execution_count": 67,
   "id": "2e0ff7a3-4c27-4bae-a5f2-005421de951f",
   "metadata": {},
   "outputs": [],
   "source": [
    "pcatestsvm_score =  accuracy_score(y_test, pcaTestsvm)\n",
    "pcasvm_score = accuracy_score(y_dev, pcaTrainsvm)"
   ]
  },
  {
   "cell_type": "code",
   "execution_count": 68,
   "id": "0d5d7b88-afc6-4410-8bf7-851f40c29e9a",
   "metadata": {},
   "outputs": [
    {
     "name": "stdout",
     "output_type": "stream",
     "text": [
      "Classification Score for SVM Classifier on Train dataset:\n",
      "\n",
      "Train Score :  0.85625\n",
      "--------------------------------------------------------\n",
      "Classification Score for SVM Classifier on Test dataset:\n",
      "\n",
      "Test Score : 0.775\n"
     ]
    }
   ],
   "source": [
    "print(\"Classification Score for SVM Classifier on Train dataset:\\n\")\n",
    "print(\"Train Score : \", pcasvm_score)\n",
    "print(\"--------------------------------------------------------\")\n",
    "print(\"Classification Score for SVM Classifier on Test dataset:\\n\")\n",
    "print(\"Test Score :\", pcatestsvm_score)"
   ]
  },
  {
   "cell_type": "code",
   "execution_count": 69,
   "id": "0bf46524-720c-49cf-a970-c279f6ddfc27",
   "metadata": {},
   "outputs": [
    {
     "data": {
      "image/png": "[encoded data removed]",
      "text/plain": [
       "<Figure size 1080x432 with 2 Axes>"
      ]
     },
     "metadata": {},
     "output_type": "display_data"
    },
    {
     "name": "stdout",
     "output_type": "stream",
     "text": [
      "Accuracy : 0.78\n",
      "Macro F-1 Score : 0.77\n"
     ]
    }
   ],
   "source": [
    "# Evaluate Model\n",
    "class_labels = list(model_pca_tuned_svm.classes_)\n",
    "macro_f1, accuracy = evaluate_model(pcaTestsvm, y_test, class_labels,\n",
    "                                    'Confustion Matrix: PCA - Tuned 30 seconds SVM Classifier')\n",
    "print('Accuracy : %.2f'%accuracy)\n",
    "print('Macro F-1 Score : %.2f'%macro_f1)"
   ]
  },
  {
   "cell_type": "code",
   "execution_count": null,
   "id": "5e602f1b-bf5f-41fb-86de-12c84d244002",
   "metadata": {},
   "outputs": [],
   "source": []
  }
 ],
 "metadata": {
  "kernelspec": {
   "display_name": "Python 3 (ipykernel)",
   "language": "python",
   "name": "python3"
  },
  "language_info": {
   "codemirror_mode": {
    "name": "ipython",
    "version": 3
   },
   "file_extension": ".py",
   "mimetype": "text/x-python",
   "name": "python",
   "nbconvert_exporter": "python",
   "pygments_lexer": "ipython3",
   "version": "3.9.7"
  }
 },
 "nbformat": 4,
 "nbformat_minor": 5
}
