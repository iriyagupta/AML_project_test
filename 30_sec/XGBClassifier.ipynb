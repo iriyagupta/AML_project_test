{
 "cells": [
  {
   "cell_type": "code",
   "execution_count": 1,
   "id": "ffa7b670",
   "metadata": {},
   "outputs": [],
   "source": [
    "from utils import *\n",
    "from sklearn.decomposition import PCA\n",
    "import xgboost as xgb\n",
    "from sklearn.model_selection import GridSearchCV\n",
    "import random\n",
    "import warnings\n",
    "import time\n",
    "warnings.filterwarnings('ignore')"
   ]
  },
  {
   "cell_type": "code",
   "execution_count": 2,
   "metadata": {},
   "outputs": [],
   "source": [
    "%store -r data\n",
    "%store -r target"
   ]
  },
  {
   "cell_type": "code",
   "execution_count": 3,
   "metadata": {},
   "outputs": [],
   "source": [
    "from sklearn.preprocessing import LabelEncoder\n",
    "le = LabelEncoder()\n",
    "label = le.fit_transform(target)"
   ]
  },
  {
   "cell_type": "code",
   "execution_count": 4,
   "id": "192b05f5-31d4-4350-a85d-bf391f3237a5",
   "metadata": {},
   "outputs": [
    {
     "name": "stdout",
     "output_type": "stream",
     "text": [
      "X_train shape: (810, 54)\n",
      "X_test shape: (100, 54)\n",
      "X_val shape: (90, 54)\n",
      "y_train shape: (810,)\n",
      "y_test shape: (100,)\n",
      "y_val shape: (90,)\n"
     ]
    }
   ],
   "source": [
    "data = standardize(data)\n",
    "X_dev, y_dev, X_test, y_test, X_train, y_train, X_val, y_val = split(data,label)"
   ]
  },
  {
   "cell_type": "markdown",
   "id": "4d9caabe-d2df-40e4-9914-bc6c420e95cd",
   "metadata": {},
   "source": [
    "### Original Model\n",
    "Building a model with no parameter tuning and using the raw csv file"
   ]
  },
  {
   "cell_type": "code",
   "execution_count": 5,
   "id": "4603e557",
   "metadata": {},
   "outputs": [],
   "source": [
    "xgb_start_time = time.monotonic()\n",
    "model_xgb = xgb.XGBClassifier()\n",
    "model_xgb.fit(X_dev, y_dev)\n",
    "xgb_end_time = time.monotonic()\n",
    "\n",
    "predsDevxgb = model_xgb.predict(X_dev)\n",
    "predsTestxgb = model_xgb.predict(X_test)"
   ]
  },
  {
   "cell_type": "code",
   "execution_count": 6,
   "id": "798fd0c7",
   "metadata": {},
   "outputs": [],
   "source": [
    "testxgb_score =  accuracy_score(y_test, predsTestxgb)\n",
    "devxgb_score = accuracy_score(y_dev, predsDevxgb)"
   ]
  },
  {
   "cell_type": "code",
   "execution_count": 7,
   "id": "2cecfff5",
   "metadata": {},
   "outputs": [
    {
     "name": "stdout",
     "output_type": "stream",
     "text": [
      "Classification Score for XGB Classifier on Dev dataset:\n",
      "\n",
      "Dev Score :  0.9988888888888889\n",
      "              precision    recall  f1-score   support\n",
      "\n",
      "           0       1.00      1.00      1.00        92\n",
      "           1       1.00      1.00      1.00        92\n",
      "           2       1.00      1.00      1.00        92\n",
      "           3       1.00      1.00      1.00        92\n",
      "           4       1.00      1.00      1.00        93\n",
      "           5       1.00      1.00      1.00        83\n",
      "           6       0.99      1.00      0.99        92\n",
      "           7       1.00      1.00      1.00        92\n",
      "           8       1.00      1.00      1.00        86\n",
      "           9       1.00      0.99      0.99        86\n",
      "\n",
      "    accuracy                           1.00       900\n",
      "   macro avg       1.00      1.00      1.00       900\n",
      "weighted avg       1.00      1.00      1.00       900\n",
      "\n",
      "--------------------------------------------------------\n",
      "Classification Score for XGB Classifier on Test dataset:\n",
      "\n",
      "Test Score : 0.79\n",
      "              precision    recall  f1-score   support\n",
      "\n",
      "           0       0.70      0.88      0.78         8\n",
      "           1       0.62      1.00      0.76         8\n",
      "           2       0.73      1.00      0.84         8\n",
      "           3       0.78      0.88      0.82         8\n",
      "           4       0.75      0.86      0.80         7\n",
      "           5       0.86      0.71      0.77        17\n",
      "           6       0.88      0.88      0.88         8\n",
      "           7       0.78      0.88      0.82         8\n",
      "           8       0.92      0.79      0.85        14\n",
      "           9       1.00      0.43      0.60        14\n",
      "\n",
      "    accuracy                           0.79       100\n",
      "   macro avg       0.80      0.83      0.79       100\n",
      "weighted avg       0.82      0.79      0.78       100\n",
      "\n"
     ]
    }
   ],
   "source": [
    "print(\"Classification Score for XGB Classifier on Dev dataset:\\n\")\n",
    "print(\"Dev Score : \", devxgb_score)\n",
    "print(classification_report(y_dev, predsDevxgb))\n",
    "print(\"--------------------------------------------------------\")\n",
    "print(\"Classification Score for XGB Classifier on Test dataset:\\n\")\n",
    "print(\"Test Score :\", testxgb_score)\n",
    "print(classification_report(y_test, predsTestxgb))"
   ]
  },
  {
   "cell_type": "code",
   "execution_count": 8,
   "id": "e1883907",
   "metadata": {},
   "outputs": [
    {
     "data": {
      "image/png": "[encoded data removed]",
      "text/plain": [
       "<Figure size 1080x432 with 2 Axes>"
      ]
     },
     "metadata": {},
     "output_type": "display_data"
    },
    {
     "name": "stdout",
     "output_type": "stream",
     "text": [
      "Accuracy : 0.79\n",
      "Macro F-1 Score : 0.79\n"
     ]
    }
   ],
   "source": [
    "# Evaluate Model on Test set\n",
    "class_labels = list(model_xgb.classes_)\n",
    "macro_f1, accuracy = evaluate_model(predsTestxgb, y_test, class_labels,\n",
    "                                    'Confustion matrix: Untuned 3 seconds XGB Classifier')\n",
    "print('Accuracy : %.2f'%accuracy)\n",
    "print('Macro F-1 Score : %.2f'%macro_f1)"
   ]
  },
  {
   "cell_type": "markdown",
   "id": "94955db3",
   "metadata": {},
   "source": [
    "### Tuned Model\n",
    "Building a model with hyperparameters tuning using 5-fold cross validation with GridSearchCV and the raw csv file"
   ]
  },
  {
   "cell_type": "code",
   "execution_count": 9,
   "id": "3fef49f4",
   "metadata": {},
   "outputs": [
    {
     "name": "stdout",
     "output_type": "stream",
     "text": [
      "{'n_estimators': array([  5,  52, 100]), 'learning_rate': [0.1, 0.001, 0.01], 'max_depth': [16, 13, 6]}\n"
     ]
    }
   ],
   "source": [
    "parameters = {\"n_estimators\": np.linspace(5,100,3,dtype=int),\n",
    "             \"learning_rate\": [0.1,0.001,0.01],\n",
    "             \"max_depth\": random.sample(range(3, 30),3)}\n",
    "print(parameters)"
   ]
  },
  {
   "cell_type": "code",
   "execution_count": 10,
   "id": "88dfebb1",
   "metadata": {},
   "outputs": [
    {
     "data": {
      "text/plain": [
       "GridSearchCV(cv=5,\n",
       "             estimator=XGBClassifier(base_score=0.5, booster='gbtree',\n",
       "                                     callbacks=None, colsample_bylevel=1,\n",
       "                                     colsample_bynode=1, colsample_bytree=1,\n",
       "                                     early_stopping_rounds=None,\n",
       "                                     enable_categorical=False, eval_metric=None,\n",
       "                                     gamma=0, gpu_id=-1,\n",
       "                                     grow_policy='depthwise',\n",
       "                                     importance_type=None,\n",
       "                                     interaction_constraints='',\n",
       "                                     learning_rate=0.300000012, max_bin=256,\n",
       "                                     max_cat_to_onehot=4, max_delta_step=0,\n",
       "                                     max_depth=6, max_leaves=0,\n",
       "                                     min_child_weight=1, missing=nan,\n",
       "                                     monotone_constraints='()',\n",
       "                                     n_estimators=100, n_jobs=0,\n",
       "                                     num_parallel_tree=1,\n",
       "                                     objective='multi:softprob',\n",
       "                                     predictor='auto', random_state=0,\n",
       "                                     reg_alpha=0, ...),\n",
       "             param_grid={'learning_rate': [0.1, 0.001, 0.01],\n",
       "                         'max_depth': [16, 13, 6],\n",
       "                         'n_estimators': array([  5,  52, 100])})"
      ]
     },
     "execution_count": 10,
     "metadata": {},
     "output_type": "execute_result"
    }
   ],
   "source": [
    "tune_xgb = GridSearchCV(estimator = model_xgb, param_grid = parameters, cv = 5)\n",
    "tune_xgb.fit(X_dev, y_dev)"
   ]
  },
  {
   "cell_type": "code",
   "execution_count": 11,
   "id": "787f731b",
   "metadata": {},
   "outputs": [
    {
     "name": "stdout",
     "output_type": "stream",
     "text": [
      "Best Score : 0.7033333333333334\n",
      "Best Parameters : {'learning_rate': 0.1, 'max_depth': 6, 'n_estimators': 100}\n"
     ]
    }
   ],
   "source": [
    "print(\"Best Score :\", tune_xgb.best_score_)\n",
    "print(\"Best Parameters :\",tune_xgb.best_params_)"
   ]
  },
  {
   "cell_type": "code",
   "execution_count": 12,
   "id": "a51d1aca",
   "metadata": {},
   "outputs": [
    {
     "name": "stdout",
     "output_type": "stream",
     "text": [
      "Score on Dev data for xgb using GridSearchCV: 0.9988888888888889\n",
      "Score on Test data for xgb using GridSearchCV: 0.78\n"
     ]
    }
   ],
   "source": [
    "predsDevxgb_tuned = tune_xgb.predict(X_dev)\n",
    "predsTestxgb_tuned = tune_xgb.predict(X_test)\n",
    "\n",
    "print(\"Score on Dev data for xgb using GridSearchCV:\", accuracy_score(y_dev, predsDevxgb_tuned))\n",
    "print(\"Score on Test data for xgb using GridSearchCV:\",accuracy_score(y_test, predsTestxgb_tuned))"
   ]
  },
  {
   "cell_type": "code",
   "execution_count": 13,
   "id": "8439f97a-f8c5-43bb-a815-c308a0cdd095",
   "metadata": {},
   "outputs": [
    {
     "data": {
      "image/png": "[encoded data removed]",
      "text/plain": [
       "<Figure size 1080x432 with 2 Axes>"
      ]
     },
     "metadata": {},
     "output_type": "display_data"
    },
    {
     "name": "stdout",
     "output_type": "stream",
     "text": [
      "Accuracy : 0.78\n",
      "Macro F-1 Score : 0.79\n"
     ]
    }
   ],
   "source": [
    "# Evaluate Model on Test set\n",
    "class_labels = list(model_xgb.classes_)\n",
    "macro_f1, accuracy = evaluate_model(predsTestxgb_tuned, y_test, class_labels,\n",
    "                                    'Confustion matrix: Tuned 3 seconds XGB Classifier')\n",
    "print('Accuracy : %.2f'%accuracy)\n",
    "print('Macro F-1 Score : %.2f'%macro_f1)"
   ]
  },
  {
   "cell_type": "markdown",
   "id": "833b2197",
   "metadata": {},
   "source": [
    "### Dimensionality reduction of data using PCA"
   ]
  },
  {
   "cell_type": "code",
   "execution_count": 14,
   "id": "6553145b",
   "metadata": {},
   "outputs": [
    {
     "name": "stdout",
     "output_type": "stream",
     "text": [
      "Explained Variance of each component: [0.27462107 0.16378828 0.106374   0.0723295  0.05484226 0.0387792\n",
      " 0.02690359 0.02395643 0.02175637 0.01846612 0.01427943 0.01395746\n",
      " 0.0120279  0.01112263 0.01017837 0.00968102 0.00884281 0.00796856\n",
      " 0.00769711 0.00724496 0.00710396 0.00655197 0.0060014  0.0056883\n",
      " 0.00541317 0.00495627 0.00484587 0.00468839 0.00450244 0.00421334]\n",
      "Sum of Explained Variance: 0.9526339024319308\n"
     ]
    }
   ],
   "source": [
    "# Principal Component Analysis \n",
    "### cite : https://machinelearningmastery.com/calculate-principal-component-analysis-scratch-python/\n",
    "\n",
    "# create the PCA instance\n",
    "pca = PCA(n_components=30)\n",
    "# fit on data\n",
    "pca_data = pca.fit_transform(X_dev)\n",
    "pca_data_test = pca.transform(X_test)\n",
    "# pca_data_dev = pca.transform(X_dev)\n",
    "PCA_df= pd.DataFrame(data=pca_data)\n",
    "y_dev = pd.DataFrame(y_dev)\n",
    "y_dev.index = PCA_df.index\n",
    "pca_final=pd.concat([PCA_df,y_dev], axis = 1)\n",
    "# access values\n",
    "print(\"Explained Variance of each component:\",pca.explained_variance_)\n",
    "print(\"Sum of Explained Variance:\", sum(pca.explained_variance_ratio_))"
   ]
  },
  {
   "cell_type": "code",
   "execution_count": 15,
   "id": "24f6e702",
   "metadata": {},
   "outputs": [
    {
     "data": {
      "text/html": [
       "<div>\n",
       "<style scoped>\n",
       "    .dataframe tbody tr th:only-of-type {\n",
       "        vertical-align: middle;\n",
       "    }\n",
       "\n",
       "    .dataframe tbody tr th {\n",
       "        vertical-align: top;\n",
       "    }\n",
       "\n",
       "    .dataframe thead th {\n",
       "        text-align: right;\n",
       "    }\n",
       "</style>\n",
       "<table border=\"1\" class=\"dataframe\">\n",
       "  <thead>\n",
       "    <tr style=\"text-align: right;\">\n",
       "      <th></th>\n",
       "      <th>0</th>\n",
       "      <th>1</th>\n",
       "      <th>2</th>\n",
       "      <th>3</th>\n",
       "      <th>4</th>\n",
       "      <th>5</th>\n",
       "      <th>6</th>\n",
       "      <th>7</th>\n",
       "      <th>8</th>\n",
       "      <th>9</th>\n",
       "      <th>...</th>\n",
       "      <th>21</th>\n",
       "      <th>22</th>\n",
       "      <th>23</th>\n",
       "      <th>24</th>\n",
       "      <th>25</th>\n",
       "      <th>26</th>\n",
       "      <th>27</th>\n",
       "      <th>28</th>\n",
       "      <th>29</th>\n",
       "      <th>0</th>\n",
       "    </tr>\n",
       "  </thead>\n",
       "  <tbody>\n",
       "    <tr>\n",
       "      <th>0</th>\n",
       "      <td>0.000578</td>\n",
       "      <td>-0.630373</td>\n",
       "      <td>-0.054837</td>\n",
       "      <td>0.410234</td>\n",
       "      <td>0.009388</td>\n",
       "      <td>0.027373</td>\n",
       "      <td>-0.032695</td>\n",
       "      <td>-0.147324</td>\n",
       "      <td>0.031383</td>\n",
       "      <td>0.111815</td>\n",
       "      <td>...</td>\n",
       "      <td>0.075295</td>\n",
       "      <td>0.101904</td>\n",
       "      <td>-0.079630</td>\n",
       "      <td>0.038325</td>\n",
       "      <td>-0.005625</td>\n",
       "      <td>-0.023161</td>\n",
       "      <td>0.123573</td>\n",
       "      <td>0.050644</td>\n",
       "      <td>0.040440</td>\n",
       "      <td>1</td>\n",
       "    </tr>\n",
       "    <tr>\n",
       "      <th>1</th>\n",
       "      <td>0.071451</td>\n",
       "      <td>-0.402465</td>\n",
       "      <td>-0.106785</td>\n",
       "      <td>0.332658</td>\n",
       "      <td>-0.060422</td>\n",
       "      <td>0.226589</td>\n",
       "      <td>0.122804</td>\n",
       "      <td>-0.066845</td>\n",
       "      <td>0.069261</td>\n",
       "      <td>-0.088956</td>\n",
       "      <td>...</td>\n",
       "      <td>0.119867</td>\n",
       "      <td>0.093887</td>\n",
       "      <td>-0.016989</td>\n",
       "      <td>0.094375</td>\n",
       "      <td>0.005932</td>\n",
       "      <td>-0.109091</td>\n",
       "      <td>-0.027823</td>\n",
       "      <td>-0.005325</td>\n",
       "      <td>-0.000637</td>\n",
       "      <td>5</td>\n",
       "    </tr>\n",
       "    <tr>\n",
       "      <th>2</th>\n",
       "      <td>-0.047268</td>\n",
       "      <td>0.326820</td>\n",
       "      <td>-0.598692</td>\n",
       "      <td>0.227380</td>\n",
       "      <td>0.045610</td>\n",
       "      <td>0.264122</td>\n",
       "      <td>-0.077907</td>\n",
       "      <td>0.063582</td>\n",
       "      <td>-0.168402</td>\n",
       "      <td>0.038901</td>\n",
       "      <td>...</td>\n",
       "      <td>-0.088282</td>\n",
       "      <td>0.044337</td>\n",
       "      <td>-0.057231</td>\n",
       "      <td>-0.028725</td>\n",
       "      <td>0.014260</td>\n",
       "      <td>0.089124</td>\n",
       "      <td>-0.017704</td>\n",
       "      <td>0.155972</td>\n",
       "      <td>-0.052945</td>\n",
       "      <td>2</td>\n",
       "    </tr>\n",
       "    <tr>\n",
       "      <th>3</th>\n",
       "      <td>-0.437642</td>\n",
       "      <td>0.235405</td>\n",
       "      <td>-0.003960</td>\n",
       "      <td>0.029110</td>\n",
       "      <td>-0.170677</td>\n",
       "      <td>-0.094826</td>\n",
       "      <td>-0.142893</td>\n",
       "      <td>0.105725</td>\n",
       "      <td>0.099782</td>\n",
       "      <td>-0.181444</td>\n",
       "      <td>...</td>\n",
       "      <td>0.021662</td>\n",
       "      <td>-0.012732</td>\n",
       "      <td>0.027941</td>\n",
       "      <td>0.054251</td>\n",
       "      <td>0.133389</td>\n",
       "      <td>0.101558</td>\n",
       "      <td>0.085626</td>\n",
       "      <td>0.037053</td>\n",
       "      <td>0.063623</td>\n",
       "      <td>6</td>\n",
       "    </tr>\n",
       "    <tr>\n",
       "      <th>4</th>\n",
       "      <td>-0.849344</td>\n",
       "      <td>0.103658</td>\n",
       "      <td>-0.048105</td>\n",
       "      <td>-0.018132</td>\n",
       "      <td>-0.023246</td>\n",
       "      <td>-0.159359</td>\n",
       "      <td>0.035769</td>\n",
       "      <td>-0.071887</td>\n",
       "      <td>0.111837</td>\n",
       "      <td>0.102878</td>\n",
       "      <td>...</td>\n",
       "      <td>0.040284</td>\n",
       "      <td>-0.009411</td>\n",
       "      <td>0.015145</td>\n",
       "      <td>-0.028521</td>\n",
       "      <td>0.035643</td>\n",
       "      <td>0.010332</td>\n",
       "      <td>-0.039741</td>\n",
       "      <td>-0.011455</td>\n",
       "      <td>0.027968</td>\n",
       "      <td>3</td>\n",
       "    </tr>\n",
       "  </tbody>\n",
       "</table>\n",
       "<p>5 rows × 31 columns</p>\n",
       "</div>"
      ],
      "text/plain": [
       "         0         1         2         3         4         5         6   \\\n",
       "0  0.000578 -0.630373 -0.054837  0.410234  0.009388  0.027373 -0.032695   \n",
       "1  0.071451 -0.402465 -0.106785  0.332658 -0.060422  0.226589  0.122804   \n",
       "2 -0.047268  0.326820 -0.598692  0.227380  0.045610  0.264122 -0.077907   \n",
       "3 -0.437642  0.235405 -0.003960  0.029110 -0.170677 -0.094826 -0.142893   \n",
       "4 -0.849344  0.103658 -0.048105 -0.018132 -0.023246 -0.159359  0.035769   \n",
       "\n",
       "         7         8         9   ...        21        22        23        24  \\\n",
       "0 -0.147324  0.031383  0.111815  ...  0.075295  0.101904 -0.079630  0.038325   \n",
       "1 -0.066845  0.069261 -0.088956  ...  0.119867  0.093887 -0.016989  0.094375   \n",
       "2  0.063582 -0.168402  0.038901  ... -0.088282  0.044337 -0.057231 -0.028725   \n",
       "3  0.105725  0.099782 -0.181444  ...  0.021662 -0.012732  0.027941  0.054251   \n",
       "4 -0.071887  0.111837  0.102878  ...  0.040284 -0.009411  0.015145 -0.028521   \n",
       "\n",
       "         25        26        27        28        29  0   \n",
       "0 -0.005625 -0.023161  0.123573  0.050644  0.040440   1  \n",
       "1  0.005932 -0.109091 -0.027823 -0.005325 -0.000637   5  \n",
       "2  0.014260  0.089124 -0.017704  0.155972 -0.052945   2  \n",
       "3  0.133389  0.101558  0.085626  0.037053  0.063623   6  \n",
       "4  0.035643  0.010332 -0.039741 -0.011455  0.027968   3  \n",
       "\n",
       "[5 rows x 31 columns]"
      ]
     },
     "execution_count": 15,
     "metadata": {},
     "output_type": "execute_result"
    }
   ],
   "source": [
    "pca_final.head()"
   ]
  },
  {
   "cell_type": "markdown",
   "id": "7793a70c-2945-4262-a2be-3660cd158cf5",
   "metadata": {},
   "source": [
    "### PCA - Original Model\n",
    "Building a model with no parameter tuning and using the PCA data"
   ]
  },
  {
   "cell_type": "code",
   "execution_count": 17,
   "id": "f4b1db81",
   "metadata": {},
   "outputs": [],
   "source": [
    "model_pca = xgb.XGBClassifier()\n",
    "model_pca.fit(pca_final.iloc[:,:30],pca_final.iloc[:,30])\n",
    "pcaTrainxgb = model_pca.predict(pca_data)\n",
    "pcaTestxgb = model_pca.predict(pca_data_test)"
   ]
  },
  {
   "cell_type": "code",
   "execution_count": 18,
   "id": "7f28b6d2",
   "metadata": {},
   "outputs": [],
   "source": [
    "pcatestxgb_score =  accuracy_score(y_test, pcaTestxgb)\n",
    "pcaxgb_score = accuracy_score(y_dev, pcaTrainxgb)"
   ]
  },
  {
   "cell_type": "code",
   "execution_count": 19,
   "id": "3c0cf3a6",
   "metadata": {},
   "outputs": [
    {
     "name": "stdout",
     "output_type": "stream",
     "text": [
      "Classification Score for XGB Classifier on Train dataset:\n",
      "\n",
      "Train Score :  0.9988888888888889\n",
      "--------------------------------------------------------\n",
      "Classification Score for XGB Classifier on Test dataset:\n",
      "\n",
      "Test Score : 0.7\n"
     ]
    }
   ],
   "source": [
    "print(\"Classification Score for XGB Classifier on Train dataset:\\n\")\n",
    "print(\"Train Score : \", pcaxgb_score)\n",
    "print(\"--------------------------------------------------------\")\n",
    "print(\"Classification Score for XGB Classifier on Test dataset:\\n\")\n",
    "print(\"Test Score :\", pcatestxgb_score)"
   ]
  },
  {
   "cell_type": "code",
   "execution_count": 20,
   "id": "efa40f55",
   "metadata": {},
   "outputs": [
    {
     "data": {
      "image/png": "[encoded data removed]",
      "text/plain": [
       "<Figure size 1080x432 with 2 Axes>"
      ]
     },
     "metadata": {},
     "output_type": "display_data"
    },
    {
     "name": "stdout",
     "output_type": "stream",
     "text": [
      "Accuracy : 0.70\n",
      "Macro F-1 Score : 0.69\n"
     ]
    }
   ],
   "source": [
    "# Evaluate Model\n",
    "class_labels = list(model_xgb.classes_)\n",
    "macro_f1, accuracy = evaluate_model(pcaTestxgb, y_test, class_labels,\n",
    "                                    'Confustion Matrix: PCA - Untuned 3 seconds XGB Classifier')\n",
    "print('Accuracy : %.2f'%accuracy)\n",
    "print('Macro F-1 Score : %.2f'%macro_f1)"
   ]
  },
  {
   "cell_type": "markdown",
   "id": "abbdcf85",
   "metadata": {},
   "source": [
    "### PCA - Tuned Model\n",
    "Building a model with hyperparameters tuning using 5-fold cross validation with GridSearchCV and the PCA data"
   ]
  },
  {
   "cell_type": "code",
   "execution_count": 21,
   "id": "a4a2e80a",
   "metadata": {},
   "outputs": [
    {
     "data": {
      "text/html": [
       "<div>\n",
       "<style scoped>\n",
       "    .dataframe tbody tr th:only-of-type {\n",
       "        vertical-align: middle;\n",
       "    }\n",
       "\n",
       "    .dataframe tbody tr th {\n",
       "        vertical-align: top;\n",
       "    }\n",
       "\n",
       "    .dataframe thead th {\n",
       "        text-align: right;\n",
       "    }\n",
       "</style>\n",
       "<table border=\"1\" class=\"dataframe\">\n",
       "  <thead>\n",
       "    <tr style=\"text-align: right;\">\n",
       "      <th></th>\n",
       "      <th>0</th>\n",
       "      <th>1</th>\n",
       "      <th>2</th>\n",
       "      <th>3</th>\n",
       "      <th>4</th>\n",
       "      <th>5</th>\n",
       "      <th>6</th>\n",
       "      <th>7</th>\n",
       "      <th>8</th>\n",
       "      <th>9</th>\n",
       "      <th>...</th>\n",
       "      <th>20</th>\n",
       "      <th>21</th>\n",
       "      <th>22</th>\n",
       "      <th>23</th>\n",
       "      <th>24</th>\n",
       "      <th>25</th>\n",
       "      <th>26</th>\n",
       "      <th>27</th>\n",
       "      <th>28</th>\n",
       "      <th>29</th>\n",
       "    </tr>\n",
       "  </thead>\n",
       "  <tbody>\n",
       "    <tr>\n",
       "      <th>0</th>\n",
       "      <td>0.000578</td>\n",
       "      <td>-0.630373</td>\n",
       "      <td>-0.054837</td>\n",
       "      <td>0.410234</td>\n",
       "      <td>0.009388</td>\n",
       "      <td>0.027373</td>\n",
       "      <td>-0.032695</td>\n",
       "      <td>-0.147324</td>\n",
       "      <td>0.031383</td>\n",
       "      <td>0.111815</td>\n",
       "      <td>...</td>\n",
       "      <td>-0.184972</td>\n",
       "      <td>0.075295</td>\n",
       "      <td>0.101904</td>\n",
       "      <td>-0.079630</td>\n",
       "      <td>0.038325</td>\n",
       "      <td>-0.005625</td>\n",
       "      <td>-0.023161</td>\n",
       "      <td>0.123573</td>\n",
       "      <td>0.050644</td>\n",
       "      <td>0.040440</td>\n",
       "    </tr>\n",
       "    <tr>\n",
       "      <th>1</th>\n",
       "      <td>0.071451</td>\n",
       "      <td>-0.402465</td>\n",
       "      <td>-0.106785</td>\n",
       "      <td>0.332658</td>\n",
       "      <td>-0.060422</td>\n",
       "      <td>0.226589</td>\n",
       "      <td>0.122804</td>\n",
       "      <td>-0.066845</td>\n",
       "      <td>0.069261</td>\n",
       "      <td>-0.088956</td>\n",
       "      <td>...</td>\n",
       "      <td>0.120254</td>\n",
       "      <td>0.119867</td>\n",
       "      <td>0.093887</td>\n",
       "      <td>-0.016989</td>\n",
       "      <td>0.094375</td>\n",
       "      <td>0.005932</td>\n",
       "      <td>-0.109091</td>\n",
       "      <td>-0.027823</td>\n",
       "      <td>-0.005325</td>\n",
       "      <td>-0.000637</td>\n",
       "    </tr>\n",
       "    <tr>\n",
       "      <th>2</th>\n",
       "      <td>-0.047268</td>\n",
       "      <td>0.326820</td>\n",
       "      <td>-0.598692</td>\n",
       "      <td>0.227380</td>\n",
       "      <td>0.045610</td>\n",
       "      <td>0.264122</td>\n",
       "      <td>-0.077907</td>\n",
       "      <td>0.063582</td>\n",
       "      <td>-0.168402</td>\n",
       "      <td>0.038901</td>\n",
       "      <td>...</td>\n",
       "      <td>-0.009466</td>\n",
       "      <td>-0.088282</td>\n",
       "      <td>0.044337</td>\n",
       "      <td>-0.057231</td>\n",
       "      <td>-0.028725</td>\n",
       "      <td>0.014260</td>\n",
       "      <td>0.089124</td>\n",
       "      <td>-0.017704</td>\n",
       "      <td>0.155972</td>\n",
       "      <td>-0.052945</td>\n",
       "    </tr>\n",
       "    <tr>\n",
       "      <th>3</th>\n",
       "      <td>-0.437642</td>\n",
       "      <td>0.235405</td>\n",
       "      <td>-0.003960</td>\n",
       "      <td>0.029110</td>\n",
       "      <td>-0.170677</td>\n",
       "      <td>-0.094826</td>\n",
       "      <td>-0.142893</td>\n",
       "      <td>0.105725</td>\n",
       "      <td>0.099782</td>\n",
       "      <td>-0.181444</td>\n",
       "      <td>...</td>\n",
       "      <td>-0.128302</td>\n",
       "      <td>0.021662</td>\n",
       "      <td>-0.012732</td>\n",
       "      <td>0.027941</td>\n",
       "      <td>0.054251</td>\n",
       "      <td>0.133389</td>\n",
       "      <td>0.101558</td>\n",
       "      <td>0.085626</td>\n",
       "      <td>0.037053</td>\n",
       "      <td>0.063623</td>\n",
       "    </tr>\n",
       "    <tr>\n",
       "      <th>4</th>\n",
       "      <td>-0.849344</td>\n",
       "      <td>0.103658</td>\n",
       "      <td>-0.048105</td>\n",
       "      <td>-0.018132</td>\n",
       "      <td>-0.023246</td>\n",
       "      <td>-0.159359</td>\n",
       "      <td>0.035769</td>\n",
       "      <td>-0.071887</td>\n",
       "      <td>0.111837</td>\n",
       "      <td>0.102878</td>\n",
       "      <td>...</td>\n",
       "      <td>-0.060426</td>\n",
       "      <td>0.040284</td>\n",
       "      <td>-0.009411</td>\n",
       "      <td>0.015145</td>\n",
       "      <td>-0.028521</td>\n",
       "      <td>0.035643</td>\n",
       "      <td>0.010332</td>\n",
       "      <td>-0.039741</td>\n",
       "      <td>-0.011455</td>\n",
       "      <td>0.027968</td>\n",
       "    </tr>\n",
       "    <tr>\n",
       "      <th>...</th>\n",
       "      <td>...</td>\n",
       "      <td>...</td>\n",
       "      <td>...</td>\n",
       "      <td>...</td>\n",
       "      <td>...</td>\n",
       "      <td>...</td>\n",
       "      <td>...</td>\n",
       "      <td>...</td>\n",
       "      <td>...</td>\n",
       "      <td>...</td>\n",
       "      <td>...</td>\n",
       "      <td>...</td>\n",
       "      <td>...</td>\n",
       "      <td>...</td>\n",
       "      <td>...</td>\n",
       "      <td>...</td>\n",
       "      <td>...</td>\n",
       "      <td>...</td>\n",
       "      <td>...</td>\n",
       "      <td>...</td>\n",
       "      <td>...</td>\n",
       "    </tr>\n",
       "    <tr>\n",
       "      <th>895</th>\n",
       "      <td>-0.654431</td>\n",
       "      <td>0.218151</td>\n",
       "      <td>0.332880</td>\n",
       "      <td>0.090825</td>\n",
       "      <td>0.133881</td>\n",
       "      <td>-0.215551</td>\n",
       "      <td>0.054108</td>\n",
       "      <td>0.024745</td>\n",
       "      <td>0.233059</td>\n",
       "      <td>-0.024797</td>\n",
       "      <td>...</td>\n",
       "      <td>0.275546</td>\n",
       "      <td>-0.019639</td>\n",
       "      <td>0.087913</td>\n",
       "      <td>-0.033654</td>\n",
       "      <td>-0.051491</td>\n",
       "      <td>-0.004113</td>\n",
       "      <td>-0.085775</td>\n",
       "      <td>-0.009351</td>\n",
       "      <td>0.001644</td>\n",
       "      <td>0.009984</td>\n",
       "    </tr>\n",
       "    <tr>\n",
       "      <th>896</th>\n",
       "      <td>0.515280</td>\n",
       "      <td>-0.634698</td>\n",
       "      <td>0.082394</td>\n",
       "      <td>0.485203</td>\n",
       "      <td>-0.101831</td>\n",
       "      <td>-0.139826</td>\n",
       "      <td>-0.145431</td>\n",
       "      <td>0.177575</td>\n",
       "      <td>0.022340</td>\n",
       "      <td>0.179411</td>\n",
       "      <td>...</td>\n",
       "      <td>0.033668</td>\n",
       "      <td>-0.014332</td>\n",
       "      <td>-0.008044</td>\n",
       "      <td>-0.115285</td>\n",
       "      <td>-0.062241</td>\n",
       "      <td>-0.186112</td>\n",
       "      <td>-0.010565</td>\n",
       "      <td>-0.001451</td>\n",
       "      <td>-0.046455</td>\n",
       "      <td>-0.043470</td>\n",
       "    </tr>\n",
       "    <tr>\n",
       "      <th>897</th>\n",
       "      <td>0.976786</td>\n",
       "      <td>0.902560</td>\n",
       "      <td>0.595924</td>\n",
       "      <td>0.289104</td>\n",
       "      <td>0.483065</td>\n",
       "      <td>0.202643</td>\n",
       "      <td>0.115369</td>\n",
       "      <td>0.003243</td>\n",
       "      <td>-0.108632</td>\n",
       "      <td>-0.320623</td>\n",
       "      <td>...</td>\n",
       "      <td>0.043810</td>\n",
       "      <td>0.006368</td>\n",
       "      <td>-0.010530</td>\n",
       "      <td>-0.013404</td>\n",
       "      <td>-0.031235</td>\n",
       "      <td>-0.125648</td>\n",
       "      <td>-0.037582</td>\n",
       "      <td>0.001719</td>\n",
       "      <td>0.072139</td>\n",
       "      <td>0.048700</td>\n",
       "    </tr>\n",
       "    <tr>\n",
       "      <th>898</th>\n",
       "      <td>0.124804</td>\n",
       "      <td>0.297352</td>\n",
       "      <td>-0.452053</td>\n",
       "      <td>-0.032074</td>\n",
       "      <td>0.037626</td>\n",
       "      <td>0.157138</td>\n",
       "      <td>-0.016185</td>\n",
       "      <td>-0.012221</td>\n",
       "      <td>-0.084171</td>\n",
       "      <td>0.132887</td>\n",
       "      <td>...</td>\n",
       "      <td>0.118379</td>\n",
       "      <td>-0.044831</td>\n",
       "      <td>0.004093</td>\n",
       "      <td>0.034133</td>\n",
       "      <td>0.039145</td>\n",
       "      <td>-0.124853</td>\n",
       "      <td>0.085674</td>\n",
       "      <td>0.039134</td>\n",
       "      <td>0.034006</td>\n",
       "      <td>-0.082801</td>\n",
       "    </tr>\n",
       "    <tr>\n",
       "      <th>899</th>\n",
       "      <td>0.450970</td>\n",
       "      <td>0.022880</td>\n",
       "      <td>-0.401623</td>\n",
       "      <td>0.147816</td>\n",
       "      <td>-0.331352</td>\n",
       "      <td>0.127981</td>\n",
       "      <td>-0.007133</td>\n",
       "      <td>-0.183303</td>\n",
       "      <td>0.021890</td>\n",
       "      <td>0.023204</td>\n",
       "      <td>...</td>\n",
       "      <td>-0.063173</td>\n",
       "      <td>0.026980</td>\n",
       "      <td>0.056890</td>\n",
       "      <td>0.060693</td>\n",
       "      <td>0.062945</td>\n",
       "      <td>-0.040818</td>\n",
       "      <td>-0.047643</td>\n",
       "      <td>-0.063241</td>\n",
       "      <td>0.017863</td>\n",
       "      <td>0.036614</td>\n",
       "    </tr>\n",
       "  </tbody>\n",
       "</table>\n",
       "<p>900 rows × 30 columns</p>\n",
       "</div>"
      ],
      "text/plain": [
       "           0         1         2         3         4         5         6   \\\n",
       "0    0.000578 -0.630373 -0.054837  0.410234  0.009388  0.027373 -0.032695   \n",
       "1    0.071451 -0.402465 -0.106785  0.332658 -0.060422  0.226589  0.122804   \n",
       "2   -0.047268  0.326820 -0.598692  0.227380  0.045610  0.264122 -0.077907   \n",
       "3   -0.437642  0.235405 -0.003960  0.029110 -0.170677 -0.094826 -0.142893   \n",
       "4   -0.849344  0.103658 -0.048105 -0.018132 -0.023246 -0.159359  0.035769   \n",
       "..        ...       ...       ...       ...       ...       ...       ...   \n",
       "895 -0.654431  0.218151  0.332880  0.090825  0.133881 -0.215551  0.054108   \n",
       "896  0.515280 -0.634698  0.082394  0.485203 -0.101831 -0.139826 -0.145431   \n",
       "897  0.976786  0.902560  0.595924  0.289104  0.483065  0.202643  0.115369   \n",
       "898  0.124804  0.297352 -0.452053 -0.032074  0.037626  0.157138 -0.016185   \n",
       "899  0.450970  0.022880 -0.401623  0.147816 -0.331352  0.127981 -0.007133   \n",
       "\n",
       "           7         8         9   ...        20        21        22  \\\n",
       "0   -0.147324  0.031383  0.111815  ... -0.184972  0.075295  0.101904   \n",
       "1   -0.066845  0.069261 -0.088956  ...  0.120254  0.119867  0.093887   \n",
       "2    0.063582 -0.168402  0.038901  ... -0.009466 -0.088282  0.044337   \n",
       "3    0.105725  0.099782 -0.181444  ... -0.128302  0.021662 -0.012732   \n",
       "4   -0.071887  0.111837  0.102878  ... -0.060426  0.040284 -0.009411   \n",
       "..        ...       ...       ...  ...       ...       ...       ...   \n",
       "895  0.024745  0.233059 -0.024797  ...  0.275546 -0.019639  0.087913   \n",
       "896  0.177575  0.022340  0.179411  ...  0.033668 -0.014332 -0.008044   \n",
       "897  0.003243 -0.108632 -0.320623  ...  0.043810  0.006368 -0.010530   \n",
       "898 -0.012221 -0.084171  0.132887  ...  0.118379 -0.044831  0.004093   \n",
       "899 -0.183303  0.021890  0.023204  ... -0.063173  0.026980  0.056890   \n",
       "\n",
       "           23        24        25        26        27        28        29  \n",
       "0   -0.079630  0.038325 -0.005625 -0.023161  0.123573  0.050644  0.040440  \n",
       "1   -0.016989  0.094375  0.005932 -0.109091 -0.027823 -0.005325 -0.000637  \n",
       "2   -0.057231 -0.028725  0.014260  0.089124 -0.017704  0.155972 -0.052945  \n",
       "3    0.027941  0.054251  0.133389  0.101558  0.085626  0.037053  0.063623  \n",
       "4    0.015145 -0.028521  0.035643  0.010332 -0.039741 -0.011455  0.027968  \n",
       "..        ...       ...       ...       ...       ...       ...       ...  \n",
       "895 -0.033654 -0.051491 -0.004113 -0.085775 -0.009351  0.001644  0.009984  \n",
       "896 -0.115285 -0.062241 -0.186112 -0.010565 -0.001451 -0.046455 -0.043470  \n",
       "897 -0.013404 -0.031235 -0.125648 -0.037582  0.001719  0.072139  0.048700  \n",
       "898  0.034133  0.039145 -0.124853  0.085674  0.039134  0.034006 -0.082801  \n",
       "899  0.060693  0.062945 -0.040818 -0.047643 -0.063241  0.017863  0.036614  \n",
       "\n",
       "[900 rows x 30 columns]"
      ]
     },
     "execution_count": 21,
     "metadata": {},
     "output_type": "execute_result"
    }
   ],
   "source": [
    "pca_final.iloc[:,:30]"
   ]
  },
  {
   "cell_type": "code",
   "execution_count": 22,
   "id": "2d7297c1",
   "metadata": {},
   "outputs": [],
   "source": [
    "model_pca_tuned = tune_xgb\n",
    "model_pca_tuned.fit(pca_final.iloc[:,:30],pca_final.iloc[:,30])\n",
    "pcaTrainxgb_tuned = model_pca_tuned.predict(pca_data)\n",
    "pcaTestxgb_tuned = model_pca_tuned.predict(pca_data_test)"
   ]
  },
  {
   "cell_type": "code",
   "execution_count": 23,
   "id": "10717858",
   "metadata": {},
   "outputs": [],
   "source": [
    "pcatestxgb_score =  accuracy_score(y_test, pcaTestxgb_tuned)\n",
    "pcaxgb_score = accuracy_score(y_dev, pcaTrainxgb_tuned)"
   ]
  },
  {
   "cell_type": "code",
   "execution_count": 24,
   "id": "648af0d4",
   "metadata": {},
   "outputs": [
    {
     "name": "stdout",
     "output_type": "stream",
     "text": [
      "Classification Score for XGB Classifier on Train dataset:\n",
      "\n",
      "Train Score :  0.9988888888888889\n",
      "--------------------------------------------------------\n",
      "Classification Score for XGB Classifier on Test dataset:\n",
      "\n",
      "Test Score : 0.65\n"
     ]
    }
   ],
   "source": [
    "print(\"Classification Score for XGB Classifier on Train dataset:\\n\")\n",
    "print(\"Train Score : \", pcaxgb_score)\n",
    "print(\"--------------------------------------------------------\")\n",
    "print(\"Classification Score for XGB Classifier on Test dataset:\\n\")\n",
    "print(\"Test Score :\", pcatestxgb_score)"
   ]
  },
  {
   "cell_type": "code",
   "execution_count": 26,
   "id": "35ad5f21",
   "metadata": {},
   "outputs": [
    {
     "data": {
      "image/png": "[encoded data removed]",
      "text/plain": [
       "<Figure size 1080x432 with 2 Axes>"
      ]
     },
     "metadata": {},
     "output_type": "display_data"
    },
    {
     "name": "stdout",
     "output_type": "stream",
     "text": [
      "Accuracy : 0.65\n",
      "Macro F-1 Score : 0.64\n"
     ]
    }
   ],
   "source": [
    "# Evaluate Model\n",
    "class_labels = list(model_xgb.classes_)\n",
    "macro_f1, accuracy = evaluate_model(pcaTestxgb_tuned, y_test, class_labels,\n",
    "                                    'Confustion Matrix: PCA - Tuned 3 seconds XGB Classifier')\n",
    "print('Accuracy : %.2f'%accuracy)\n",
    "print('Macro F-1 Score : %.2f'%macro_f1)"
   ]
  },
  {
   "cell_type": "code",
   "execution_count": null,
   "id": "9d94c790-c815-47d3-80f1-21eb015d90af",
   "metadata": {},
   "outputs": [],
   "source": []
  }
 ],
 "metadata": {
  "kernelspec": {
   "display_name": "Python 3",
   "language": "python",
   "name": "python3"
  },
  "language_info": {
   "codemirror_mode": {
    "name": "ipython",
    "version": 3
   },
   "file_extension": ".py",
   "mimetype": "text/x-python",
   "name": "python",
   "nbconvert_exporter": "python",
   "pygments_lexer": "ipython3",
   "version": "3.8.13"
  }
 },
 "nbformat": 4,
 "nbformat_minor": 5
}
