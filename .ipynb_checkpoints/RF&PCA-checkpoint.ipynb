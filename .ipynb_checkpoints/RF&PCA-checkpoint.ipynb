{
 "cells": [
  {
   "cell_type": "code",
   "execution_count": 2,
   "id": "4479bc3b",
   "metadata": {},
   "outputs": [],
   "source": [
    "from utils import *\n",
    "from sklearn.decomposition import PCA\n",
    "from sklearn.ensemble import RandomForestClassifier"
   ]
  },
  {
   "cell_type": "code",
   "execution_count": null,
   "id": "7d19a5f6",
   "metadata": {},
   "outputs": [],
   "source": [
    "model_rf = RandomForestClassifier(max_depth=2,n_estimators=200)\n",
    "model_rf.fit(X_train, y_train)\n",
    "predsTrainrf = model_rf.predict(X_train)\n",
    "predsTestrf = model_rf.predict(X_test)"
   ]
  },
  {
   "cell_type": "code",
   "execution_count": null,
   "id": "673147d8",
   "metadata": {},
   "outputs": [],
   "source": [
    "testrf_score =  accuracy_score(y_test, predsTestrf)\n",
    "trainrf_score = accuracy_score(y_train, predsTrainrf)"
   ]
  },
  {
   "cell_type": "code",
   "execution_count": null,
   "id": "85e97a6c",
   "metadata": {},
   "outputs": [],
   "source": [
    "print(\"Classification Score for Random Forest on Train dataset:\\n\")\n",
    "print(\"Train Score : \", trainrf_score)\n",
    "print(\"--------------------------------------------------------\")\n",
    "print(\"Classification Score for Random Forest on Test dataset:\\n\")\n",
    "print(\"Test Score :\", testrf_score)"
   ]
  },
  {
   "cell_type": "code",
   "execution_count": null,
   "id": "115792b0",
   "metadata": {},
   "outputs": [],
   "source": [
    "# Principal Component Analysis \n",
    "### cite : https://machinelearningmastery.com/calculate-principal-component-analysis-scratch-python/\n",
    "\n",
    "# create the PCA instance\n",
    "pca = PCA(n_components=28)\n",
    "# fit on data\n",
    "pca_data = pca.fit_transform(X_train)\n",
    "pca_data_test = pca.transform(X_test)\n",
    "pca_data_dev = pca.transform(X_dev)\n",
    "PCA_df= pd.DataFrame(data=pca_data)\n",
    "y_train.index = PCA_df.index\n",
    "pca_final=pd.concat([PCA_df,y_train], axis = 1)\n",
    "# access values\n",
    "print(pca.explained_variance_)\n",
    "print(sum(pca.explained_variance_ratio_))"
   ]
  },
  {
   "cell_type": "code",
   "execution_count": null,
   "id": "84929aec",
   "metadata": {},
   "outputs": [],
   "source": [
    "pca_final.head()"
   ]
  },
  {
   "cell_type": "code",
   "execution_count": null,
   "id": "b748e53a",
   "metadata": {},
   "outputs": [],
   "source": [
    "# from sklearn.preprocessing import OrdinalEncoder\n",
    "# encoder  = OrdinalEncoder()\n",
    "# encoder.fit(pca_final.iloc[:,10].reshape(-1, 1))\n",
    "# y_train_encoded = encoder.transform(pca_final.iloc[:,10])"
   ]
  },
  {
   "cell_type": "code",
   "execution_count": null,
   "id": "3626d7b6",
   "metadata": {},
   "outputs": [],
   "source": [
    "model_pca = RandomForestClassifier(max_depth=2,n_estimators=1000)\n",
    "model_pca.fit(pca_final.iloc[:,:28],pca_final.iloc[:,28])\n",
    "pcaTrainrf = model_pca.predict(pca_data)\n",
    "pcaTestrf = model_pca.predict(pca_data_test)"
   ]
  },
  {
   "cell_type": "code",
   "execution_count": null,
   "id": "061accda",
   "metadata": {},
   "outputs": [],
   "source": [
    "pcatestrf_score =  accuracy_score(y_test, pcaTestrf)\n",
    "pcarf_score = accuracy_score(y_train, pcaTrainrf)"
   ]
  },
  {
   "cell_type": "code",
   "execution_count": null,
   "id": "cd7fc8ec",
   "metadata": {},
   "outputs": [],
   "source": [
    "print(\"Classification Score for Random Forest on Train dataset:\\n\")\n",
    "print(\"Train Score : \", pcarf_score)\n",
    "print(\"--------------------------------------------------------\")\n",
    "print(\"Classification Score for Random Forest on Test dataset:\\n\")\n",
    "print(\"Test Score :\", pcatestrf_score)"
   ]
  }
 ],
 "metadata": {
  "kernelspec": {
   "display_name": "Python 3 (ipykernel)",
   "language": "python",
   "name": "python3"
  },
  "language_info": {
   "codemirror_mode": {
    "name": "ipython",
    "version": 3
   },
   "file_extension": ".py",
   "mimetype": "text/x-python",
   "name": "python",
   "nbconvert_exporter": "python",
   "pygments_lexer": "ipython3",
   "version": "3.9.7"
  }
 },
 "nbformat": 4,
 "nbformat_minor": 5
}
