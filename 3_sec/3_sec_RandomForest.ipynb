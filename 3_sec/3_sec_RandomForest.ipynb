{
 "cells": [
  {
   "cell_type": "code",
   "execution_count": 1,
   "id": "ffa7b670",
   "metadata": {},
   "outputs": [],
   "source": [
    "from utils import *\n",
    "from sklearn.decomposition import PCA\n",
    "from sklearn.ensemble import RandomForestClassifier\n",
    "from sklearn.model_selection import GridSearchCV\n",
    "import random\n",
    "\n",
    "import warnings\n",
    "warnings.filterwarnings('ignore')"
   ]
  },
  {
   "cell_type": "code",
   "execution_count": 2,
   "id": "8753c6dd-b317-4710-98ea-993a105c1641",
   "metadata": {},
   "outputs": [],
   "source": [
    "data = pd.read_csv('data/features_3_sec.csv')"
   ]
  },
  {
   "cell_type": "code",
   "execution_count": 3,
   "id": "192b05f5-31d4-4350-a85d-bf391f3237a5",
   "metadata": {},
   "outputs": [],
   "source": [
    "# Identify Features and Target Label\n",
    "y = data['label']\n",
    "X = data.drop(columns = ['label','filename','length'])\n"
   ]
  },
  {
   "cell_type": "code",
   "execution_count": 4,
   "id": "e3d204f2",
   "metadata": {},
   "outputs": [
    {
     "name": "stdout",
     "output_type": "stream",
     "text": [
      "X_dev shape: (7992, 57)\n",
      "X_test shape: (1998, 57)\n"
     ]
    }
   ],
   "source": [
    "# Scaling and Data Spiltting  \n",
    "X = standardize(X)\n",
    "X_dev, y_dev, X_test, y_test = split(X, y)\n"
   ]
  },
  {
   "cell_type": "markdown",
   "id": "4d9caabe-d2df-40e4-9914-bc6c420e95cd",
   "metadata": {},
   "source": [
    "### Original Model\n",
    "Building a model with no parameter tuning and using the raw csv file"
   ]
  },
  {
   "cell_type": "code",
   "execution_count": 5,
   "id": "4603e557",
   "metadata": {},
   "outputs": [],
   "source": [
    "model_rf = RandomForestClassifier()\n",
    "model_rf.fit(X_dev, y_dev)\n",
    "predsDevrf = model_rf.predict(X_dev)\n",
    "predsTestrf = model_rf.predict(X_test)"
   ]
  },
  {
   "cell_type": "code",
   "execution_count": 6,
   "id": "798fd0c7",
   "metadata": {},
   "outputs": [],
   "source": [
    "testrf_score =  accuracy_score(y_test, predsTestrf)\n",
    "devrf_score = accuracy_score(y_dev, predsDevrf)"
   ]
  },
  {
   "cell_type": "code",
   "execution_count": 7,
   "id": "2cecfff5",
   "metadata": {},
   "outputs": [
    {
     "name": "stdout",
     "output_type": "stream",
     "text": [
      "Classification Score for Random Forest on Dev dataset:\n",
      "\n",
      "Dev Score :  0.9991241241241241\n",
      "              precision    recall  f1-score   support\n",
      "\n",
      "       blues       1.00      1.00      1.00       808\n",
      "   classical       1.00      1.00      1.00       811\n",
      "     country       1.00      1.00      1.00       786\n",
      "       disco       1.00      1.00      1.00       792\n",
      "      hiphop       1.00      1.00      1.00       797\n",
      "        jazz       1.00      1.00      1.00       777\n",
      "       metal       0.99      1.00      1.00       813\n",
      "         pop       1.00      1.00      1.00       796\n",
      "      reggae       1.00      1.00      1.00       817\n",
      "        rock       1.00      0.99      1.00       795\n",
      "\n",
      "    accuracy                           1.00      7992\n",
      "   macro avg       1.00      1.00      1.00      7992\n",
      "weighted avg       1.00      1.00      1.00      7992\n",
      "\n",
      "--------------------------------------------------------\n",
      "Classification Score for Random Forest on Test dataset:\n",
      "\n",
      "Test Score : 0.8663663663663663\n",
      "              precision    recall  f1-score   support\n",
      "\n",
      "       blues       0.84      0.87      0.85       192\n",
      "   classical       0.88      0.98      0.93       187\n",
      "     country       0.76      0.86      0.81       211\n",
      "       disco       0.89      0.82      0.85       207\n",
      "      hiphop       0.93      0.85      0.89       201\n",
      "        jazz       0.90      0.88      0.89       223\n",
      "       metal       0.86      0.95      0.91       187\n",
      "         pop       0.88      0.92      0.90       204\n",
      "      reggae       0.85      0.85      0.85       183\n",
      "        rock       0.89      0.70      0.79       203\n",
      "\n",
      "    accuracy                           0.87      1998\n",
      "   macro avg       0.87      0.87      0.87      1998\n",
      "weighted avg       0.87      0.87      0.87      1998\n",
      "\n"
     ]
    }
   ],
   "source": [
    "print(\"Classification Score for Random Forest on Dev dataset:\\n\")\n",
    "print(\"Dev Score : \", devrf_score)\n",
    "print(classification_report(y_dev, predsDevrf))\n",
    "print(\"--------------------------------------------------------\")\n",
    "print(\"Classification Score for Random Forest on Test dataset:\\n\")\n",
    "print(\"Test Score :\", testrf_score)\n",
    "print(classification_report(y_test, predsTestrf))"
   ]
  },
  {
   "cell_type": "code",
   "execution_count": 8,
   "id": "e1883907",
   "metadata": {},
   "outputs": [
    {
     "data": {
      "image/png": "[encoded data removed]",
      "text/plain": [
       "<Figure size 1080x432 with 2 Axes>"
      ]
     },
     "metadata": {},
     "output_type": "display_data"
    },
    {
     "name": "stdout",
     "output_type": "stream",
     "text": [
      "Accuracy : 0.87\n",
      "Macro F-1 Score : 0.87\n"
     ]
    }
   ],
   "source": [
    "# Evaluate Model on Test set\n",
    "class_labels = list(model_rf.classes_)\n",
    "macro_f1, accuracy = evaluate_model(predsTestrf, y_test, class_labels, 'Confustion matrix: Untuned 3 seconds Random Forest Model')\n",
    "print('Accuracy : %.2f'%accuracy)\n",
    "print('Macro F-1 Score : %.2f'%macro_f1)"
   ]
  },
  {
   "cell_type": "markdown",
   "id": "94955db3",
   "metadata": {},
   "source": [
    "### Tuned Model\n",
    "Building a model with hyperparameters tuning using 5-fold cross validation with GridSearchCV and the raw csv file"
   ]
  },
  {
   "cell_type": "code",
   "execution_count": 9,
   "id": "3fef49f4",
   "metadata": {},
   "outputs": [
    {
     "name": "stdout",
     "output_type": "stream",
     "text": [
      "{'min_samples_split': array([ 10,  32,  55,  77, 100]), 'n_estimators': array([ 50,  87, 125, 162, 200]), 'bootstrap': [True]}\n"
     ]
    }
   ],
   "source": [
    "\n",
    "parameters = {'min_samples_split': np.linspace(10,100,5,dtype=int),\n",
    "              'n_estimators': np.linspace(50,200,5,dtype=int),\n",
    "             'bootstrap': [True]}\n",
    "\n",
    "print(parameters)"
   ]
  },
  {
   "cell_type": "code",
   "execution_count": null,
   "id": "88dfebb1",
   "metadata": {},
   "outputs": [],
   "source": [
    "tune_rf = GridSearchCV(estimator = model_rf, param_grid = parameters, cv = 5)\n",
    "tune_rf.fit(X_dev, y_dev)"
   ]
  },
  {
   "cell_type": "code",
   "execution_count": null,
   "id": "787f731b",
   "metadata": {},
   "outputs": [],
   "source": [
    "print(\"Best Score :\", tune_rf.best_score_)\n",
    "print(\"Best Parameters :\",tune_rf.best_params_)"
   ]
  },
  {
   "cell_type": "code",
   "execution_count": null,
   "id": "a51d1aca",
   "metadata": {},
   "outputs": [],
   "source": [
    "predsDevrf_tuned = tune_rf.predict(X_dev)\n",
    "predsTestrf_tuned = tune_rf.predict(X_test)\n",
    "\n",
    "print(\"Score on Dev data for RF using GridSearchCV:\", accuracy_score(y_dev, predsDevrf_tuned))\n",
    "print(\"Score on Test data for RF using GridSearchCV:\",accuracy_score(y_test, predsTestrf_tuned))"
   ]
  },
  {
   "cell_type": "code",
   "execution_count": null,
   "id": "50894649-2cc6-4d52-8939-a4c1327e8baa",
   "metadata": {},
   "outputs": [],
   "source": [
    "# Evaluate Model on Test set\n",
    "class_labels = list(model_rf.classes_)\n",
    "macro_f1, accuracy = evaluate_model(predsTestrf_tuned, y_test, class_labels, 'Confustion matrix: Tuned 3 seconds Random Forest Model')\n",
    "print('Accuracy : %.2f'%accuracy)\n",
    "print('Macro F-1 Score : %.2f'%macro_f1)"
   ]
  },
  {
   "cell_type": "code",
   "execution_count": null,
   "id": "b136e881-dc6c-43bc-9102-77c46b9d0d39",
   "metadata": {},
   "outputs": [],
   "source": [
    "## Plot top 3 Important Features of tuned model"
   ]
  },
  {
   "cell_type": "code",
   "execution_count": null,
   "id": "35767731",
   "metadata": {},
   "outputs": [],
   "source": [
    "feature_imp_rf = tune_rf.best_estimator_.feature_importances_\n",
    "final_list_rf = zip(feature_imp_rf,X_dev.columns)\n",
    "res_rf = sorted(final_list_rf, key = lambda x: x[0])\n",
    "res_rf = res_rf[-3:]\n",
    "\n",
    "plt.bar(range(len(res_rf)),[val[0] for val in res_rf],align='center')\n",
    "plt.xticks(range(len(res_rf)),[val[1] for val in res_rf])\n",
    "plt.xticks(rotation=45)\n",
    "plt.xlabel('Features')\n",
    "plt.ylabel('Feature Importance')\n",
    "plt.show()"
   ]
  },
  {
   "cell_type": "markdown",
   "id": "833b2197",
   "metadata": {},
   "source": [
    "### Dimensionality reduction of data using PCA"
   ]
  },
  {
   "cell_type": "code",
   "execution_count": null,
   "id": "6553145b",
   "metadata": {},
   "outputs": [],
   "source": [
    "# Principal Component Analysis \n",
    "### cite : https://machinelearningmastery.com/calculate-principal-component-analysis-scratch-python/\n",
    "\n",
    "# create the PCA instance\n",
    "pca = PCA(n_components=30)\n",
    "# fit on data\n",
    "pca_data = pca.fit_transform(X_dev)\n",
    "pca_data_test = pca.transform(X_test)\n",
    "# pca_data_dev = pca.transform(X_dev)\n",
    "PCA_df= pd.DataFrame(data=pca_data)\n",
    "y_dev.index = PCA_df.index\n",
    "pca_final=pd.concat([PCA_df,y_dev], axis = 1)\n",
    "# access values\n",
    "print(\"Explained Variance of each component:\",pca.explained_variance_)\n",
    "print(\"Sum of Explained Variance:\", sum(pca.explained_variance_ratio_))"
   ]
  },
  {
   "cell_type": "code",
   "execution_count": null,
   "id": "24f6e702",
   "metadata": {},
   "outputs": [],
   "source": [
    "pca_final.head()"
   ]
  },
  {
   "cell_type": "code",
   "execution_count": null,
   "id": "5845fd7a",
   "metadata": {},
   "outputs": [],
   "source": [
    "# from sklearn.preprocessing import OrdinalEncoder\n",
    "# encoder  = OrdinalEncoder()\n",
    "# encoder.fit(pca_final.iloc[:,10].reshape(-1, 1))\n",
    "# y_train_encoded = encoder.transform(pca_final.iloc[:,10])"
   ]
  },
  {
   "cell_type": "markdown",
   "id": "7793a70c-2945-4262-a2be-3660cd158cf5",
   "metadata": {},
   "source": [
    "### PCA - Original Model\n",
    "Building a model with no parameter tuning and using the PCA data"
   ]
  },
  {
   "cell_type": "code",
   "execution_count": null,
   "id": "f4b1db81",
   "metadata": {},
   "outputs": [],
   "source": [
    "model_pca = RandomForestClassifier(max_depth=2, n_estimators=1000)\n",
    "model_pca.fit(pca_final.iloc[:,:30], pca_final.iloc[:,30])\n",
    "pcaTrainrf = model_pca.predict(pca_data)\n",
    "pcaTestrf = model_pca.predict(pca_data_test)"
   ]
  },
  {
   "cell_type": "code",
   "execution_count": null,
   "id": "7f28b6d2",
   "metadata": {},
   "outputs": [],
   "source": [
    "pcatestrf_score =  accuracy_score(y_test, pcaTestrf)\n",
    "pcarf_score = accuracy_score(y_dev, pcaTrainrf)"
   ]
  },
  {
   "cell_type": "code",
   "execution_count": null,
   "id": "3c0cf3a6",
   "metadata": {},
   "outputs": [],
   "source": [
    "print(\"Classification Score for Random Forest on Train dataset:\\n\")\n",
    "print(\"Train Score : \", pcarf_score)\n",
    "print(\"--------------------------------------------------------\")\n",
    "print(\"Classification Score for Random Forest on Test dataset:\\n\")\n",
    "print(\"Test Score :\", pcatestrf_score)"
   ]
  },
  {
   "cell_type": "code",
   "execution_count": null,
   "id": "efa40f55",
   "metadata": {},
   "outputs": [],
   "source": [
    "# Evaluate Model\n",
    "class_labels = list(model_rf.classes_)\n",
    "macro_f1, accuracy = evaluate_model(pcaTestrf, y_test, class_labels, 'Confustion Matrix: PCA - Untuned 3 seconds Random Forest Model')\n",
    "print('Accuracy : %.2f'%accuracy)\n",
    "print('Macro F-1 Score : %.2f'%macro_f1)"
   ]
  },
  {
   "cell_type": "markdown",
   "id": "abbdcf85",
   "metadata": {},
   "source": [
    "### PCA - Tuned Model\n",
    "Building a model with hyperparameters tuning using 5-fold cross validation with GridSearchCV and the PCA data"
   ]
  },
  {
   "cell_type": "code",
   "execution_count": null,
   "id": "a4a2e80a",
   "metadata": {},
   "outputs": [],
   "source": [
    "pca_final.iloc[:,:30]"
   ]
  },
  {
   "cell_type": "code",
   "execution_count": null,
   "id": "2d7297c1",
   "metadata": {},
   "outputs": [],
   "source": [
    "model_pca_tuned = tune_rf\n",
    "model_pca_tuned.fit(pca_final.iloc[:,:30], pca_final.iloc[:,30])\n",
    "pcaTrainrf_tuned = model_pca_tuned.predict(pca_data)\n",
    "pcaTestrf_tuned = model_pca_tuned.predict(pca_data_test)"
   ]
  },
  {
   "cell_type": "code",
   "execution_count": null,
   "id": "10717858",
   "metadata": {},
   "outputs": [],
   "source": [
    "pcatestrf_score =  accuracy_score(y_test, pcaTestrf)\n",
    "pcarf_score = accuracy_score(y_dev, pcaTrainrf)"
   ]
  },
  {
   "cell_type": "code",
   "execution_count": null,
   "id": "648af0d4",
   "metadata": {},
   "outputs": [],
   "source": [
    "print(\"Classification Score for Random Forest on Train dataset:\\n\")\n",
    "print(\"Train Score : \", pcarf_score)\n",
    "print(\"--------------------------------------------------------\")\n",
    "print(\"Classification Score for Random Forest on Test dataset:\\n\")\n",
    "print(\"Test Score :\", pcatestrf_score)"
   ]
  },
  {
   "cell_type": "code",
   "execution_count": null,
   "id": "35ad5f21",
   "metadata": {},
   "outputs": [],
   "source": [
    "# Evaluate Model\n",
    "class_labels = list(model_rf.classes_)\n",
    "macro_f1, accuracy = evaluate_model(pcaTestrf, y_test, class_labels, 'Confustion Matrix: PCA - Tuned 3 seconds Random Forest Model')\n",
    "print('Accuracy : %.2f'%accuracy)\n",
    "print('Macro F-1 Score : %.2f'%macro_f1)"
   ]
  },
  {
   "cell_type": "markdown",
   "id": "ba4a69ef",
   "metadata": {},
   "source": [
    "**Ans:** As we see due to the lesser number of data, PCA instead of helping in the improvement of the accuracy or the model learning by reducing the dimensions (\"the curse of dimensionality\"), makes the model worse. "
   ]
  }
 ],
 "metadata": {
  "kernelspec": {
   "display_name": "Python 3 (ipykernel)",
   "language": "python",
   "name": "python3"
  },
  "language_info": {
   "codemirror_mode": {
    "name": "ipython",
    "version": 3
   },
   "file_extension": ".py",
   "mimetype": "text/x-python",
   "name": "python",
   "nbconvert_exporter": "python",
   "pygments_lexer": "ipython3",
   "version": "3.9.7"
  }
 },
 "nbformat": 4,
 "nbformat_minor": 5
}
