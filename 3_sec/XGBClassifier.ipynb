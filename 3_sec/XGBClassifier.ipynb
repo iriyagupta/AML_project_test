{
 "cells": [
  {
   "cell_type": "code",
   "execution_count": 13,
   "id": "ffa7b670",
   "metadata": {},
   "outputs": [],
   "source": [
    "from utils import *\n",
    "from sklearn.decomposition import PCA\n",
    "import xgboost as xgb\n",
    "from sklearn.model_selection import GridSearchCV\n",
    "import random\n",
    "import warnings\n",
    "import time\n",
    "warnings.filterwarnings('ignore')"
   ]
  },
  {
   "cell_type": "code",
   "execution_count": 14,
   "metadata": {},
   "outputs": [],
   "source": [
    "%store -r data\n",
    "%store -r target"
   ]
  },
  {
   "cell_type": "code",
   "execution_count": 15,
   "id": "8753c6dd-b317-4710-98ea-993a105c1641",
   "metadata": {},
   "outputs": [],
   "source": [
    "from sklearn.preprocessing import LabelEncoder\n",
    "le = LabelEncoder()\n",
    "label = le.fit_transform(target)"
   ]
  },
  {
   "cell_type": "code",
   "execution_count": 16,
   "metadata": {},
   "outputs": [
    {
     "name": "stdout",
     "output_type": "stream",
     "text": [
      "X_train shape: (8091, 51)\n",
      "X_test shape: (999, 51)\n",
      "X_val shape: (900, 51)\n",
      "y_train shape: (8091,)\n",
      "y_test shape: (999,)\n",
      "y_val shape: (900,)\n"
     ]
    }
   ],
   "source": [
    "data = standardize(data)\n",
    "X_dev, y_dev, X_test, y_test, X_train, y_train, X_val, y_val = split(data,label)"
   ]
  },
  {
   "cell_type": "markdown",
   "id": "4d9caabe-d2df-40e4-9914-bc6c420e95cd",
   "metadata": {},
   "source": [
    "### Original Model\n",
    "Building a model with no parameter tuning and using the raw csv file"
   ]
  },
  {
   "cell_type": "code",
   "execution_count": 17,
   "id": "4603e557",
   "metadata": {},
   "outputs": [],
   "source": [
    "xgb_start_time = time.monotonic()\n",
    "model_xgb = xgb.XGBClassifier()\n",
    "model_xgb.fit(X_dev, y_dev)\n",
    "xgb_end_time = time.monotonic()\n",
    "\n",
    "predsDevxgb = model_xgb.predict(X_dev)\n",
    "predsTestxgb = model_xgb.predict(X_test)"
   ]
  },
  {
   "cell_type": "code",
   "execution_count": 18,
   "id": "798fd0c7",
   "metadata": {},
   "outputs": [],
   "source": [
    "testxgb_score =  accuracy_score(y_test, predsTestxgb)\n",
    "devxgb_score = accuracy_score(y_dev, predsDevxgb)"
   ]
  },
  {
   "cell_type": "code",
   "execution_count": 19,
   "id": "2cecfff5",
   "metadata": {},
   "outputs": [
    {
     "name": "stdout",
     "output_type": "stream",
     "text": [
      "Classification Score for XGB Classifier on Dev dataset:\n",
      "\n",
      "Dev Score :  0.9991102213324435\n",
      "              precision    recall  f1-score   support\n",
      "\n",
      "           0       1.00      1.00      1.00       904\n",
      "           1       1.00      1.00      1.00       894\n",
      "           2       1.00      1.00      1.00       886\n",
      "           3       1.00      1.00      1.00       890\n",
      "           4       1.00      1.00      1.00       901\n",
      "           5       1.00      1.00      1.00       886\n",
      "           6       1.00      0.99      1.00       923\n",
      "           7       1.00      1.00      1.00       896\n",
      "           8       1.00      1.00      1.00       904\n",
      "           9       0.99      1.00      1.00       907\n",
      "\n",
      "    accuracy                           1.00      8991\n",
      "   macro avg       1.00      1.00      1.00      8991\n",
      "weighted avg       1.00      1.00      1.00      8991\n",
      "\n",
      "--------------------------------------------------------\n",
      "Classification Score for XGB Classifier on Test dataset:\n",
      "\n",
      "Test Score : 0.9069069069069069\n",
      "              precision    recall  f1-score   support\n",
      "\n",
      "           0       0.91      0.84      0.88        96\n",
      "           1       0.95      0.98      0.97       104\n",
      "           2       0.87      0.92      0.89       111\n",
      "           3       0.90      0.86      0.88       109\n",
      "           4       0.93      0.87      0.90        97\n",
      "           5       0.92      0.96      0.94       114\n",
      "           6       0.86      0.97      0.91        77\n",
      "           7       0.92      0.94      0.93       104\n",
      "           8       0.93      0.93      0.93        96\n",
      "           9       0.87      0.78      0.82        91\n",
      "\n",
      "    accuracy                           0.91       999\n",
      "   macro avg       0.91      0.91      0.90       999\n",
      "weighted avg       0.91      0.91      0.91       999\n",
      "\n"
     ]
    }
   ],
   "source": [
    "print(\"Classification Score for XGB Classifier on Dev dataset:\\n\")\n",
    "print(\"Dev Score : \", devxgb_score)\n",
    "print(classification_report(y_dev, predsDevxgb))\n",
    "print(\"--------------------------------------------------------\")\n",
    "print(\"Classification Score for XGB Classifier on Test dataset:\\n\")\n",
    "print(\"Test Score :\", testxgb_score)\n",
    "print(classification_report(y_test, predsTestxgb))"
   ]
  },
  {
   "cell_type": "code",
   "execution_count": 20,
   "id": "e1883907",
   "metadata": {},
   "outputs": [
    {
     "data": {
      "image/png": "[encoded data removed]",
      "text/plain": [
       "<Figure size 1080x432 with 2 Axes>"
      ]
     },
     "metadata": {},
     "output_type": "display_data"
    },
    {
     "name": "stdout",
     "output_type": "stream",
     "text": [
      "Accuracy : 0.91\n",
      "Macro F-1 Score : 0.90\n"
     ]
    }
   ],
   "source": [
    "# Evaluate Model on Test set\n",
    "class_labels = list(model_xgb.classes_)\n",
    "macro_f1, accuracy = evaluate_model(predsTestxgb, y_test, class_labels,\n",
    "                                    'Confustion matrix: Untuned 3 seconds XGB Classifier')\n",
    "print('Accuracy : %.2f'%accuracy)\n",
    "print('Macro F-1 Score : %.2f'%macro_f1)"
   ]
  },
  {
   "cell_type": "markdown",
   "id": "94955db3",
   "metadata": {},
   "source": [
    "### Tuned Model\n",
    "Building a model with hyperparameters tuning using 5-fold cross validation with GridSearchCV and the raw csv file"
   ]
  },
  {
   "cell_type": "code",
   "execution_count": 21,
   "id": "3fef49f4",
   "metadata": {},
   "outputs": [
    {
     "name": "stdout",
     "output_type": "stream",
     "text": [
      "{'n_estimators': array([  5,  52, 100]), 'learning_rate': [0.1, 0.001, 0.01], 'max_depth': [28, 27, 3]}\n"
     ]
    }
   ],
   "source": [
    "parameters = {\"n_estimators\": np.linspace(5,100,3,dtype=int),\n",
    "             \"learning_rate\": [0.1,0.001,0.01],\n",
    "             \"max_depth\": random.sample(range(3, 30),3)}\n",
    "print(parameters)"
   ]
  },
  {
   "cell_type": "code",
   "execution_count": 22,
   "id": "88dfebb1",
   "metadata": {},
   "outputs": [
    {
     "ename": "KeyboardInterrupt",
     "evalue": "",
     "output_type": "error",
     "traceback": [
      "\u001b[0;31m---------------------------------------------------------------------------\u001b[0m",
      "\u001b[0;31mKeyboardInterrupt\u001b[0m                         Traceback (most recent call last)",
      "Input \u001b[0;32mIn [22]\u001b[0m, in \u001b[0;36m<cell line: 2>\u001b[0;34m()\u001b[0m\n\u001b[1;32m      1\u001b[0m tune_xgb \u001b[38;5;241m=\u001b[39m GridSearchCV(estimator \u001b[38;5;241m=\u001b[39m model_xgb, param_grid \u001b[38;5;241m=\u001b[39m parameters, cv \u001b[38;5;241m=\u001b[39m \u001b[38;5;241m5\u001b[39m)\n\u001b[0;32m----> 2\u001b[0m \u001b[43mtune_xgb\u001b[49m\u001b[38;5;241;43m.\u001b[39;49m\u001b[43mfit\u001b[49m\u001b[43m(\u001b[49m\u001b[43mX_dev\u001b[49m\u001b[43m,\u001b[49m\u001b[43m \u001b[49m\u001b[43my_dev\u001b[49m\u001b[43m)\u001b[49m\n",
      "File \u001b[0;32m~/miniforge3/envs/tf2/lib/python3.8/site-packages/sklearn/model_selection/_search.py:926\u001b[0m, in \u001b[0;36mBaseSearchCV.fit\u001b[0;34m(self, X, y, groups, **fit_params)\u001b[0m\n\u001b[1;32m    924\u001b[0m refit_start_time \u001b[38;5;241m=\u001b[39m time\u001b[38;5;241m.\u001b[39mtime()\n\u001b[1;32m    925\u001b[0m \u001b[38;5;28;01mif\u001b[39;00m y \u001b[38;5;129;01mis\u001b[39;00m \u001b[38;5;129;01mnot\u001b[39;00m \u001b[38;5;28;01mNone\u001b[39;00m:\n\u001b[0;32m--> 926\u001b[0m     \u001b[38;5;28;43mself\u001b[39;49m\u001b[38;5;241;43m.\u001b[39;49m\u001b[43mbest_estimator_\u001b[49m\u001b[38;5;241;43m.\u001b[39;49m\u001b[43mfit\u001b[49m\u001b[43m(\u001b[49m\u001b[43mX\u001b[49m\u001b[43m,\u001b[49m\u001b[43m \u001b[49m\u001b[43my\u001b[49m\u001b[43m,\u001b[49m\u001b[43m \u001b[49m\u001b[38;5;241;43m*\u001b[39;49m\u001b[38;5;241;43m*\u001b[39;49m\u001b[43mfit_params\u001b[49m\u001b[43m)\u001b[49m\n\u001b[1;32m    927\u001b[0m \u001b[38;5;28;01melse\u001b[39;00m:\n\u001b[1;32m    928\u001b[0m     \u001b[38;5;28mself\u001b[39m\u001b[38;5;241m.\u001b[39mbest_estimator_\u001b[38;5;241m.\u001b[39mfit(X, \u001b[38;5;241m*\u001b[39m\u001b[38;5;241m*\u001b[39mfit_params)\n",
      "File \u001b[0;32m~/miniforge3/envs/tf2/lib/python3.8/site-packages/xgboost/core.py:532\u001b[0m, in \u001b[0;36m_deprecate_positional_args.<locals>.inner_f\u001b[0;34m(*args, **kwargs)\u001b[0m\n\u001b[1;32m    530\u001b[0m \u001b[38;5;28;01mfor\u001b[39;00m k, arg \u001b[38;5;129;01min\u001b[39;00m \u001b[38;5;28mzip\u001b[39m(sig\u001b[38;5;241m.\u001b[39mparameters, args):\n\u001b[1;32m    531\u001b[0m     kwargs[k] \u001b[38;5;241m=\u001b[39m arg\n\u001b[0;32m--> 532\u001b[0m \u001b[38;5;28;01mreturn\u001b[39;00m \u001b[43mf\u001b[49m\u001b[43m(\u001b[49m\u001b[38;5;241;43m*\u001b[39;49m\u001b[38;5;241;43m*\u001b[39;49m\u001b[43mkwargs\u001b[49m\u001b[43m)\u001b[49m\n",
      "File \u001b[0;32m~/miniforge3/envs/tf2/lib/python3.8/site-packages/xgboost/sklearn.py:1400\u001b[0m, in \u001b[0;36mXGBClassifier.fit\u001b[0;34m(self, X, y, sample_weight, base_margin, eval_set, eval_metric, early_stopping_rounds, verbose, xgb_model, sample_weight_eval_set, base_margin_eval_set, feature_weights, callbacks)\u001b[0m\n\u001b[1;32m   1379\u001b[0m model, metric, params, early_stopping_rounds, callbacks \u001b[38;5;241m=\u001b[39m \u001b[38;5;28mself\u001b[39m\u001b[38;5;241m.\u001b[39m_configure_fit(\n\u001b[1;32m   1380\u001b[0m     xgb_model, eval_metric, params, early_stopping_rounds, callbacks\n\u001b[1;32m   1381\u001b[0m )\n\u001b[1;32m   1382\u001b[0m train_dmatrix, evals \u001b[38;5;241m=\u001b[39m _wrap_evaluation_matrices(\n\u001b[1;32m   1383\u001b[0m     missing\u001b[38;5;241m=\u001b[39m\u001b[38;5;28mself\u001b[39m\u001b[38;5;241m.\u001b[39mmissing,\n\u001b[1;32m   1384\u001b[0m     X\u001b[38;5;241m=\u001b[39mX,\n\u001b[0;32m   (...)\u001b[0m\n\u001b[1;32m   1397\u001b[0m     enable_categorical\u001b[38;5;241m=\u001b[39m\u001b[38;5;28mself\u001b[39m\u001b[38;5;241m.\u001b[39menable_categorical,\n\u001b[1;32m   1398\u001b[0m )\n\u001b[0;32m-> 1400\u001b[0m \u001b[38;5;28mself\u001b[39m\u001b[38;5;241m.\u001b[39m_Booster \u001b[38;5;241m=\u001b[39m \u001b[43mtrain\u001b[49m\u001b[43m(\u001b[49m\n\u001b[1;32m   1401\u001b[0m \u001b[43m    \u001b[49m\u001b[43mparams\u001b[49m\u001b[43m,\u001b[49m\n\u001b[1;32m   1402\u001b[0m \u001b[43m    \u001b[49m\u001b[43mtrain_dmatrix\u001b[49m\u001b[43m,\u001b[49m\n\u001b[1;32m   1403\u001b[0m \u001b[43m    \u001b[49m\u001b[38;5;28;43mself\u001b[39;49m\u001b[38;5;241;43m.\u001b[39;49m\u001b[43mget_num_boosting_rounds\u001b[49m\u001b[43m(\u001b[49m\u001b[43m)\u001b[49m\u001b[43m,\u001b[49m\n\u001b[1;32m   1404\u001b[0m \u001b[43m    \u001b[49m\u001b[43mevals\u001b[49m\u001b[38;5;241;43m=\u001b[39;49m\u001b[43mevals\u001b[49m\u001b[43m,\u001b[49m\n\u001b[1;32m   1405\u001b[0m \u001b[43m    \u001b[49m\u001b[43mearly_stopping_rounds\u001b[49m\u001b[38;5;241;43m=\u001b[39;49m\u001b[43mearly_stopping_rounds\u001b[49m\u001b[43m,\u001b[49m\n\u001b[1;32m   1406\u001b[0m \u001b[43m    \u001b[49m\u001b[43mevals_result\u001b[49m\u001b[38;5;241;43m=\u001b[39;49m\u001b[43mevals_result\u001b[49m\u001b[43m,\u001b[49m\n\u001b[1;32m   1407\u001b[0m \u001b[43m    \u001b[49m\u001b[43mobj\u001b[49m\u001b[38;5;241;43m=\u001b[39;49m\u001b[43mobj\u001b[49m\u001b[43m,\u001b[49m\n\u001b[1;32m   1408\u001b[0m \u001b[43m    \u001b[49m\u001b[43mcustom_metric\u001b[49m\u001b[38;5;241;43m=\u001b[39;49m\u001b[43mmetric\u001b[49m\u001b[43m,\u001b[49m\n\u001b[1;32m   1409\u001b[0m \u001b[43m    \u001b[49m\u001b[43mverbose_eval\u001b[49m\u001b[38;5;241;43m=\u001b[39;49m\u001b[43mverbose\u001b[49m\u001b[43m,\u001b[49m\n\u001b[1;32m   1410\u001b[0m \u001b[43m    \u001b[49m\u001b[43mxgb_model\u001b[49m\u001b[38;5;241;43m=\u001b[39;49m\u001b[43mmodel\u001b[49m\u001b[43m,\u001b[49m\n\u001b[1;32m   1411\u001b[0m \u001b[43m    \u001b[49m\u001b[43mcallbacks\u001b[49m\u001b[38;5;241;43m=\u001b[39;49m\u001b[43mcallbacks\u001b[49m\u001b[43m,\u001b[49m\n\u001b[1;32m   1412\u001b[0m \u001b[43m\u001b[49m\u001b[43m)\u001b[49m\n\u001b[1;32m   1414\u001b[0m \u001b[38;5;28;01mif\u001b[39;00m \u001b[38;5;129;01mnot\u001b[39;00m callable(\u001b[38;5;28mself\u001b[39m\u001b[38;5;241m.\u001b[39mobjective):\n\u001b[1;32m   1415\u001b[0m     \u001b[38;5;28mself\u001b[39m\u001b[38;5;241m.\u001b[39mobjective \u001b[38;5;241m=\u001b[39m params[\u001b[38;5;124m\"\u001b[39m\u001b[38;5;124mobjective\u001b[39m\u001b[38;5;124m\"\u001b[39m]\n",
      "File \u001b[0;32m~/miniforge3/envs/tf2/lib/python3.8/site-packages/xgboost/core.py:532\u001b[0m, in \u001b[0;36m_deprecate_positional_args.<locals>.inner_f\u001b[0;34m(*args, **kwargs)\u001b[0m\n\u001b[1;32m    530\u001b[0m \u001b[38;5;28;01mfor\u001b[39;00m k, arg \u001b[38;5;129;01min\u001b[39;00m \u001b[38;5;28mzip\u001b[39m(sig\u001b[38;5;241m.\u001b[39mparameters, args):\n\u001b[1;32m    531\u001b[0m     kwargs[k] \u001b[38;5;241m=\u001b[39m arg\n\u001b[0;32m--> 532\u001b[0m \u001b[38;5;28;01mreturn\u001b[39;00m \u001b[43mf\u001b[49m\u001b[43m(\u001b[49m\u001b[38;5;241;43m*\u001b[39;49m\u001b[38;5;241;43m*\u001b[39;49m\u001b[43mkwargs\u001b[49m\u001b[43m)\u001b[49m\n",
      "File \u001b[0;32m~/miniforge3/envs/tf2/lib/python3.8/site-packages/xgboost/training.py:181\u001b[0m, in \u001b[0;36mtrain\u001b[0;34m(params, dtrain, num_boost_round, evals, obj, feval, maximize, early_stopping_rounds, evals_result, verbose_eval, xgb_model, callbacks, custom_metric)\u001b[0m\n\u001b[1;32m    179\u001b[0m \u001b[38;5;28;01mif\u001b[39;00m cb_container\u001b[38;5;241m.\u001b[39mbefore_iteration(bst, i, dtrain, evals):\n\u001b[1;32m    180\u001b[0m     \u001b[38;5;28;01mbreak\u001b[39;00m\n\u001b[0;32m--> 181\u001b[0m \u001b[43mbst\u001b[49m\u001b[38;5;241;43m.\u001b[39;49m\u001b[43mupdate\u001b[49m\u001b[43m(\u001b[49m\u001b[43mdtrain\u001b[49m\u001b[43m,\u001b[49m\u001b[43m \u001b[49m\u001b[43mi\u001b[49m\u001b[43m,\u001b[49m\u001b[43m \u001b[49m\u001b[43mobj\u001b[49m\u001b[43m)\u001b[49m\n\u001b[1;32m    182\u001b[0m \u001b[38;5;28;01mif\u001b[39;00m cb_container\u001b[38;5;241m.\u001b[39mafter_iteration(bst, i, dtrain, evals):\n\u001b[1;32m    183\u001b[0m     \u001b[38;5;28;01mbreak\u001b[39;00m\n",
      "File \u001b[0;32m~/miniforge3/envs/tf2/lib/python3.8/site-packages/xgboost/core.py:1733\u001b[0m, in \u001b[0;36mBooster.update\u001b[0;34m(self, dtrain, iteration, fobj)\u001b[0m\n\u001b[1;32m   1730\u001b[0m \u001b[38;5;28mself\u001b[39m\u001b[38;5;241m.\u001b[39m_validate_features(dtrain)\n\u001b[1;32m   1732\u001b[0m \u001b[38;5;28;01mif\u001b[39;00m fobj \u001b[38;5;129;01mis\u001b[39;00m \u001b[38;5;28;01mNone\u001b[39;00m:\n\u001b[0;32m-> 1733\u001b[0m     _check_call(\u001b[43m_LIB\u001b[49m\u001b[38;5;241;43m.\u001b[39;49m\u001b[43mXGBoosterUpdateOneIter\u001b[49m\u001b[43m(\u001b[49m\u001b[38;5;28;43mself\u001b[39;49m\u001b[38;5;241;43m.\u001b[39;49m\u001b[43mhandle\u001b[49m\u001b[43m,\u001b[49m\n\u001b[1;32m   1734\u001b[0m \u001b[43m                                            \u001b[49m\u001b[43mctypes\u001b[49m\u001b[38;5;241;43m.\u001b[39;49m\u001b[43mc_int\u001b[49m\u001b[43m(\u001b[49m\u001b[43miteration\u001b[49m\u001b[43m)\u001b[49m\u001b[43m,\u001b[49m\n\u001b[1;32m   1735\u001b[0m \u001b[43m                                            \u001b[49m\u001b[43mdtrain\u001b[49m\u001b[38;5;241;43m.\u001b[39;49m\u001b[43mhandle\u001b[49m\u001b[43m)\u001b[49m)\n\u001b[1;32m   1736\u001b[0m \u001b[38;5;28;01melse\u001b[39;00m:\n\u001b[1;32m   1737\u001b[0m     pred \u001b[38;5;241m=\u001b[39m \u001b[38;5;28mself\u001b[39m\u001b[38;5;241m.\u001b[39mpredict(dtrain, output_margin\u001b[38;5;241m=\u001b[39m\u001b[38;5;28;01mTrue\u001b[39;00m, training\u001b[38;5;241m=\u001b[39m\u001b[38;5;28;01mTrue\u001b[39;00m)\n",
      "\u001b[0;31mKeyboardInterrupt\u001b[0m: "
     ]
    }
   ],
   "source": [
    "tune_xgb = GridSearchCV(estimator = model_xgb, param_grid = parameters, cv = 5)\n",
    "tune_xgb.fit(X_dev, y_dev)"
   ]
  },
  {
   "cell_type": "code",
   "execution_count": 11,
   "id": "787f731b",
   "metadata": {},
   "outputs": [
    {
     "name": "stdout",
     "output_type": "stream",
     "text": [
      "Best Score : 0.8667411030517354\n",
      "Best Parameters : {'eval_metric': 'logloss', 'learning_rate': 0.1, 'max_depth': 7, 'n_estimators': 100, 'use_label_encoder': False}\n"
     ]
    }
   ],
   "source": [
    "print(\"Best Score :\", tune_xgb.best_score_)\n",
    "print(\"Best Parameters :\",tune_xgb.best_params_)"
   ]
  },
  {
   "cell_type": "code",
   "execution_count": 12,
   "id": "a51d1aca",
   "metadata": {},
   "outputs": [
    {
     "name": "stdout",
     "output_type": "stream",
     "text": [
      "Score on Dev data for xgb using GridSearchCV: 0.9991241241241241\n",
      "Score on Test data for xgb using GridSearchCV: 0.8803803803803804\n"
     ]
    }
   ],
   "source": [
    "predsDevxgb_tuned = tune_xgb.predict(X_dev)\n",
    "predsTestxgb_tuned = tune_xgb.predict(X_test)\n",
    "\n",
    "print(\"Score on Dev data for xgb using GridSearchCV:\", accuracy_score(y_dev, predsDevxgb_tuned))\n",
    "print(\"Score on Test data for xgb using GridSearchCV:\",accuracy_score(y_test, predsTestxgb_tuned))"
   ]
  },
  {
   "cell_type": "code",
   "execution_count": 13,
   "id": "8439f97a-f8c5-43bb-a815-c308a0cdd095",
   "metadata": {},
   "outputs": [
    {
     "data": {
      "image/png": "[encoded data removed]",
      "text/plain": [
       "<Figure size 1080x432 with 2 Axes>"
      ]
     },
     "metadata": {},
     "output_type": "display_data"
    },
    {
     "name": "stdout",
     "output_type": "stream",
     "text": [
      "Accuracy : 0.88\n",
      "Macro F-1 Score : 0.88\n"
     ]
    }
   ],
   "source": [
    "# Evaluate Model on Test set\n",
    "class_labels = list(model_xgb.classes_)\n",
    "macro_f1, accuracy = evaluate_model(predsTestxgb_tuned, y_test, class_labels,\n",
    "                                    'Confustion matrix: Tuned 3 seconds XGB Classifier')\n",
    "print('Accuracy : %.2f'%accuracy)\n",
    "print('Macro F-1 Score : %.2f'%macro_f1)"
   ]
  },
  {
   "cell_type": "markdown",
   "id": "833b2197",
   "metadata": {},
   "source": [
    "### Dimensionality reduction of data using PCA"
   ]
  },
  {
   "cell_type": "code",
   "execution_count": 14,
   "id": "6553145b",
   "metadata": {},
   "outputs": [
    {
     "name": "stdout",
     "output_type": "stream",
     "text": [
      "Explained Variance of each component: [0.16211049 0.11190511 0.04944364 0.03409667 0.03089104 0.02431167\n",
      " 0.0172229  0.01586461 0.01282323 0.01102709 0.00926643 0.00886366\n",
      " 0.00802953 0.00707012 0.00658936 0.00623254 0.00547418 0.00528017\n",
      " 0.00521745 0.00492087 0.00474667 0.0042582  0.00403036 0.00356816\n",
      " 0.00341015 0.00335308 0.00300605 0.0029638  0.00291516 0.00281358]\n",
      "Sum of Explained Variance: 0.9388885285491954\n"
     ]
    }
   ],
   "source": [
    "# Principal Component Analysis \n",
    "### cite : https://machinelearningmastery.com/calculate-principal-component-analysis-scratch-python/\n",
    "\n",
    "# create the PCA instance\n",
    "pca = PCA(n_components=30)\n",
    "# fit on data\n",
    "pca_data = pca.fit_transform(X_dev)\n",
    "pca_data_test = pca.transform(X_test)\n",
    "# pca_data_dev = pca.transform(X_dev)\n",
    "PCA_df= pd.DataFrame(data=pca_data)\n",
    "y_dev.index = PCA_df.index\n",
    "pca_final=pd.concat([PCA_df,y_dev], axis = 1)\n",
    "# access values\n",
    "print(\"Explained Variance of each component:\",pca.explained_variance_)\n",
    "print(\"Sum of Explained Variance:\", sum(pca.explained_variance_ratio_))"
   ]
  },
  {
   "cell_type": "code",
   "execution_count": 15,
   "id": "24f6e702",
   "metadata": {},
   "outputs": [
    {
     "data": {
      "text/html": [
       "<div>\n",
       "<style scoped>\n",
       "    .dataframe tbody tr th:only-of-type {\n",
       "        vertical-align: middle;\n",
       "    }\n",
       "\n",
       "    .dataframe tbody tr th {\n",
       "        vertical-align: top;\n",
       "    }\n",
       "\n",
       "    .dataframe thead th {\n",
       "        text-align: right;\n",
       "    }\n",
       "</style>\n",
       "<table border=\"1\" class=\"dataframe\">\n",
       "  <thead>\n",
       "    <tr style=\"text-align: right;\">\n",
       "      <th></th>\n",
       "      <th>0</th>\n",
       "      <th>1</th>\n",
       "      <th>2</th>\n",
       "      <th>3</th>\n",
       "      <th>4</th>\n",
       "      <th>5</th>\n",
       "      <th>6</th>\n",
       "      <th>7</th>\n",
       "      <th>8</th>\n",
       "      <th>9</th>\n",
       "      <th>...</th>\n",
       "      <th>21</th>\n",
       "      <th>22</th>\n",
       "      <th>23</th>\n",
       "      <th>24</th>\n",
       "      <th>25</th>\n",
       "      <th>26</th>\n",
       "      <th>27</th>\n",
       "      <th>28</th>\n",
       "      <th>29</th>\n",
       "      <th>label</th>\n",
       "    </tr>\n",
       "  </thead>\n",
       "  <tbody>\n",
       "    <tr>\n",
       "      <th>0</th>\n",
       "      <td>0.072299</td>\n",
       "      <td>-0.412844</td>\n",
       "      <td>0.023072</td>\n",
       "      <td>-0.417214</td>\n",
       "      <td>0.299826</td>\n",
       "      <td>-0.088897</td>\n",
       "      <td>-0.140614</td>\n",
       "      <td>-0.010051</td>\n",
       "      <td>-0.051669</td>\n",
       "      <td>-0.117334</td>\n",
       "      <td>...</td>\n",
       "      <td>0.023169</td>\n",
       "      <td>0.138793</td>\n",
       "      <td>0.011023</td>\n",
       "      <td>-0.036212</td>\n",
       "      <td>-0.029435</td>\n",
       "      <td>0.015744</td>\n",
       "      <td>-0.040542</td>\n",
       "      <td>0.115637</td>\n",
       "      <td>-0.010201</td>\n",
       "      <td>6</td>\n",
       "    </tr>\n",
       "    <tr>\n",
       "      <th>1</th>\n",
       "      <td>0.274582</td>\n",
       "      <td>-0.006478</td>\n",
       "      <td>-0.298496</td>\n",
       "      <td>-0.242299</td>\n",
       "      <td>0.143267</td>\n",
       "      <td>0.006231</td>\n",
       "      <td>-0.135088</td>\n",
       "      <td>0.275194</td>\n",
       "      <td>-0.056233</td>\n",
       "      <td>-0.017892</td>\n",
       "      <td>...</td>\n",
       "      <td>0.029478</td>\n",
       "      <td>0.047746</td>\n",
       "      <td>0.018985</td>\n",
       "      <td>-0.025718</td>\n",
       "      <td>-0.003517</td>\n",
       "      <td>0.006477</td>\n",
       "      <td>-0.049900</td>\n",
       "      <td>0.041291</td>\n",
       "      <td>-0.007357</td>\n",
       "      <td>5</td>\n",
       "    </tr>\n",
       "    <tr>\n",
       "      <th>2</th>\n",
       "      <td>0.317181</td>\n",
       "      <td>-0.069387</td>\n",
       "      <td>-0.276547</td>\n",
       "      <td>-0.327404</td>\n",
       "      <td>0.098027</td>\n",
       "      <td>0.062285</td>\n",
       "      <td>-0.227106</td>\n",
       "      <td>-0.017670</td>\n",
       "      <td>-0.096380</td>\n",
       "      <td>-0.190231</td>\n",
       "      <td>...</td>\n",
       "      <td>-0.008501</td>\n",
       "      <td>0.091301</td>\n",
       "      <td>0.044737</td>\n",
       "      <td>0.021184</td>\n",
       "      <td>-0.004906</td>\n",
       "      <td>-0.008833</td>\n",
       "      <td>-0.077110</td>\n",
       "      <td>0.112496</td>\n",
       "      <td>0.066666</td>\n",
       "      <td>2</td>\n",
       "    </tr>\n",
       "    <tr>\n",
       "      <th>3</th>\n",
       "      <td>-0.291017</td>\n",
       "      <td>-0.097326</td>\n",
       "      <td>0.154852</td>\n",
       "      <td>-0.012074</td>\n",
       "      <td>0.073026</td>\n",
       "      <td>-0.022696</td>\n",
       "      <td>0.001453</td>\n",
       "      <td>0.070617</td>\n",
       "      <td>0.046663</td>\n",
       "      <td>-0.093311</td>\n",
       "      <td>...</td>\n",
       "      <td>0.032979</td>\n",
       "      <td>0.006885</td>\n",
       "      <td>0.039215</td>\n",
       "      <td>0.062813</td>\n",
       "      <td>0.061048</td>\n",
       "      <td>0.073549</td>\n",
       "      <td>0.042442</td>\n",
       "      <td>-0.121788</td>\n",
       "      <td>-0.091820</td>\n",
       "      <td>2</td>\n",
       "    </tr>\n",
       "    <tr>\n",
       "      <th>4</th>\n",
       "      <td>-0.879330</td>\n",
       "      <td>0.313246</td>\n",
       "      <td>-0.219645</td>\n",
       "      <td>0.027579</td>\n",
       "      <td>0.029235</td>\n",
       "      <td>-0.272868</td>\n",
       "      <td>0.007777</td>\n",
       "      <td>-0.127965</td>\n",
       "      <td>-0.002723</td>\n",
       "      <td>0.007386</td>\n",
       "      <td>...</td>\n",
       "      <td>0.036877</td>\n",
       "      <td>0.021955</td>\n",
       "      <td>0.028631</td>\n",
       "      <td>-0.011181</td>\n",
       "      <td>-0.088045</td>\n",
       "      <td>-0.035405</td>\n",
       "      <td>-0.035644</td>\n",
       "      <td>-0.017505</td>\n",
       "      <td>-0.015762</td>\n",
       "      <td>1</td>\n",
       "    </tr>\n",
       "  </tbody>\n",
       "</table>\n",
       "<p>5 rows × 31 columns</p>\n",
       "</div>"
      ],
      "text/plain": [
       "          0         1         2         3         4         5         6  \\\n",
       "0  0.072299 -0.412844  0.023072 -0.417214  0.299826 -0.088897 -0.140614   \n",
       "1  0.274582 -0.006478 -0.298496 -0.242299  0.143267  0.006231 -0.135088   \n",
       "2  0.317181 -0.069387 -0.276547 -0.327404  0.098027  0.062285 -0.227106   \n",
       "3 -0.291017 -0.097326  0.154852 -0.012074  0.073026 -0.022696  0.001453   \n",
       "4 -0.879330  0.313246 -0.219645  0.027579  0.029235 -0.272868  0.007777   \n",
       "\n",
       "          7         8         9  ...        21        22        23        24  \\\n",
       "0 -0.010051 -0.051669 -0.117334  ...  0.023169  0.138793  0.011023 -0.036212   \n",
       "1  0.275194 -0.056233 -0.017892  ...  0.029478  0.047746  0.018985 -0.025718   \n",
       "2 -0.017670 -0.096380 -0.190231  ... -0.008501  0.091301  0.044737  0.021184   \n",
       "3  0.070617  0.046663 -0.093311  ...  0.032979  0.006885  0.039215  0.062813   \n",
       "4 -0.127965 -0.002723  0.007386  ...  0.036877  0.021955  0.028631 -0.011181   \n",
       "\n",
       "         25        26        27        28        29  label  \n",
       "0 -0.029435  0.015744 -0.040542  0.115637 -0.010201      6  \n",
       "1 -0.003517  0.006477 -0.049900  0.041291 -0.007357      5  \n",
       "2 -0.004906 -0.008833 -0.077110  0.112496  0.066666      2  \n",
       "3  0.061048  0.073549  0.042442 -0.121788 -0.091820      2  \n",
       "4 -0.088045 -0.035405 -0.035644 -0.017505 -0.015762      1  \n",
       "\n",
       "[5 rows x 31 columns]"
      ]
     },
     "execution_count": 15,
     "metadata": {},
     "output_type": "execute_result"
    }
   ],
   "source": [
    "pca_final.head()"
   ]
  },
  {
   "cell_type": "markdown",
   "id": "7793a70c-2945-4262-a2be-3660cd158cf5",
   "metadata": {},
   "source": [
    "### PCA - Original Model\n",
    "Building a model with no parameter tuning and using the PCA data"
   ]
  },
  {
   "cell_type": "code",
   "execution_count": 16,
   "id": "f4b1db81",
   "metadata": {},
   "outputs": [],
   "source": [
    "model_pca = XGBClassifier()\n",
    "model_pca.fit(pca_final.iloc[:,:30],pca_final.iloc[:,30])\n",
    "pcaTrainxgb = model_pca.predict(pca_data)\n",
    "pcaTestxgb = model_pca.predict(pca_data_test)"
   ]
  },
  {
   "cell_type": "code",
   "execution_count": 17,
   "id": "7f28b6d2",
   "metadata": {},
   "outputs": [],
   "source": [
    "pcatestxgb_score =  accuracy_score(y_test, pcaTestxgb)\n",
    "pcaxgb_score = accuracy_score(y_dev, pcaTrainxgb)"
   ]
  },
  {
   "cell_type": "code",
   "execution_count": 18,
   "id": "3c0cf3a6",
   "metadata": {},
   "outputs": [
    {
     "name": "stdout",
     "output_type": "stream",
     "text": [
      "Classification Score for XGB Classifier on Train dataset:\n",
      "\n",
      "Train Score :  0.9991241241241241\n",
      "--------------------------------------------------------\n",
      "Classification Score for XGB Classifier on Test dataset:\n",
      "\n",
      "Test Score : 0.8428428428428428\n"
     ]
    }
   ],
   "source": [
    "print(\"Classification Score for XGB Classifier on Train dataset:\\n\")\n",
    "print(\"Train Score : \", pcaxgb_score)\n",
    "print(\"--------------------------------------------------------\")\n",
    "print(\"Classification Score for XGB Classifier on Test dataset:\\n\")\n",
    "print(\"Test Score :\", pcatestxgb_score)"
   ]
  },
  {
   "cell_type": "code",
   "execution_count": 19,
   "id": "efa40f55",
   "metadata": {},
   "outputs": [
    {
     "data": {
      "image/png": "[encoded data removed]",
      "text/plain": [
       "<Figure size 1080x432 with 2 Axes>"
      ]
     },
     "metadata": {},
     "output_type": "display_data"
    },
    {
     "name": "stdout",
     "output_type": "stream",
     "text": [
      "Accuracy : 0.84\n",
      "Macro F-1 Score : 0.84\n"
     ]
    }
   ],
   "source": [
    "# Evaluate Model\n",
    "class_labels = list(model_xgb.classes_)\n",
    "macro_f1, accuracy = evaluate_model(pcaTestxgb, y_test, class_labels,\n",
    "                                    'Confustion Matrix: PCA - Untuned 3 seconds XGB Classifier')\n",
    "print('Accuracy : %.2f'%accuracy)\n",
    "print('Macro F-1 Score : %.2f'%macro_f1)"
   ]
  },
  {
   "cell_type": "markdown",
   "id": "abbdcf85",
   "metadata": {},
   "source": [
    "### PCA - Tuned Model\n",
    "Building a model with hyperparameters tuning using 5-fold cross validation with GridSearchCV and the PCA data"
   ]
  },
  {
   "cell_type": "code",
   "execution_count": 20,
   "id": "a4a2e80a",
   "metadata": {},
   "outputs": [
    {
     "data": {
      "text/html": [
       "<div>\n",
       "<style scoped>\n",
       "    .dataframe tbody tr th:only-of-type {\n",
       "        vertical-align: middle;\n",
       "    }\n",
       "\n",
       "    .dataframe tbody tr th {\n",
       "        vertical-align: top;\n",
       "    }\n",
       "\n",
       "    .dataframe thead th {\n",
       "        text-align: right;\n",
       "    }\n",
       "</style>\n",
       "<table border=\"1\" class=\"dataframe\">\n",
       "  <thead>\n",
       "    <tr style=\"text-align: right;\">\n",
       "      <th></th>\n",
       "      <th>0</th>\n",
       "      <th>1</th>\n",
       "      <th>2</th>\n",
       "      <th>3</th>\n",
       "      <th>4</th>\n",
       "      <th>5</th>\n",
       "      <th>6</th>\n",
       "      <th>7</th>\n",
       "      <th>8</th>\n",
       "      <th>9</th>\n",
       "      <th>...</th>\n",
       "      <th>20</th>\n",
       "      <th>21</th>\n",
       "      <th>22</th>\n",
       "      <th>23</th>\n",
       "      <th>24</th>\n",
       "      <th>25</th>\n",
       "      <th>26</th>\n",
       "      <th>27</th>\n",
       "      <th>28</th>\n",
       "      <th>29</th>\n",
       "    </tr>\n",
       "  </thead>\n",
       "  <tbody>\n",
       "    <tr>\n",
       "      <th>0</th>\n",
       "      <td>0.072299</td>\n",
       "      <td>-0.412844</td>\n",
       "      <td>0.023072</td>\n",
       "      <td>-0.417214</td>\n",
       "      <td>0.299826</td>\n",
       "      <td>-0.088897</td>\n",
       "      <td>-0.140614</td>\n",
       "      <td>-0.010051</td>\n",
       "      <td>-0.051669</td>\n",
       "      <td>-0.117334</td>\n",
       "      <td>...</td>\n",
       "      <td>-0.051825</td>\n",
       "      <td>0.023169</td>\n",
       "      <td>0.138793</td>\n",
       "      <td>0.011023</td>\n",
       "      <td>-0.036212</td>\n",
       "      <td>-0.029435</td>\n",
       "      <td>0.015744</td>\n",
       "      <td>-0.040542</td>\n",
       "      <td>0.115637</td>\n",
       "      <td>-0.010201</td>\n",
       "    </tr>\n",
       "    <tr>\n",
       "      <th>1</th>\n",
       "      <td>0.274582</td>\n",
       "      <td>-0.006478</td>\n",
       "      <td>-0.298496</td>\n",
       "      <td>-0.242299</td>\n",
       "      <td>0.143267</td>\n",
       "      <td>0.006231</td>\n",
       "      <td>-0.135088</td>\n",
       "      <td>0.275194</td>\n",
       "      <td>-0.056233</td>\n",
       "      <td>-0.017892</td>\n",
       "      <td>...</td>\n",
       "      <td>-0.012004</td>\n",
       "      <td>0.029478</td>\n",
       "      <td>0.047746</td>\n",
       "      <td>0.018985</td>\n",
       "      <td>-0.025718</td>\n",
       "      <td>-0.003517</td>\n",
       "      <td>0.006477</td>\n",
       "      <td>-0.049900</td>\n",
       "      <td>0.041291</td>\n",
       "      <td>-0.007357</td>\n",
       "    </tr>\n",
       "    <tr>\n",
       "      <th>2</th>\n",
       "      <td>0.317181</td>\n",
       "      <td>-0.069387</td>\n",
       "      <td>-0.276547</td>\n",
       "      <td>-0.327404</td>\n",
       "      <td>0.098027</td>\n",
       "      <td>0.062285</td>\n",
       "      <td>-0.227106</td>\n",
       "      <td>-0.017670</td>\n",
       "      <td>-0.096380</td>\n",
       "      <td>-0.190231</td>\n",
       "      <td>...</td>\n",
       "      <td>0.055327</td>\n",
       "      <td>-0.008501</td>\n",
       "      <td>0.091301</td>\n",
       "      <td>0.044737</td>\n",
       "      <td>0.021184</td>\n",
       "      <td>-0.004906</td>\n",
       "      <td>-0.008833</td>\n",
       "      <td>-0.077110</td>\n",
       "      <td>0.112496</td>\n",
       "      <td>0.066666</td>\n",
       "    </tr>\n",
       "    <tr>\n",
       "      <th>3</th>\n",
       "      <td>-0.291017</td>\n",
       "      <td>-0.097326</td>\n",
       "      <td>0.154852</td>\n",
       "      <td>-0.012074</td>\n",
       "      <td>0.073026</td>\n",
       "      <td>-0.022696</td>\n",
       "      <td>0.001453</td>\n",
       "      <td>0.070617</td>\n",
       "      <td>0.046663</td>\n",
       "      <td>-0.093311</td>\n",
       "      <td>...</td>\n",
       "      <td>-0.007187</td>\n",
       "      <td>0.032979</td>\n",
       "      <td>0.006885</td>\n",
       "      <td>0.039215</td>\n",
       "      <td>0.062813</td>\n",
       "      <td>0.061048</td>\n",
       "      <td>0.073549</td>\n",
       "      <td>0.042442</td>\n",
       "      <td>-0.121788</td>\n",
       "      <td>-0.091820</td>\n",
       "    </tr>\n",
       "    <tr>\n",
       "      <th>4</th>\n",
       "      <td>-0.879330</td>\n",
       "      <td>0.313246</td>\n",
       "      <td>-0.219645</td>\n",
       "      <td>0.027579</td>\n",
       "      <td>0.029235</td>\n",
       "      <td>-0.272868</td>\n",
       "      <td>0.007777</td>\n",
       "      <td>-0.127965</td>\n",
       "      <td>-0.002723</td>\n",
       "      <td>0.007386</td>\n",
       "      <td>...</td>\n",
       "      <td>-0.078904</td>\n",
       "      <td>0.036877</td>\n",
       "      <td>0.021955</td>\n",
       "      <td>0.028631</td>\n",
       "      <td>-0.011181</td>\n",
       "      <td>-0.088045</td>\n",
       "      <td>-0.035405</td>\n",
       "      <td>-0.035644</td>\n",
       "      <td>-0.017505</td>\n",
       "      <td>-0.015762</td>\n",
       "    </tr>\n",
       "    <tr>\n",
       "      <th>...</th>\n",
       "      <td>...</td>\n",
       "      <td>...</td>\n",
       "      <td>...</td>\n",
       "      <td>...</td>\n",
       "      <td>...</td>\n",
       "      <td>...</td>\n",
       "      <td>...</td>\n",
       "      <td>...</td>\n",
       "      <td>...</td>\n",
       "      <td>...</td>\n",
       "      <td>...</td>\n",
       "      <td>...</td>\n",
       "      <td>...</td>\n",
       "      <td>...</td>\n",
       "      <td>...</td>\n",
       "      <td>...</td>\n",
       "      <td>...</td>\n",
       "      <td>...</td>\n",
       "      <td>...</td>\n",
       "      <td>...</td>\n",
       "      <td>...</td>\n",
       "    </tr>\n",
       "    <tr>\n",
       "      <th>7987</th>\n",
       "      <td>0.377397</td>\n",
       "      <td>-0.033968</td>\n",
       "      <td>-0.295755</td>\n",
       "      <td>-0.057190</td>\n",
       "      <td>0.151605</td>\n",
       "      <td>0.131654</td>\n",
       "      <td>0.035455</td>\n",
       "      <td>0.102119</td>\n",
       "      <td>-0.002030</td>\n",
       "      <td>0.054440</td>\n",
       "      <td>...</td>\n",
       "      <td>-0.064568</td>\n",
       "      <td>0.012266</td>\n",
       "      <td>0.017713</td>\n",
       "      <td>0.047142</td>\n",
       "      <td>0.039754</td>\n",
       "      <td>-0.061731</td>\n",
       "      <td>-0.041756</td>\n",
       "      <td>-0.009480</td>\n",
       "      <td>0.027611</td>\n",
       "      <td>0.017001</td>\n",
       "    </tr>\n",
       "    <tr>\n",
       "      <th>7988</th>\n",
       "      <td>-0.213167</td>\n",
       "      <td>-0.620013</td>\n",
       "      <td>-0.158077</td>\n",
       "      <td>0.127757</td>\n",
       "      <td>0.026842</td>\n",
       "      <td>-0.228274</td>\n",
       "      <td>0.075253</td>\n",
       "      <td>0.001349</td>\n",
       "      <td>0.024656</td>\n",
       "      <td>-0.152193</td>\n",
       "      <td>...</td>\n",
       "      <td>0.004154</td>\n",
       "      <td>-0.026212</td>\n",
       "      <td>0.038713</td>\n",
       "      <td>-0.028687</td>\n",
       "      <td>-0.006777</td>\n",
       "      <td>0.000074</td>\n",
       "      <td>-0.026549</td>\n",
       "      <td>0.022783</td>\n",
       "      <td>0.007211</td>\n",
       "      <td>0.036482</td>\n",
       "    </tr>\n",
       "    <tr>\n",
       "      <th>7989</th>\n",
       "      <td>0.376878</td>\n",
       "      <td>-0.370960</td>\n",
       "      <td>0.473148</td>\n",
       "      <td>-0.024045</td>\n",
       "      <td>-0.082251</td>\n",
       "      <td>0.189682</td>\n",
       "      <td>0.059474</td>\n",
       "      <td>0.106883</td>\n",
       "      <td>0.152484</td>\n",
       "      <td>0.122026</td>\n",
       "      <td>...</td>\n",
       "      <td>-0.003571</td>\n",
       "      <td>0.111339</td>\n",
       "      <td>0.009788</td>\n",
       "      <td>0.138647</td>\n",
       "      <td>0.015649</td>\n",
       "      <td>-0.034249</td>\n",
       "      <td>0.085876</td>\n",
       "      <td>0.034356</td>\n",
       "      <td>0.021254</td>\n",
       "      <td>0.088934</td>\n",
       "    </tr>\n",
       "    <tr>\n",
       "      <th>7990</th>\n",
       "      <td>-0.395842</td>\n",
       "      <td>0.347525</td>\n",
       "      <td>-0.030944</td>\n",
       "      <td>-0.205586</td>\n",
       "      <td>0.025496</td>\n",
       "      <td>-0.198467</td>\n",
       "      <td>-0.050448</td>\n",
       "      <td>-0.159266</td>\n",
       "      <td>-0.205566</td>\n",
       "      <td>0.063855</td>\n",
       "      <td>...</td>\n",
       "      <td>-0.080729</td>\n",
       "      <td>-0.029940</td>\n",
       "      <td>-0.007235</td>\n",
       "      <td>0.027088</td>\n",
       "      <td>-0.059123</td>\n",
       "      <td>0.048012</td>\n",
       "      <td>0.130293</td>\n",
       "      <td>-0.003312</td>\n",
       "      <td>-0.045496</td>\n",
       "      <td>0.026654</td>\n",
       "    </tr>\n",
       "    <tr>\n",
       "      <th>7991</th>\n",
       "      <td>-0.104540</td>\n",
       "      <td>-0.443047</td>\n",
       "      <td>-0.009892</td>\n",
       "      <td>-0.032496</td>\n",
       "      <td>0.126547</td>\n",
       "      <td>-0.074634</td>\n",
       "      <td>-0.024990</td>\n",
       "      <td>0.156386</td>\n",
       "      <td>0.001434</td>\n",
       "      <td>-0.017528</td>\n",
       "      <td>...</td>\n",
       "      <td>0.064141</td>\n",
       "      <td>0.001982</td>\n",
       "      <td>-0.000633</td>\n",
       "      <td>-0.038156</td>\n",
       "      <td>-0.007134</td>\n",
       "      <td>0.011474</td>\n",
       "      <td>-0.007010</td>\n",
       "      <td>0.054719</td>\n",
       "      <td>-0.024362</td>\n",
       "      <td>0.034268</td>\n",
       "    </tr>\n",
       "  </tbody>\n",
       "</table>\n",
       "<p>7992 rows × 30 columns</p>\n",
       "</div>"
      ],
      "text/plain": [
       "            0         1         2         3         4         5         6   \\\n",
       "0     0.072299 -0.412844  0.023072 -0.417214  0.299826 -0.088897 -0.140614   \n",
       "1     0.274582 -0.006478 -0.298496 -0.242299  0.143267  0.006231 -0.135088   \n",
       "2     0.317181 -0.069387 -0.276547 -0.327404  0.098027  0.062285 -0.227106   \n",
       "3    -0.291017 -0.097326  0.154852 -0.012074  0.073026 -0.022696  0.001453   \n",
       "4    -0.879330  0.313246 -0.219645  0.027579  0.029235 -0.272868  0.007777   \n",
       "...        ...       ...       ...       ...       ...       ...       ...   \n",
       "7987  0.377397 -0.033968 -0.295755 -0.057190  0.151605  0.131654  0.035455   \n",
       "7988 -0.213167 -0.620013 -0.158077  0.127757  0.026842 -0.228274  0.075253   \n",
       "7989  0.376878 -0.370960  0.473148 -0.024045 -0.082251  0.189682  0.059474   \n",
       "7990 -0.395842  0.347525 -0.030944 -0.205586  0.025496 -0.198467 -0.050448   \n",
       "7991 -0.104540 -0.443047 -0.009892 -0.032496  0.126547 -0.074634 -0.024990   \n",
       "\n",
       "            7         8         9   ...        20        21        22  \\\n",
       "0    -0.010051 -0.051669 -0.117334  ... -0.051825  0.023169  0.138793   \n",
       "1     0.275194 -0.056233 -0.017892  ... -0.012004  0.029478  0.047746   \n",
       "2    -0.017670 -0.096380 -0.190231  ...  0.055327 -0.008501  0.091301   \n",
       "3     0.070617  0.046663 -0.093311  ... -0.007187  0.032979  0.006885   \n",
       "4    -0.127965 -0.002723  0.007386  ... -0.078904  0.036877  0.021955   \n",
       "...        ...       ...       ...  ...       ...       ...       ...   \n",
       "7987  0.102119 -0.002030  0.054440  ... -0.064568  0.012266  0.017713   \n",
       "7988  0.001349  0.024656 -0.152193  ...  0.004154 -0.026212  0.038713   \n",
       "7989  0.106883  0.152484  0.122026  ... -0.003571  0.111339  0.009788   \n",
       "7990 -0.159266 -0.205566  0.063855  ... -0.080729 -0.029940 -0.007235   \n",
       "7991  0.156386  0.001434 -0.017528  ...  0.064141  0.001982 -0.000633   \n",
       "\n",
       "            23        24        25        26        27        28        29  \n",
       "0     0.011023 -0.036212 -0.029435  0.015744 -0.040542  0.115637 -0.010201  \n",
       "1     0.018985 -0.025718 -0.003517  0.006477 -0.049900  0.041291 -0.007357  \n",
       "2     0.044737  0.021184 -0.004906 -0.008833 -0.077110  0.112496  0.066666  \n",
       "3     0.039215  0.062813  0.061048  0.073549  0.042442 -0.121788 -0.091820  \n",
       "4     0.028631 -0.011181 -0.088045 -0.035405 -0.035644 -0.017505 -0.015762  \n",
       "...        ...       ...       ...       ...       ...       ...       ...  \n",
       "7987  0.047142  0.039754 -0.061731 -0.041756 -0.009480  0.027611  0.017001  \n",
       "7988 -0.028687 -0.006777  0.000074 -0.026549  0.022783  0.007211  0.036482  \n",
       "7989  0.138647  0.015649 -0.034249  0.085876  0.034356  0.021254  0.088934  \n",
       "7990  0.027088 -0.059123  0.048012  0.130293 -0.003312 -0.045496  0.026654  \n",
       "7991 -0.038156 -0.007134  0.011474 -0.007010  0.054719 -0.024362  0.034268  \n",
       "\n",
       "[7992 rows x 30 columns]"
      ]
     },
     "execution_count": 20,
     "metadata": {},
     "output_type": "execute_result"
    }
   ],
   "source": [
    "pca_final.iloc[:,:30]"
   ]
  },
  {
   "cell_type": "code",
   "execution_count": 21,
   "id": "2d7297c1",
   "metadata": {},
   "outputs": [],
   "source": [
    "model_pca_tuned = tune_xgb\n",
    "model_pca_tuned.fit(pca_final.iloc[:,:30],pca_final.iloc[:,30])\n",
    "pcaTrainxgb_tuned = model_pca_tuned.predict(pca_data)\n",
    "pcaTestxgb_tuned = model_pca_tuned.predict(pca_data_test)"
   ]
  },
  {
   "cell_type": "code",
   "execution_count": 22,
   "id": "10717858",
   "metadata": {},
   "outputs": [],
   "source": [
    "pcatestxgb_score =  accuracy_score(y_test, pcaTestxgb)\n",
    "pcaxgb_score = accuracy_score(y_dev, pcaTrainxgb)"
   ]
  },
  {
   "cell_type": "code",
   "execution_count": 23,
   "id": "648af0d4",
   "metadata": {},
   "outputs": [
    {
     "name": "stdout",
     "output_type": "stream",
     "text": [
      "Classification Score for XGB Classifier on Train dataset:\n",
      "\n",
      "Train Score :  0.9991241241241241\n",
      "--------------------------------------------------------\n",
      "Classification Score for XGB Classifier on Test dataset:\n",
      "\n",
      "Test Score : 0.8428428428428428\n"
     ]
    }
   ],
   "source": [
    "print(\"Classification Score for XGB Classifier on Train dataset:\\n\")\n",
    "print(\"Train Score : \", pcaxgb_score)\n",
    "print(\"--------------------------------------------------------\")\n",
    "print(\"Classification Score for XGB Classifier on Test dataset:\\n\")\n",
    "print(\"Test Score :\", pcatestxgb_score)"
   ]
  },
  {
   "cell_type": "code",
   "execution_count": 24,
   "id": "35ad5f21",
   "metadata": {},
   "outputs": [
    {
     "data": {
      "image/png": "[encoded data removed]",
      "text/plain": [
       "<Figure size 1080x432 with 2 Axes>"
      ]
     },
     "metadata": {},
     "output_type": "display_data"
    },
    {
     "name": "stdout",
     "output_type": "stream",
     "text": [
      "Accuracy : 0.84\n",
      "Macro F-1 Score : 0.84\n"
     ]
    }
   ],
   "source": [
    "# Evaluate Model\n",
    "class_labels = list(model_xgb.classes_)\n",
    "macro_f1, accuracy = evaluate_model(pcaTestxgb, y_test, class_labels,\n",
    "                                    'Confustion Matrix: PCA - Tuned 3 seconds XGB Classifier')\n",
    "print('Accuracy : %.2f'%accuracy)\n",
    "print('Macro F-1 Score : %.2f'%macro_f1)"
   ]
  },
  {
   "cell_type": "code",
   "execution_count": null,
   "id": "9d94c790-c815-47d3-80f1-21eb015d90af",
   "metadata": {},
   "outputs": [],
   "source": []
  }
 ],
 "metadata": {
  "kernelspec": {
   "display_name": "Python 3",
   "language": "python",
   "name": "python3"
  },
  "language_info": {
   "codemirror_mode": {
    "name": "ipython",
    "version": 3
   },
   "file_extension": ".py",
   "mimetype": "text/x-python",
   "name": "python",
   "nbconvert_exporter": "python",
   "pygments_lexer": "ipython3",
   "version": "3.8.13"
  }
 },
 "nbformat": 4,
 "nbformat_minor": 5
}
